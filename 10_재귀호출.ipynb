{
  "nbformat": 4,
  "nbformat_minor": 0,
  "metadata": {
    "colab": {
      "name": "10.재귀호출.ipynb",
      "provenance": [],
      "collapsed_sections": [],
      "authorship_tag": "ABX9TyNIXLnNq6/6piUSDFL2vPUe",
      "include_colab_link": true
    },
    "kernelspec": {
      "name": "python3",
      "display_name": "Python 3"
    },
    "language_info": {
      "name": "python"
    }
  },
  "cells": [
    {
      "cell_type": "markdown",
      "metadata": {
        "id": "view-in-github",
        "colab_type": "text"
      },
      "source": [
        "<a href=\"https://colab.research.google.com/github/10KimJunGu/pythonadv/blob/main/10_%EC%9E%AC%EA%B7%80%ED%98%B8%EC%B6%9C.ipynb\" target=\"_parent\"><img src=\"https://colab.research.google.com/assets/colab-badge.svg\" alt=\"Open In Colab\"/></a>"
      ]
    },
    {
      "cell_type": "code",
      "execution_count": null,
      "metadata": {
        "id": "nB3e3oIZ42d7"
      },
      "outputs": [],
      "source": [
        "# 1. 재귀 호출(recursive call)\n",
        "\n",
        "# 함수 안에서 동일한 함수를 호출하는 형태\n",
        "# 여러 알고리즘, 고급 정렬 알고리즘 작성시 자주 사용됨"
      ]
    },
    {
      "cell_type": "code",
      "source": [
        "# 1-1. 재귀 호출 분석\n",
        "\n",
        "# 2! = 1 * 2\n",
        "# 3! = 1 * 2 * 3 = 3 * 2!\n",
        "# 4! = 1 * 2 * 3 * 4 = 4 * 3!"
      ],
      "metadata": {
        "id": "e8GtD1Gh5eGb"
      },
      "execution_count": 1,
      "outputs": []
    },
    {
      "cell_type": "code",
      "source": [
        "# 1-2. 규칙\n",
        "# n! = n * (n-1)!\n",
        "\n",
        "\n",
        "# 1. 함수로 만듦\n",
        "# 2. 함수(n)은 n>1이면 return n * 함수(n-1)\n",
        "# 3. 함수(n)은 n=1이면 return n\n"
      ],
      "metadata": {
        "id": "KJZHhrMczpWu"
      },
      "execution_count": 2,
      "outputs": []
    },
    {
      "cell_type": "code",
      "source": [
        "# 1-3. 검증\n",
        "\n",
        "# 1. 2!\n",
        "# 함수 (2)이면 2 > 1이므로 2 * 함수(1)\n",
        "# 함수 (1)은 1 이므로 return 2 * 1, 답은 2\n",
        "\n",
        "# 2. 3!\n",
        "# 함수(3) 이면 3 > 1 이므로 3 * 함수(2)\n",
        "# 함수(2) 는 1번에 의해 2! 이므로 return 2 * 1 = 2\n",
        "# 3 * 함수(2) = 3 * 2 = 3 * 2 * 1, 답은 6\n",
        "\n",
        "# 3. 4!\n",
        "# 함수(4)이면 4 > 1이므로 4 * 함수(3)\n",
        "# 함수(3)은 2번에 의해 3 * 2 * 1 = 6\n",
        "# 4 * 함수(3) = 4 * 6, 답은 24\n"
      ],
      "metadata": {
        "id": "cWNf33O30LjS"
      },
      "execution_count": 3,
      "outputs": []
    },
    {
      "cell_type": "code",
      "source": [
        "def factorial(num):\n",
        "  if num > 1:\n",
        "    return  num * factorial(num - 1)\n",
        "  else:\n",
        "    return num"
      ],
      "metadata": {
        "id": "boPUYK7E1qfK"
      },
      "execution_count": 4,
      "outputs": []
    },
    {
      "cell_type": "code",
      "source": [
        "for num in range(5):\n",
        "  print(factorial(num))"
      ],
      "metadata": {
        "colab": {
          "base_uri": "https://localhost:8080/"
        },
        "id": "J60pUlPS14gU",
        "outputId": "62bf09c8-7788-412e-c9f0-cdaf1a9e1f38"
      },
      "execution_count": 5,
      "outputs": [
        {
          "output_type": "stream",
          "name": "stdout",
          "text": [
            "0\n",
            "1\n",
            "2\n",
            "6\n",
            "24\n"
          ]
        }
      ]
    },
    {
      "cell_type": "code",
      "source": [
        ""
      ],
      "metadata": {
        "id": "6_iHuzoE2B7e"
      },
      "execution_count": null,
      "outputs": []
    }
  ]
}