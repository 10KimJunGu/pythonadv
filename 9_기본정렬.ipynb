{
  "nbformat": 4,
  "nbformat_minor": 0,
  "metadata": {
    "colab": {
      "name": "9.기본정렬.ipynb",
      "provenance": [],
      "collapsed_sections": [],
      "authorship_tag": "ABX9TyPbNhpVJ765tThnzaql/yck",
      "include_colab_link": true
    },
    "kernelspec": {
      "name": "python3",
      "display_name": "Python 3"
    },
    "language_info": {
      "name": "python"
    }
  },
  "cells": [
    {
      "cell_type": "markdown",
      "metadata": {
        "id": "view-in-github",
        "colab_type": "text"
      },
      "source": [
        "<a href=\"https://colab.research.google.com/github/10KimJunGu/pythonadv/blob/main/9_%EA%B8%B0%EB%B3%B8%EC%A0%95%EB%A0%AC.ipynb\" target=\"_parent\"><img src=\"https://colab.research.google.com/assets/colab-badge.svg\" alt=\"Open In Colab\"/></a>"
      ]
    },
    {
      "cell_type": "code",
      "execution_count": 1,
      "metadata": {
        "id": "uzHyLx4uG45V"
      },
      "outputs": [],
      "source": [
        "# 1. 정렬(sort)\n",
        "\n",
        "# 어떤 데이터들이 주어졌을 때 이를 정해진 순서대로 나열하는 것\n",
        "# 프로그램 개발시 빈번하게 정렬을 필요로 함\n",
        "# 다양한 알고리즘이 고안되었으며 알고리즘 학습의 필수사항"
      ]
    },
    {
      "cell_type": "code",
      "source": [
        "# 2. 버블 정렬(bubble sort)\n",
        "\n",
        "# 두 인접한 데이터를 비교해서 앞에 있는 데이터가 뒤에 있는 데이터보다 크면(작으면) 자리를 바꾸는 정렬 알고리즘\n"
      ],
      "metadata": {
        "id": "LnGR84brHOv6"
      },
      "execution_count": 2,
      "outputs": []
    },
    {
      "cell_type": "markdown",
      "source": [
        "<img src=\"https://upload.wikimedia.org/wikipedia/commons/c/c8/Bubble-sort-example-300px.gif\" width=500>"
      ],
      "metadata": {
        "id": "bj0ybEKWHVO4"
      }
    },
    {
      "cell_type": "code",
      "source": [
        "def bubblesort(data):\n",
        "  for index1 in range(len(data) - 1): # 0 ~ 3\n",
        "    for index2 in range(len(data) - index1 - 1): # 0 ~ 3\n",
        "      if data[index2] > data[index2 + 1]:\n",
        "        data[index2], data[index2 + 1] = data[index2 + 1], data[index2]\n",
        "  return data"
      ],
      "metadata": {
        "id": "cPDynsZoHVGE"
      },
      "execution_count": 3,
      "outputs": []
    },
    {
      "cell_type": "code",
      "source": [
        "data_list = [80, 90, 100, 70, 50]\n",
        "bubblesort(data_list)"
      ],
      "metadata": {
        "colab": {
          "base_uri": "https://localhost:8080/"
        },
        "id": "Z6muOFG6HY24",
        "outputId": "b1fd8bc3-6cbb-421f-d5b5-7ef5e66c34bd"
      },
      "execution_count": 4,
      "outputs": [
        {
          "output_type": "execute_result",
          "data": {
            "text/plain": [
              "[50, 70, 80, 90, 100]"
            ]
          },
          "metadata": {},
          "execution_count": 4
        }
      ]
    },
    {
      "cell_type": "code",
      "source": [
        "# 3. 삽입 정렬(insertion sort)\n",
        "\n",
        "# 두 번째 인덱스부터 시작\n",
        "# 해당 인덱스(key 값) 앞에 있는 데이터(A)부터 비교해서 key값이 더 작으면(크면), 데이터(A)값을 뒤 인덱스로 복사\n",
        "# key값이 더 큰 데이터를 만날 때까지 반복, 큰 데이터를 만난 위치 바로 뒤에 key값을 이동"
      ],
      "metadata": {
        "id": "Dv5Ol5nkHZ3O"
      },
      "execution_count": 5,
      "outputs": []
    },
    {
      "cell_type": "markdown",
      "source": [
        "<img src=\"https://upload.wikimedia.org/wikipedia/commons/9/9c/Insertion-sort-example.gif\">"
      ],
      "metadata": {
        "id": "YUi2lkbxHiMl"
      }
    },
    {
      "cell_type": "code",
      "source": [
        "def insertion_sort(data):\n",
        "  for index1 in range(len(data) - 1): # 0 ~ 3\n",
        "    for index2 in range(index1 + 1, 0, -1):\n",
        "      if data[index2] < data[index2-1]:\n",
        "        data[index2], data[index2-1] = data[index2-1], data[index2]\n",
        "      else:\n",
        "        break\n",
        "  return data"
      ],
      "metadata": {
        "id": "brH-jBtHHkY_"
      },
      "execution_count": 6,
      "outputs": []
    },
    {
      "cell_type": "code",
      "source": [
        "data_list = [80, 90, 100, 70, 50]\n",
        "insertion_sort(data_list)"
      ],
      "metadata": {
        "colab": {
          "base_uri": "https://localhost:8080/"
        },
        "id": "38maBhhDHmFH",
        "outputId": "79421a49-2073-4469-fda0-2f79c558d986"
      },
      "execution_count": 7,
      "outputs": [
        {
          "output_type": "execute_result",
          "data": {
            "text/plain": [
              "[50, 70, 80, 90, 100]"
            ]
          },
          "metadata": {},
          "execution_count": 7
        }
      ]
    },
    {
      "cell_type": "code",
      "source": [
        "# 4. 선택 정렬(selection sort)\n",
        "\n",
        "# 주어진 데이터 중, 최소값을 찾음\n",
        "# 해당 최소값을 데이터 맨 앞에 위치한 값과 교체함\n",
        "# 맨 앞의 위치를 뺀 나머지 데이터를 동일한 방법으로 반복"
      ],
      "metadata": {
        "id": "SJX0RJgZHnHG"
      },
      "execution_count": 8,
      "outputs": []
    },
    {
      "cell_type": "markdown",
      "source": [
        "<img src=\"https://upload.wikimedia.org/wikipedia/commons/9/94/Selection-Sort-Animation.gif\" width=100>"
      ],
      "metadata": {
        "id": "_o-94RbVHsLF"
      }
    },
    {
      "cell_type": "code",
      "source": [
        "def selection_sort(data):\n",
        "  for stand in range(len(data) - 1):\n",
        "    min = stand\n",
        "    for index in range(stand + 1, len(data)):\n",
        "      if data[min] > data[index]:\n",
        "        min = index\n",
        "    data[min], data[stand] = data[stand], data[min]\n",
        "  return data"
      ],
      "metadata": {
        "id": "YHJNnoe5HtNK"
      },
      "execution_count": 9,
      "outputs": []
    },
    {
      "cell_type": "code",
      "source": [
        "data_list = [80, 90, 100, 70, 50]\n",
        "selection_sort(data_list)"
      ],
      "metadata": {
        "colab": {
          "base_uri": "https://localhost:8080/"
        },
        "id": "gdzRBIhwHuM0",
        "outputId": "c8db7376-8da2-436a-fde7-4da982a266ee"
      },
      "execution_count": 10,
      "outputs": [
        {
          "output_type": "execute_result",
          "data": {
            "text/plain": [
              "[50, 70, 80, 90, 100]"
            ]
          },
          "metadata": {},
          "execution_count": 10
        }
      ]
    }
  ]
}