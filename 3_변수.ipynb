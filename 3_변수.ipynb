{
  "nbformat": 4,
  "nbformat_minor": 0,
  "metadata": {
    "colab": {
      "name": "3.변수.ipynb",
      "provenance": [],
      "authorship_tag": "ABX9TyOo0ACbrtSALyBAW2BH+LUO",
      "include_colab_link": true
    },
    "kernelspec": {
      "name": "python3",
      "display_name": "Python 3"
    },
    "language_info": {
      "name": "python"
    }
  },
  "cells": [
    {
      "cell_type": "markdown",
      "metadata": {
        "id": "view-in-github",
        "colab_type": "text"
      },
      "source": [
        "<a href=\"https://colab.research.google.com/github/10KimJunGu/pythonadv/blob/main/3_%EB%B3%80%EC%88%98.ipynb\" target=\"_parent\"><img src=\"https://colab.research.google.com/assets/colab-badge.svg\" alt=\"Open In Colab\"/></a>"
      ]
    },
    {
      "cell_type": "code",
      "execution_count": 4,
      "metadata": {
        "colab": {
          "base_uri": "https://localhost:8080/"
        },
        "id": "OoNilZPYPsNj",
        "outputId": "e4424eb9-7df7-4b77-f5ab-03b60c56b560"
      },
      "outputs": [
        {
          "output_type": "stream",
          "name": "stdout",
          "text": [
            "김사과\n",
            "20\n",
            "반하나\n"
          ]
        }
      ],
      "source": [
        "# 1. 변수란?\n",
        "\n",
        "# 변수는 처리할 데이터를 저장시키는 기억장소\n",
        "\n",
        "name = '김사과'\n",
        "age = 20\n",
        "\n",
        "print(name)\n",
        "print(age)\n",
        "\n",
        "name = '반하나'\n",
        "print(name)"
      ]
    },
    {
      "cell_type": "code",
      "source": [
        "# 2. 변수의 이름을 작성하는 방법\n",
        "\n",
        "# 값이 나타내는 핵심단어\n",
        "# 반드시 문자로 시작해야하고, 예약어는 사용할 수 없다.\n",
        "# 영문자, 숫자, 특수문자(_)로 사용하며 대소문자를 구별\n",
        "\n",
        "num1 = 10\n",
        "num2 = 3\n",
        "print('%d / %d = %f' %(num1, num2, num1/num2))"
      ],
      "metadata": {
        "colab": {
          "base_uri": "https://localhost:8080/"
        },
        "id": "wGHD0NwmTGxH",
        "outputId": "e5e5b8c2-80b2-434b-95d4-c3eb9b8a043e"
      },
      "execution_count": 5,
      "outputs": [
        {
          "output_type": "stream",
          "name": "stdout",
          "text": [
            "10 / 3 = 3.333333\n"
          ]
        }
      ]
    },
    {
      "cell_type": "code",
      "source": [
        "print('num1')\n",
        "print(num1)"
      ],
      "metadata": {
        "colab": {
          "base_uri": "https://localhost:8080/"
        },
        "id": "somczm24UUog",
        "outputId": "592daaa3-dd16-4399-fd59-4d6e0367bdc4"
      },
      "execution_count": 7,
      "outputs": [
        {
          "output_type": "stream",
          "name": "stdout",
          "text": [
            "num1\n",
            "10\n"
          ]
        }
      ]
    },
    {
      "cell_type": "code",
      "source": [
        "# 3. 변수의 데이터타입\n",
        "\n",
        "# 데이터 타입(자료형) : 자료가 저장되는 형태를 의미\n",
        "\n",
        "name = '김사과'\n",
        "age = 20\n",
        "weight = 50.5\n",
        "isLover = False\n",
        "\n",
        "\n",
        "# type() : 변수의 데이터 타입을 리턴해주는 함수\n",
        "\n",
        "print(type(name))    #<class 'str'>    문자형 타입\n",
        "print(type(age))     #<class 'int'>    정수형 타입\n",
        "print(type(weight))  #<class 'float'>  실수형 타입\n",
        "print(type(isLover)) #<class 'bool'>   논리형 타입"
      ],
      "metadata": {
        "colab": {
          "base_uri": "https://localhost:8080/"
        },
        "id": "DFMBmTc1U9Ov",
        "outputId": "b48e1c39-3974-44ac-e01e-67c5fd0e8974"
      },
      "execution_count": 12,
      "outputs": [
        {
          "output_type": "stream",
          "name": "stdout",
          "text": [
            "<class 'str'>\n",
            "<class 'int'>\n",
            "<class 'float'>\n",
            "<class 'bool'>\n"
          ]
        }
      ]
    },
    {
      "cell_type": "code",
      "source": [
        "# 필요없는 변수를 삭제하는 방법\n",
        "del isLover"
      ],
      "metadata": {
        "id": "Xx0IG8iJV_Ov"
      },
      "execution_count": 13,
      "outputs": []
    },
    {
      "cell_type": "code",
      "source": [
        "print(isLover)  # NameError: name 'isLover' is not defined"
      ],
      "metadata": {
        "colab": {
          "base_uri": "https://localhost:8080/",
          "height": 174
        },
        "id": "p-5BsSr2WEdy",
        "outputId": "40d30cc6-edc2-4f8a-9a2c-0873a3e10fe6"
      },
      "execution_count": 14,
      "outputs": [
        {
          "output_type": "error",
          "ename": "NameError",
          "evalue": "ignored",
          "traceback": [
            "\u001b[0;31m---------------------------------------------------------------------------\u001b[0m",
            "\u001b[0;31mNameError\u001b[0m                                 Traceback (most recent call last)",
            "\u001b[0;32m<ipython-input-14-6053910d0aff>\u001b[0m in \u001b[0;36m<module>\u001b[0;34m()\u001b[0m\n\u001b[0;32m----> 1\u001b[0;31m \u001b[0mprint\u001b[0m\u001b[0;34m(\u001b[0m\u001b[0misLover\u001b[0m\u001b[0;34m)\u001b[0m\u001b[0;34m\u001b[0m\u001b[0;34m\u001b[0m\u001b[0m\n\u001b[0m",
            "\u001b[0;31mNameError\u001b[0m: name 'isLover' is not defined"
          ]
        }
      ]
    },
    {
      "cell_type": "code",
      "source": [
        ""
      ],
      "metadata": {
        "id": "G4RfoilaWFwu"
      },
      "execution_count": null,
      "outputs": []
    }
  ]
}