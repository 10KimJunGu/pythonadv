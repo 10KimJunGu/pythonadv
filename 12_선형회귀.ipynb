{
  "nbformat": 4,
  "nbformat_minor": 0,
  "metadata": {
    "colab": {
      "provenance": [],
      "authorship_tag": "ABX9TyOAbPBB/5XdKaL+8lKDt3A8",
      "include_colab_link": true
    },
    "kernelspec": {
      "name": "python3",
      "display_name": "Python 3"
    },
    "language_info": {
      "name": "python"
    }
  },
  "cells": [
    {
      "cell_type": "markdown",
      "metadata": {
        "id": "view-in-github",
        "colab_type": "text"
      },
      "source": [
        "<a href=\"https://colab.research.google.com/github/10KimJunGu/pythonadv/blob/main/12_%EC%84%A0%ED%98%95%ED%9A%8C%EA%B7%80.ipynb\" target=\"_parent\"><img src=\"https://colab.research.google.com/assets/colab-badge.svg\" alt=\"Open In Colab\"/></a>"
      ]
    },
    {
      "cell_type": "code",
      "execution_count": 1,
      "metadata": {
        "id": "muMWc8bSVUJA"
      },
      "outputs": [],
      "source": [
        "import torch\n",
        "import torch.nn as nn\n",
        "import torch.nn.functional as F\n",
        "import torch.optim as optim"
      ]
    },
    {
      "cell_type": "code",
      "source": [
        "# 학습 데이터 셋\n",
        "x_train = torch.FloatTensor([[1], [2], [3], [4]])\n",
        "y_train = torch.FloatTensor([[50], [70], [90], [85]])"
      ],
      "metadata": {
        "id": "orNS4VLzVb_G"
      },
      "execution_count": 2,
      "outputs": []
    },
    {
      "cell_type": "code",
      "source": [
        "# y = W(Weight)x + b(bias)\n",
        "\n",
        "'''\n",
        "y = 20x + 15   (weight값과 bias값은 아무거나 넣음)\n",
        "\n",
        "시간    1   2   3   4\n",
        "실제값 50  70  90  85\n",
        "예측값 35  55  75  95\n",
        "---------------------\n",
        "오차값 15  15  15 -10\n",
        "'''\n",
        "\n",
        "# mse(평균 제곱 오차: Mean Squared Error)\n",
        "# 오차를 제곱하고 평균으로 나눈 것\n",
        "\n",
        "# 코드를 재실행해도 같은 랜덤 결과가 나옴\n",
        "torch.manual_seed(10) # seed안에 있는 숫자는 아무거나 넣어도 됨\n",
        "\n",
        "print(x_train)\n",
        "print(x_train.shape)\n",
        "\n",
        "print(y_train)\n",
        "print(y_train.shape)\n",
        "\n",
        "# 선형회귀의 핵심은 학습데이터와 가장 잘 맞는 직선을 찾는 작업\n",
        "# requires_grad=True: 학습을 통해 변경되는 변수\n",
        "# y = 0*x + 0\n",
        "W = torch.zeros(1, requires_grad=True)\n",
        "print(W)\n",
        "\n",
        "b = torch.zeros(1, requires_grad=True)\n",
        "print(b)\n",
        "\n",
        "H = x_train * W + b  # H는 결과. 자료를 x_train에 넣기"
      ],
      "metadata": {
        "colab": {
          "base_uri": "https://localhost:8080/"
        },
        "id": "tcqrMXOsVdUk",
        "outputId": "9a4bed2b-4af7-46da-c08c-905049ea82aa"
      },
      "execution_count": 3,
      "outputs": [
        {
          "output_type": "stream",
          "name": "stdout",
          "text": [
            "tensor([[1.],\n",
            "        [2.],\n",
            "        [3.],\n",
            "        [4.]])\n",
            "torch.Size([4, 1])\n",
            "tensor([[50.],\n",
            "        [70.],\n",
            "        [90.],\n",
            "        [85.]])\n",
            "torch.Size([4, 1])\n",
            "tensor([0.], requires_grad=True)\n",
            "tensor([0.], requires_grad=True)\n"
          ]
        }
      ]
    },
    {
      "cell_type": "code",
      "source": [
        "# 비용 함수 선언(cost function), 손실 함수(loss function), 오차 함수(error function)\n",
        "cost = torch.mean((H - y_train) ** 2)\n",
        "print(cost)"
      ],
      "metadata": {
        "colab": {
          "base_uri": "https://localhost:8080/"
        },
        "id": "L6FPDcMoVfK1",
        "outputId": "50f80163-a648-40af-f9bf-64683882676a"
      },
      "execution_count": 4,
      "outputs": [
        {
          "output_type": "stream",
          "name": "stdout",
          "text": [
            "tensor(5681.2500, grad_fn=<MeanBackward0>)\n"
          ]
        }
      ]
    },
    {
      "cell_type": "code",
      "source": [
        "# 옵티마이저(optimizer)\n",
        "# 비용함수의 값을 최소로 하는 W(기울기)와 b(절편)을 찾는 방법(알고리즘)\n",
        "\n",
        "# 경사하강법(Gradient Descent)\n",
        "# 가장 기본적인 옵티마이저 알고리즘\n",
        "# cost가 최소화 되는 지점은 접선의 기울기가 0이 되는 지점이며 미분값이 0이 되는 지점\n",
        "# 비용함수를 미분하여 현재 W에서의 접선의 기울기를 구하고 접선의 기울기가 낮은 방향으로 W의 값을 업데이트 하는 작업을 반복\n",
        "\n",
        "# SGD(Stochastic Gradient Descent)\n",
        "# 배치 크기가 1인 경사하강법 알고리즘\n",
        "# 확률적 경사하강법은 데이터 셋에서 무작위로 균일하게 선택한 하나의 예를 의존하여 각 단계의 예측 경사를 계산\n",
        "\n",
        "# 학습률(learning rate)\n",
        "# 기울기의 값을 변경할 때 얼마나 크게 변경할지를 결정\n",
        "optimizer = optim.SGD([W, b], lr=0.01)"
      ],
      "metadata": {
        "id": "q3eK_GqvVgl6"
      },
      "execution_count": 5,
      "outputs": []
    },
    {
      "cell_type": "code",
      "source": [
        "# gradient를 0으로 초기화\n",
        "optimizer.zero_grad()\n",
        "# 비용함수를 미분하여 gradient 계산\n",
        "cost.backward()\n",
        "# W와 b를 업데이트\n",
        "optimizer.step()"
      ],
      "metadata": {
        "id": "iXR_hNJlVh7f"
      },
      "execution_count": 6,
      "outputs": []
    },
    {
      "cell_type": "code",
      "source": [
        "# 에폭(epoch): 전체 훈련 데이터가 학습에 한번 사용된 주기\n",
        "# 총 에폭을 2000번, 100번마다 로그 출력\n",
        "\n",
        "x_train = torch.FloatTensor([[1], [2], [3], [4]])\n",
        "y_train = torch.FloatTensor([[50], [70], [90], [85]])\n",
        "\n",
        "W = torch.zeros(1, requires_grad=True)\n",
        "b = torch.zeros(1, requires_grad=True)\n",
        "\n",
        "optimizer = optim.SGD([W, b], lr=0.01)\n",
        "\n",
        "for epoch in range(1, 2001):\n",
        "\n",
        "    H = x_train * W + b\n",
        "    cost = torch.mean((H - y_train) ** 2)\n",
        "\n",
        "    optimizer.zero_grad()\n",
        "    cost.backward()\n",
        "    optimizer.step()\n",
        "\n",
        "    if epoch % 100 == 0:\n",
        "        print('Epoch {:4d}/{} W:{:.3f} b:{:.3f} Cost:{:.6f}'.format(epoch, 2000, W.item(), b.item(), cost.item()))\n",
        "        # 소수점 3번째자리까지, 소숫점 6번째자리까지 나오게"
      ],
      "metadata": {
        "colab": {
          "base_uri": "https://localhost:8080/"
        },
        "id": "QfMwHieMVjF8",
        "outputId": "996996be-0e68-4af3-d08e-4cdcf078f083"
      },
      "execution_count": 7,
      "outputs": [
        {
          "output_type": "stream",
          "name": "stdout",
          "text": [
            "Epoch  100/2000 W:21.140 b:17.099 Cost:155.283264\n",
            "Epoch  200/2000 W:18.901 b:23.679 Cost:106.389832\n",
            "Epoch  300/2000 W:17.243 b:28.555 Cost:79.547897\n",
            "Epoch  400/2000 W:16.014 b:32.168 Cost:64.812042\n",
            "Epoch  500/2000 W:15.104 b:34.844 Cost:56.722210\n",
            "Epoch  600/2000 W:14.429 b:36.828 Cost:52.280975\n",
            "Epoch  700/2000 W:13.929 b:38.297 Cost:49.842865\n",
            "Epoch  800/2000 W:13.559 b:39.386 Cost:48.504280\n",
            "Epoch  900/2000 W:13.285 b:40.193 Cost:47.769455\n",
            "Epoch 1000/2000 W:13.081 b:40.790 Cost:47.366051\n",
            "Epoch 1100/2000 W:12.931 b:41.233 Cost:47.144569\n",
            "Epoch 1200/2000 W:12.819 b:41.561 Cost:47.023003\n",
            "Epoch 1300/2000 W:12.737 b:41.805 Cost:46.956245\n",
            "Epoch 1400/2000 W:12.675 b:41.985 Cost:46.919601\n",
            "Epoch 1500/2000 W:12.630 b:42.118 Cost:46.899479\n",
            "Epoch 1600/2000 W:12.596 b:42.217 Cost:46.888451\n",
            "Epoch 1700/2000 W:12.571 b:42.290 Cost:46.882359\n",
            "Epoch 1800/2000 W:12.553 b:42.345 Cost:46.879055\n",
            "Epoch 1900/2000 W:12.539 b:42.385 Cost:46.877216\n",
            "Epoch 2000/2000 W:12.529 b:42.415 Cost:46.876221\n"
          ]
        }
      ]
    },
    {
      "cell_type": "code",
      "source": [
        "model = nn.Linear(1, 1) # 입력데이터 갯수, 출력데이터 갯수"
      ],
      "metadata": {
        "id": "Mabc1h_zVlDw"
      },
      "execution_count": 8,
      "outputs": []
    },
    {
      "cell_type": "code",
      "source": [
        "class LinearRegressionModel(nn.Module): # nn.Module을 상속받겠다.\n",
        "    def __init__(self):  # 생성자를 만든다. \n",
        "        super().__init__() # nn.Module에 있는 부모클래스를 초기화한다. (super)\n",
        "        self.linear = nn.Linear(1, 1) # __setattr__ 함수를 실행(잘 몰라도 됨)\n",
        "    def forward(self, x):\n",
        "        return self.linear(x)"
      ],
      "metadata": {
        "id": "p1tIWeVnVmJT"
      },
      "execution_count": 9,
      "outputs": []
    },
    {
      "cell_type": "code",
      "source": [
        "x_train = torch.FloatTensor([[1], [2], [3], [4]])\n",
        "y_train = torch.FloatTensor([[50], [70], [90], [85]])"
      ],
      "metadata": {
        "id": "paZeU5nfVnGd"
      },
      "execution_count": 10,
      "outputs": []
    },
    {
      "cell_type": "code",
      "source": [
        "model = LinearRegressionModel()"
      ],
      "metadata": {
        "id": "Gn_okX7KVoKq"
      },
      "execution_count": 11,
      "outputs": []
    },
    {
      "cell_type": "code",
      "source": [
        "optimizer = torch.optim.SGD(model.parameters(), lr=0.01)"
      ],
      "metadata": {
        "id": "m8o4jbpKVpYs"
      },
      "execution_count": 12,
      "outputs": []
    },
    {
      "cell_type": "code",
      "source": [
        "for epoch in range(1, 2001):\n",
        "    H = model(x_train)\n",
        "    cost = F.mse_loss(H, y_train)\n",
        "\n",
        "    optimizer.zero_grad()\n",
        "    cost.backward()\n",
        "    optimizer.step()\n",
        "\n",
        "    if epoch % 100 == 0:\n",
        "        print('Epoch {:4d}/{} W:{:.3f} b:{:.3f} Cost:{:.6f}'.format(epoch, 2000, W.item(), b.item(), cost.item()))"
      ],
      "metadata": {
        "colab": {
          "base_uri": "https://localhost:8080/"
        },
        "id": "H0FdcLLwVqa2",
        "outputId": "94d6c5b9-caad-42cb-a7c7-da4e459e6c57"
      },
      "execution_count": 13,
      "outputs": [
        {
          "output_type": "stream",
          "name": "stdout",
          "text": [
            "Epoch  100/2000 W:12.529 b:42.415 Cost:153.265686\n",
            "Epoch  200/2000 W:12.529 b:42.415 Cost:105.282211\n",
            "Epoch  300/2000 W:12.529 b:42.415 Cost:78.939957\n",
            "Epoch  400/2000 W:12.529 b:42.415 Cost:64.478210\n",
            "Epoch  500/2000 W:12.529 b:42.415 Cost:56.538986\n",
            "Epoch  600/2000 W:12.529 b:42.415 Cost:52.180420\n",
            "Epoch  700/2000 W:12.529 b:42.415 Cost:49.787621\n",
            "Epoch  800/2000 W:12.529 b:42.415 Cost:48.473969\n",
            "Epoch  900/2000 W:12.529 b:42.415 Cost:47.752815\n",
            "Epoch 1000/2000 W:12.529 b:42.415 Cost:47.356934\n",
            "Epoch 1100/2000 W:12.529 b:42.415 Cost:47.139538\n",
            "Epoch 1200/2000 W:12.529 b:42.415 Cost:47.020203\n",
            "Epoch 1300/2000 W:12.529 b:42.415 Cost:46.954765\n",
            "Epoch 1400/2000 W:12.529 b:42.415 Cost:46.918800\n",
            "Epoch 1500/2000 W:12.529 b:42.415 Cost:46.899036\n",
            "Epoch 1600/2000 W:12.529 b:42.415 Cost:46.888199\n",
            "Epoch 1700/2000 W:12.529 b:42.415 Cost:46.882233\n",
            "Epoch 1800/2000 W:12.529 b:42.415 Cost:46.878956\n",
            "Epoch 1900/2000 W:12.529 b:42.415 Cost:46.877151\n",
            "Epoch 2000/2000 W:12.529 b:42.415 Cost:46.876186\n"
          ]
        }
      ]
    },
    {
      "cell_type": "code",
      "source": [
        "val = torch.FloatTensor([[5.0]])\n",
        "pred = model(val)\n",
        "print('학습 후 5시간 공부하면 예상되는 성적: ', pred)"
      ],
      "metadata": {
        "id": "tiyz3syNVr7f",
        "outputId": "078d70c9-048d-4ab2-ca82-4bab71a64b3b",
        "colab": {
          "base_uri": "https://localhost:8080/"
        }
      },
      "execution_count": 14,
      "outputs": [
        {
          "output_type": "stream",
          "name": "stdout",
          "text": [
            "학습 후 5시간 공부하면 예상되는 성적:  tensor([[105.0592]], grad_fn=<AddmmBackward0>)\n"
          ]
        }
      ]
    },
    {
      "cell_type": "code",
      "source": [
        "print(list(model.parameters()))"
      ],
      "metadata": {
        "id": "5hs89FwlVtH2",
        "outputId": "a2e04226-8e93-4653-e62e-9d5abd38b45f",
        "colab": {
          "base_uri": "https://localhost:8080/"
        }
      },
      "execution_count": 15,
      "outputs": [
        {
          "output_type": "stream",
          "name": "stdout",
          "text": [
            "[Parameter containing:\n",
            "tensor([[12.5287]], requires_grad=True), Parameter containing:\n",
            "tensor([42.4155], requires_grad=True)]\n"
          ]
        }
      ]
    },
    {
      "cell_type": "code",
      "source": [],
      "metadata": {
        "id": "VRnC1SBCVuMm"
      },
      "execution_count": null,
      "outputs": []
    }
  ]
}