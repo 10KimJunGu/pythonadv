{
  "nbformat": 4,
  "nbformat_minor": 0,
  "metadata": {
    "colab": {
      "provenance": [],
      "collapsed_sections": [],
      "authorship_tag": "ABX9TyO+4ypqnmZHohysv3nvjqQ3",
      "include_colab_link": true
    },
    "kernelspec": {
      "name": "python3",
      "display_name": "Python 3"
    },
    "language_info": {
      "name": "python"
    }
  },
  "cells": [
    {
      "cell_type": "markdown",
      "metadata": {
        "id": "view-in-github",
        "colab_type": "text"
      },
      "source": [
        "<a href=\"https://colab.research.google.com/github/10KimJunGu/pythonadv/blob/main/15_%EC%83%81%EC%86%8D.ipynb\" target=\"_parent\"><img src=\"https://colab.research.google.com/assets/colab-badge.svg\" alt=\"Open In Colab\"/></a>"
      ]
    },
    {
      "cell_type": "markdown",
      "source": [
        "# **1. 상속**"
      ],
      "metadata": {
        "id": "Z_tVAcEc4b2R"
      }
    },
    {
      "cell_type": "markdown",
      "source": [
        "* 기존의 정의해둔 클래스의 기능을 그대로 물려받음\n",
        "* 기존 클래스에 기능 일부를 추가하거나, 변경하여 새로운 클래스를 정의함\n",
        "* 코드를 재사용할 수 있게 됨\n",
        "* 상속을 받고자 하는 대상인 기존 클래스를 부모, parent, super, base 클래스라고 부름\n",
        "* 상속 받는 새로운 클래스를 자식, child, sub 클래스라고 부름"
      ],
      "metadata": {
        "id": "MBOw72_Q4dhZ"
      }
    },
    {
      "cell_type": "code",
      "source": [
        "class Animal:\n",
        "  def __init__(self, name, age):\n",
        "    self.name = name\n",
        "    self.age = age\n",
        "  \n",
        "  def eat(self, food):\n",
        "    print('{}는 {}를 먹습니다.'.format(self.name, food))\n",
        "  \n",
        "  def sleep(self, hour):\n",
        "    print('{}는 {}시간 동안 잡니다.'.format(self.name, hour))"
      ],
      "metadata": {
        "id": "cNwC9AEbCJbe"
      },
      "execution_count": null,
      "outputs": []
    },
    {
      "cell_type": "code",
      "source": [
        "animal = Animal('동물', 5)\n",
        "animal.eat('먹이')\n",
        "animal.sleep(5)"
      ],
      "metadata": {
        "colab": {
          "base_uri": "https://localhost:8080/"
        },
        "id": "eiwHpt0zC6xe",
        "outputId": "c33bd591-f410-4c8b-8cf2-2ad45bd98135"
      },
      "execution_count": null,
      "outputs": [
        {
          "output_type": "stream",
          "name": "stdout",
          "text": [
            "동물는 먹이를 먹습니다.\n",
            "동물는 5시간 동안 잡니다.\n"
          ]
        }
      ]
    },
    {
      "cell_type": "code",
      "source": [
        "class Dog(Animal):     # Animal클래스를 상속\n",
        "  pass"
      ],
      "metadata": {
        "id": "LOLIp37IDQwu"
      },
      "execution_count": null,
      "outputs": []
    },
    {
      "cell_type": "code",
      "source": [
        "Rucy = Dog('루시', 12)\n",
        "Rucy.eat('사료')\n",
        "Rucy.sleep(8)"
      ],
      "metadata": {
        "colab": {
          "base_uri": "https://localhost:8080/"
        },
        "id": "7GYhgVjVDZ6O",
        "outputId": "d4c12bec-d886-413f-f1ed-97326d183860"
      },
      "execution_count": null,
      "outputs": [
        {
          "output_type": "stream",
          "name": "stdout",
          "text": [
            "루시는 사료를 먹습니다.\n",
            "루시는 8시간 동안 잡니다.\n"
          ]
        }
      ]
    },
    {
      "cell_type": "markdown",
      "source": [
        "# **2. 메소드 오버라이딩**"
      ],
      "metadata": {
        "id": "dHRqFm4K4fwJ"
      }
    },
    {
      "cell_type": "markdown",
      "source": [
        "* 부모 클래스의 method를 재정의(override)\n",
        "* 자식 클래스의 인스턴스로 호출시, 재정의된 메소드가 호출됨"
      ],
      "metadata": {
        "id": "DqG6WC_14gDN"
      }
    },
    {
      "cell_type": "code",
      "source": [
        "class Animal:\n",
        "  def __init__(self, name, age):\n",
        "    self.name = name\n",
        "    self.age = age\n",
        "  \n",
        "  def eat(self, food):\n",
        "    print('{}는 {}를 먹습니다.'.format(self.name, food))\n",
        "  \n",
        "  def sleep(self, hour):\n",
        "    print('{}는 {}시간 동안 잡니다.'.format(self.name, hour))"
      ],
      "metadata": {
        "id": "Fo5ybpJsEa7_"
      },
      "execution_count": 1,
      "outputs": []
    },
    {
      "cell_type": "code",
      "source": [
        "class Dog(Animal): # 자식클래스\n",
        "  def eat(self, food):  # 메서드를 덮어씀\n",
        "    print('{}는 {}를 아주~ 맛있게 먹습니다.'.format(self.name, food))\n",
        "  def super_eat(self, food):  # 부모를 실행하고싶을때\n",
        "    super().eat(food)"
      ],
      "metadata": {
        "id": "ie641MbDEb4J"
      },
      "execution_count": 2,
      "outputs": []
    },
    {
      "cell_type": "code",
      "source": [
        "animal = Animal('동물', 6)\n",
        "animal.eat('먹이')\n",
        "animal.sleep(5)"
      ],
      "metadata": {
        "colab": {
          "base_uri": "https://localhost:8080/"
        },
        "id": "uosSZrVFEmeC",
        "outputId": "8ef3de28-1734-4a98-8f8a-2c66a01c4044"
      },
      "execution_count": 3,
      "outputs": [
        {
          "output_type": "stream",
          "name": "stdout",
          "text": [
            "동물는 먹이를 먹습니다.\n",
            "동물는 5시간 동안 잡니다.\n"
          ]
        }
      ]
    },
    {
      "cell_type": "code",
      "source": [
        "Rucy = Dog('루시', 12)\n",
        "Rucy.sleep(8)\n",
        "Rucy.eat('사료')\n",
        "Rucy.super_eat('사료')"
      ],
      "metadata": {
        "colab": {
          "base_uri": "https://localhost:8080/"
        },
        "id": "JoDGpALDEzzl",
        "outputId": "7254d05a-d71e-4598-cf65-2673a52fd458"
      },
      "execution_count": 4,
      "outputs": [
        {
          "output_type": "stream",
          "name": "stdout",
          "text": [
            "루시는 8시간 동안 잡니다.\n",
            "루시는 사료를 아주~ 맛있게 먹습니다.\n",
            "루시는 사료를 먹습니다.\n"
          ]
        }
      ]
    },
    {
      "cell_type": "code",
      "source": [],
      "metadata": {
        "id": "uW7h3s0RJbao"
      },
      "execution_count": null,
      "outputs": []
    }
  ]
}