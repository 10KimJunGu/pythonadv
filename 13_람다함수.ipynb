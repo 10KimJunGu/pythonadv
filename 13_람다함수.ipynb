{
  "nbformat": 4,
  "nbformat_minor": 0,
  "metadata": {
    "colab": {
      "name": "13.람다함수.ipynb",
      "provenance": [],
      "collapsed_sections": [],
      "authorship_tag": "ABX9TyP6vQr+wj5QCAC6zKqxqX22",
      "include_colab_link": true
    },
    "kernelspec": {
      "name": "python3",
      "display_name": "Python 3"
    },
    "language_info": {
      "name": "python"
    }
  },
  "cells": [
    {
      "cell_type": "markdown",
      "metadata": {
        "id": "view-in-github",
        "colab_type": "text"
      },
      "source": [
        "<a href=\"https://colab.research.google.com/github/10KimJunGu/pythonadv/blob/main/13_%EB%9E%8C%EB%8B%A4%ED%95%A8%EC%88%98.ipynb\" target=\"_parent\"><img src=\"https://colab.research.google.com/assets/colab-badge.svg\" alt=\"Open In Colab\"/></a>"
      ]
    },
    {
      "cell_type": "code",
      "execution_count": 9,
      "metadata": {
        "id": "PeWBg2xRGB6l",
        "colab": {
          "base_uri": "https://localhost:8080/"
        },
        "outputId": "23e584dd-59e9-40c8-b3cf-0514414c8f63"
      },
      "outputs": [
        {
          "output_type": "stream",
          "name": "stdout",
          "text": [
            "100\n"
          ]
        }
      ],
      "source": [
        "# 1. 람다 함수\n",
        "\n",
        "# 단일문으로 표현되는 익명함수\n",
        "# 코드상에서 한번만 사용되는 기능이 있을 때, 굳이 함수로 만들지 않고 일회성으로 만들어 사용할 때\n",
        "# 함수 또한 클래스를 통해 생성된 객체\n",
        "\n",
        "\n",
        "def square1(x):\n",
        "  return x ** 2\n",
        "\n",
        "print(square1(10))"
      ]
    },
    {
      "cell_type": "markdown",
      "source": [
        "def 함수명(변수): return 값\n",
        "\n",
        "=\n",
        "\n",
        "lambda 변수 : 값"
      ],
      "metadata": {
        "id": "9rZm4rofNgi3"
      }
    },
    {
      "cell_type": "code",
      "source": [
        "square2 = lambda x: x ** 2\n",
        "print(square2(7))"
      ],
      "metadata": {
        "colab": {
          "base_uri": "https://localhost:8080/"
        },
        "id": "MMo1HVnqGnvP",
        "outputId": "93e915bd-a21f-49a6-f0be-a098fbd08ada"
      },
      "execution_count": 2,
      "outputs": [
        {
          "output_type": "stream",
          "name": "stdout",
          "text": [
            "49\n"
          ]
        }
      ]
    },
    {
      "cell_type": "code",
      "source": [
        "(lambda x: x ** 2)(8)"
      ],
      "metadata": {
        "colab": {
          "base_uri": "https://localhost:8080/"
        },
        "id": "KRrlYJ6xLrKH",
        "outputId": "012af24a-8317-4d42-f9a0-82cd759f339d"
      },
      "execution_count": 3,
      "outputs": [
        {
          "output_type": "execute_result",
          "data": {
            "text/plain": [
              "64"
            ]
          },
          "metadata": {},
          "execution_count": 3
        }
      ]
    },
    {
      "cell_type": "code",
      "source": [
        "def myKey(str):\n",
        "  return len(str.strip())"
      ],
      "metadata": {
        "id": "PVEC0dElNh0G"
      },
      "execution_count": 4,
      "outputs": []
    },
    {
      "cell_type": "code",
      "source": [
        "target = ['   app', ' bana', 'orange    ', 'melon']\n",
        "print(sorted(target,key=myKey))          # sort는 오름차순정렬"
      ],
      "metadata": {
        "colab": {
          "base_uri": "https://localhost:8080/"
        },
        "id": "p0L177BWNsac",
        "outputId": "41998c6b-ef1a-47c7-a658-0262e2eb23a6"
      },
      "execution_count": 5,
      "outputs": [
        {
          "output_type": "stream",
          "name": "stdout",
          "text": [
            "['   app', ' bana', 'melon', 'orange    ']\n"
          ]
        }
      ]
    },
    {
      "cell_type": "code",
      "source": [
        "print(sorted(target,key=lambda x: len(x.strip())))"
      ],
      "metadata": {
        "colab": {
          "base_uri": "https://localhost:8080/"
        },
        "id": "cY2d_JLQN85T",
        "outputId": "f0c40909-536a-4472-9428-41c002ae9305"
      },
      "execution_count": 6,
      "outputs": [
        {
          "output_type": "stream",
          "name": "stdout",
          "text": [
            "['   app', ' bana', 'melon', 'orange    ']\n"
          ]
        }
      ]
    },
    {
      "cell_type": "code",
      "source": [
        "add2 = lambda x, y: x * y\n",
        "\n",
        "print(add2(10, 5))"
      ],
      "metadata": {
        "colab": {
          "base_uri": "https://localhost:8080/"
        },
        "id": "P1A-b4khOb-m",
        "outputId": "a006bff2-d0bb-47c0-8a74-29f1873fe2c2"
      },
      "execution_count": 7,
      "outputs": [
        {
          "output_type": "stream",
          "name": "stdout",
          "text": [
            "50\n"
          ]
        }
      ]
    },
    {
      "cell_type": "code",
      "source": [
        "# 2. filter 함수\n",
        "\n",
        "# 람다가 유용하게 사용되는 대표적인 함수\n",
        "# 특정 조건을 만족하는 요소만 남기고 필터링\n",
        "\n",
        "\n",
        "\n",
        "nums = [1,2,3,4,6,9,10,14,15,18,20]\n",
        "\n",
        "print(list(filter(lambda n:n %2 == 0, nums)))"
      ],
      "metadata": {
        "colab": {
          "base_uri": "https://localhost:8080/"
        },
        "id": "X8-sHjicOmsL",
        "outputId": "4b7397b1-757d-4064-db5d-ce92eebb497f"
      },
      "execution_count": 8,
      "outputs": [
        {
          "output_type": "stream",
          "name": "stdout",
          "text": [
            "[2, 4, 6, 10, 14, 18, 20]\n"
          ]
        }
      ]
    },
    {
      "cell_type": "code",
      "source": [
        "# map함수\n",
        "\n",
        "# 함수형 프로그래밍의 기본 요소\n",
        "# 각 원소를 주어진 수식에 따라 변형하여 새로운 리스트를 반환\n",
        "\n",
        "nums = [1,2,3,4,6,9,10,14,15,18,20]\n",
        "\n",
        "print(list(map(lambda n: n ** 2, nums)))"
      ],
      "metadata": {
        "colab": {
          "base_uri": "https://localhost:8080/"
        },
        "id": "sXkSFjPd6mwm",
        "outputId": "3ecd54a7-a810-4b18-bad4-3a12e6b5b19f"
      },
      "execution_count": 10,
      "outputs": [
        {
          "output_type": "stream",
          "name": "stdout",
          "text": [
            "[1, 4, 9, 16, 36, 81, 100, 196, 225, 324, 400]\n"
          ]
        }
      ]
    },
    {
      "cell_type": "code",
      "source": [
        "nums = [1,2,3,4,6,9,10,14,15,18,20]\n",
        "\n",
        "print(list(filter(lambda n : n % 2 == 0 , map(lambda n: n ** 2, nums))))"
      ],
      "metadata": {
        "colab": {
          "base_uri": "https://localhost:8080/"
        },
        "id": "oNjprm_N7_2a",
        "outputId": "fb748e1e-6711-49eb-a134-ccb932f19c7d"
      },
      "execution_count": 12,
      "outputs": [
        {
          "output_type": "stream",
          "name": "stdout",
          "text": [
            "[4, 16, 36, 100, 196, 324, 400]\n"
          ]
        }
      ]
    },
    {
      "cell_type": "code",
      "source": [
        ""
      ],
      "metadata": {
        "id": "8rcJFvQf8kvN"
      },
      "execution_count": null,
      "outputs": []
    }
  ]
}