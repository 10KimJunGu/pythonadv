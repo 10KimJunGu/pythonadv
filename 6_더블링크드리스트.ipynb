{
  "nbformat": 4,
  "nbformat_minor": 0,
  "metadata": {
    "colab": {
      "name": "6.더블링크드리스트.ipynb",
      "provenance": [],
      "collapsed_sections": [],
      "authorship_tag": "ABX9TyNpMszMiHCcrIBvh0yGrc0r",
      "include_colab_link": true
    },
    "kernelspec": {
      "name": "python3",
      "display_name": "Python 3"
    },
    "language_info": {
      "name": "python"
    }
  },
  "cells": [
    {
      "cell_type": "markdown",
      "metadata": {
        "id": "view-in-github",
        "colab_type": "text"
      },
      "source": [
        "<a href=\"https://colab.research.google.com/github/10KimJunGu/pythonadv/blob/main/6_%EB%8D%94%EB%B8%94%EB%A7%81%ED%81%AC%EB%93%9C%EB%A6%AC%EC%8A%A4%ED%8A%B8.ipynb\" target=\"_parent\"><img src=\"https://colab.research.google.com/assets/colab-badge.svg\" alt=\"Open In Colab\"/></a>"
      ]
    },
    {
      "cell_type": "code",
      "source": [
        "class Node:\n",
        "  def __init__(self, data, prev=None, next=None):\n",
        "    self.prev = prev\n",
        "    self.data = data\n",
        "    self.next = next"
      ],
      "metadata": {
        "id": "xGi2UfZNTwTn"
      },
      "execution_count": 1,
      "outputs": []
    },
    {
      "cell_type": "code",
      "execution_count": 2,
      "metadata": {
        "id": "aDsd5lLQNPDa"
      },
      "outputs": [],
      "source": [
        "# 1. 더블 링크드리스트\n",
        "\n",
        "# 양방향으로 연결되어 있어서 노드 탐색이 양쪽으로 모두 가능\n",
        "\n",
        "class NodeMgmt:\n",
        "  def __init__(self, data):\n",
        "    self.head = Node(data)\n",
        "    self.tail = self.head\n",
        "  \n",
        "  def insert(self, data):\n",
        "    if self.head == None:\n",
        "      self.head = Node(data)\n",
        "      self.tail = self\n",
        "    else:\n",
        "      node = self.head\n",
        "      while node.next:\n",
        "        node = node.next\n",
        "      new = Node(data)\n",
        "      node.next = new\n",
        "      new.prev = node\n",
        "      self.tail = new\n",
        "\n",
        "  def node_print(self):\n",
        "    node = self.head\n",
        "    while node:\n",
        "      print(node.data)\n",
        "      node = node.next\n",
        "\n",
        "  # 앞에서부터 검색하여 전달한 data값이 존재하는 경우 해당 값을 출력하고, 존재하지 않는 경우는 False를 출력하는 함수\n",
        "  def search_from_head(self, data):\n",
        "    if self.head == None:\n",
        "      return False\n",
        "    node = self.head\n",
        "    while node:\n",
        "      if node.data == data:\n",
        "        return node\n",
        "      else:\n",
        "        node = node.next\n",
        "    return False\n",
        "\n",
        "  # 뒤에서부터 검색하여 전달한 data값이 존재하는 경우 해당 값을 출력하고, 존재하지 않는 경우는 False를 출력하는 함수\n",
        "  def search_from_tail(self, data):\n",
        "    if self.tail == None:\n",
        "      return False\n",
        "    node = self.tail\n",
        "    while node:\n",
        "      if node.data == data:\n",
        "        return node\n",
        "      else:\n",
        "        node = node.prev\n",
        "    return False\n",
        "  \n",
        "  def insert_before(self, data, after_data):  # insert_before(2.5, 3)\n",
        "    if self.head == None:\n",
        "      self.head = Node(data)\n",
        "      return True\n",
        "    else:\n",
        "      node = self.tail\n",
        "      while node.data != after_data:\n",
        "        node = node.prev\n",
        "        if node == None:\n",
        "          return False\n",
        "      new = Node(data)\n",
        "      before_new = node.prev\n",
        "      before_new.next = new\n",
        "      new.prev = before_new\n",
        "      new.next = node\n",
        "      node.prev = new\n",
        "      return True"
      ]
    },
    {
      "cell_type": "code",
      "source": [
        "double_linked_list = NodeMgmt(0)\n",
        "\n",
        "for data in range(1, 11):\n",
        "  double_linked_list.insert(data)"
      ],
      "metadata": {
        "id": "p_jiyY6PNcrQ"
      },
      "execution_count": 3,
      "outputs": []
    },
    {
      "cell_type": "code",
      "source": [
        "double_linked_list.node_print()"
      ],
      "metadata": {
        "colab": {
          "base_uri": "https://localhost:8080/"
        },
        "id": "3dG401JFNg3N",
        "outputId": "4fd20227-f4a7-4bd6-8277-aede899a8360"
      },
      "execution_count": 4,
      "outputs": [
        {
          "output_type": "stream",
          "name": "stdout",
          "text": [
            "0\n",
            "1\n",
            "2\n",
            "3\n",
            "4\n",
            "5\n",
            "6\n",
            "7\n",
            "8\n",
            "9\n",
            "10\n"
          ]
        }
      ]
    },
    {
      "cell_type": "code",
      "source": [
        "search_result = double_linked_list.search_from_head(7)\n",
        "print(search_result.data)"
      ],
      "metadata": {
        "colab": {
          "base_uri": "https://localhost:8080/"
        },
        "id": "2BQJT67lNj-X",
        "outputId": "b2159d83-d630-43eb-85c0-33a0ebaeeb54"
      },
      "execution_count": 5,
      "outputs": [
        {
          "output_type": "stream",
          "name": "stdout",
          "text": [
            "7\n"
          ]
        }
      ]
    },
    {
      "cell_type": "code",
      "source": [
        "search_result = double_linked_list.search_from_head(17)\n",
        "print(search_result)"
      ],
      "metadata": {
        "colab": {
          "base_uri": "https://localhost:8080/"
        },
        "id": "dutB44JmNm_W",
        "outputId": "8acfa62d-1b12-4c85-cc39-30352abd7c20"
      },
      "execution_count": 6,
      "outputs": [
        {
          "output_type": "stream",
          "name": "stdout",
          "text": [
            "False\n"
          ]
        }
      ]
    },
    {
      "cell_type": "code",
      "source": [
        "search_result = double_linked_list.search_from_tail(7)\n",
        "print(search_result.data)"
      ],
      "metadata": {
        "colab": {
          "base_uri": "https://localhost:8080/"
        },
        "id": "C2G1LXv6Nn_W",
        "outputId": "230f0f47-9255-4efb-af2e-b9c10de98026"
      },
      "execution_count": 7,
      "outputs": [
        {
          "output_type": "stream",
          "name": "stdout",
          "text": [
            "7\n"
          ]
        }
      ]
    },
    {
      "cell_type": "code",
      "source": [
        "search_result = double_linked_list.search_from_tail(17)\n",
        "print(search_result)"
      ],
      "metadata": {
        "colab": {
          "base_uri": "https://localhost:8080/"
        },
        "id": "HHl3piG3No3d",
        "outputId": "c5b507be-dd8c-46d8-f459-222ca72398b4"
      },
      "execution_count": 8,
      "outputs": [
        {
          "output_type": "stream",
          "name": "stdout",
          "text": [
            "False\n"
          ]
        }
      ]
    },
    {
      "cell_type": "code",
      "source": [
        "# 문제\n",
        "\n",
        "# 위 코드에서 노드 데이터가 특정 숫자인 노드 앞에 데이터를 추가하는 함수를 만들고 테스트해보자\n"
      ],
      "metadata": {
        "id": "Ki88zDKCNqFd"
      },
      "execution_count": 9,
      "outputs": []
    },
    {
      "cell_type": "code",
      "source": [
        "double_linked_list.insert_before(2.5, 3)"
      ],
      "metadata": {
        "colab": {
          "base_uri": "https://localhost:8080/"
        },
        "id": "fKp1ou2aNxdQ",
        "outputId": "6d4f06af-a057-4761-993d-da5a4a2d0601"
      },
      "execution_count": 10,
      "outputs": [
        {
          "output_type": "execute_result",
          "data": {
            "text/plain": [
              "True"
            ]
          },
          "metadata": {},
          "execution_count": 10
        }
      ]
    },
    {
      "cell_type": "code",
      "source": [
        "double_linked_list.node_print()"
      ],
      "metadata": {
        "colab": {
          "base_uri": "https://localhost:8080/"
        },
        "id": "aQFedLo3NyHw",
        "outputId": "72917e81-d864-421b-bace-b3b655c683e9"
      },
      "execution_count": 11,
      "outputs": [
        {
          "output_type": "stream",
          "name": "stdout",
          "text": [
            "0\n",
            "1\n",
            "2\n",
            "2.5\n",
            "3\n",
            "4\n",
            "5\n",
            "6\n",
            "7\n",
            "8\n",
            "9\n",
            "10\n"
          ]
        }
      ]
    },
    {
      "cell_type": "code",
      "source": [
        ""
      ],
      "metadata": {
        "id": "UVQRly7DNyim"
      },
      "execution_count": 11,
      "outputs": []
    }
  ]
}