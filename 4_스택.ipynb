{
  "nbformat": 4,
  "nbformat_minor": 0,
  "metadata": {
    "colab": {
      "name": "4_스택.ipynb",
      "provenance": [],
      "collapsed_sections": [],
      "authorship_tag": "ABX9TyP93ItuO3jWzGIBabjb3T2N",
      "include_colab_link": true
    },
    "kernelspec": {
      "name": "python3",
      "display_name": "Python 3"
    },
    "language_info": {
      "name": "python"
    }
  },
  "cells": [
    {
      "cell_type": "markdown",
      "metadata": {
        "id": "view-in-github",
        "colab_type": "text"
      },
      "source": [
        "<a href=\"https://colab.research.google.com/github/10KimJunGu/pythonadv/blob/main/4_%EC%8A%A4%ED%83%9D.ipynb\" target=\"_parent\"><img src=\"https://colab.research.google.com/assets/colab-badge.svg\" alt=\"Open In Colab\"/></a>"
      ]
    },
    {
      "cell_type": "code",
      "execution_count": null,
      "metadata": {
        "id": "vA38VQXLzvuY"
      },
      "outputs": [],
      "source": [
        "# 1. 스택(stack)\n",
        "\n",
        "# 데이터를 제한적으로 접근할 수 있는 구조\n",
        "# 한쪽 끝에서만 자료를 넣거나 뺄 수 있는 구조\n",
        "# 가장 나중에 쌓은 데이터를 가장 먼저 빼닐 수 있는 구조\n",
        "# LIFO(Last Input First Out)\n"
      ]
    },
    {
      "cell_type": "code",
      "source": [
        "# 1-1. 스택의 구조\n",
        "\n",
        "# 스택은 LIFO 또는 FILO 데이터 관리 방식\n",
        "# 스택의 활용 -> 컴퓨터 내부의 프로세스 구조의 함수 동작 방식\n",
        "\n",
        "# 기능\n",
        "# push() : 데이터를 스택에 쌓기\n",
        "# pop() : 데이터를 스텍에서 꺼내기\n"
      ],
      "metadata": {
        "id": "nnwpFqSc0NHT"
      },
      "execution_count": null,
      "outputs": []
    },
    {
      "cell_type": "code",
      "source": [
        "# 1-2. 스택의 장단점\n",
        "\n",
        "\n",
        "# 장점\n",
        "\n",
        "# 구조가 단순해서 구현하기 쉬움\n",
        "# 데이터 저장/읽기 속도가 빠름\n",
        "\n",
        "\n",
        "# 단점\n",
        "\n",
        "# 데이터 최대 개수를 미리 정해야 함(파이썬의 경우 재귀함수는 1000번까지만 호출이 가능)\n",
        "# 저장공간의 낭비가 발생할 수 있음(미리 최대 개수만큼 저장공간을 미리 확보해야 함)\n",
        "\n",
        "\n",
        "\n",
        "# 스택은 단순하고 빠른 성능을 위해 사용하므로 보통 배열구조를 활용해서 구현하는 것이 일반적"
      ],
      "metadata": {
        "id": "55XcF-rx39OE"
      },
      "execution_count": null,
      "outputs": []
    },
    {
      "cell_type": "code",
      "source": [
        "# 파이선 리스트 기능에서 제공하는 메소드로 스택 사용하기\n",
        "data_stack = list()\n",
        "print(data_stack)\n",
        "\n",
        "data_stack.append(2)\n",
        "data_stack.append(10)\n",
        "data_stack.append(5)\n",
        "print(data_stack)\n",
        "\n",
        "\n",
        "print(data_stack.pop())\n",
        "print(data_stack)"
      ],
      "metadata": {
        "colab": {
          "base_uri": "https://localhost:8080/"
        },
        "id": "v9eIiSmv4a5q",
        "outputId": "5bf9bb85-4a2e-4912-f26c-becd30a8f2a9"
      },
      "execution_count": 4,
      "outputs": [
        {
          "output_type": "stream",
          "name": "stdout",
          "text": [
            "[]\n",
            "[2, 10, 5]\n",
            "5\n",
            "[2, 10]\n"
          ]
        }
      ]
    },
    {
      "cell_type": "code",
      "source": [
        "# 문제\n",
        "# 리스트 변수로 스택을 다루는 pop, push기능을 직접 구현해보자 (리스트의 pop, push함수는 사용하지 않음)\n",
        "\n",
        "# stack_list = list()\n",
        "\n",
        "# def push(data):\n",
        "#   stack_list.push(data)\n",
        "\n",
        "# def pop():\n",
        "#   data = stack_list[0]\n",
        "#   del stack_list[0]\n",
        "#   return data"
      ],
      "metadata": {
        "id": "KzRWpLUe43Ck"
      },
      "execution_count": 5,
      "outputs": []
    },
    {
      "cell_type": "code",
      "source": [
        "stack_list = list()\n",
        "\n",
        "def push(data):\n",
        "  stack_list.append(data)\n",
        "\n",
        "def pop():\n",
        "  data = stack_list[-1]\n",
        "  del stack_list[-1]\n",
        "  return data"
      ],
      "metadata": {
        "id": "XzIjm1SC5lax"
      },
      "execution_count": 6,
      "outputs": []
    },
    {
      "cell_type": "code",
      "source": [
        "for index in range(10):\n",
        "  push(index)"
      ],
      "metadata": {
        "id": "YO7dUCCg6PMy"
      },
      "execution_count": 8,
      "outputs": []
    },
    {
      "cell_type": "code",
      "source": [
        "print(stack_list)"
      ],
      "metadata": {
        "colab": {
          "base_uri": "https://localhost:8080/"
        },
        "id": "7NjOpJFI6RJY",
        "outputId": "adbcf60f-a7be-421a-8c6e-6224c6b79c9d"
      },
      "execution_count": 9,
      "outputs": [
        {
          "output_type": "stream",
          "name": "stdout",
          "text": [
            "[0, 1, 2, 3, 4, 5, 6, 7, 8, 9]\n"
          ]
        }
      ]
    },
    {
      "cell_type": "code",
      "source": [
        "print(pop())"
      ],
      "metadata": {
        "colab": {
          "base_uri": "https://localhost:8080/"
        },
        "id": "EVGEqQP26V4l",
        "outputId": "dfc2256d-7765-48eb-c53a-c2ec74eee00c"
      },
      "execution_count": 10,
      "outputs": [
        {
          "output_type": "stream",
          "name": "stdout",
          "text": [
            "9\n"
          ]
        }
      ]
    },
    {
      "cell_type": "code",
      "source": [
        "print(stack_list)"
      ],
      "metadata": {
        "colab": {
          "base_uri": "https://localhost:8080/"
        },
        "id": "SydriDbL6XhR",
        "outputId": "c5926b57-4c4b-44b7-8a0a-7a4dab478f3c"
      },
      "execution_count": 11,
      "outputs": [
        {
          "output_type": "stream",
          "name": "stdout",
          "text": [
            "[0, 1, 2, 3, 4, 5, 6, 7, 8]\n"
          ]
        }
      ]
    },
    {
      "cell_type": "code",
      "source": [
        "print(pop())\n",
        "print(pop())\n",
        "print(pop())"
      ],
      "metadata": {
        "colab": {
          "base_uri": "https://localhost:8080/"
        },
        "id": "dOU8zORc6asD",
        "outputId": "bee0d046-ba99-4be8-faec-4e39b743f30d"
      },
      "execution_count": 12,
      "outputs": [
        {
          "output_type": "stream",
          "name": "stdout",
          "text": [
            "8\n",
            "7\n",
            "6\n"
          ]
        }
      ]
    },
    {
      "cell_type": "code",
      "source": [
        "print(stack_list)"
      ],
      "metadata": {
        "colab": {
          "base_uri": "https://localhost:8080/"
        },
        "id": "m6EQk14H6dmC",
        "outputId": "70b2c97d-f746-4ff0-a9e0-dd1126b2a84e"
      },
      "execution_count": 13,
      "outputs": [
        {
          "output_type": "stream",
          "name": "stdout",
          "text": [
            "[0, 1, 2, 3, 4, 5]\n"
          ]
        }
      ]
    }
  ]
}