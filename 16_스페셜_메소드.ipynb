{
  "nbformat": 4,
  "nbformat_minor": 0,
  "metadata": {
    "colab": {
      "provenance": [],
      "collapsed_sections": [],
      "authorship_tag": "ABX9TyMZ/P/ArAedcflJYWnkOhOh",
      "include_colab_link": true
    },
    "kernelspec": {
      "name": "python3",
      "display_name": "Python 3"
    },
    "language_info": {
      "name": "python"
    }
  },
  "cells": [
    {
      "cell_type": "markdown",
      "metadata": {
        "id": "view-in-github",
        "colab_type": "text"
      },
      "source": [
        "<a href=\"https://colab.research.google.com/github/10KimJunGu/pythonadv/blob/main/16_%EC%8A%A4%ED%8E%98%EC%85%9C_%EB%A9%94%EC%86%8C%EB%93%9C.ipynb\" target=\"_parent\"><img src=\"https://colab.research.google.com/assets/colab-badge.svg\" alt=\"Open In Colab\"/></a>"
      ]
    },
    {
      "cell_type": "markdown",
      "source": [
        "# **1. 스페셜 메소드(Special Method)**"
      ],
      "metadata": {
        "id": "14fjjdQMM71F"
      }
    },
    {
      "cell_type": "markdown",
      "source": [
        "* __로 시작해서 __로 끝나는 특수함수\n",
        "* 해당 메소드들을 구현하면 커스텀 객체에 여러가지 파이썬 내장 함수나 연산자를 적용 가능\n",
        "* 오버라이딩 가능한 함수 목록은 아래 링크에서 확인  \n",
        "(https://docs.python.org/3/reference/datamodel.html)"
      ],
      "metadata": {
        "id": "TwztIP2mM8i4"
      }
    },
    {
      "cell_type": "code",
      "source": [
        "class Point:\n",
        "  def __init__(self, x, y):\n",
        "    self.x = x\n",
        "    self.y = y\n",
        "  def print_pt(self):\n",
        "    print('({}, {})'.format(self.x, self.y)) # (3, 4)\n",
        "  def __str__(self):  # str()\n",
        "    return ('({}, {})'.format(self.x, self.y))\n",
        "  def __add__(self, pt):\n",
        "    new_x = self.x + pt.x\n",
        "    new_y = self.y + pt.y\n",
        "    return Point(new_x, new_y)\n",
        "  def __sub__(self, pt):\n",
        "    new_x = self.x - pt.x\n",
        "    new_y = self.y - pt.y\n",
        "    return Point(new_x, new_y)\n",
        "  def __mul__(self, m):\n",
        "    return Point(self.x * m, self.y * m)\n",
        "  def __len__(self):\n",
        "    return self.x ** 2 + self.y ** 2\n",
        "  def __getitem__(self, index):\n",
        "    if index == 0:\n",
        "      return self.x\n",
        "    elif index == 1:\n",
        "      return self.y\n",
        "    else:\n",
        "      return -1"
      ],
      "metadata": {
        "id": "Puiwg9J5K-JE"
      },
      "execution_count": 1,
      "outputs": []
    },
    {
      "cell_type": "code",
      "source": [
        "p1 = Point(3, 4)\n",
        "print(p1)\n",
        "print(str(p1))\n",
        "p1.print_pt()"
      ],
      "metadata": {
        "colab": {
          "base_uri": "https://localhost:8080/"
        },
        "id": "ac_VfMN6LRYW",
        "outputId": "f6a92b7c-79d3-4f34-ec3e-c0b639ebc010"
      },
      "execution_count": 2,
      "outputs": [
        {
          "output_type": "stream",
          "name": "stdout",
          "text": [
            "(3, 4)\n",
            "(3, 4)\n",
            "(3, 4)\n"
          ]
        }
      ]
    },
    {
      "cell_type": "code",
      "source": [
        "p2 = Point(5, 8)\n",
        "print(p2)\n",
        "\n",
        "p3 = p1 + p2\n",
        "print(p3)"
      ],
      "metadata": {
        "colab": {
          "base_uri": "https://localhost:8080/"
        },
        "id": "WbQOx-q2MYkn",
        "outputId": "dcbaca0b-dec4-4140-df1f-8abd8cda6f0b"
      },
      "execution_count": 3,
      "outputs": [
        {
          "output_type": "stream",
          "name": "stdout",
          "text": [
            "(5, 8)\n",
            "(8, 12)\n"
          ]
        }
      ]
    },
    {
      "cell_type": "code",
      "source": [
        "p4 = p1 - p2\n",
        "print(p4)"
      ],
      "metadata": {
        "id": "YRQ5sUR2OAFt",
        "colab": {
          "base_uri": "https://localhost:8080/"
        },
        "outputId": "df3fc922-34ca-4a1e-9f05-4ead1a9dc0fc"
      },
      "execution_count": 4,
      "outputs": [
        {
          "output_type": "stream",
          "name": "stdout",
          "text": [
            "(-2, -4)\n"
          ]
        }
      ]
    },
    {
      "cell_type": "code",
      "source": [
        "p5 = p1 * 3\n",
        "print(p5)"
      ],
      "metadata": {
        "colab": {
          "base_uri": "https://localhost:8080/"
        },
        "id": "xXSmTZkeNE78",
        "outputId": "fb4f64db-1618-40c9-b329-3b11ec481907"
      },
      "execution_count": 5,
      "outputs": [
        {
          "output_type": "stream",
          "name": "stdout",
          "text": [
            "(9, 12)\n"
          ]
        }
      ]
    },
    {
      "cell_type": "code",
      "source": [
        "print(len(p1))"
      ],
      "metadata": {
        "colab": {
          "base_uri": "https://localhost:8080/"
        },
        "id": "hcQZh3SWNGEp",
        "outputId": "f2c03658-49e1-4ab1-dadf-9dbde6b79794"
      },
      "execution_count": 6,
      "outputs": [
        {
          "output_type": "stream",
          "name": "stdout",
          "text": [
            "25\n"
          ]
        }
      ]
    },
    {
      "cell_type": "code",
      "source": [
        "# p1 = Point(3, 4)\n",
        "print(p1[0])\n",
        "print(p1[1])\n",
        "print(p1[5])"
      ],
      "metadata": {
        "colab": {
          "base_uri": "https://localhost:8080/"
        },
        "id": "CcXwxthINGz_",
        "outputId": "5b195f82-eda5-4451-ffd3-184f22188e53"
      },
      "execution_count": 7,
      "outputs": [
        {
          "output_type": "stream",
          "name": "stdout",
          "text": [
            "3\n",
            "4\n",
            "-1\n"
          ]
        }
      ]
    },
    {
      "cell_type": "code",
      "source": [],
      "metadata": {
        "id": "dxHF6CNbNHqc"
      },
      "execution_count": null,
      "outputs": []
    }
  ]
}