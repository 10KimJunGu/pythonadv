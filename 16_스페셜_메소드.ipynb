{
  "nbformat": 4,
  "nbformat_minor": 0,
  "metadata": {
    "colab": {
      "name": "16.스페셜 메소드.ipynb",
      "provenance": [],
      "collapsed_sections": [],
      "authorship_tag": "ABX9TyPaxL7jLBUfqLfwRw/HXsgq",
      "include_colab_link": true
    },
    "kernelspec": {
      "name": "python3",
      "display_name": "Python 3"
    },
    "language_info": {
      "name": "python"
    }
  },
  "cells": [
    {
      "cell_type": "markdown",
      "metadata": {
        "id": "view-in-github",
        "colab_type": "text"
      },
      "source": [
        "<a href=\"https://colab.research.google.com/github/10KimJunGu/pythonadv/blob/main/16_%EC%8A%A4%ED%8E%98%EC%85%9C_%EB%A9%94%EC%86%8C%EB%93%9C.ipynb\" target=\"_parent\"><img src=\"https://colab.research.google.com/assets/colab-badge.svg\" alt=\"Open In Colab\"/></a>"
      ]
    },
    {
      "cell_type": "code",
      "execution_count": 1,
      "metadata": {
        "id": "TfXV509lKFsJ"
      },
      "outputs": [],
      "source": [
        "# 1. 스페셜 메소드 (special method)\n",
        "\n",
        "# __로 시작해서  __로 끝나는 특수함수\n",
        "# 해당 메소드들을 구현하면 커스텀 객체에 여러가지 파이썬 내장 함수나 연산자를 적용 가능\n",
        "# 오버라이딩 가능한 함수 목록은 아래 링크에서 확인\n",
        "\n",
        "# https://docs.python.org/3/reference/datamodel.html"
      ]
    },
    {
      "cell_type": "code",
      "source": [
        "class Point:\n",
        "  def __init__(self, x, y):\n",
        "    self.x = x\n",
        "    self.y = y\n",
        "  def print_pt(self):\n",
        "    print('({},{})'.format(self.x, self.y)) # (3,4)\n",
        "  def __str__(self): # str()\n",
        "    return ('({},{})'.format(self.x, self.y))\n",
        "  def __add__(self, pt):\n",
        "    new_x = self.x + pt.x\n",
        "    new_y = self.y + pt.y\n",
        "    return Point(new_x, new_y)"
      ],
      "metadata": {
        "id": "Puiwg9J5K-JE"
      },
      "execution_count": 2,
      "outputs": []
    },
    {
      "cell_type": "code",
      "source": [
        "p1 = Point(3,4)\n",
        "print(p1)\n",
        "print(str(p1))\n",
        "p1.print_pt()"
      ],
      "metadata": {
        "colab": {
          "base_uri": "https://localhost:8080/"
        },
        "id": "ac_VfMN6LRYW",
        "outputId": "4accd0b5-e822-43d7-e396-9a89054b1af5"
      },
      "execution_count": 3,
      "outputs": [
        {
          "output_type": "stream",
          "name": "stdout",
          "text": [
            "(3,4)\n",
            "(3,4)\n",
            "(3,4)\n"
          ]
        }
      ]
    },
    {
      "cell_type": "code",
      "source": [
        "p2 = Point(5, 8)\n",
        "print(p2)\n",
        "\n",
        "p3 = p1 + p2\n",
        "print(p3)"
      ],
      "metadata": {
        "colab": {
          "base_uri": "https://localhost:8080/"
        },
        "id": "WbQOx-q2MYkn",
        "outputId": "e38cdde9-842f-47a7-cbae-ef90fb42a172"
      },
      "execution_count": 4,
      "outputs": [
        {
          "output_type": "stream",
          "name": "stdout",
          "text": [
            "(5,8)\n",
            "(8,12)\n"
          ]
        }
      ]
    },
    {
      "cell_type": "code",
      "source": [
        ""
      ],
      "metadata": {
        "id": "YRQ5sUR2OAFt"
      },
      "execution_count": null,
      "outputs": []
    }
  ]
}