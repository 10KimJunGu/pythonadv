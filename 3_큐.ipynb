{
  "nbformat": 4,
  "nbformat_minor": 0,
  "metadata": {
    "colab": {
      "name": "3.큐.ipynb",
      "provenance": [],
      "authorship_tag": "ABX9TyOpsQqN8xlQO+RTpUnouLEZ",
      "include_colab_link": true
    },
    "kernelspec": {
      "name": "python3",
      "display_name": "Python 3"
    },
    "language_info": {
      "name": "python"
    }
  },
  "cells": [
    {
      "cell_type": "markdown",
      "metadata": {
        "id": "view-in-github",
        "colab_type": "text"
      },
      "source": [
        "<a href=\"https://colab.research.google.com/github/10KimJunGu/pythonadv/blob/main/3_%ED%81%90.ipynb\" target=\"_parent\"><img src=\"https://colab.research.google.com/assets/colab-badge.svg\" alt=\"Open In Colab\"/></a>"
      ]
    },
    {
      "cell_type": "code",
      "execution_count": null,
      "metadata": {
        "id": "gJPnEgmU6Byt"
      },
      "outputs": [],
      "source": [
        "# 1. 큐의 구조\n",
        "\n",
        "# 가장 먼저 넣은 데이터를 가장 먼저 꺼낼 수 있는 구조\n",
        "# 줄을 서는 행위와 유사\n",
        "# FIFO (First-in, First-out)\n",
        "\n",
        "\n",
        "# 1-1. 큐의 용어\n",
        "\n",
        "# Enqueue : 큐에 데이터를 넣는 기능\n",
        "# Dequeue : 큐에 데이터를 꺼내는 기능\n",
        "\n",
        "# [Visualgo](https://visualgo.net/en/list)\n",
        "\n",
        "\n",
        "# 1-2. 큐의 사용\n",
        "\n",
        "# 멀티테스킹을 위한 프로세스 스케쥴링 방식을 구현(운영체제)\n",
        "# 푸시메세지\n",
        "\n",
        "\n",
        "# 1-3. 파이썬 queue 라이브러리를 활용하여 queue 자료구조 사용\n",
        "\n",
        "# Queue() : 가장 일반적인 큐 자료구조를 생성\n",
        "# LifoQueue() : 나중에 입력된 데이터가 먼저 출력되는 구조의 큐 자료구조를 생성(스택구조와 비슷)\n",
        "# PriorityQueue() : 데이터마다 우선순위를 넣어서 우선순위가 높은 순으로 데이터를 출력\n",
        "# 프로그램을 작성할 때 프로그램에 따라 적합한 자료구조를 사용"
      ]
    },
    {
      "cell_type": "code",
      "source": [
        "# Queue로 큐 만들기\n",
        "import queue\n",
        "\n",
        "data_queue = queue.Queue()\n",
        "data_queue.put('Hello')\n",
        "print(data_queue)\n",
        "print(data_queue.qsize())\n",
        "print(data_queue.get()) # Dequeue\n",
        "print(data_queue.qsize())"
      ],
      "metadata": {
        "colab": {
          "base_uri": "https://localhost:8080/"
        },
        "id": "88i8yZxb8-ts",
        "outputId": "f9fdddbd-18af-4615-b08a-c4c37c199a0d"
      },
      "execution_count": 1,
      "outputs": [
        {
          "output_type": "stream",
          "name": "stdout",
          "text": [
            "<queue.Queue object at 0x7f2b110788d0>\n",
            "1\n",
            "Hello\n",
            "0\n"
          ]
        }
      ]
    },
    {
      "cell_type": "code",
      "source": [
        "data_queue.put(10)\n",
        "data_queue.put(True)\n",
        "print(data_queue.qsize())\n",
        "print(data_queue.get())\n",
        "\n",
        "data_queue.put(20)"
      ],
      "metadata": {
        "colab": {
          "base_uri": "https://localhost:8080/"
        },
        "id": "9Bql6x-U92Oq",
        "outputId": "af9feaa7-01f6-42d5-f92b-8609b2181cc2"
      },
      "execution_count": 5,
      "outputs": [
        {
          "output_type": "stream",
          "name": "stdout",
          "text": [
            "2\n",
            "10\n"
          ]
        }
      ]
    },
    {
      "cell_type": "code",
      "source": [
        "\n",
        "\n",
        "for i in range(data_queue.qsize()):\n",
        "  item = data_queue.get()\n",
        "  print(item)"
      ],
      "metadata": {
        "colab": {
          "base_uri": "https://localhost:8080/"
        },
        "id": "a7z5JgVy-aN0",
        "outputId": "c2e7365f-e9d6-4421-e9c8-d80efa24fcd7"
      },
      "execution_count": 6,
      "outputs": [
        {
          "output_type": "stream",
          "name": "stdout",
          "text": [
            "True\n",
            "20\n"
          ]
        }
      ]
    }
  ]
}