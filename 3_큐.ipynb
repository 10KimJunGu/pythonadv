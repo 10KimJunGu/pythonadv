{
  "nbformat": 4,
  "nbformat_minor": 0,
  "metadata": {
    "colab": {
      "name": "3.큐.ipynb",
      "provenance": [],
      "collapsed_sections": [],
      "authorship_tag": "ABX9TyMg6PUuKa/tSqc6SChZ5IEJ",
      "include_colab_link": true
    },
    "kernelspec": {
      "name": "python3",
      "display_name": "Python 3"
    },
    "language_info": {
      "name": "python"
    }
  },
  "cells": [
    {
      "cell_type": "markdown",
      "metadata": {
        "id": "view-in-github",
        "colab_type": "text"
      },
      "source": [
        "<a href=\"https://colab.research.google.com/github/10KimJunGu/pythonadv/blob/main/3_%ED%81%90.ipynb\" target=\"_parent\"><img src=\"https://colab.research.google.com/assets/colab-badge.svg\" alt=\"Open In Colab\"/></a>"
      ]
    },
    {
      "cell_type": "code",
      "execution_count": null,
      "metadata": {
        "id": "gJPnEgmU6Byt"
      },
      "outputs": [],
      "source": [
        "# 1. 큐의 구조\n",
        "\n",
        "# 가장 먼저 넣은 데이터를 가장 먼저 꺼낼 수 있는 구조\n",
        "# 줄을 서는 행위와 유사\n",
        "# FIFO (First-in, First-out)\n",
        "\n",
        "\n",
        "# 1-1. 큐의 용어\n",
        "\n",
        "# Enqueue : 큐에 데이터를 넣는 기능\n",
        "# Dequeue : 큐에 데이터를 꺼내는 기능\n",
        "\n",
        "# [Visualgo](https://visualgo.net/en/list)\n",
        "\n",
        "\n",
        "# 1-2. 큐의 사용\n",
        "\n",
        "# 멀티테스킹을 위한 프로세스 스케쥴링 방식을 구현(운영체제)\n",
        "# 푸시메세지\n",
        "\n",
        "\n",
        "# 1-3. 파이썬 queue 라이브러리를 활용하여 queue 자료구조 사용\n",
        "\n",
        "# Queue() : 가장 일반적인 큐 자료구조를 생성\n",
        "# LifoQueue() : 나중에 입력된 데이터가 먼저 출력되는 구조의 큐 자료구조를 생성(스택구조와 비슷)    # Last input, first out\n",
        "# PriorityQueue() : 데이터마다 우선순위를 넣어서 우선순위가 높은 순으로 데이터를 출력\n",
        "# 프로그램을 작성할 때 프로그램에 따라 적합한 자료구조를 사용"
      ]
    },
    {
      "cell_type": "code",
      "source": [
        "# Queue로 큐 만들기\n",
        "import queue\n",
        "\n",
        "data_queue = queue.Queue()\n",
        "data_queue.put('Hello')\n",
        "print(data_queue)  # 메모리주소만 찍힘\n",
        "print(data_queue.qsize()) # qsize() : 데이터가 몇개가 들어가 있는지 알아볼 수 있는 함수\n",
        "print(data_queue.get()) # Dequeue : 끄집어낸다\n",
        "print(data_queue.qsize())"
      ],
      "metadata": {
        "colab": {
          "base_uri": "https://localhost:8080/"
        },
        "id": "88i8yZxb8-ts",
        "outputId": "666a3612-1475-44ef-a306-23b9ebc11156"
      },
      "execution_count": 1,
      "outputs": [
        {
          "output_type": "stream",
          "name": "stdout",
          "text": [
            "<queue.Queue object at 0x7f837878f090>\n",
            "1\n",
            "Hello\n",
            "0\n"
          ]
        }
      ]
    },
    {
      "cell_type": "code",
      "source": [
        "data_queue.put(10)\n",
        "data_queue.put(True)\n",
        "print(data_queue.qsize())\n",
        "print(data_queue.get())"
      ],
      "metadata": {
        "colab": {
          "base_uri": "https://localhost:8080/"
        },
        "id": "9Bql6x-U92Oq",
        "outputId": "6eed862f-5218-4527-f3e6-a78a7a1ba008"
      },
      "execution_count": null,
      "outputs": [
        {
          "output_type": "stream",
          "name": "stdout",
          "text": [
            "2\n",
            "10\n"
          ]
        }
      ]
    },
    {
      "cell_type": "code",
      "source": [
        "data_queue.put(20)\n",
        "\n",
        "for i in range(data_queue.qsize()):\n",
        "  item = data_queue.get()\n",
        "  print(item)"
      ],
      "metadata": {
        "colab": {
          "base_uri": "https://localhost:8080/"
        },
        "id": "a7z5JgVy-aN0",
        "outputId": "0878a2b7-d0a5-4230-b898-4f45daf67d97"
      },
      "execution_count": null,
      "outputs": [
        {
          "output_type": "stream",
          "name": "stdout",
          "text": [
            "True\n",
            "20\n"
          ]
        }
      ]
    },
    {
      "cell_type": "code",
      "source": [
        "# LifoQueue()로 큐 만들기\n",
        "data_queue = queue.LifoQueue()\n",
        "data_queue.put('Hello')\n",
        "data_queue.put(10)\n",
        "data_queue.put(True)\n",
        "print(data_queue.qsize())\n",
        "print(data_queue.get())"
      ],
      "metadata": {
        "colab": {
          "base_uri": "https://localhost:8080/"
        },
        "id": "f08EIiuSwckA",
        "outputId": "297312b5-5349-4207-d53e-b8317b35550a"
      },
      "execution_count": null,
      "outputs": [
        {
          "output_type": "stream",
          "name": "stdout",
          "text": [
            "3\n",
            "True\n"
          ]
        }
      ]
    },
    {
      "cell_type": "code",
      "source": [
        "# 문제\n",
        "# 리스트 변수로 큐를 다루는 enqueue, dequeue 기능을 구현해보자.\n",
        "\n",
        "\n",
        "queue_list = list()\n",
        "\n",
        "def enqueue(data):\n",
        "  queue_list.append(data)\n",
        "\n",
        "def dequeue():\n",
        "  data = queue_list[0]\n",
        "  del queue_list[0]\n",
        "  return data\n"
      ],
      "metadata": {
        "id": "fWxQrc47xJrP"
      },
      "execution_count": null,
      "outputs": []
    },
    {
      "cell_type": "code",
      "source": [
        "print(len(queue_list))"
      ],
      "metadata": {
        "colab": {
          "base_uri": "https://localhost:8080/"
        },
        "id": "F4EnEF1IyNQT",
        "outputId": "66c4c2b6-09cf-4377-b053-a22caef657df"
      },
      "execution_count": null,
      "outputs": [
        {
          "output_type": "stream",
          "name": "stdout",
          "text": [
            "0\n"
          ]
        }
      ]
    },
    {
      "cell_type": "code",
      "source": [
        "for index in range(10):\n",
        "  enqueue(index)"
      ],
      "metadata": {
        "id": "BT4JWmKYzK8h"
      },
      "execution_count": null,
      "outputs": []
    },
    {
      "cell_type": "code",
      "source": [
        "print(len(queue_list))\n",
        "queue_list"
      ],
      "metadata": {
        "colab": {
          "base_uri": "https://localhost:8080/"
        },
        "id": "IesTqKc8zRxM",
        "outputId": "a7c14bf6-993d-45fb-af6d-c2e95123faf2"
      },
      "execution_count": null,
      "outputs": [
        {
          "output_type": "stream",
          "name": "stdout",
          "text": [
            "10\n"
          ]
        },
        {
          "output_type": "execute_result",
          "data": {
            "text/plain": [
              "[0, 1, 2, 3, 4, 5, 6, 7, 8, 9]"
            ]
          },
          "metadata": {},
          "execution_count": 11
        }
      ]
    },
    {
      "cell_type": "code",
      "source": [
        "print(dequeue())"
      ],
      "metadata": {
        "colab": {
          "base_uri": "https://localhost:8080/"
        },
        "id": "f5WmL29azV5l",
        "outputId": "d2cd1ba9-d61e-4e8e-d1db-f3d619416c66"
      },
      "execution_count": null,
      "outputs": [
        {
          "output_type": "stream",
          "name": "stdout",
          "text": [
            "0\n"
          ]
        }
      ]
    },
    {
      "cell_type": "code",
      "source": [
        "queue_list"
      ],
      "metadata": {
        "colab": {
          "base_uri": "https://localhost:8080/"
        },
        "id": "5-ycKFLvzZ6Z",
        "outputId": "77fbc938-72a3-435d-f7ca-f669db99c17c"
      },
      "execution_count": null,
      "outputs": [
        {
          "output_type": "execute_result",
          "data": {
            "text/plain": [
              "[1, 2, 3, 4, 5, 6, 7, 8, 9]"
            ]
          },
          "metadata": {},
          "execution_count": 13
        }
      ]
    },
    {
      "cell_type": "code",
      "source": [
        "print(dequeue())\n",
        "print(dequeue())\n",
        "print(dequeue())"
      ],
      "metadata": {
        "colab": {
          "base_uri": "https://localhost:8080/"
        },
        "id": "sCbjzvFDzc6Z",
        "outputId": "ab44e8c5-cc85-4e9e-850f-4e3ba62114cb"
      },
      "execution_count": null,
      "outputs": [
        {
          "output_type": "stream",
          "name": "stdout",
          "text": [
            "1\n",
            "2\n",
            "3\n"
          ]
        }
      ]
    },
    {
      "cell_type": "code",
      "source": [
        "queue_list"
      ],
      "metadata": {
        "colab": {
          "base_uri": "https://localhost:8080/"
        },
        "id": "QBHkc_vWzgDr",
        "outputId": "dbf83750-efcc-42df-b17b-bcc3c7992a06"
      },
      "execution_count": null,
      "outputs": [
        {
          "output_type": "execute_result",
          "data": {
            "text/plain": [
              "[4, 5, 6, 7, 8, 9]"
            ]
          },
          "metadata": {},
          "execution_count": 15
        }
      ]
    }
  ]
}