{
  "nbformat": 4,
  "nbformat_minor": 0,
  "metadata": {
    "colab": {
      "provenance": [],
      "collapsed_sections": [],
      "authorship_tag": "ABX9TyMO3eGxNn2fRvj1CoQ2Djh9",
      "include_colab_link": true
    },
    "kernelspec": {
      "name": "python3",
      "display_name": "Python 3"
    },
    "language_info": {
      "name": "python"
    }
  },
  "cells": [
    {
      "cell_type": "markdown",
      "metadata": {
        "id": "view-in-github",
        "colab_type": "text"
      },
      "source": [
        "<a href=\"https://colab.research.google.com/github/10KimJunGu/pythonadv/blob/main/3_%ED%81%90.ipynb\" target=\"_parent\"><img src=\"https://colab.research.google.com/assets/colab-badge.svg\" alt=\"Open In Colab\"/></a>"
      ]
    },
    {
      "cell_type": "markdown",
      "source": [
        "# **1. 큐의 구조**"
      ],
      "metadata": {
        "id": "P-H8QGNXjrw0"
      }
    },
    {
      "cell_type": "markdown",
      "source": [
        "* 가장 먼저 넣은 데이터를 가장 먼저 꺼낼 수 있는 구조\n",
        "* 줄을 서는 행위와 유사\n",
        "* FIFO(First-in, First-out)"
      ],
      "metadata": {
        "id": "rXXo70Fyjsox"
      }
    },
    {
      "cell_type": "markdown",
      "source": [
        "### **1-1. 큐의 용어**\n",
        "* Enqueue : 큐에 데이터를 넣는 기능\n",
        "* Dequeue : 큐에 데이터를 꺼내는 기능\n",
        "* [Visualgo](https://visualgo.net/en/list)"
      ],
      "metadata": {
        "id": "r84Yw1SGjtdU"
      }
    },
    {
      "cell_type": "markdown",
      "source": [
        "### **1-2. 큐의 사용**\n",
        "* 멀티테스킹을 위한 프로세스 스케쥴링 방식을 구현(운영체제)\n",
        "* 푸시메세지"
      ],
      "metadata": {
        "id": "DTrejb17jupq"
      }
    },
    {
      "cell_type": "markdown",
      "source": [
        "### **1-3. 파이썬 queue 라이브러리를 활용하여 queue 자료구조 사용**\n",
        "* Queue() : 가장 일반적인 큐 자료구조를 생성\n",
        "* LifoQueue() : 나중에 입력된 데이터가 먼저 출력되는 구조의 큐 자료구조를 생성(스택구조와 비슷)\n",
        "* PriorityQueue() : 데이터마다 우선순위를 넣어서 우선순위가 높은순으로 데이터를 출력\n",
        "* 프로그램을 작성할 때 프로그램에 따라 적합한 자료구조를 사용"
      ],
      "metadata": {
        "id": "TSFPRwJ1jvr2"
      }
    },
    {
      "cell_type": "code",
      "source": [
        "# Queue로 큐 만들기\n",
        "import queue\n",
        "\n",
        "data_queue = queue.Queue()\n",
        "data_queue.put('Hello')\n",
        "print(data_queue)  # 메모리주소만 찍힘\n",
        "print(data_queue.qsize()) # qsize() : 데이터가 몇개가 들어가 있는지 알아볼 수 있는 함수\n",
        "print(data_queue.get()) # Dequeue : 끄집어낸다\n",
        "print(data_queue.qsize())"
      ],
      "metadata": {
        "colab": {
          "base_uri": "https://localhost:8080/"
        },
        "id": "88i8yZxb8-ts",
        "outputId": "666a3612-1475-44ef-a306-23b9ebc11156"
      },
      "execution_count": null,
      "outputs": [
        {
          "output_type": "stream",
          "name": "stdout",
          "text": [
            "<queue.Queue object at 0x7f837878f090>\n",
            "1\n",
            "Hello\n",
            "0\n"
          ]
        }
      ]
    },
    {
      "cell_type": "code",
      "source": [
        "data_queue.put(10)\n",
        "data_queue.put(True)\n",
        "print(data_queue.qsize())\n",
        "print(data_queue.get()) # 맨 처음에 넣은 것부터 끄집어낸다. (먼저들어간 것부터 나온다.)"
      ],
      "metadata": {
        "colab": {
          "base_uri": "https://localhost:8080/"
        },
        "id": "9Bql6x-U92Oq",
        "outputId": "9aca11e8-9130-4f77-df99-f5de7b8dd1cb"
      },
      "execution_count": null,
      "outputs": [
        {
          "output_type": "stream",
          "name": "stdout",
          "text": [
            "9\n",
            "True\n"
          ]
        }
      ]
    },
    {
      "cell_type": "code",
      "source": [
        "data_queue.put(20)\n",
        "\n",
        "for i in range(data_queue.qsize()):\n",
        "  item = data_queue.get()\n",
        "  print(item)"
      ],
      "metadata": {
        "id": "a7z5JgVy-aN0"
      },
      "execution_count": null,
      "outputs": []
    },
    {
      "cell_type": "code",
      "source": [
        "# LifoQueue()로 큐 만들기\n",
        "data_queue = queue.LifoQueue()\n",
        "data_queue.put('Hello')\n",
        "data_queue.put(10)\n",
        "data_queue.put(True)\n",
        "print(data_queue.qsize())\n",
        "print(data_queue.get())  # 나중에 넣은것 부터 나감"
      ],
      "metadata": {
        "colab": {
          "base_uri": "https://localhost:8080/"
        },
        "id": "f08EIiuSwckA",
        "outputId": "297312b5-5349-4207-d53e-b8317b35550a"
      },
      "execution_count": null,
      "outputs": [
        {
          "output_type": "stream",
          "name": "stdout",
          "text": [
            "3\n",
            "True\n"
          ]
        }
      ]
    },
    {
      "cell_type": "markdown",
      "source": [
        "### **문제.**\n",
        "리스트 변수로 큐를 다루는 enqueue, dequeue 기능을 구현해보자."
      ],
      "metadata": {
        "id": "EhCZ2cVwj0Bw"
      }
    },
    {
      "cell_type": "code",
      "source": [
        "\n",
        "queue_list = list()\n",
        "\n",
        "def enqueue(data):\n",
        "  queue_list.append(data)\n",
        "\n",
        "def dequeue():\n",
        "  data = queue_list[0]\n",
        "  del queue_list[0]\n",
        "  return data\n"
      ],
      "metadata": {
        "id": "fWxQrc47xJrP"
      },
      "execution_count": null,
      "outputs": []
    },
    {
      "cell_type": "code",
      "source": [
        "print(len(queue_list))"
      ],
      "metadata": {
        "colab": {
          "base_uri": "https://localhost:8080/"
        },
        "id": "F4EnEF1IyNQT",
        "outputId": "58c02361-38bb-4df3-83f6-4abf7ade5b86"
      },
      "execution_count": null,
      "outputs": [
        {
          "output_type": "stream",
          "name": "stdout",
          "text": [
            "0\n"
          ]
        }
      ]
    },
    {
      "cell_type": "code",
      "source": [
        "for index in range(10):\n",
        "  enqueue(index)"
      ],
      "metadata": {
        "id": "BT4JWmKYzK8h"
      },
      "execution_count": null,
      "outputs": []
    },
    {
      "cell_type": "code",
      "source": [
        "print(len(queue_list))\n",
        "queue_list"
      ],
      "metadata": {
        "colab": {
          "base_uri": "https://localhost:8080/"
        },
        "id": "IesTqKc8zRxM",
        "outputId": "12afdffc-b211-4201-a8d8-533bbdd0463e"
      },
      "execution_count": null,
      "outputs": [
        {
          "output_type": "stream",
          "name": "stdout",
          "text": [
            "10\n"
          ]
        },
        {
          "output_type": "execute_result",
          "data": {
            "text/plain": [
              "[0, 1, 2, 3, 4, 5, 6, 7, 8, 9]"
            ]
          },
          "metadata": {},
          "execution_count": 20
        }
      ]
    },
    {
      "cell_type": "code",
      "source": [
        "print(dequeue())"
      ],
      "metadata": {
        "colab": {
          "base_uri": "https://localhost:8080/"
        },
        "id": "f5WmL29azV5l",
        "outputId": "bd73b8a5-5e8d-49d5-97fb-5a095d66fe36"
      },
      "execution_count": null,
      "outputs": [
        {
          "output_type": "stream",
          "name": "stdout",
          "text": [
            "0\n"
          ]
        }
      ]
    },
    {
      "cell_type": "code",
      "source": [
        "queue_list"
      ],
      "metadata": {
        "colab": {
          "base_uri": "https://localhost:8080/"
        },
        "id": "5-ycKFLvzZ6Z",
        "outputId": "e4a551d2-6b23-478d-b46b-3336dd22dd2a"
      },
      "execution_count": null,
      "outputs": [
        {
          "output_type": "execute_result",
          "data": {
            "text/plain": [
              "[1, 2, 3, 4, 5, 6, 7, 8, 9]"
            ]
          },
          "metadata": {},
          "execution_count": 22
        }
      ]
    },
    {
      "cell_type": "code",
      "source": [
        "print(dequeue())\n",
        "print(dequeue())\n",
        "print(dequeue())"
      ],
      "metadata": {
        "colab": {
          "base_uri": "https://localhost:8080/"
        },
        "id": "sCbjzvFDzc6Z",
        "outputId": "3ac4b1c4-97ba-461d-87d4-33210eba3350"
      },
      "execution_count": null,
      "outputs": [
        {
          "output_type": "stream",
          "name": "stdout",
          "text": [
            "1\n",
            "2\n",
            "3\n"
          ]
        }
      ]
    },
    {
      "cell_type": "code",
      "source": [
        "queue_list"
      ],
      "metadata": {
        "colab": {
          "base_uri": "https://localhost:8080/"
        },
        "id": "QBHkc_vWzgDr",
        "outputId": "d507ab2c-d322-47a4-a7eb-cb201931d3f2"
      },
      "execution_count": null,
      "outputs": [
        {
          "output_type": "execute_result",
          "data": {
            "text/plain": [
              "[4, 5, 6, 7, 8, 9]"
            ]
          },
          "metadata": {},
          "execution_count": 24
        }
      ]
    }
  ]
}