{
  "nbformat": 4,
  "nbformat_minor": 0,
  "metadata": {
    "colab": {
      "name": "2.파이썬의 출력.ipynb",
      "provenance": [],
      "authorship_tag": "ABX9TyN+1EhEEKdMTygmtbmjb186",
      "include_colab_link": true
    },
    "kernelspec": {
      "name": "python3",
      "display_name": "Python 3"
    },
    "language_info": {
      "name": "python"
    }
  },
  "cells": [
    {
      "cell_type": "markdown",
      "metadata": {
        "id": "view-in-github",
        "colab_type": "text"
      },
      "source": [
        "<a href=\"https://colab.research.google.com/github/10KimJunGu/pythonadv/blob/main/2_%ED%8C%8C%EC%9D%B4%EC%8D%AC%EC%9D%98_%EC%B6%9C%EB%A0%A5.ipynb\" target=\"_parent\"><img src=\"https://colab.research.google.com/assets/colab-badge.svg\" alt=\"Open In Colab\"/></a>"
      ]
    },
    {
      "cell_type": "code",
      "execution_count": null,
      "metadata": {
        "id": "gTX63aKCKwLr"
      },
      "outputs": [],
      "source": [
        "# 출력 서식 지정하기\n",
        "\n",
        "# 1. %d(정수) , %f(실수) , %s(문자열)를 사용하여 출력 서식을 지정\n",
        "# 2. 서식을 제외한 문자는 입력한 그대로 출력\n",
        "# 3. 서식을 지정해 출력할 데이터가 2개 이상일 경우 ()로 데이터를 묶어야 함"
      ]
    },
    {
      "cell_type": "code",
      "source": [
        "print('%d' %100)\n",
        "print('%d' %100.12)\n",
        "\n",
        "print('%f' %100.12)\n",
        "\n",
        "print('%s' %'python')\n",
        "print('%s' %100)\n",
        "\n",
        "print('%d + %d = %d' %(5,3,5+3))"
      ],
      "metadata": {
        "colab": {
          "base_uri": "https://localhost:8080/"
        },
        "id": "Kr4EodUqLBJf",
        "outputId": "335c9ebb-6884-4f8d-abb5-5cc04addde72"
      },
      "execution_count": 6,
      "outputs": [
        {
          "output_type": "stream",
          "name": "stdout",
          "text": [
            "100\n",
            "100\n",
            "100.120000\n",
            "python\n",
            "100\n",
            "5 + 3 = 8\n"
          ]
        }
      ]
    },
    {
      "cell_type": "code",
      "source": [
        "print('%5d' %100)\n",
        "print('%5d' %10000)\n",
        "\n",
        "print('%05d' %100)"
      ],
      "metadata": {
        "colab": {
          "base_uri": "https://localhost:8080/"
        },
        "id": "_vycF_VhLoLI",
        "outputId": "c9b5aa34-0c68-4623-a65c-04c2e876de1c"
      },
      "execution_count": 9,
      "outputs": [
        {
          "output_type": "stream",
          "name": "stdout",
          "text": [
            "  100\n",
            "10000\n",
            "00100\n"
          ]
        }
      ]
    },
    {
      "cell_type": "code",
      "source": [
        "print('%6.2f' %123.45)\n",
        "print('%6.2f' %123.4567)  # 반올림\n",
        "print('%6.2f' %123.4)   # 남은 자리는 0으로 채움"
      ],
      "metadata": {
        "colab": {
          "base_uri": "https://localhost:8080/"
        },
        "id": "3n6moVetLzS-",
        "outputId": "1cca0da6-c518-4228-f2d3-f3ce2941372e"
      },
      "execution_count": 12,
      "outputs": [
        {
          "output_type": "stream",
          "name": "stdout",
          "text": [
            "123.45\n",
            "123.46\n",
            "123.40\n"
          ]
        }
      ]
    },
    {
      "cell_type": "code",
      "source": [
        "print('%5s' %'abc')"
      ],
      "metadata": {
        "colab": {
          "base_uri": "https://localhost:8080/"
        },
        "id": "1Qku2dyfMDjG",
        "outputId": "5c137862-9b46-48db-b766-858276a246f0"
      },
      "execution_count": 13,
      "outputs": [
        {
          "output_type": "stream",
          "name": "stdout",
          "text": [
            "  abc\n"
          ]
        }
      ]
    },
    {
      "cell_type": "code",
      "source": [
        "# 5 / 3 = ?\n",
        "\n",
        "print('%d / %d = %d' %(5, 3, 5/3))  # 결과를 %d로 출력하면 정수로 출력\n",
        "print('%d / %d = %f' %(5, 3, 5/3))  # 결과를 %f로 출력하면 정수로 출력"
      ],
      "metadata": {
        "colab": {
          "base_uri": "https://localhost:8080/"
        },
        "id": "FxLPBEhDN1P-",
        "outputId": "b4a55279-359a-4412-f71f-01505d56d2e8"
      },
      "execution_count": 15,
      "outputs": [
        {
          "output_type": "stream",
          "name": "stdout",
          "text": [
            "5 / 3 = 1\n",
            "5 / 3 = 1.666667\n"
          ]
        }
      ]
    },
    {
      "cell_type": "code",
      "source": [
        "# format함수와 출력 인덱스 함수\n",
        "\n",
        "# 인덱스 : 0부터 순서대로 진행되는 정수\n",
        "\n",
        "print('{0} {1}'. format('김사과', '반하나'))\n",
        "print('{1} {0}'. format('김사과', '반하나'))"
      ],
      "metadata": {
        "colab": {
          "base_uri": "https://localhost:8080/"
        },
        "id": "-zQjmcLAOMNy",
        "outputId": "9fbb909c-383b-4251-88e3-cb92a2e14bab"
      },
      "execution_count": 17,
      "outputs": [
        {
          "output_type": "stream",
          "name": "stdout",
          "text": [
            "김사과 반하나\n",
            "반하나 김사과\n"
          ]
        }
      ]
    },
    {
      "cell_type": "code",
      "source": [
        "print('{0:3s}님은 {1:03d}살입니다.' .format('김사과',20))\n",
        "print('{0}님의 키는 {1:6.2f}cm입니다.' .format('류정원', 182.5))"
      ],
      "metadata": {
        "colab": {
          "base_uri": "https://localhost:8080/"
        },
        "id": "1czQQDLTO9tD",
        "outputId": "162b0b30-0947-4f2f-b389-c9c01c16042e"
      },
      "execution_count": 19,
      "outputs": [
        {
          "output_type": "stream",
          "name": "stdout",
          "text": [
            "김사과님은 020살입니다.\n",
            "류정원님의 키는 182.50cm입니다.\n"
          ]
        }
      ]
    }
  ]
}