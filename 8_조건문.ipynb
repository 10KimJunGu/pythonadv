{
  "nbformat": 4,
  "nbformat_minor": 0,
  "metadata": {
    "colab": {
      "name": "8.조건문.ipynb",
      "provenance": [],
      "collapsed_sections": [],
      "authorship_tag": "ABX9TyMjbsCXo48eJXZqRlATs3lX",
      "include_colab_link": true
    },
    "kernelspec": {
      "name": "python3",
      "display_name": "Python 3"
    },
    "language_info": {
      "name": "python"
    }
  },
  "cells": [
    {
      "cell_type": "markdown",
      "metadata": {
        "id": "view-in-github",
        "colab_type": "text"
      },
      "source": [
        "<a href=\"https://colab.research.google.com/github/10KimJunGu/pythonadv/blob/main/8_%EC%A1%B0%EA%B1%B4%EB%AC%B8.ipynb\" target=\"_parent\"><img src=\"https://colab.research.google.com/assets/colab-badge.svg\" alt=\"Open In Colab\"/></a>"
      ]
    },
    {
      "cell_type": "code",
      "execution_count": null,
      "metadata": {
        "id": "IbFSieUv0Hah"
      },
      "outputs": [],
      "source": [
        "# 1. 제어문\n",
        "\n",
        "# 프로그램의 흐름을 제어하는 문장\n",
        "\n",
        "\n",
        "# (1) 조건문\n",
        "#        if문\n",
        "\n",
        "# (2) 반복문\n",
        "#       while문\n",
        "#       for문"
      ]
    },
    {
      "cell_type": "code",
      "source": [
        "# 2. 조건문\n",
        "# 2-1.  if문\n",
        "\n",
        "\n",
        "\n",
        "\n",
        "# 2-1-1.   비교연산자\n",
        "\n",
        "# >, < , >=, <=, !=, ==\n",
        "# 결과가 True, False로 나옴\n",
        "\n",
        "\n",
        "print(10 > 5)\n",
        "print(10 < 5)\n",
        "print(10 >= 5)\n",
        "print(10 <= 5)\n",
        "print(10 != 5)\n",
        "print(10 == 5)"
      ],
      "metadata": {
        "colab": {
          "base_uri": "https://localhost:8080/"
        },
        "id": "RjpQvWy20aqa",
        "outputId": "4a034f54-d693-4cd5-965b-ff8c7cce0ac1"
      },
      "execution_count": null,
      "outputs": [
        {
          "output_type": "stream",
          "name": "stdout",
          "text": [
            "True\n",
            "False\n",
            "True\n",
            "False\n",
            "True\n",
            "False\n"
          ]
        }
      ]
    },
    {
      "cell_type": "code",
      "source": [
        "# 2-2 if문\n",
        "\n",
        "# if 조건식(결과가 True 또는 False가 나오는 문장) :\n",
        "#   조건식이 True인 경우 실행할 문장"
      ],
      "metadata": {
        "id": "dOVruC-W1T6s"
      },
      "execution_count": null,
      "outputs": []
    },
    {
      "cell_type": "code",
      "source": [
        "age = int(input('나이를 입력하세요 : '))\n",
        "\n",
        "if age > 19 :\n",
        "  print('성인입니다')\n",
        "print('입력한 나이 : ', age)"
      ],
      "metadata": {
        "colab": {
          "base_uri": "https://localhost:8080/"
        },
        "id": "olQbDoMS10z4",
        "outputId": "a693857d-4fa8-4834-ff7d-b8181ccaf54e"
      },
      "execution_count": null,
      "outputs": [
        {
          "output_type": "stream",
          "name": "stdout",
          "text": [
            "나이를 입력하세요 : 20\n",
            "성인입니다\n",
            "입력한 나이 :  20\n"
          ]
        }
      ]
    },
    {
      "cell_type": "code",
      "source": [
        "age = int(input('나이를 입력하세요 : '))\n",
        "\n",
        "if age > 19 :\n",
        "  print('성인입니다')\n",
        "  print('넷플릭스 성인영화를 감상할 수 있습니다.')\n",
        "print('입력한 나이 : ', age)"
      ],
      "metadata": {
        "colab": {
          "base_uri": "https://localhost:8080/"
        },
        "id": "F3o968FN2MbD",
        "outputId": "7841f57b-b93a-4778-fef3-0e2db57595bf"
      },
      "execution_count": null,
      "outputs": [
        {
          "output_type": "stream",
          "name": "stdout",
          "text": [
            "나이를 입력하세요 : 20\n",
            "성인입니다\n",
            "넷플릭스 성인영화를 감상할 수 있습니다.\n",
            "입력한 나이 :  20\n"
          ]
        }
      ]
    },
    {
      "cell_type": "code",
      "source": [
        "# 2-3 if ~ else문\n",
        "\n",
        "# if 조건식(결과가 True 또는 False가 나오는 문장) :\n",
        "#   조건식이 True인 경우 실행할 문장\n",
        "# else :\n",
        "#   조건식이 False인 경우 실행할 문장"
      ],
      "metadata": {
        "id": "MLdjH5Kz2krN"
      },
      "execution_count": null,
      "outputs": []
    },
    {
      "cell_type": "code",
      "source": [
        "age = int(input('나이를 입력하세요 : '))\n",
        "\n",
        "if age > 19 :\n",
        "  print('성인입니다')\n",
        "else :\n",
        "  print('미성년자입니다.')\n",
        "print('입력한 나이 : ', age)"
      ],
      "metadata": {
        "colab": {
          "base_uri": "https://localhost:8080/"
        },
        "id": "P0fPZwAH24iM",
        "outputId": "472b032a-7f34-470f-8b0b-88ccba80d08e"
      },
      "execution_count": null,
      "outputs": [
        {
          "output_type": "stream",
          "name": "stdout",
          "text": [
            "나이를 입력하세요 : 15\n",
            "미성년자입니다.\n",
            "입력한 나이 :  15\n"
          ]
        }
      ]
    },
    {
      "cell_type": "code",
      "source": [
        "age = int(input('나이를 입력하세요 : '))\n",
        "\n",
        "if age > 19 :\n",
        "  print('성인입니다')\n",
        "  print('넷플릭스 성인영화를 감상할 수 있습니다.')\n",
        "else :\n",
        "  print('미성년자입니다.')\n",
        "  print('디즈니를 보세요')\n",
        "print('입력한 나이 : ', age)"
      ],
      "metadata": {
        "colab": {
          "base_uri": "https://localhost:8080/"
        },
        "id": "o4oTPWVV3DCO",
        "outputId": "240a3442-3526-4584-9a08-3dc71bd2a038"
      },
      "execution_count": null,
      "outputs": [
        {
          "output_type": "stream",
          "name": "stdout",
          "text": [
            "나이를 입력하세요 : 20\n",
            "성인입니다\n",
            "넷플릭스 성인영화를 감상할 수 있습니다.\n",
            "입력한 나이 :  20\n"
          ]
        }
      ]
    },
    {
      "cell_type": "code",
      "source": [
        "# 2-4 if ~ elif ~ else문\n",
        "\n",
        "# if 조건식1(결과가 True 또는 False가 나오는 문장) :\n",
        "#   조건식1이 True인 경우 실행할 문장\n",
        "# elif 조건식2:\n",
        "#   조건식2가 True인 경우 실행할 문장\n",
        "# elif 조건식3:\n",
        "#   조건식3가 True인 경우 실행할 문장\n",
        "# else :\n",
        "#   모든 조건식이 False인 경우 실행할 문장"
      ],
      "metadata": {
        "id": "R-G9PnTB3f4z"
      },
      "execution_count": null,
      "outputs": []
    },
    {
      "cell_type": "code",
      "source": [
        "age = int(input('나이를 입력하세요 : '))\n",
        "\n",
        "if age > 19 :\n",
        "  print('성인입니다')\n",
        "elif age > 14 :\n",
        "  print('청소년입니다')\n",
        "elif age > 6:\n",
        "  print('어린이입니다.')\n",
        "elif age > 0 :\n",
        "  print('유아입니다')\n",
        "else :\n",
        "  print('입력이 잘못 되었습니다.')\n",
        "print('입력한 나이 : ', age)"
      ],
      "metadata": {
        "colab": {
          "base_uri": "https://localhost:8080/"
        },
        "id": "JqlxChlf38TZ",
        "outputId": "554ef5ee-9821-4066-acbb-8250924e8584"
      },
      "execution_count": null,
      "outputs": [
        {
          "output_type": "stream",
          "name": "stdout",
          "text": [
            "나이를 입력하세요 : 8\n",
            "어린이입니다.\n",
            "입력한 나이 :  8\n"
          ]
        }
      ]
    },
    {
      "cell_type": "code",
      "source": [
        "############### 문제\n",
        "\n",
        "# 국어, 수학, 영어 점수를 한번에 입력받아 총점, 평균, 학점을 구하는 프로그램을 만들어보자\n",
        "# ( 단, 학점은 평균 기준이며 90점이상은 A학점, 80점이상은 B학점, 70점이상은 C학점, 60점이상은 D학점, 나머지는 F학점으로 함)\n",
        "\n",
        "num = int(input('국어,수학,영어점수를 입력하세요 : '))\n",
        "\n",
        "\n",
        "kor = '국어'\n",
        "math = '수학'\n",
        "eng = '영어'\n",
        "\n",
        "\n",
        "sum = (kor + math + eng)\n",
        "avg = (kor + math + eng)/3\n",
        "\n",
        "# print('%d , %d , %d 점수를 입력하세요 ', %kor, %math, %eng)\n",
        "\n",
        "if avg > 90:\n",
        "  print('A')\n",
        "elif avg > 80:\n",
        "  print('B')\n",
        "elif avg > 70:\n",
        "  print('C')\n",
        "elif avg > 60:\n",
        "  print('D')\n",
        "else:\n",
        "  print('F')\n"
      ],
      "metadata": {
        "colab": {
          "base_uri": "https://localhost:8080/",
          "height": 266
        },
        "id": "voLag8T86LpM",
        "outputId": "19325c90-7bdb-4a86-e25e-d703c58855db"
      },
      "execution_count": null,
      "outputs": [
        {
          "name": "stdout",
          "output_type": "stream",
          "text": [
            "국어,수학,영어점수를 입력하세요 : 100,90,80\n"
          ]
        },
        {
          "output_type": "error",
          "ename": "ValueError",
          "evalue": "ignored",
          "traceback": [
            "\u001b[0;31m---------------------------------------------------------------------------\u001b[0m",
            "\u001b[0;31mValueError\u001b[0m                                Traceback (most recent call last)",
            "\u001b[0;32m<ipython-input-13-cc9d28d19430>\u001b[0m in \u001b[0;36m<module>\u001b[0;34m()\u001b[0m\n\u001b[1;32m      4\u001b[0m \u001b[0;31m# ( 단, 학점은 평균 기준이며 90점이상은 A학점, 80점이상은 B학점, 70점이상은 C학점, 60점이상은 D학점, 나머지는 F학점으로 함)\u001b[0m\u001b[0;34m\u001b[0m\u001b[0;34m\u001b[0m\u001b[0;34m\u001b[0m\u001b[0m\n\u001b[1;32m      5\u001b[0m \u001b[0;34m\u001b[0m\u001b[0m\n\u001b[0;32m----> 6\u001b[0;31m \u001b[0mnum\u001b[0m \u001b[0;34m=\u001b[0m \u001b[0mint\u001b[0m\u001b[0;34m(\u001b[0m\u001b[0minput\u001b[0m\u001b[0;34m(\u001b[0m\u001b[0;34m'국어,수학,영어점수를 입력하세요 : '\u001b[0m\u001b[0;34m)\u001b[0m\u001b[0;34m)\u001b[0m\u001b[0;34m\u001b[0m\u001b[0;34m\u001b[0m\u001b[0m\n\u001b[0m\u001b[1;32m      7\u001b[0m \u001b[0;34m\u001b[0m\u001b[0m\n\u001b[1;32m      8\u001b[0m \u001b[0;34m\u001b[0m\u001b[0m\n",
            "\u001b[0;31mValueError\u001b[0m: invalid literal for int() with base 10: '100,90,80'"
          ]
        }
      ]
    },
    {
      "cell_type": "code",
      "source": [
        "kor, math, eng = map(int, input('국어, 수학, 영어 점수를 입력하세요').split(\" \"))\n",
        "\n",
        "tot = kor + math + eng\n",
        "avg = tot / 3\n",
        "\n",
        "hak = ''\n",
        "\n",
        "if avg >= 90:\n",
        "  hak = 'A학점'\n",
        "elif avg >= 80:\n",
        "  hak = 'B학점'\n",
        "elif avg >= 70:\n",
        "  hak = 'C학점'\n",
        "elif avg >= 60:\n",
        "  hak = 'D학점'\n",
        "else : \n",
        "  hak = 'F학점'\n",
        "\n",
        "print('총점 : ', tot)\n",
        "print('평균 : ', avg)\n",
        "print('학점 : ', hak)\n"
      ],
      "metadata": {
        "colab": {
          "base_uri": "https://localhost:8080/"
        },
        "id": "oER57jFK8kJi",
        "outputId": "914ee2b9-b7cb-4706-8d1b-57b17417a61e"
      },
      "execution_count": null,
      "outputs": [
        {
          "output_type": "stream",
          "name": "stdout",
          "text": [
            "국어, 수학, 영어 점수를 입력하세요100 90 80\n",
            "총점 :  270\n",
            "평균 :  90.0\n",
            "학점 :  A학점\n"
          ]
        }
      ]
    },
    {
      "cell_type": "code",
      "source": [
        "# 2-5 AND 연산자\n",
        "\n",
        "# 양쪽 두 식의 값이 모두 True인 경우 결과가 True가 되는 연산자\n",
        "\n"
      ],
      "metadata": {
        "id": "IR3oKN7P963r"
      },
      "execution_count": null,
      "outputs": []
    },
    {
      "cell_type": "code",
      "source": [
        "# 로그인 프로그램 작성\n",
        "# 아이디 : admin, 비밀번호 : 1234\n",
        "\n",
        "userid = input('아이디를 입력하세요')\n",
        "userpw = input('비밀번호를 입력하세요')\n",
        "\n",
        "if userid == 'admin' and userpw == '1234':\n",
        "  print('로그인 되었습니다.')\n",
        "else:\n",
        "  print('아이디 또는 비밀번호를 확인하세요')"
      ],
      "metadata": {
        "id": "CE8ZYN0r_YPX",
        "colab": {
          "base_uri": "https://localhost:8080/"
        },
        "outputId": "c6329fe4-7de8-44f1-b360-c55c76573261"
      },
      "execution_count": 1,
      "outputs": [
        {
          "output_type": "stream",
          "name": "stdout",
          "text": [
            "아이디를 입력하세요admin\n",
            "비밀번호를 입력하세요12345\n",
            "아이디 또는 비밀번호를 확인하세요\n"
          ]
        }
      ]
    },
    {
      "cell_type": "code",
      "source": [
        "# 2-6 OR 연산자\n",
        "\n",
        "# 양쪽 두 식의 값이 하나라도 True인 경우 결과가 True가 되는 연산자\n"
      ],
      "metadata": {
        "id": "dEh01hLurkvy"
      },
      "execution_count": null,
      "outputs": []
    },
    {
      "cell_type": "code",
      "source": [
        "# 주민등록번호에 의한 성별 판별\n",
        "\n",
        "# 001011-3068518\n",
        "\n",
        "juminNo = input('주민등록번호 13자리를 -없이 입력하세요 : ')\n",
        "\n",
        "if juminNo[6] == '1' or juminNo[6] == '3':\n",
        "  print('남자입니다.')\n",
        "elif juminNo[6] == '2' or juminNo[6] == '4':\n",
        "  print('여자입니다.')\n",
        "else :\n",
        "  print('잘못입력했습니다.')"
      ],
      "metadata": {
        "colab": {
          "base_uri": "https://localhost:8080/"
        },
        "id": "d-u0QobtsPyr",
        "outputId": "9125b41b-6482-4eae-f9ba-bdf5fccbd854"
      },
      "execution_count": 2,
      "outputs": [
        {
          "output_type": "stream",
          "name": "stdout",
          "text": [
            "주민등록번호 13자리를 -없이 입력하세요 : 9402191234567\n",
            "남자입니다.\n"
          ]
        }
      ]
    },
    {
      "cell_type": "code",
      "source": [
        "# 문제\n",
        "\n",
        "# 주민등록번호를 입력받아 현재 나이를 구하는 프로그램을 작성해보자\n",
        "\n",
        "juminNo = input('주민등록번호 앞글자 6자리를 입력하세요 : ') #940219\n",
        "\n",
        "num = juminNo[0:2]\n",
        "\n",
        "age = 122 - int(num)\n",
        "\n",
        "print('나이 : ', age)"
      ],
      "metadata": {
        "colab": {
          "base_uri": "https://localhost:8080/"
        },
        "id": "k4eQOLAmt7Xu",
        "outputId": "9ef43df8-b8be-4efa-96e9-f925f8e04ad1"
      },
      "execution_count": 14,
      "outputs": [
        {
          "output_type": "stream",
          "name": "stdout",
          "text": [
            "주민등록번호 앞글자 6자리를 입력하세요 : 940219\n",
            "나이 :  28\n"
          ]
        }
      ]
    },
    {
      "cell_type": "code",
      "source": [
        "juminNo = input('주민등록번호 13자리를 -없이 입력하세요 : ')\n",
        "\n",
        "year = int(juminNo[0:2])\n",
        "\n",
        "if int(juminNo[6]) <= 2: # 1900년대 태어났다면\n",
        "  year = year + 1900 # 98 + 1900 = 1998\n",
        "else: # 2000년대 태어났다면\n",
        "  year = year + 2000 # 0 + 2000 = 2000\n",
        "\n",
        "age = 2022 - year\n",
        "print('현재나이는 {}살 입니다.'.format(age))"
      ],
      "metadata": {
        "colab": {
          "base_uri": "https://localhost:8080/"
        },
        "id": "VY_QUMSTwJo0",
        "outputId": "22a15802-a124-433a-b1f5-6a5e805e0b81"
      },
      "execution_count": 15,
      "outputs": [
        {
          "output_type": "stream",
          "name": "stdout",
          "text": [
            "주민등록번호 13자리를 -없이 입력하세요 : 9402191234567\n",
            "현재나이는 28살 입니다.\n"
          ]
        }
      ]
    }
  ]
}