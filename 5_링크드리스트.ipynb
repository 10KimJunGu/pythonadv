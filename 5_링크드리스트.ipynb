{
  "nbformat": 4,
  "nbformat_minor": 0,
  "metadata": {
    "colab": {
      "name": "5.링크드리스트.ipynb",
      "provenance": [],
      "collapsed_sections": [],
      "authorship_tag": "ABX9TyOIT67IkYIJOVlbY+xQ9Dw6",
      "include_colab_link": true
    },
    "kernelspec": {
      "name": "python3",
      "display_name": "Python 3"
    },
    "language_info": {
      "name": "python"
    }
  },
  "cells": [
    {
      "cell_type": "markdown",
      "metadata": {
        "id": "view-in-github",
        "colab_type": "text"
      },
      "source": [
        "<a href=\"https://colab.research.google.com/github/10KimJunGu/pythonadv/blob/main/5_%EB%A7%81%ED%81%AC%EB%93%9C%EB%A6%AC%EC%8A%A4%ED%8A%B8.ipynb\" target=\"_parent\"><img src=\"https://colab.research.google.com/assets/colab-badge.svg\" alt=\"Open In Colab\"/></a>"
      ]
    },
    {
      "cell_type": "code",
      "execution_count": null,
      "metadata": {
        "id": "QXXQqyW56tsn"
      },
      "outputs": [],
      "source": [
        "# 1. 링크드리스트(Linked List)\n",
        "\n",
        "# 떨어진 곳에 존재하는 데이터를 화살표로 연결해서 관리하는 구조\n",
        "# C언어에서는 중요한 자료구조지만, 파이썬에서는 리스트타입이 링크드리스트 역할도 모두 지원\n",
        "# 데이터의 삽입과 삭제가 매우 빠름"
      ]
    },
    {
      "cell_type": "code",
      "source": [
        "# 1-1. 링크드리스트 용어\n",
        "\n",
        "# 노드(node) : 데이터 저장 단위(데이터, 포인터)로 구성\n",
        "# 포인터(pointer) : 각 노드 안에서 다음이나 이전의 노드와의 연결정보를 가지고 있는 공간\n"
      ],
      "metadata": {
        "id": "PHrYzWX97q5w"
      },
      "execution_count": null,
      "outputs": []
    },
    {
      "cell_type": "code",
      "source": [
        "# 링크드리스트 예\n",
        "\n",
        "# 파이썬에서는 링크드 리스트를 구현할 때 클래스를 주로 활용\n",
        "\n",
        "class Node:\n",
        "  def __init__(self, data):\n",
        "    self.data = data\n",
        "    self.next = None\n",
        "    "
      ],
      "metadata": {
        "id": "s1XNoFkf76Hs"
      },
      "execution_count": 1,
      "outputs": []
    },
    {
      "cell_type": "code",
      "source": [
        "# Node 객체와 Node 객체를 연결하기 (포인터 활용)\n",
        "\n",
        "node1 = Node(1)\n",
        "node2 = Node(2)\n",
        "print(node1)\n",
        "print(node2)\n",
        "node1.next = node2\n",
        "head = node1"
      ],
      "metadata": {
        "colab": {
          "base_uri": "https://localhost:8080/"
        },
        "id": "1CjpYBEjmDe3",
        "outputId": "8ba30f4b-c47e-4803-d66b-8a9cad224d88"
      },
      "execution_count": 4,
      "outputs": [
        {
          "output_type": "stream",
          "name": "stdout",
          "text": [
            "<__main__.Node object at 0x7ff904637690>\n",
            "<__main__.Node object at 0x7ff904637650>\n"
          ]
        }
      ]
    },
    {
      "cell_type": "code",
      "source": [
        "class Node:\n",
        "  def __init__(self, data):\n",
        "    self.data = data\n",
        "    self.next = None\n",
        "\n",
        "  def add(self, data):\n",
        "    node = head\n",
        "    while node.next:\n",
        "      node = node.next\n",
        "\n",
        "    node.next = Node(data)"
      ],
      "metadata": {
        "id": "nPBJ-ffsnFXy"
      },
      "execution_count": 5,
      "outputs": []
    },
    {
      "cell_type": "code",
      "source": [
        "# 1-2. 링크드리스트로 데이터 추가하기\n",
        "\n",
        "node1 = Node(1)\n",
        "head = node1\n",
        "for index in range(2, 11):\n",
        "  node1.add(index)"
      ],
      "metadata": {
        "id": "FqEZthIzmWIk"
      },
      "execution_count": 6,
      "outputs": []
    },
    {
      "cell_type": "code",
      "source": [
        "# 1-3. 링크드리스트 데이터 출력하기\n",
        "\n",
        "node = head\n",
        "while node.next:\n",
        "  print(node.data)\n",
        "  node = node.next\n",
        "print(node.data)"
      ],
      "metadata": {
        "colab": {
          "base_uri": "https://localhost:8080/"
        },
        "id": "Ne-iEmU9ohtI",
        "outputId": "ecac03d6-3773-443a-de2b-e2f209bf7b5f"
      },
      "execution_count": 7,
      "outputs": [
        {
          "output_type": "stream",
          "name": "stdout",
          "text": [
            "1\n",
            "2\n",
            "3\n",
            "4\n",
            "5\n",
            "6\n",
            "7\n",
            "8\n",
            "9\n",
            "10\n"
          ]
        }
      ]
    },
    {
      "cell_type": "code",
      "source": [
        "# 1.5 데이터를 삽입(단 1과 2 사이에 저장)\n",
        "\n",
        "node2 = Node(1.5)"
      ],
      "metadata": {
        "id": "n1o93Z0Co2uW"
      },
      "execution_count": 8,
      "outputs": []
    },
    {
      "cell_type": "code",
      "source": [
        "node = head\n",
        "search = False\n",
        "\n",
        "while search:\n",
        "  if node.data == 1:\n",
        "    search = True\n",
        "  else:\n",
        "    node = node.next\n",
        "\n",
        "node_next = node.next  # 1번 노드의 포인터에 저장된 2번 주소를 node_next에 넣어줌\n",
        "node.next = node2     # 1번 노드의 포인터에 1.5의 주소를 넣어줌\n",
        "node2.next = node_next # 1.5의 노드의 포인터에 2의 주소를 넣어줌\n",
        "\n"
      ],
      "metadata": {
        "id": "Flk0s8LbpD3h"
      },
      "execution_count": 9,
      "outputs": []
    },
    {
      "cell_type": "code",
      "source": [
        "node = head\n",
        "while node.next:\n",
        "  print(node.data)\n",
        "  node = node.next\n",
        "print(node.data)"
      ],
      "metadata": {
        "colab": {
          "base_uri": "https://localhost:8080/"
        },
        "id": "Xh1-AmHzqI97",
        "outputId": "1c2c2ab6-ccda-4606-905c-17cf1b2d787e"
      },
      "execution_count": 11,
      "outputs": [
        {
          "output_type": "stream",
          "name": "stdout",
          "text": [
            "1\n",
            "1.5\n",
            "2\n",
            "3\n",
            "4\n",
            "5\n",
            "6\n",
            "7\n",
            "8\n",
            "9\n",
            "10\n"
          ]
        }
      ]
    },
    {
      "cell_type": "code",
      "source": [
        "# 2. 객체지향 프로그래밍으로 링크드리스트 구현\n",
        "\n",
        "class Node:\n",
        "  def __init__(self, data, next=None):\n",
        "    self.data = data\n",
        "    self.next = next\n",
        "    "
      ],
      "metadata": {
        "id": "u_8um4J2rEC7"
      },
      "execution_count": 12,
      "outputs": []
    },
    {
      "cell_type": "code",
      "source": [
        "class NodeMgmt:\n",
        "  def __init__(self, data):\n",
        "    self.head = Node(data)\n",
        "  \n",
        "  def add(self, data):\n",
        "    if self.head == None:\n",
        "      self.head = Node(data)\n",
        "    else:\n",
        "      node = self.head\n",
        "      while node.next:\n",
        "        node = node.next\n",
        "      node.next = Node(data)\n",
        "  \n",
        "  def node_print(self):\n",
        "    node = self.head\n",
        "    while node:\n",
        "      print(node.data)\n",
        "      node = node.next\n",
        "\n",
        "  def delete(self, data):\n",
        "    # head에 노드가 없을 경우\n",
        "    if self.head == None:\n",
        "      print('head에 노드가 없습니다')\n",
        "      return\n",
        "\n",
        "    # 지우려는 값이 head에 있는 경우\n",
        "    if self.head.data == data:\n",
        "      print('지우려는 값이 head에 있습니다')\n",
        "      temp = self.head\n",
        "      self.head = self.head.next\n",
        "      del temp\n",
        "    # 지우려는 값이 head에 없는 경우\n",
        "    else:\n",
        "      print('지우려는 값이 head에 없습니다')\n",
        "      node = self.head\n",
        "      while node.next:\n",
        "        if node.next.data == data:\n",
        "          temp = node.next\n",
        "          node.next = node.next.next\n",
        "          del temp\n",
        "          return\n",
        "        else:\n",
        "          node = node.next"
      ],
      "metadata": {
        "id": "WDuM46G-rY1V"
      },
      "execution_count": 13,
      "outputs": []
    },
    {
      "cell_type": "code",
      "source": [
        "linkedlist1 = NodeMgmt(0)"
      ],
      "metadata": {
        "id": "Q6no7BBiswyh"
      },
      "execution_count": 14,
      "outputs": []
    },
    {
      "cell_type": "code",
      "source": [
        "linkedlist1.node_print()"
      ],
      "metadata": {
        "colab": {
          "base_uri": "https://localhost:8080/"
        },
        "id": "kWhzeZI9sy1b",
        "outputId": "b9f3d3ba-42f5-423a-a1ea-56d2c34a4db5"
      },
      "execution_count": 15,
      "outputs": [
        {
          "output_type": "stream",
          "name": "stdout",
          "text": [
            "0\n"
          ]
        }
      ]
    },
    {
      "cell_type": "code",
      "source": [
        "for data in range(1, 11):\n",
        "  linkedlist1.add(data)"
      ],
      "metadata": {
        "id": "Mub8my_wszrZ"
      },
      "execution_count": 16,
      "outputs": []
    },
    {
      "cell_type": "code",
      "source": [
        "linkedlist1.node_print()"
      ],
      "metadata": {
        "colab": {
          "base_uri": "https://localhost:8080/"
        },
        "id": "aqN_Lr0Us1jT",
        "outputId": "489d4d90-1c07-4e88-b0d3-0db3811d2ee6"
      },
      "execution_count": 17,
      "outputs": [
        {
          "output_type": "stream",
          "name": "stdout",
          "text": [
            "0\n",
            "1\n",
            "2\n",
            "3\n",
            "4\n",
            "5\n",
            "6\n",
            "7\n",
            "8\n",
            "9\n",
            "10\n"
          ]
        }
      ]
    },
    {
      "cell_type": "code",
      "source": [
        "linkedlist2 = NodeMgmt(0)"
      ],
      "metadata": {
        "id": "PbYrhcvSs24T"
      },
      "execution_count": 18,
      "outputs": []
    },
    {
      "cell_type": "code",
      "source": [
        "linkedlist2.node_print()"
      ],
      "metadata": {
        "colab": {
          "base_uri": "https://localhost:8080/"
        },
        "id": "g3SHIvtzs4dZ",
        "outputId": "1c1d0d8c-b5e1-4fd6-c07f-80268594a835"
      },
      "execution_count": 19,
      "outputs": [
        {
          "output_type": "stream",
          "name": "stdout",
          "text": [
            "0\n"
          ]
        }
      ]
    },
    {
      "cell_type": "code",
      "source": [
        "# head를 확인\n",
        "linkedlist2.head"
      ],
      "metadata": {
        "colab": {
          "base_uri": "https://localhost:8080/"
        },
        "id": "omPUA-dys5XZ",
        "outputId": "29cb5df0-b1a5-4409-d780-e043194d142d"
      },
      "execution_count": 20,
      "outputs": [
        {
          "output_type": "execute_result",
          "data": {
            "text/plain": [
              "<__main__.Node at 0x7ff904544ad0>"
            ]
          },
          "metadata": {},
          "execution_count": 20
        }
      ]
    },
    {
      "cell_type": "code",
      "source": [
        "linkedlist2.delete(0)"
      ],
      "metadata": {
        "colab": {
          "base_uri": "https://localhost:8080/"
        },
        "id": "VDgr3errs6Xl",
        "outputId": "2b6d642a-4f2b-4729-8f2b-648bdcbbebf5"
      },
      "execution_count": 21,
      "outputs": [
        {
          "output_type": "stream",
          "name": "stdout",
          "text": [
            "지우려는 값이 head에 있습니다\n"
          ]
        }
      ]
    },
    {
      "cell_type": "code",
      "source": [
        "linkedlist2.head"
      ],
      "metadata": {
        "id": "5LUn_Gxjs7aE"
      },
      "execution_count": 22,
      "outputs": []
    },
    {
      "cell_type": "code",
      "source": [
        "linkedlist2 = NodeMgmt(0)\n",
        "for data in range(1, 11):\n",
        "  linkedlist2.add(data)"
      ],
      "metadata": {
        "id": "RPV0V5WOs8Yk"
      },
      "execution_count": 23,
      "outputs": []
    },
    {
      "cell_type": "code",
      "source": [
        "linkedlist2.node_print()"
      ],
      "metadata": {
        "colab": {
          "base_uri": "https://localhost:8080/"
        },
        "id": "8luIcRc1s9U4",
        "outputId": "b5597f05-b2cb-469f-f1ac-296bb6595ba7"
      },
      "execution_count": 24,
      "outputs": [
        {
          "output_type": "stream",
          "name": "stdout",
          "text": [
            "0\n",
            "1\n",
            "2\n",
            "3\n",
            "4\n",
            "5\n",
            "6\n",
            "7\n",
            "8\n",
            "9\n",
            "10\n"
          ]
        }
      ]
    },
    {
      "cell_type": "code",
      "source": [
        "linkedlist2.delete(4)"
      ],
      "metadata": {
        "colab": {
          "base_uri": "https://localhost:8080/"
        },
        "id": "uInVvsO0s-Te",
        "outputId": "f7cae958-89d3-4b11-fb6b-3c58a1e1e62b"
      },
      "execution_count": 25,
      "outputs": [
        {
          "output_type": "stream",
          "name": "stdout",
          "text": [
            "지우려는 값이 head에 없습니다\n"
          ]
        }
      ]
    },
    {
      "cell_type": "code",
      "source": [
        "linkedlist2.node_print()"
      ],
      "metadata": {
        "colab": {
          "base_uri": "https://localhost:8080/"
        },
        "id": "lYvoYRDYs_Zb",
        "outputId": "1d7179f2-17ec-4053-843d-a9df83a0ecfb"
      },
      "execution_count": 26,
      "outputs": [
        {
          "output_type": "stream",
          "name": "stdout",
          "text": [
            "0\n",
            "1\n",
            "2\n",
            "3\n",
            "5\n",
            "6\n",
            "7\n",
            "8\n",
            "9\n",
            "10\n"
          ]
        }
      ]
    },
    {
      "cell_type": "code",
      "source": [
        "linkedlist3 = NodeMgmt(0)"
      ],
      "metadata": {
        "id": "s7b4c8ritALD"
      },
      "execution_count": 27,
      "outputs": []
    },
    {
      "cell_type": "code",
      "source": [
        "linkedlist3.delete(0)"
      ],
      "metadata": {
        "colab": {
          "base_uri": "https://localhost:8080/"
        },
        "id": "f8_ksLe2tBjS",
        "outputId": "c2357ff1-a6b1-46a3-fcfa-f7104fc1a663"
      },
      "execution_count": 28,
      "outputs": [
        {
          "output_type": "stream",
          "name": "stdout",
          "text": [
            "지우려는 값이 head에 있습니다\n"
          ]
        }
      ]
    },
    {
      "cell_type": "code",
      "source": [
        "linkedlist3.head"
      ],
      "metadata": {
        "id": "Junk4Fz8tDOo"
      },
      "execution_count": 29,
      "outputs": []
    },
    {
      "cell_type": "code",
      "source": [
        "linkedlist3.delete(0)"
      ],
      "metadata": {
        "colab": {
          "base_uri": "https://localhost:8080/"
        },
        "id": "pNdaythLtEbY",
        "outputId": "b3334ac4-6b55-425f-d7ba-58b104283bcd"
      },
      "execution_count": 30,
      "outputs": [
        {
          "output_type": "stream",
          "name": "stdout",
          "text": [
            "head에 노드가 없습니다\n"
          ]
        }
      ]
    }
  ]
}