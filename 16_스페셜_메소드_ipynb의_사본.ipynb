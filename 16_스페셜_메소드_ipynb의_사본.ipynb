{
  "nbformat": 4,
  "nbformat_minor": 0,
  "metadata": {
    "colab": {
      "name": "16.스페셜 메소드.ipynb의 사본",
      "provenance": [],
      "collapsed_sections": [],
      "authorship_tag": "ABX9TyNvTgtrXJhQXLtY0AwTGrA9",
      "include_colab_link": true
    },
    "kernelspec": {
      "name": "python3",
      "display_name": "Python 3"
    },
    "language_info": {
      "name": "python"
    }
  },
  "cells": [
    {
      "cell_type": "markdown",
      "metadata": {
        "id": "view-in-github",
        "colab_type": "text"
      },
      "source": [
        "<a href=\"https://colab.research.google.com/github/10KimJunGu/pythonadv/blob/main/16_%EC%8A%A4%ED%8E%98%EC%85%9C_%EB%A9%94%EC%86%8C%EB%93%9C_ipynb%EC%9D%98_%EC%82%AC%EB%B3%B8.ipynb\" target=\"_parent\"><img src=\"https://colab.research.google.com/assets/colab-badge.svg\" alt=\"Open In Colab\"/></a>"
      ]
    },
    {
      "cell_type": "code",
      "execution_count": 1,
      "metadata": {
        "id": "TfXV509lKFsJ"
      },
      "outputs": [],
      "source": [
        "# 1. 스페셜 메소드 (special method)\n",
        "\n",
        "# __로 시작해서  __로 끝나는 특수함수\n",
        "# 해당 메소드들을 구현하면 커스텀 객체에 여러가지 파이썬 내장 함수나 연산자를 적용 가능\n",
        "# 오버라이딩 가능한 함수 목록은 아래 링크에서 확인\n",
        "\n",
        "# https://docs.python.org/3/reference/datamodel.html"
      ]
    },
    {
      "cell_type": "code",
      "source": [
        "class Point:\n",
        "  def __init__(self, x, y):\n",
        "    self.x = x\n",
        "    self.y = y\n",
        "  def print_pt(self):\n",
        "    print('({},{})'.format(self.x, self.y)) # (3,4)\n",
        "  def __str__(self): # str()\n",
        "    return ('({},{})'.format(self.x, self.y))\n",
        "  def __add__(self, pt):\n",
        "    new_x = self.x + pt.x\n",
        "    new_y = self.y + pt.y\n",
        "    return Point(new_x, new_y)\n",
        "  def __sub__(self,pt):\n",
        "    new_x = self.x - pt.x\n",
        "    new_y = self.y - pt.y\n",
        "    return Point(new_x, new_y)\n",
        "  def __mul__(self,m):\n",
        "    return Point(self.x * m, self.y * m)\n",
        "  def __len__(self):\n",
        "    return self.x ** 2 + self.y ** 2\n",
        "  def __getitem__(self, index):\n",
        "    if index == 0:\n",
        "      return self.x\n",
        "    elif index ==1:\n",
        "      return self.y\n",
        "    else:\n",
        "      return -1"
      ],
      "metadata": {
        "id": "Puiwg9J5K-JE"
      },
      "execution_count": 2,
      "outputs": []
    },
    {
      "cell_type": "code",
      "source": [
        "p1 = Point(3,4)\n",
        "print(p1)\n",
        "print(str(p1))\n",
        "p1.print_pt()"
      ],
      "metadata": {
        "colab": {
          "base_uri": "https://localhost:8080/"
        },
        "id": "ac_VfMN6LRYW",
        "outputId": "c5967cea-8706-4d6e-9892-339f4a94a787"
      },
      "execution_count": 3,
      "outputs": [
        {
          "output_type": "stream",
          "name": "stdout",
          "text": [
            "(3,4)\n",
            "(3,4)\n",
            "(3,4)\n"
          ]
        }
      ]
    },
    {
      "cell_type": "code",
      "source": [
        "p2 = Point(5, 8)\n",
        "print(p2)\n",
        "\n",
        "p3 = p1 + p2\n",
        "print(p3)"
      ],
      "metadata": {
        "colab": {
          "base_uri": "https://localhost:8080/"
        },
        "id": "WbQOx-q2MYkn",
        "outputId": "08ad958b-fc3a-49f5-cd0a-0144d380443f"
      },
      "execution_count": 4,
      "outputs": [
        {
          "output_type": "stream",
          "name": "stdout",
          "text": [
            "(5,8)\n",
            "(8,12)\n"
          ]
        }
      ]
    },
    {
      "cell_type": "code",
      "source": [
        "p4 = p1 - p2\n",
        "print(p4)"
      ],
      "metadata": {
        "id": "YRQ5sUR2OAFt",
        "colab": {
          "base_uri": "https://localhost:8080/"
        },
        "outputId": "4f0040f0-e430-44f7-c0dc-dfc828273b86"
      },
      "execution_count": 5,
      "outputs": [
        {
          "output_type": "stream",
          "name": "stdout",
          "text": [
            "(-2,-4)\n"
          ]
        }
      ]
    },
    {
      "cell_type": "code",
      "source": [
        "p5 = p1 * 3\n",
        "print(p5)"
      ],
      "metadata": {
        "colab": {
          "base_uri": "https://localhost:8080/"
        },
        "id": "YA8bhxduhHB9",
        "outputId": "3d0a497e-e0a1-490f-cfc0-919d352c7b0c"
      },
      "execution_count": 6,
      "outputs": [
        {
          "output_type": "stream",
          "name": "stdout",
          "text": [
            "(9,12)\n"
          ]
        }
      ]
    },
    {
      "cell_type": "code",
      "source": [
        "print(len(p1))"
      ],
      "metadata": {
        "colab": {
          "base_uri": "https://localhost:8080/"
        },
        "id": "veF9ndfuhgY4",
        "outputId": "8dcb6495-1a51-45b9-8141-a3da4eca6dda"
      },
      "execution_count": 7,
      "outputs": [
        {
          "output_type": "stream",
          "name": "stdout",
          "text": [
            "25\n"
          ]
        }
      ]
    },
    {
      "cell_type": "code",
      "source": [
        "# p1 = Point(3,4)\n",
        "print(p1[0])\n",
        "print(p1[1])\n"
      ],
      "metadata": {
        "colab": {
          "base_uri": "https://localhost:8080/"
        },
        "id": "4U48JrYrh1co",
        "outputId": "fca6f8bf-2f4f-4e89-a079-decd54f385e3"
      },
      "execution_count": 9,
      "outputs": [
        {
          "output_type": "stream",
          "name": "stdout",
          "text": [
            "3\n",
            "4\n"
          ]
        }
      ]
    },
    {
      "cell_type": "code",
      "source": [
        ""
      ],
      "metadata": {
        "id": "v5obiLBDiVoA"
      },
      "execution_count": null,
      "outputs": []
    }
  ]
}