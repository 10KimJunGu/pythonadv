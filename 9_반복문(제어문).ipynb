{
  "nbformat": 4,
  "nbformat_minor": 0,
  "metadata": {
    "colab": {
      "name": "9.반복문(제어문).ipynb",
      "provenance": [],
      "collapsed_sections": [],
      "authorship_tag": "ABX9TyP8xN0DjKZk33QcRMybLq6O",
      "include_colab_link": true
    },
    "kernelspec": {
      "name": "python3",
      "display_name": "Python 3"
    },
    "language_info": {
      "name": "python"
    }
  },
  "cells": [
    {
      "cell_type": "markdown",
      "metadata": {
        "id": "view-in-github",
        "colab_type": "text"
      },
      "source": [
        "<a href=\"https://colab.research.google.com/github/10KimJunGu/pythonadv/blob/main/9_%EB%B0%98%EB%B3%B5%EB%AC%B8(%EC%A0%9C%EC%96%B4%EB%AC%B8).ipynb\" target=\"_parent\"><img src=\"https://colab.research.google.com/assets/colab-badge.svg\" alt=\"Open In Colab\"/></a>"
      ]
    },
    {
      "cell_type": "code",
      "execution_count": null,
      "metadata": {
        "id": "_-NPRI54y-vB"
      },
      "outputs": [],
      "source": [
        "# 1. 대입 연산자\n",
        "\n",
        "# =, += , -=. *=, /= , %=\n",
        "# 왼쪽에 저장된 값과 오른쪽의 값을 연산한 뒤 다시 왼쪽에 대입\n"
      ]
    },
    {
      "cell_type": "code",
      "source": [
        "num = 10\n",
        "\n",
        "num += 1 # num = num + 1\n",
        "print(num)\n",
        "\n",
        "num -= 1 # num = num - 1\n",
        "print(num)\n",
        "\n",
        "num*= 10 # num = num * 10\n",
        "print(num)\n",
        "\n",
        "num/= 10 # num = num / 10\n",
        "print(num)\n",
        "\n",
        "num %= 2 # num = num % 2\n",
        "print(num)"
      ],
      "metadata": {
        "colab": {
          "base_uri": "https://localhost:8080/"
        },
        "id": "Amea7cm_0QE5",
        "outputId": "e5c45a76-923d-452c-94fc-b3f650985924"
      },
      "execution_count": 6,
      "outputs": [
        {
          "output_type": "stream",
          "name": "stdout",
          "text": [
            "11\n",
            "10\n",
            "100\n",
            "10.0\n",
            "0.0\n"
          ]
        }
      ]
    },
    {
      "cell_type": "code",
      "source": [
        "# 2. while 문\n",
        "\n",
        "# while 조건식 :\n",
        "#   조건식이 True인 동안 반복할 문장\n",
        "#   ...\n",
        "\n",
        "\n",
        "i = 1\n",
        "while i <= 5:\n",
        "  print('Hello Python')\n",
        "  i += 1\n",
        "\n",
        "print('현재 i의 값 : {}'.format(i))"
      ],
      "metadata": {
        "colab": {
          "base_uri": "https://localhost:8080/"
        },
        "id": "RurDcTl80qKl",
        "outputId": "b79bd36e-a94e-4c84-8186-a0a20d980d2d"
      },
      "execution_count": 9,
      "outputs": [
        {
          "output_type": "stream",
          "name": "stdout",
          "text": [
            "Hello Python\n",
            "Hello Python\n",
            "Hello Python\n",
            "Hello Python\n",
            "Hello Python\n",
            "현재 i의 값 : 6\n"
          ]
        }
      ]
    },
    {
      "cell_type": "code",
      "source": [
        "# 1 ~ 10 까지의 합\n",
        "\n",
        "i = 1\n",
        "sum = 0\n",
        "\n",
        "while  i <= 10:\n",
        "  sum += i\n",
        "  i += 1\n",
        "\n",
        "\n",
        "print('1부터 10까지의 합 : {}'.format(sum))\n",
        "print(f'1부터 10까지의 합 : {sum}')"
      ],
      "metadata": {
        "colab": {
          "base_uri": "https://localhost:8080/"
        },
        "id": "0mibGjbA156s",
        "outputId": "44085f8e-2722-4362-f3d1-a25b5e1ab6e3"
      },
      "execution_count": 13,
      "outputs": [
        {
          "output_type": "stream",
          "name": "stdout",
          "text": [
            "1부터 10까지의 합 : 55\n",
            "1부터 10까지의 합 : 55\n"
          ]
        }
      ]
    },
    {
      "cell_type": "code",
      "source": [
        "# 원하는 단을 입력하여 구구단을 출력\n",
        "\n",
        "dan = int(input('원하는 단을 입력하세요 : '))\n",
        "\n",
        "print(f'{dan}단')\n",
        "i = 1\n",
        "\n",
        "while i <= 9:\n",
        "  print(f'{dan} * {i} = {dan * i}')\n",
        "  i += 1"
      ],
      "metadata": {
        "colab": {
          "base_uri": "https://localhost:8080/"
        },
        "id": "oK5HNG265CKl",
        "outputId": "bd7d0dea-209f-4909-83c2-3fff49ca2b69"
      },
      "execution_count": 14,
      "outputs": [
        {
          "output_type": "stream",
          "name": "stdout",
          "text": [
            "원하는 단을 입력하세요 : 5\n",
            "5단\n",
            "5 * 1 = 5\n",
            "5 * 2 = 10\n",
            "5 * 3 = 15\n",
            "5 * 4 = 20\n",
            "5 * 5 = 25\n",
            "5 * 6 = 30\n",
            "5 * 7 = 35\n",
            "5 * 8 = 40\n",
            "5 * 9 = 45\n"
          ]
        }
      ]
    },
    {
      "cell_type": "code",
      "source": [
        "# 3. for문\n",
        "\n",
        "# for 변수 in range(범위):\n",
        "#   반복할 문장\n",
        "\n"
      ],
      "metadata": {
        "id": "z58bT7HE5zbd"
      },
      "execution_count": null,
      "outputs": []
    },
    {
      "cell_type": "code",
      "source": [
        "for i in range(0, 10, 1): #start(이상), stop(미만), step\n",
        "  print(i, end=' ')"
      ],
      "metadata": {
        "colab": {
          "base_uri": "https://localhost:8080/"
        },
        "id": "di0jJJtiCD8W",
        "outputId": "d40b48f3-2ec5-42b2-cdd8-439bea0ae7d1"
      },
      "execution_count": 17,
      "outputs": [
        {
          "output_type": "stream",
          "name": "stdout",
          "text": [
            "0 1 2 3 4 5 6 7 8 9 "
          ]
        }
      ]
    },
    {
      "cell_type": "code",
      "source": [
        "for i in range(10): #시작인덱스 기본값 : 0, 증가값 기본값 : 1\n",
        "    print(i, end=' ')"
      ],
      "metadata": {
        "colab": {
          "base_uri": "https://localhost:8080/"
        },
        "id": "8_VKntnoCZ--",
        "outputId": "2658af70-2f9c-44a0-911d-4a43570e43b2"
      },
      "execution_count": 18,
      "outputs": [
        {
          "output_type": "stream",
          "name": "stdout",
          "text": [
            "0 1 2 3 4 5 6 7 8 9 "
          ]
        }
      ]
    },
    {
      "cell_type": "code",
      "source": [
        "for i in range(0, 10) : # 증가값 기본값 : 1\n",
        "    print(i, end=' ')"
      ],
      "metadata": {
        "colab": {
          "base_uri": "https://localhost:8080/"
        },
        "id": "6CLHVaLMCeMd",
        "outputId": "9bf034e4-57b5-443a-cd61-85d506e68e3e"
      },
      "execution_count": 19,
      "outputs": [
        {
          "output_type": "stream",
          "name": "stdout",
          "text": [
            "0 1 2 3 4 5 6 7 8 9 "
          ]
        }
      ]
    },
    {
      "cell_type": "code",
      "source": [
        "len = range(0, 10, 1)\n",
        "print(len)\n",
        "\n",
        "for i in len:\n",
        "  print(i, end=' ')"
      ],
      "metadata": {
        "colab": {
          "base_uri": "https://localhost:8080/"
        },
        "id": "mXZwM25OC_dI",
        "outputId": "bc78ca87-8b32-40ed-fc0b-7b3861fc4e82"
      },
      "execution_count": 22,
      "outputs": [
        {
          "output_type": "stream",
          "name": "stdout",
          "text": [
            "range(0, 10)\n",
            "0 1 2 3 4 5 6 7 8 9 "
          ]
        }
      ]
    },
    {
      "cell_type": "code",
      "source": [
        "# 1 ~ 100까지의 총합을 구하는 프로그램\n",
        "\n",
        "sum = 0\n",
        "\n",
        "for i in range(1,101,1):\n",
        "  sum += i\n",
        "print(sum)"
      ],
      "metadata": {
        "colab": {
          "base_uri": "https://localhost:8080/"
        },
        "id": "4ueZmowwDzua",
        "outputId": "7fb88b28-fdbb-439c-f4ba-70c5af1080c6"
      },
      "execution_count": 24,
      "outputs": [
        {
          "output_type": "stream",
          "name": "stdout",
          "text": [
            "5050\n"
          ]
        }
      ]
    },
    {
      "cell_type": "code",
      "source": [
        "# 4. list를 for문과 함께 사용하기\n",
        "\n",
        "li = ['apple','banana','orange','melon']\n",
        "\n",
        "for i in li:\n",
        "  print(i, end=' ')"
      ],
      "metadata": {
        "colab": {
          "base_uri": "https://localhost:8080/"
        },
        "id": "0C6_0_UaEPRH",
        "outputId": "4a66b39a-68f2-49bb-fe25-93a36a62cde7"
      },
      "execution_count": 25,
      "outputs": [
        {
          "output_type": "stream",
          "name": "stdout",
          "text": [
            "apple banana orange melon "
          ]
        }
      ]
    },
    {
      "cell_type": "code",
      "source": [
        "# 5. tuple을 for문과 함게 사용하기\n",
        "\n",
        "tu = ('❤️','👍','👌','💕')\n",
        "\n",
        "for i in tu:\n",
        "  print(i, end=' ')"
      ],
      "metadata": {
        "colab": {
          "base_uri": "https://localhost:8080/"
        },
        "id": "fsQVD9YAEzB2",
        "outputId": "4049b633-6411-41d6-e7bb-59db1f507fc1"
      },
      "execution_count": 26,
      "outputs": [
        {
          "output_type": "stream",
          "name": "stdout",
          "text": [
            "💕 ❤️ 👍 👌 "
          ]
        }
      ]
    },
    {
      "cell_type": "code",
      "source": [
        "# 문제\n",
        "\n",
        "# score 리스트에 저장된 점수가 60점 이상인 학생이 몇멍인지 알아보는 프로그램을 작성해보자\n",
        "score = [90, 30, 50, 60, 80, 70, 100, 40, 20, 10]\n",
        "\n",
        "for i in score:\n",
        "  if i >=60:\n",
        "    print(i)"
      ],
      "metadata": {
        "colab": {
          "base_uri": "https://localhost:8080/"
        },
        "id": "IvT_AsnyFNZ1",
        "outputId": "64fb8c19-7558-4941-ed42-dfa13840051d"
      },
      "execution_count": 38,
      "outputs": [
        {
          "output_type": "stream",
          "name": "stdout",
          "text": [
            "90\n",
            "60\n",
            "80\n",
            "70\n",
            "100\n"
          ]
        }
      ]
    },
    {
      "cell_type": "code",
      "source": [
        "score = [90, 30, 50, 60, 80, 70, 100, 40, 20, 10]\n",
        "\n",
        "count = 0\n",
        "\n",
        "for i in score:\n",
        "  if i >= 60:\n",
        "    count+= 1\n",
        "\n",
        "print(f'60점 넘는 학생의 수는 {count}명입니다.')"
      ],
      "metadata": {
        "colab": {
          "base_uri": "https://localhost:8080/"
        },
        "id": "gCsELhQ2GS64",
        "outputId": "8aab5892-e289-4b21-ae7e-3cc15e3620e1"
      },
      "execution_count": 40,
      "outputs": [
        {
          "output_type": "stream",
          "name": "stdout",
          "text": [
            "60점 넘는 학생의 수는 5명입니다.\n"
          ]
        }
      ]
    },
    {
      "cell_type": "code",
      "source": [
        "# 6. 다중 반복문\n",
        "\n",
        "# for 또는 while문이 2개이상 겹쳐있는 문장"
      ],
      "metadata": {
        "id": "e03w8sS8Ie-7"
      },
      "execution_count": null,
      "outputs": []
    },
    {
      "cell_type": "code",
      "source": [
        "for num1 in range(1,4):\n",
        "  print(f'현재 num1 : {num1}')\n",
        "  for num2  in range(1,6):\n",
        "    print(f'❤️')\n"
      ],
      "metadata": {
        "colab": {
          "base_uri": "https://localhost:8080/"
        },
        "id": "cS9JycmxImtq",
        "outputId": "3698e997-2eb3-4b1d-e276-7078549ecd0b"
      },
      "execution_count": 41,
      "outputs": [
        {
          "output_type": "stream",
          "name": "stdout",
          "text": [
            "현재 num1 : 1\n",
            "❤️\n",
            "❤️\n",
            "❤️\n",
            "❤️\n",
            "❤️\n",
            "현재 num1 : 2\n",
            "❤️\n",
            "❤️\n",
            "❤️\n",
            "❤️\n",
            "❤️\n",
            "현재 num1 : 3\n",
            "❤️\n",
            "❤️\n",
            "❤️\n",
            "❤️\n",
            "❤️\n"
          ]
        }
      ]
    },
    {
      "cell_type": "code",
      "source": [
        "#'❤️' 를 이용하여 아래와 같은 도형을 만들어보자\n",
        "\n",
        "#❤️❤️❤️❤️❤️  \n",
        "#❤️❤️❤️❤️❤️\n",
        "#❤️❤️❤️❤️❤️\n",
        "#❤️❤️❤️❤️❤️\n",
        "#❤️❤️❤️❤️❤️\n",
        "\n",
        "for i in range(5):\n",
        "  for j in range(5):\n",
        "    print('❤️',end=\"\")\n",
        "  print()"
      ],
      "metadata": {
        "colab": {
          "base_uri": "https://localhost:8080/"
        },
        "id": "klZvX-eWJUU2",
        "outputId": "c5bd5207-ef6d-4886-84c0-8b2bb0fbf038"
      },
      "execution_count": 47,
      "outputs": [
        {
          "output_type": "stream",
          "name": "stdout",
          "text": [
            "❤️❤️❤️❤️❤️\n",
            "❤️❤️❤️❤️❤️\n",
            "❤️❤️❤️❤️❤️\n",
            "❤️❤️❤️❤️❤️\n",
            "❤️❤️❤️❤️❤️\n"
          ]
        }
      ]
    },
    {
      "cell_type": "code",
      "source": [
        "# 문제 1.\n",
        "\n",
        "#❤️❤️❤️❤️❤️\n",
        "#❤️❤️❤️❤️\n",
        "#❤️❤️❤️\n",
        "#❤️❤️\n",
        "#❤️\n",
        "\n",
        "\n",
        "for i in range(5):\n",
        "  for j in range(i, 5):\n",
        "    print('❤️',end=\"\")\n",
        "  print()"
      ],
      "metadata": {
        "colab": {
          "base_uri": "https://localhost:8080/"
        },
        "id": "q1uQuDOnKX-V",
        "outputId": "b42369ff-03d3-404a-e8aa-2429cd585425"
      },
      "execution_count": 13,
      "outputs": [
        {
          "output_type": "stream",
          "name": "stdout",
          "text": [
            "❤️❤️❤️❤️❤️\n",
            "❤️❤️❤️❤️\n",
            "❤️❤️❤️\n",
            "❤️❤️\n",
            "❤️\n"
          ]
        }
      ]
    },
    {
      "cell_type": "code",
      "source": [
        "# 문제 2.\n",
        "\n",
        "#❤️\n",
        "#❤️❤️\n",
        "#❤️❤️❤️\n",
        "#❤️❤️❤️❤️\n",
        "#❤️❤️❤️❤️❤️\n",
        "\n",
        "\n",
        "for i in range(5):\n",
        "  for j in range(4-i, 5):\n",
        "    print('❤️',end=\"\")\n",
        "  print()\n",
        "\n",
        "print('________________________')\n",
        "\n",
        "\n",
        "for i in range(5):\n",
        "  for j in range(0, i + 1):\n",
        "    print('❤️',end=\"\")\n",
        "  print()"
      ],
      "metadata": {
        "colab": {
          "base_uri": "https://localhost:8080/"
        },
        "id": "wVjnbfFjLVea",
        "outputId": "ae3c4564-88a1-4e5f-f144-d3498746338c"
      },
      "execution_count": 18,
      "outputs": [
        {
          "output_type": "stream",
          "name": "stdout",
          "text": [
            "❤️\n",
            "❤️❤️\n",
            "❤️❤️❤️\n",
            "❤️❤️❤️❤️\n",
            "❤️❤️❤️❤️❤️\n",
            "________________________\n",
            "❤️\n",
            "❤️❤️\n",
            "❤️❤️❤️\n",
            "❤️❤️❤️❤️\n",
            "❤️❤️❤️❤️❤️\n"
          ]
        }
      ]
    },
    {
      "cell_type": "code",
      "source": [
        "# 2단부터 9단까지 구구단을 출력하는 프로그램\n",
        "\n",
        "\n",
        "\n",
        "for i in range(2,10,1):\n",
        "  for j in range(1,10,1):\n",
        "    print(f'{i} * {j} = {i * j}')"
      ],
      "metadata": {
        "id": "kZqXkvXoLX9F"
      },
      "execution_count": null,
      "outputs": []
    },
    {
      "cell_type": "code",
      "source": [
        "for i in range(2,10):\n",
        "  print(f'{i}단')\n",
        "  for j in range(1,10):\n",
        "    print(f'{i} * {j} = {i * j}')"
      ],
      "metadata": {
        "colab": {
          "base_uri": "https://localhost:8080/"
        },
        "id": "uk4CyiK6AVzt",
        "outputId": "9dd84e90-7383-4746-d21a-fa3fb0592153"
      },
      "execution_count": 21,
      "outputs": [
        {
          "output_type": "stream",
          "name": "stdout",
          "text": [
            "2단\n",
            "2 * 1 = 2\n",
            "2 * 2 = 4\n",
            "2 * 3 = 6\n",
            "2 * 4 = 8\n",
            "2 * 5 = 10\n",
            "2 * 6 = 12\n",
            "2 * 7 = 14\n",
            "2 * 8 = 16\n",
            "2 * 9 = 18\n",
            "3단\n",
            "3 * 1 = 3\n",
            "3 * 2 = 6\n",
            "3 * 3 = 9\n",
            "3 * 4 = 12\n",
            "3 * 5 = 15\n",
            "3 * 6 = 18\n",
            "3 * 7 = 21\n",
            "3 * 8 = 24\n",
            "3 * 9 = 27\n",
            "4단\n",
            "4 * 1 = 4\n",
            "4 * 2 = 8\n",
            "4 * 3 = 12\n",
            "4 * 4 = 16\n",
            "4 * 5 = 20\n",
            "4 * 6 = 24\n",
            "4 * 7 = 28\n",
            "4 * 8 = 32\n",
            "4 * 9 = 36\n",
            "5단\n",
            "5 * 1 = 5\n",
            "5 * 2 = 10\n",
            "5 * 3 = 15\n",
            "5 * 4 = 20\n",
            "5 * 5 = 25\n",
            "5 * 6 = 30\n",
            "5 * 7 = 35\n",
            "5 * 8 = 40\n",
            "5 * 9 = 45\n",
            "6단\n",
            "6 * 1 = 6\n",
            "6 * 2 = 12\n",
            "6 * 3 = 18\n",
            "6 * 4 = 24\n",
            "6 * 5 = 30\n",
            "6 * 6 = 36\n",
            "6 * 7 = 42\n",
            "6 * 8 = 48\n",
            "6 * 9 = 54\n",
            "7단\n",
            "7 * 1 = 7\n",
            "7 * 2 = 14\n",
            "7 * 3 = 21\n",
            "7 * 4 = 28\n",
            "7 * 5 = 35\n",
            "7 * 6 = 42\n",
            "7 * 7 = 49\n",
            "7 * 8 = 56\n",
            "7 * 9 = 63\n",
            "8단\n",
            "8 * 1 = 8\n",
            "8 * 2 = 16\n",
            "8 * 3 = 24\n",
            "8 * 4 = 32\n",
            "8 * 5 = 40\n",
            "8 * 6 = 48\n",
            "8 * 7 = 56\n",
            "8 * 8 = 64\n",
            "8 * 9 = 72\n",
            "9단\n",
            "9 * 1 = 9\n",
            "9 * 2 = 18\n",
            "9 * 3 = 27\n",
            "9 * 4 = 36\n",
            "9 * 5 = 45\n",
            "9 * 6 = 54\n",
            "9 * 7 = 63\n",
            "9 * 8 = 72\n",
            "9 * 9 = 81\n"
          ]
        }
      ]
    },
    {
      "cell_type": "code",
      "source": [
        ""
      ],
      "metadata": {
        "id": "DyyKzzzJAdJZ"
      },
      "execution_count": null,
      "outputs": []
    }
  ]
}