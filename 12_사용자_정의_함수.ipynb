{
  "nbformat": 4,
  "nbformat_minor": 0,
  "metadata": {
    "colab": {
      "provenance": [],
      "collapsed_sections": [],
      "authorship_tag": "ABX9TyObT4yiaexcU9xFFzzAK014",
      "include_colab_link": true
    },
    "kernelspec": {
      "name": "python3",
      "display_name": "Python 3"
    },
    "language_info": {
      "name": "python"
    }
  },
  "cells": [
    {
      "cell_type": "markdown",
      "metadata": {
        "id": "view-in-github",
        "colab_type": "text"
      },
      "source": [
        "<a href=\"https://colab.research.google.com/github/10KimJunGu/pythonadv/blob/main/12_%EC%82%AC%EC%9A%A9%EC%9E%90_%EC%A0%95%EC%9D%98_%ED%95%A8%EC%88%98.ipynb\" target=\"_parent\"><img src=\"https://colab.research.google.com/assets/colab-badge.svg\" alt=\"Open In Colab\"/></a>"
      ]
    },
    {
      "cell_type": "markdown",
      "source": [
        "# **1. 함수**"
      ],
      "metadata": {
        "id": "Asl7cKAe5AoQ"
      }
    },
    {
      "cell_type": "markdown",
      "source": [
        "* 변수 x, y에 대해 x값이 정해지면 그에 따라 y값이 결정되는 것\n",
        "* 반복적으로 사용되는 가치 있는 부분을 묶어서 하나의 집합으로 만듬\n",
        "* 코드를 재활용하기 위한 목적"
      ],
      "metadata": {
        "id": "KHSgDf2Q5Aj2"
      }
    },
    {
      "cell_type": "markdown",
      "source": [
        "### **1-1. 이름만 있는 함수**\n",
        "\n",
        "```\n",
        "def 함수명():\n",
        "  함수가 호출되면 실행할 문장\n",
        "  ...\n",
        "```\n",
        "\n",
        "```\n",
        "함수명() # 호출\n",
        "```"
      ],
      "metadata": {
        "id": "m6OvNeJQ5Ebk"
      }
    },
    {
      "cell_type": "code",
      "source": [
        "\n",
        "def func1():\n",
        "  print('처음으로 만드는 함수!')"
      ],
      "metadata": {
        "id": "13BbBA6Q5_c2"
      },
      "execution_count": null,
      "outputs": []
    },
    {
      "cell_type": "code",
      "source": [
        "func1()\n",
        "func1()"
      ],
      "metadata": {
        "colab": {
          "base_uri": "https://localhost:8080/"
        },
        "id": "shsn25X86eQm",
        "outputId": "95561c6e-bda6-4e02-f92e-153de2f16390"
      },
      "execution_count": null,
      "outputs": [
        {
          "output_type": "stream",
          "name": "stdout",
          "text": [
            "처음으로 만드는 함수!\n",
            "처음으로 만드는 함수!\n"
          ]
        }
      ]
    },
    {
      "cell_type": "code",
      "source": [
        "for i in range(5):\n",
        "  func1()"
      ],
      "metadata": {
        "colab": {
          "base_uri": "https://localhost:8080/"
        },
        "id": "tWgAPNJR6l_f",
        "outputId": "a2722a63-57bf-4915-f7af-36d9633af9b3"
      },
      "execution_count": null,
      "outputs": [
        {
          "output_type": "stream",
          "name": "stdout",
          "text": [
            "처음으로 만드는 함수!\n",
            "처음으로 만드는 함수!\n",
            "처음으로 만드는 함수!\n",
            "처음으로 만드는 함수!\n",
            "처음으로 만드는 함수!\n"
          ]
        }
      ]
    },
    {
      "cell_type": "markdown",
      "source": [
        "1-2. 매개변수(parameter)가 있는 함수\n",
        "\n",
        "```\n",
        "def 함수명(변수1, 변수2...):\n",
        "  함수가 호출되면 실행할 문장\n",
        "  ...\n",
        "```\n",
        "\n",
        "```\n",
        "함수명(값1, 값2 ..) # 호출\n",
        "```"
      ],
      "metadata": {
        "id": "aL7UCM4F5HfB"
      }
    },
    {
      "cell_type": "code",
      "source": [
        "\n",
        "def func2(num):\n",
        "  # print('입력받은 숫자 : %d' %num)\n",
        "  print(f'입력받은 숫자 : {num}')"
      ],
      "metadata": {
        "id": "LCkM75UE6qZ8"
      },
      "execution_count": null,
      "outputs": []
    },
    {
      "cell_type": "code",
      "source": [
        "func2(10)\n",
        "func2(30)"
      ],
      "metadata": {
        "colab": {
          "base_uri": "https://localhost:8080/"
        },
        "id": "BkhUO-WV7RLR",
        "outputId": "2b341d62-33a2-4583-dcf2-0f1c3ead9de0"
      },
      "execution_count": null,
      "outputs": [
        {
          "output_type": "stream",
          "name": "stdout",
          "text": [
            "입력받은 숫자 : 10\n",
            "입력받은 숫자 : 30\n"
          ]
        }
      ]
    },
    {
      "cell_type": "code",
      "source": [
        "def func3(start, end):\n",
        "  sum = 0\n",
        "  for i in range(start, end + 1, 1):\n",
        "    sum += i\n",
        "  # print(start, \"부터 \", end, \"까지의 합 : \", sum)\n",
        "  print(f'{start}부터 {end} 까지의 합 : {sum}')"
      ],
      "metadata": {
        "id": "vKE3h2io7lHg"
      },
      "execution_count": null,
      "outputs": []
    },
    {
      "cell_type": "code",
      "source": [
        "func3(1,10)\n",
        "func3(1,100)\n",
        "func3(10,50)"
      ],
      "metadata": {
        "colab": {
          "base_uri": "https://localhost:8080/"
        },
        "id": "Z77Hojmg72Jt",
        "outputId": "f6fee67e-2297-456d-c794-ec8763292d58"
      },
      "execution_count": null,
      "outputs": [
        {
          "output_type": "stream",
          "name": "stdout",
          "text": [
            "1부터 10 까지의 합 : 55\n",
            "1부터 100 까지의 합 : 5050\n",
            "10부터 50 까지의 합 : 1230\n"
          ]
        }
      ]
    },
    {
      "cell_type": "markdown",
      "source": [
        "### **1-3. 리턴값이 있는 함수**"
      ],
      "metadata": {
        "id": "_bOcfvqL5J4w"
      }
    },
    {
      "cell_type": "markdown",
      "source": [
        "```\n",
        "def 함수명(변수1, 변수2, ...):\n",
        "  함수가 호출되면 실행할 문장\n",
        "  ...\n",
        "  return 값\n",
        "```\n",
        "\n",
        "```\n",
        "변수 = 함수명(값1, 값2..) # 호출\n",
        "```"
      ],
      "metadata": {
        "id": "496oQnif5MEA"
      }
    },
    {
      "cell_type": "code",
      "source": [
        "\n",
        "def func4():\n",
        "  return '❤️'"
      ],
      "metadata": {
        "id": "GTzkYy5t8FZJ"
      },
      "execution_count": null,
      "outputs": []
    },
    {
      "cell_type": "code",
      "source": [
        "print(func4())"
      ],
      "metadata": {
        "colab": {
          "base_uri": "https://localhost:8080/"
        },
        "id": "wViDhu3A9APJ",
        "outputId": "b02015e8-5823-4ab3-b878-341ac3b6ddd3"
      },
      "execution_count": null,
      "outputs": [
        {
          "output_type": "stream",
          "name": "stdout",
          "text": [
            "❤️\n"
          ]
        }
      ]
    },
    {
      "cell_type": "code",
      "source": [
        "present = func4()\n",
        "print(present)"
      ],
      "metadata": {
        "colab": {
          "base_uri": "https://localhost:8080/"
        },
        "id": "UnpowyHd9Ga_",
        "outputId": "bbf3c2df-150a-4d92-bf0a-dea8b8cb7be1"
      },
      "execution_count": null,
      "outputs": [
        {
          "output_type": "stream",
          "name": "stdout",
          "text": [
            "❤️\n"
          ]
        }
      ]
    },
    {
      "cell_type": "code",
      "source": [
        "def func5(num1, num2):\n",
        "  return num1 + num2"
      ],
      "metadata": {
        "id": "iUTvUtVy9NzQ"
      },
      "execution_count": null,
      "outputs": []
    },
    {
      "cell_type": "code",
      "source": [
        "print(func5(10,5))"
      ],
      "metadata": {
        "colab": {
          "base_uri": "https://localhost:8080/"
        },
        "id": "0BeTP7uy9R6B",
        "outputId": "4a88e39d-3ee3-44a5-e89a-d727f18e87d9"
      },
      "execution_count": null,
      "outputs": [
        {
          "output_type": "stream",
          "name": "stdout",
          "text": [
            "15\n"
          ]
        }
      ]
    },
    {
      "cell_type": "code",
      "source": [
        "result = func5(10,5)\n",
        "print(f'두 수의 합 : {result}')"
      ],
      "metadata": {
        "colab": {
          "base_uri": "https://localhost:8080/"
        },
        "id": "lCCUeadx9WW3",
        "outputId": "3c75a28f-21ac-492f-ddb8-b34443025578"
      },
      "execution_count": null,
      "outputs": [
        {
          "output_type": "stream",
          "name": "stdout",
          "text": [
            "두 수의 합 : 15\n"
          ]
        }
      ]
    },
    {
      "cell_type": "markdown",
      "source": [
        "### **1-4. 디폴트 매개변수**\n",
        "```\n",
        "def 함수명(변수1, 변수2=값2 ..):\n",
        "  함수를 호출하면 실행할 문장\n",
        "  ...\n",
        "  return 값\n",
        "```\n",
        "\n",
        "```\n",
        "  함수명(값1) # 호출1\n",
        "  함수명(값1, 값2...) # 호출2 \n",
        "```"
      ],
      "metadata": {
        "id": "YZnsvli15Pdl"
      }
    },
    {
      "cell_type": "code",
      "source": [
        "def func6(num1, num2 = 0):\n",
        "  return num1 * num2"
      ],
      "metadata": {
        "id": "qEKed97H_wNM"
      },
      "execution_count": null,
      "outputs": []
    },
    {
      "cell_type": "code",
      "source": [
        "print(func6(10))\n",
        "print(func6(10,3))"
      ],
      "metadata": {
        "colab": {
          "base_uri": "https://localhost:8080/"
        },
        "id": "9ACwyuo8_2rC",
        "outputId": "efbfb8d3-acc5-481e-cb5e-71e43230d9bc"
      },
      "execution_count": null,
      "outputs": [
        {
          "output_type": "stream",
          "name": "stdout",
          "text": [
            "0\n",
            "30\n"
          ]
        }
      ]
    },
    {
      "cell_type": "markdown",
      "source": [
        "### **1-5. 매개변수의 개수가 가변적인 함수**\n",
        "\n",
        "```\n",
        "def 함수명(*변수):\n",
        "  함수가 호출되면 실행할 문장\n",
        "  ...\n",
        "  return 값\n",
        "```\n",
        "\n",
        "```\n",
        "함수명(값1) # 호출1\n",
        "함수명(값1, 값2, ...) # 호출2\n",
        "```\n",
        "\n",
        "> 매개변수는 함수안에서 튜플형태로 사용"
      ],
      "metadata": {
        "id": "zIwk1Y725Sox"
      }
    },
    {
      "cell_type": "code",
      "source": [
        "def func7(*args):\n",
        "  result = 0\n",
        "  for i in args:\n",
        "    result += i\n",
        "  return result"
      ],
      "metadata": {
        "id": "gplttwl9Ao6h"
      },
      "execution_count": null,
      "outputs": []
    },
    {
      "cell_type": "code",
      "source": [
        "print(func7(10))\n",
        "print(func7(10,30,20,70,50))"
      ],
      "metadata": {
        "colab": {
          "base_uri": "https://localhost:8080/"
        },
        "id": "mD0FNY9dAzec",
        "outputId": "f3896982-264b-4dd6-b2e8-07a7a24969aa"
      },
      "execution_count": null,
      "outputs": [
        {
          "output_type": "stream",
          "name": "stdout",
          "text": [
            "10\n",
            "180\n"
          ]
        }
      ]
    },
    {
      "cell_type": "markdown",
      "source": [
        "### **1-6. 매개변수를 딕셔너리 구조로 전달받는 함수**\n",
        "\n",
        "```\n",
        "def 함수명(**매개변수):\n",
        "  함수가 호출되면 실행할 문장\n",
        "  ...\n",
        "  return 값\n",
        "```\n",
        "\n",
        "```\n",
        "함수명(변수1=값1, 변수2=값2 ..) # 호출\n",
        "```"
      ],
      "metadata": {
        "id": "JXyQxsFp5Unp"
      }
    },
    {
      "cell_type": "code",
      "source": [
        "def func8(**args):\n",
        "  return args\n",
        "\n",
        "user= func8(userid='apple', name='김사과', age = 20)\n",
        "print(user)"
      ],
      "metadata": {
        "colab": {
          "base_uri": "https://localhost:8080/"
        },
        "id": "snsd7E52BgvZ",
        "outputId": "b1b475de-1b31-403d-9526-8ba054032033"
      },
      "execution_count": null,
      "outputs": [
        {
          "output_type": "stream",
          "name": "stdout",
          "text": [
            "{'userid': 'apple', 'name': '김사과', 'age': 20}\n"
          ]
        }
      ]
    },
    {
      "cell_type": "markdown",
      "source": [
        "```\n",
        "def 함수명(변수1, 변수2 ..):\n",
        "  함수가 호출되면 실행될 문장\n",
        "  ...\n",
        "  return 값1, 값2, ..\n",
        "```\n",
        "\n",
        "```\n",
        "변수1, 변수2, ... = 함수명(값1, 값2, ..)\n",
        "```"
      ],
      "metadata": {
        "id": "Ar4CVLLu5WbF"
      }
    },
    {
      "cell_type": "code",
      "source": [
        "def func9(num1, num2):\n",
        "  return num1 + num2, num1 - num2, num1 * num2, num1 / num2"
      ],
      "metadata": {
        "id": "-T0E1vqqCO61"
      },
      "execution_count": null,
      "outputs": []
    },
    {
      "cell_type": "code",
      "source": [
        "result1, result2, result3, result4 = func9(10,3)\n",
        "print(result1, result2, result3, result4)"
      ],
      "metadata": {
        "colab": {
          "base_uri": "https://localhost:8080/"
        },
        "id": "F1OqDnS7CWxG",
        "outputId": "491084dc-7b14-4952-d670-b52f4bd47754"
      },
      "execution_count": null,
      "outputs": [
        {
          "output_type": "stream",
          "name": "stdout",
          "text": [
            "13 7 30 3.3333333333333335\n"
          ]
        }
      ]
    },
    {
      "cell_type": "markdown",
      "source": [
        "### **문제.**\n",
        "데이터 90, 80, 50, 100, 70을 매개변수로 전달해서 최대값, 최소값을 출력하는 함수를 만들어 활용해보자  \n",
        "(단, return을 사용, 내장함수를 사용하지 않음)"
      ],
      "metadata": {
        "id": "prsmWfBO5X3N"
      }
    },
    {
      "cell_type": "code",
      "source": [
        "def maxmin(*args):  # (90, 80 , 50, 100, 70)\n",
        "  max, min = args[0], args[0]\n",
        "  for i in args:\n",
        "    if max < i:\n",
        "      max = i\n",
        "    \n",
        "    if min > i:\n",
        "      min = i\n",
        "  return max, min"
      ],
      "metadata": {
        "id": "i4SmpHDBEHNO"
      },
      "execution_count": null,
      "outputs": []
    },
    {
      "cell_type": "code",
      "source": [
        "max, min = maxmin(90, 80 , 50, 100, 70)\n",
        "print('최대값 : ', max)\n",
        "print('최소값 : ', min)"
      ],
      "metadata": {
        "colab": {
          "base_uri": "https://localhost:8080/"
        },
        "id": "Qya_bE3PFG4x",
        "outputId": "a9af7e66-9224-45a2-d05c-cfc7721169ed"
      },
      "execution_count": null,
      "outputs": [
        {
          "output_type": "stream",
          "name": "stdout",
          "text": [
            "최대값 :  100\n",
            "최소값 :  50\n"
          ]
        }
      ]
    },
    {
      "cell_type": "code",
      "source": [
        "max, min = maxmin(123,21,4,5346,234,12,1,5,6453)\n",
        "print('최대값 : ', max)\n",
        "print('최소값 : ', min)"
      ],
      "metadata": {
        "colab": {
          "base_uri": "https://localhost:8080/"
        },
        "id": "fZpG6bsCFKJA",
        "outputId": "97563001-e6a3-479c-b543-ccf0064d0b2b"
      },
      "execution_count": null,
      "outputs": [
        {
          "output_type": "stream",
          "name": "stdout",
          "text": [
            "최대값 :  6453\n",
            "최소값 :  1\n"
          ]
        }
      ]
    }
  ]
}