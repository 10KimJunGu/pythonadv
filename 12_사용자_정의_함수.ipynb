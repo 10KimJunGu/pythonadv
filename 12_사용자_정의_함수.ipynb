{
  "nbformat": 4,
  "nbformat_minor": 0,
  "metadata": {
    "colab": {
      "name": "12.사용자 정의 함수.ipynb",
      "provenance": [],
      "collapsed_sections": [],
      "authorship_tag": "ABX9TyMFIA6NLRtzJecOFxDV5rw8",
      "include_colab_link": true
    },
    "kernelspec": {
      "name": "python3",
      "display_name": "Python 3"
    },
    "language_info": {
      "name": "python"
    }
  },
  "cells": [
    {
      "cell_type": "markdown",
      "metadata": {
        "id": "view-in-github",
        "colab_type": "text"
      },
      "source": [
        "<a href=\"https://colab.research.google.com/github/10KimJunGu/pythonadv/blob/main/12_%EC%82%AC%EC%9A%A9%EC%9E%90_%EC%A0%95%EC%9D%98_%ED%95%A8%EC%88%98.ipynb\" target=\"_parent\"><img src=\"https://colab.research.google.com/assets/colab-badge.svg\" alt=\"Open In Colab\"/></a>"
      ]
    },
    {
      "cell_type": "code",
      "execution_count": null,
      "metadata": {
        "id": "DAUtBzhG5F1X"
      },
      "outputs": [],
      "source": [
        "# 1. 함수\n",
        "\n",
        "# 변수 x, y에 대해 x값이 정해지면 그에 따라 y값이 결정되는 것\n",
        "# 반복적으로 사용되는 가치있는 부분을 묶어서 하나의 집합으로 만듦\n",
        "# 코드를 재활용하기 위한 목적\n"
      ]
    },
    {
      "cell_type": "code",
      "source": [
        "# 1-1. 이름만 있는 함수\n",
        "\n",
        "# def 함수명():\n",
        "#   함수가 호출되면 실행할 문장\n",
        "#   ...\n",
        "\n",
        "\n",
        "# 함수명()          # 호출\n",
        "\n",
        "\n",
        "\n",
        "def func1():\n",
        "  print('처음으로 만드는 함수!')"
      ],
      "metadata": {
        "id": "13BbBA6Q5_c2"
      },
      "execution_count": 1,
      "outputs": []
    },
    {
      "cell_type": "code",
      "source": [
        "func1()\n",
        "func1()"
      ],
      "metadata": {
        "colab": {
          "base_uri": "https://localhost:8080/"
        },
        "id": "shsn25X86eQm",
        "outputId": "95561c6e-bda6-4e02-f92e-153de2f16390"
      },
      "execution_count": 4,
      "outputs": [
        {
          "output_type": "stream",
          "name": "stdout",
          "text": [
            "처음으로 만드는 함수!\n",
            "처음으로 만드는 함수!\n"
          ]
        }
      ]
    },
    {
      "cell_type": "code",
      "source": [
        "for i in range(5):\n",
        "  func1()"
      ],
      "metadata": {
        "colab": {
          "base_uri": "https://localhost:8080/"
        },
        "id": "tWgAPNJR6l_f",
        "outputId": "a2722a63-57bf-4915-f7af-36d9633af9b3"
      },
      "execution_count": 5,
      "outputs": [
        {
          "output_type": "stream",
          "name": "stdout",
          "text": [
            "처음으로 만드는 함수!\n",
            "처음으로 만드는 함수!\n",
            "처음으로 만드는 함수!\n",
            "처음으로 만드는 함수!\n",
            "처음으로 만드는 함수!\n"
          ]
        }
      ]
    },
    {
      "cell_type": "code",
      "source": [
        "# 1-2. 매개변수(parameter)가 있는 함수\n",
        "\n",
        "# def 함수명(변수1, 변수2, ... ):            # 변수를 매개변수라고 부른다\n",
        "#   함수가 호출되면 실행할 문장\n",
        "#   ...\n",
        "\n",
        "\n",
        "# 함수명(값1,값2, ... )         # 호출\n",
        "\n",
        "def func2(num):\n",
        "  print('입력받은 숫자 : %d' %num)"
      ],
      "metadata": {
        "id": "LCkM75UE6qZ8"
      },
      "execution_count": 8,
      "outputs": []
    },
    {
      "cell_type": "code",
      "source": [
        "func2(10)\n",
        "func2(30)"
      ],
      "metadata": {
        "colab": {
          "base_uri": "https://localhost:8080/"
        },
        "id": "BkhUO-WV7RLR",
        "outputId": "3c6bb9a7-1be7-4a69-9e8c-17587acf2d40"
      },
      "execution_count": 10,
      "outputs": [
        {
          "output_type": "stream",
          "name": "stdout",
          "text": [
            "입력받은 숫자 : 10\n",
            "입력받은 숫자 : 30\n"
          ]
        }
      ]
    },
    {
      "cell_type": "code",
      "source": [
        "def func3(start, end):\n",
        "  sum = 0\n",
        "  for i in range(start, end + 1, 1):\n",
        "    sum += i\n",
        "  # print(start, \"부터 \", end, \"까지의 합 : \", sum)\n",
        "  print(f'{start}부터 {end} 까지의 합 : {sum}')"
      ],
      "metadata": {
        "id": "vKE3h2io7lHg"
      },
      "execution_count": 16,
      "outputs": []
    },
    {
      "cell_type": "code",
      "source": [
        "func3(1,10)\n",
        "func3(1,100)\n",
        "func3(10,50)"
      ],
      "metadata": {
        "colab": {
          "base_uri": "https://localhost:8080/"
        },
        "id": "Z77Hojmg72Jt",
        "outputId": "f6fee67e-2297-456d-c794-ec8763292d58"
      },
      "execution_count": 17,
      "outputs": [
        {
          "output_type": "stream",
          "name": "stdout",
          "text": [
            "1부터 10 까지의 합 : 55\n",
            "1부터 100 까지의 합 : 5050\n",
            "10부터 50 까지의 합 : 1230\n"
          ]
        }
      ]
    },
    {
      "cell_type": "code",
      "source": [
        "# 1-3. 리턴값이 있는 함수\n",
        "\n",
        "# def 함수명(변수1, 변수2, ... ):\n",
        "#   함수가 호출되면 실행할 문장\n",
        "#   ...\n",
        "#   return 값\n",
        "\n",
        "\n",
        "# 변수 = 함수명(값1, 값2, ... )            # 호출\n",
        "\n",
        "\n",
        "def func4():\n",
        "  return '❤️'"
      ],
      "metadata": {
        "id": "GTzkYy5t8FZJ"
      },
      "execution_count": 18,
      "outputs": []
    },
    {
      "cell_type": "code",
      "source": [
        "print(func4())"
      ],
      "metadata": {
        "colab": {
          "base_uri": "https://localhost:8080/"
        },
        "id": "wViDhu3A9APJ",
        "outputId": "b02015e8-5823-4ab3-b878-341ac3b6ddd3"
      },
      "execution_count": 19,
      "outputs": [
        {
          "output_type": "stream",
          "name": "stdout",
          "text": [
            "❤️\n"
          ]
        }
      ]
    },
    {
      "cell_type": "code",
      "source": [
        "present = func4()\n",
        "print(present)"
      ],
      "metadata": {
        "colab": {
          "base_uri": "https://localhost:8080/"
        },
        "id": "UnpowyHd9Ga_",
        "outputId": "bbf3c2df-150a-4d92-bf0a-dea8b8cb7be1"
      },
      "execution_count": 21,
      "outputs": [
        {
          "output_type": "stream",
          "name": "stdout",
          "text": [
            "❤️\n"
          ]
        }
      ]
    },
    {
      "cell_type": "code",
      "source": [
        "def func5(num1, num2):\n",
        "  return num1 + num2"
      ],
      "metadata": {
        "id": "iUTvUtVy9NzQ"
      },
      "execution_count": 22,
      "outputs": []
    },
    {
      "cell_type": "code",
      "source": [
        "print(func5(10,5))"
      ],
      "metadata": {
        "colab": {
          "base_uri": "https://localhost:8080/"
        },
        "id": "0BeTP7uy9R6B",
        "outputId": "62fb202f-0d9e-46b8-ef10-76c3e4633302"
      },
      "execution_count": 23,
      "outputs": [
        {
          "output_type": "stream",
          "name": "stdout",
          "text": [
            "15\n"
          ]
        }
      ]
    },
    {
      "cell_type": "code",
      "source": [
        "result = func5(10,5)\n",
        "print(f'두 수의 합 : {result}')"
      ],
      "metadata": {
        "colab": {
          "base_uri": "https://localhost:8080/"
        },
        "id": "lCCUeadx9WW3",
        "outputId": "23527822-0487-4b52-84fa-2a887278d722"
      },
      "execution_count": 24,
      "outputs": [
        {
          "output_type": "stream",
          "name": "stdout",
          "text": [
            "두 수의 합 : 15\n"
          ]
        }
      ]
    },
    {
      "cell_type": "code",
      "source": [
        "# 1-4. 디폴트 매개변수\n",
        "\n",
        "# def 함수명(변수1, 변수2=값2, ... ):\n",
        "#   함수를 호출하면 실행할 문장\n",
        "#   ...\n",
        "#   return 값\n",
        "\n",
        "# 함수명(값1)                  # 호출 1\n",
        "\n",
        "# 함수명(값1, 값2, ...)         # 호출 2"
      ],
      "metadata": {
        "id": "CnsKDfLr9kFF"
      },
      "execution_count": 25,
      "outputs": []
    },
    {
      "cell_type": "code",
      "source": [
        "def func6(num1, num2 = 0):\n",
        "  return num1 * num2"
      ],
      "metadata": {
        "id": "qEKed97H_wNM"
      },
      "execution_count": 28,
      "outputs": []
    },
    {
      "cell_type": "code",
      "source": [
        "print(func6(10))\n",
        "print(func6(10,3))"
      ],
      "metadata": {
        "colab": {
          "base_uri": "https://localhost:8080/"
        },
        "id": "9ACwyuo8_2rC",
        "outputId": "efbfb8d3-acc5-481e-cb5e-71e43230d9bc"
      },
      "execution_count": 30,
      "outputs": [
        {
          "output_type": "stream",
          "name": "stdout",
          "text": [
            "0\n",
            "30\n"
          ]
        }
      ]
    },
    {
      "cell_type": "code",
      "source": [
        "# 1-5. 매개변수의 개수가 가변적인 함수\n",
        "\n",
        "# def 함수명(*변수):\n",
        "#   함수가 호출되면 실행할 문장\n",
        "#   ...\n",
        "#   return 값\n",
        "\n",
        "# 함수명(값1)               # 호출 1\n",
        "\n",
        "# 함수명(값1, 값2, ... )      # 호출 2\n",
        "\n",
        "\n",
        "\n",
        "# 매개변수는 함수안에서 튜플형태로 사용"
      ],
      "metadata": {
        "id": "ndnUXWoKALZT"
      },
      "execution_count": 31,
      "outputs": []
    },
    {
      "cell_type": "code",
      "source": [
        "def func7(*args):\n",
        "  result = 0\n",
        "  for i in args:\n",
        "    result += i\n",
        "  return result"
      ],
      "metadata": {
        "id": "gplttwl9Ao6h"
      },
      "execution_count": 32,
      "outputs": []
    },
    {
      "cell_type": "code",
      "source": [
        "print(func7(10))\n",
        "print(func7(10,30,20,70,50))"
      ],
      "metadata": {
        "colab": {
          "base_uri": "https://localhost:8080/"
        },
        "id": "mD0FNY9dAzec",
        "outputId": "f3896982-264b-4dd6-b2e8-07a7a24969aa"
      },
      "execution_count": 34,
      "outputs": [
        {
          "output_type": "stream",
          "name": "stdout",
          "text": [
            "10\n",
            "180\n"
          ]
        }
      ]
    },
    {
      "cell_type": "code",
      "source": [
        "# 1-6. 매개변수를 딕셔너리 구조로 전달받는 함수\n",
        "\n",
        "# def 함수명(**매개변수):\n",
        "#   함수가 호출되면 실행할 문장\n",
        "#   ...\n",
        "#   return 값\n",
        "\n",
        "\n",
        "# 함수명(변수1=값, 변수=값2, ...)    # 호출"
      ],
      "metadata": {
        "id": "YrPpDTryBC_2"
      },
      "execution_count": null,
      "outputs": []
    },
    {
      "cell_type": "code",
      "source": [
        "def func8(**args):\n",
        "  return args\n",
        "\n",
        "user= func8(userid='apple', name='김사과', age = 20)\n",
        "print(user)"
      ],
      "metadata": {
        "colab": {
          "base_uri": "https://localhost:8080/"
        },
        "id": "snsd7E52BgvZ",
        "outputId": "b1b475de-1b31-403d-9526-8ba054032033"
      },
      "execution_count": 35,
      "outputs": [
        {
          "output_type": "stream",
          "name": "stdout",
          "text": [
            "{'userid': 'apple', 'name': '김사과', 'age': 20}\n"
          ]
        }
      ]
    },
    {
      "cell_type": "code",
      "source": [
        "# 1-7. 리턴값이 여러개인 함수\n",
        "\n",
        "# def 함수명(변수1, 변수2, ... ):\n",
        "#   함수가 호출되면 실행될 문장\n",
        "#   ...\n",
        "#   return 값1, 값1\n",
        "\n",
        "\n",
        "# 변수1, 변수2, ... = 함수명(값1, 값2, ...)            # 호출"
      ],
      "metadata": {
        "id": "X_iJJMkdByEE"
      },
      "execution_count": null,
      "outputs": []
    },
    {
      "cell_type": "code",
      "source": [
        "def func9(num1, num2):\n",
        "  return num1 + num2, num1 - num2, num1 * num2, num1 / num2"
      ],
      "metadata": {
        "id": "-T0E1vqqCO61"
      },
      "execution_count": 36,
      "outputs": []
    },
    {
      "cell_type": "code",
      "source": [
        "result1, result2, result3, result4 = func9(10,3)\n",
        "print(result1, result2, result3, result4)"
      ],
      "metadata": {
        "colab": {
          "base_uri": "https://localhost:8080/"
        },
        "id": "F1OqDnS7CWxG",
        "outputId": "491084dc-7b14-4952-d670-b52f4bd47754"
      },
      "execution_count": 37,
      "outputs": [
        {
          "output_type": "stream",
          "name": "stdout",
          "text": [
            "13 7 30 3.3333333333333335\n"
          ]
        }
      ]
    },
    {
      "cell_type": "code",
      "source": [
        "# 문제\n",
        "\n",
        "# 데이터 90, 80 , 50, 100, 70을 매개변수로 전달해서 최대값, 최소값을 출력하는 함수를 만들어 활용해보자\n",
        "# return을 사용, 내장함수를 사용하지 않음)\n",
        "\n",
        "def maxmin(*args):\n",
        "  pass"
      ],
      "metadata": {
        "id": "VbYn7nRkDwT1"
      },
      "execution_count": 38,
      "outputs": []
    },
    {
      "cell_type": "code",
      "source": [
        "def maxmin(*args):  # (90, 80 , 50, 100, 70)\n",
        "  max, min = args[0], args[0]\n",
        "  for i in args:\n",
        "    if max < i:\n",
        "      max = i\n",
        "    \n",
        "    if min > i:\n",
        "      min = i\n",
        "  return max, min"
      ],
      "metadata": {
        "id": "i4SmpHDBEHNO"
      },
      "execution_count": 43,
      "outputs": []
    },
    {
      "cell_type": "code",
      "source": [
        "max, min = maxmin(90, 80 , 50, 100, 70)\n",
        "print('최대값 : ', max)\n",
        "print('최소값 : ', min)"
      ],
      "metadata": {
        "colab": {
          "base_uri": "https://localhost:8080/"
        },
        "id": "Qya_bE3PFG4x",
        "outputId": "a9af7e66-9224-45a2-d05c-cfc7721169ed"
      },
      "execution_count": 44,
      "outputs": [
        {
          "output_type": "stream",
          "name": "stdout",
          "text": [
            "최대값 :  100\n",
            "최소값 :  50\n"
          ]
        }
      ]
    },
    {
      "cell_type": "code",
      "source": [
        "max, min = maxmin(123,21,4,5346,234,12,1,5,6453)\n",
        "print('최대값 : ', max)\n",
        "print('최소값 : ', min)"
      ],
      "metadata": {
        "colab": {
          "base_uri": "https://localhost:8080/"
        },
        "id": "fZpG6bsCFKJA",
        "outputId": "97563001-e6a3-479c-b543-ccf0064d0b2b"
      },
      "execution_count": 45,
      "outputs": [
        {
          "output_type": "stream",
          "name": "stdout",
          "text": [
            "최대값 :  6453\n",
            "최소값 :  1\n"
          ]
        }
      ]
    }
  ]
}