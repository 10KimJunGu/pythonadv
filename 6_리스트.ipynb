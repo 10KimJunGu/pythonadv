{
  "nbformat": 4,
  "nbformat_minor": 0,
  "metadata": {
    "colab": {
      "name": "6.리스트.ipynb",
      "provenance": [],
      "authorship_tag": "ABX9TyOSATQei/tf+DA2uKmANhF0",
      "include_colab_link": true
    },
    "kernelspec": {
      "name": "python3",
      "display_name": "Python 3"
    },
    "language_info": {
      "name": "python"
    }
  },
  "cells": [
    {
      "cell_type": "markdown",
      "metadata": {
        "id": "view-in-github",
        "colab_type": "text"
      },
      "source": [
        "<a href=\"https://colab.research.google.com/github/10KimJunGu/pythonadv/blob/main/6_%EB%A6%AC%EC%8A%A4%ED%8A%B8.ipynb\" target=\"_parent\"><img src=\"https://colab.research.google.com/assets/colab-badge.svg\" alt=\"Open In Colab\"/></a>"
      ]
    },
    {
      "cell_type": "code",
      "execution_count": 5,
      "metadata": {
        "colab": {
          "base_uri": "https://localhost:8080/"
        },
        "id": "LBTAXhgYouFz",
        "outputId": "ad72f17c-ed5a-472e-916d-2dc4bac6fe7e"
      },
      "outputs": [
        {
          "output_type": "stream",
          "name": "stdout",
          "text": [
            "[1, 3, 5, 7]\n",
            "[1, 3, 5]\n",
            "['김사과', '오렌지', ' 반하나', '이메론']\n",
            "[1, 1.5, '김사과', True]\n",
            "[1, 2, '파이썬', ['김사과', '오렌지']]\n"
          ]
        }
      ],
      "source": [
        "# 1. 리스트\n",
        "\n",
        "# 여러가지 데이터를 ,(콤마)로 구분하여 [ ] (대괄호)로 감싼 자료구조\n",
        "\n",
        "li1 = [1,3,5,7]\n",
        "print(li1)\n",
        "\n",
        "li2 = list([1,3,5])\n",
        "print(li2)\n",
        "\n",
        "li3 = ['김사과', '오렌지', ' 반하나', '이메론']\n",
        "print(li3)\n",
        "\n",
        "li4 = [1, 1.5, '김사과', True] # 타입이 다른 데이터를 포함, 개수도 미리 설정하지 않아도 됨\n",
        "print(li4)\n",
        "\n",
        "li5 = [1,2,'파이썬', ['김사과','오렌지']]\n",
        "print(li5)"
      ]
    },
    {
      "cell_type": "code",
      "source": [
        "# 2. 리스트 인덱싱\n",
        "\n",
        "li1 = [1,3,5,7]\n",
        "print(li1[0])\n",
        "print(li1[1])\n",
        "print(li1[-1])\n",
        "print(li1[0] + li1[2])\n",
        "\n",
        "\n",
        "li2 = ['김사과', ' 반하나', '오렌지', ['❤️', '😊','😂'] ]\n",
        "print(li2[0])\n",
        "print(li2[-1])\n",
        "print(li2[-1][1])"
      ],
      "metadata": {
        "colab": {
          "base_uri": "https://localhost:8080/"
        },
        "id": "zyhfb4YiqMNY",
        "outputId": "22e98bb9-112d-446d-a991-98f08cebd55f"
      },
      "execution_count": 10,
      "outputs": [
        {
          "output_type": "stream",
          "name": "stdout",
          "text": [
            "1\n",
            "3\n",
            "7\n",
            "6\n",
            "김사과\n",
            "['❤️', '😊', '😂']\n",
            "😊\n"
          ]
        }
      ]
    }
  ]
}