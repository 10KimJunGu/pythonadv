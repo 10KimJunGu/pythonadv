{
  "nbformat": 4,
  "nbformat_minor": 0,
  "metadata": {
    "colab": {
      "name": "6.리스트.ipynb",
      "provenance": [],
      "authorship_tag": "ABX9TyM8hRY0rLCWo9/feDvb5gdS",
      "include_colab_link": true
    },
    "kernelspec": {
      "name": "python3",
      "display_name": "Python 3"
    },
    "language_info": {
      "name": "python"
    }
  },
  "cells": [
    {
      "cell_type": "markdown",
      "metadata": {
        "id": "view-in-github",
        "colab_type": "text"
      },
      "source": [
        "<a href=\"https://colab.research.google.com/github/10KimJunGu/pythonadv/blob/main/6_%EB%A6%AC%EC%8A%A4%ED%8A%B8.ipynb\" target=\"_parent\"><img src=\"https://colab.research.google.com/assets/colab-badge.svg\" alt=\"Open In Colab\"/></a>"
      ]
    },
    {
      "cell_type": "code",
      "execution_count": null,
      "metadata": {
        "colab": {
          "base_uri": "https://localhost:8080/"
        },
        "id": "LBTAXhgYouFz",
        "outputId": "ad72f17c-ed5a-472e-916d-2dc4bac6fe7e"
      },
      "outputs": [
        {
          "output_type": "stream",
          "name": "stdout",
          "text": [
            "[1, 3, 5, 7]\n",
            "[1, 3, 5]\n",
            "['김사과', '오렌지', ' 반하나', '이메론']\n",
            "[1, 1.5, '김사과', True]\n",
            "[1, 2, '파이썬', ['김사과', '오렌지']]\n"
          ]
        }
      ],
      "source": [
        "# 1. 리스트\n",
        "\n",
        "# 여러가지 데이터를 ,(콤마)로 구분하여 [ ] (대괄호)로 감싼 자료구조\n",
        "\n",
        "li1 = [1,3,5,7]\n",
        "print(li1)\n",
        "\n",
        "li2 = list([1,3,5])\n",
        "print(li2)\n",
        "\n",
        "li3 = ['김사과', '오렌지', ' 반하나', '이메론']\n",
        "print(li3)\n",
        "\n",
        "li4 = [1, 1.5, '김사과', True] # 타입이 다른 데이터를 포함, 개수도 미리 설정하지 않아도 됨\n",
        "print(li4)\n",
        "\n",
        "li5 = [1,2,'파이썬', ['김사과','오렌지']]\n",
        "print(li5)"
      ]
    },
    {
      "cell_type": "code",
      "source": [
        "# 2. 리스트 인덱싱\n",
        "\n",
        "li1 = [1,3,5,7]\n",
        "print(li1[0])\n",
        "print(li1[1])\n",
        "print(li1[-1])\n",
        "print(li1[0] + li1[2])\n",
        "\n",
        "\n",
        "li2 = ['김사과', ' 반하나', '오렌지', ['❤️', '😊','😂'] ]\n",
        "print(li2[0])\n",
        "print(li2[-1])\n",
        "print(li2[-1][1])"
      ],
      "metadata": {
        "colab": {
          "base_uri": "https://localhost:8080/"
        },
        "id": "zyhfb4YiqMNY",
        "outputId": "22e98bb9-112d-446d-a991-98f08cebd55f"
      },
      "execution_count": null,
      "outputs": [
        {
          "output_type": "stream",
          "name": "stdout",
          "text": [
            "1\n",
            "3\n",
            "7\n",
            "6\n",
            "김사과\n",
            "['❤️', '😊', '😂']\n",
            "😊\n"
          ]
        }
      ]
    },
    {
      "cell_type": "code",
      "source": [
        "# 3. 리스트 슬라이싱\n",
        "\n",
        "li4 = [10,20,30,40,50]\n",
        "print(li4)\n",
        "print(li4[0:3])\n",
        "print(type(li4))\n",
        "\n",
        "li5 = li4\n",
        "print(li5)\n",
        "li5[0] = 100\n",
        "print(li5)\n",
        "print(li4)\n",
        "\n",
        "li6 = [10,20,30,['apple','banana','orange'], 40,['😁','👌']]\n",
        "print(li6[2:6])\n",
        "print(li6[5][:1])"
      ],
      "metadata": {
        "colab": {
          "base_uri": "https://localhost:8080/"
        },
        "id": "2OpiH4LbOQg6",
        "outputId": "0094e8a3-e671-42bc-c4c5-5c0ed55b82ff"
      },
      "execution_count": 7,
      "outputs": [
        {
          "output_type": "stream",
          "name": "stdout",
          "text": [
            "[10, 20, 30, 40, 50]\n",
            "[10, 20, 30]\n",
            "<class 'list'>\n",
            "[10, 20, 30, 40, 50]\n",
            "[100, 20, 30, 40, 50]\n",
            "[100, 20, 30, 40, 50]\n",
            "[30, ['apple', 'banana', 'orange'], 40, ['😁', '👌']]\n",
            "['😁']\n"
          ]
        }
      ]
    },
    {
      "cell_type": "code",
      "source": [
        "# 4. 리스트 연산자\n",
        "\n",
        "li7 = [10,20,30]\n",
        "li8 = [40,50,60]\n",
        "\n",
        "print(li7 + li8)  # [10, 20, 30, 40, 50, 60]\n",
        "print(li8 + li7)  # [40, 50, 60, 10, 20, 30]\n",
        "# print(li7 - li8)   # TypeError: unsupported operand type(s) for -: 'list' and 'list'\n",
        "print(li7 * 3)  # [10, 20, 30, 10, 20, 30, 10, 20, 30]\n",
        "print('❤️' * 10)  # ❤️❤️❤️❤️❤️❤️❤️❤️❤️❤️\n",
        "\n",
        "li9 = [10,20,30]\n",
        "li9[1] = '👍'\n",
        "print(li9)\n",
        "# print(li9[0] + \"50\")  # TypeError: unsupported operand type(s) for +: 'int' and 'str'\n",
        "print(li9[0] + li9[2])\n",
        "print(li9[1] + '❤️')"
      ],
      "metadata": {
        "colab": {
          "base_uri": "https://localhost:8080/"
        },
        "id": "JUPZpAUMPadh",
        "outputId": "c9057827-ec41-4a90-9d71-dd8789308e84"
      },
      "execution_count": 19,
      "outputs": [
        {
          "output_type": "stream",
          "name": "stdout",
          "text": [
            "[10, 20, 30, 40, 50, 60]\n",
            "[40, 50, 60, 10, 20, 30]\n",
            "[10, 20, 30, 10, 20, 30, 10, 20, 30]\n",
            "❤️❤️❤️❤️❤️❤️❤️❤️❤️❤️\n",
            "[10, '👍', 30]\n",
            "40\n",
            "👍❤️\n"
          ]
        }
      ]
    },
    {
      "cell_type": "code",
      "source": [
        "# 5. 리스트의 수정/삭제\n",
        "\n",
        "li10 = [10,20,30]\n",
        "li10[1] = 100\n",
        "print(li10)\n",
        "\n",
        "li10[1:2]= ['❤️','😁','😒'] # 슬라이싱을 이용하여 데이터를 변경한 경우 리스트에 데이터가 포함\n",
        "print(li10)\n",
        "\n",
        "li10 = [10,20,30]\n",
        "li10[1] = ['❤️','😁','😒'] # 인덱싱을 이용하여 데이터를 변경한 경우 리스트 안에 리스트가 포함\n",
        "print(li10)\n",
        "\n",
        "print(li10[0:3])\n",
        "li10[1:3] = [] # 삭제\n",
        "print(li10)\n",
        "\n",
        "del li10[0]\n",
        "print(li10)"
      ],
      "metadata": {
        "colab": {
          "base_uri": "https://localhost:8080/"
        },
        "id": "dtRkl3xWSVWt",
        "outputId": "9db216e2-f507-4c18-de86-e2b2f269879b"
      },
      "execution_count": 25,
      "outputs": [
        {
          "output_type": "stream",
          "name": "stdout",
          "text": [
            "[10, 100, 30]\n",
            "[10, '❤️', '😁', '😒', 30]\n",
            "[10, ['❤️', '😁', '😒'], 30]\n",
            "[10, ['❤️', '😁', '😒'], 30]\n",
            "[10]\n",
            "[]\n"
          ]
        }
      ]
    },
    {
      "cell_type": "code",
      "source": [
        "# 6. 리스트 함수\n",
        "\n",
        "li11 = [10,20,30]\n",
        "\n",
        "# append() : 리스트에 데이터를 추가\n",
        "li11.append(100)\n",
        "print(li11)\n",
        "\n",
        "li11.append([40,50])\n",
        "print(li11)\n",
        "\n",
        "# li11.append(60,70)\n",
        "# print(li11)  # TypeError: append() takes exactly one argument (2 given)"
      ],
      "metadata": {
        "colab": {
          "base_uri": "https://localhost:8080/"
        },
        "id": "KYII2NEGTRb6",
        "outputId": "0bbf0a1d-6107-41b8-fbed-24dec7c22ab7"
      },
      "execution_count": 29,
      "outputs": [
        {
          "output_type": "stream",
          "name": "stdout",
          "text": [
            "[10, 20, 30, 100]\n",
            "[10, 20, 30, 100, [40, 50]]\n"
          ]
        }
      ]
    },
    {
      "cell_type": "code",
      "source": [
        "li12 = [10,20,30,40,50]\n",
        "\n",
        "# pop() :  리스트에 마지막에 저장된 데이터를 반환하고 해당 데이터는 삭제\n",
        "print(li12)\n",
        "temp = li12.pop()\n",
        "print(li12)\n",
        "print(temp)"
      ],
      "metadata": {
        "colab": {
          "base_uri": "https://localhost:8080/"
        },
        "id": "TDqVXZ6ZTyyv",
        "outputId": "a32ac42e-0f0c-4256-c8b3-cb0b071079c1"
      },
      "execution_count": 33,
      "outputs": [
        {
          "output_type": "stream",
          "name": "stdout",
          "text": [
            "[10, 20, 30, 40, 50]\n",
            "[10, 20, 30, 40]\n",
            "50\n"
          ]
        }
      ]
    },
    {
      "cell_type": "code",
      "source": [
        "li13 = [10,20,30,10,20,80]\n",
        "\n",
        "# remove() : 매개변수로 전달된 데이터를 제거, 처음 출현하는 데이터를 제거\n",
        "li13.remove(20) \n",
        "print(li13) # [10, 30, 10, 20, 80]\n",
        "\n",
        "li13.remove(20) \n",
        "print(li13) # [10, 30, 10, 80]\n",
        "\n",
        "# li13.remove(20)\n",
        "# print(li13) # ValueError: list.remove(x): x not in list  # 없는 데이터를 삭제시도하면 에러"
      ],
      "metadata": {
        "colab": {
          "base_uri": "https://localhost:8080/"
        },
        "id": "T4A0yHO7T9iE",
        "outputId": "93e05b3e-fc9c-453a-9963-af99144ddc65"
      },
      "execution_count": 37,
      "outputs": [
        {
          "output_type": "stream",
          "name": "stdout",
          "text": [
            "[10, 30, 10, 20, 80]\n",
            "[10, 30, 10, 80]\n"
          ]
        }
      ]
    },
    {
      "cell_type": "code",
      "source": [
        "li14 = [10,20,30]\n",
        "\n",
        "#insert() : 리스트의 특정 위치에 데이터를 삽입\n",
        "li14.insert(1,100) # 1번자리에 데이터100을 삽입\n",
        "print(li14)"
      ],
      "metadata": {
        "colab": {
          "base_uri": "https://localhost:8080/"
        },
        "id": "Pn6FrQIhVCqW",
        "outputId": "1094e50d-4aca-4740-beba-9edb8f32fef8"
      },
      "execution_count": 38,
      "outputs": [
        {
          "output_type": "stream",
          "name": "stdout",
          "text": [
            "[10, 100, 20, 30]\n"
          ]
        }
      ]
    },
    {
      "cell_type": "code",
      "source": [
        "li15 = [10,20,30,40,50]\n",
        "\n",
        "# index() : 리스트에 저장된 데이터가 있을 경우 위치를 반환(없으면 에러)\n",
        "print(li14.index(30))"
      ],
      "metadata": {
        "colab": {
          "base_uri": "https://localhost:8080/"
        },
        "id": "LgZUmDdUVTfh",
        "outputId": "ab195767-6a9a-4ce9-89e6-23dcb5ad14be"
      },
      "execution_count": 39,
      "outputs": [
        {
          "output_type": "stream",
          "name": "stdout",
          "text": [
            "3\n"
          ]
        }
      ]
    },
    {
      "cell_type": "code",
      "source": [
        "li16 = ['😁','😂','😍','❤️']\n",
        "\n",
        "# reverse() : 리스트에 저장된 데이터를 반대의 순서로 변환\n",
        "li16.reverse()\n",
        "print(li16)"
      ],
      "metadata": {
        "colab": {
          "base_uri": "https://localhost:8080/"
        },
        "id": "oMonwhr9VehO",
        "outputId": "205f7e5d-bedc-43f0-8230-ed2a75d8b917"
      },
      "execution_count": 40,
      "outputs": [
        {
          "output_type": "stream",
          "name": "stdout",
          "text": [
            "['❤️', '😍', '😂', '😁']\n"
          ]
        }
      ]
    },
    {
      "cell_type": "code",
      "source": [
        "li17 = [10,40,30,100,90,50]\n",
        "\n",
        "# sort() : 리스트에 저장된 데이터를 정렬\n",
        "li17.sort() # 오름차순\n",
        "print(li17)\n",
        "\n",
        "li17.sort(reverse=True) # 내림차순\n",
        "print(li17)\n",
        "\n",
        "li18 = ['Apple','apple','orange','banana','melon']\n",
        "li18.sort() # 아스키코드 순\n",
        "print(li18)"
      ],
      "metadata": {
        "colab": {
          "base_uri": "https://localhost:8080/"
        },
        "id": "2INuW2QsVzES",
        "outputId": "a6a0d716-c91d-4c26-8b4f-2e13fcc3092d"
      },
      "execution_count": 44,
      "outputs": [
        {
          "output_type": "stream",
          "name": "stdout",
          "text": [
            "[10, 30, 40, 50, 90, 100]\n",
            "[100, 90, 50, 40, 30, 10]\n",
            "['Apple', 'apple', 'banana', 'melon', 'orange']\n"
          ]
        }
      ]
    },
    {
      "cell_type": "code",
      "source": [
        "li19 = [10,20,30,50,20,40,30,20]\n",
        "\n",
        "# count() : 리스트에 포함된 특정 데이터의 갯수를 반환\n",
        "print(li19.count(20))\n",
        "print(li19.count(15))"
      ],
      "metadata": {
        "colab": {
          "base_uri": "https://localhost:8080/"
        },
        "id": "hvmpzvbuV8vU",
        "outputId": "8748016f-4ae3-49ad-fe50-931778a77525"
      },
      "execution_count": 46,
      "outputs": [
        {
          "output_type": "stream",
          "name": "stdout",
          "text": [
            "3\n",
            "0\n"
          ]
        }
      ]
    },
    {
      "cell_type": "code",
      "source": [
        "li20 = [1,2,3]\n",
        "\n",
        "# extend() : 리스트를 더함\n",
        "li20.extend([40,50])\n",
        "print(li20)\n",
        "\n",
        "li21 = [1,2,3] \n",
        "li21 = li21 + [40,50] # li21 += [40,50] \n",
        "print(li21)"
      ],
      "metadata": {
        "colab": {
          "base_uri": "https://localhost:8080/"
        },
        "id": "LR_AgViQX-_Z",
        "outputId": "c1365d9a-87bc-44a7-a855-f764d9de8b36"
      },
      "execution_count": 48,
      "outputs": [
        {
          "output_type": "stream",
          "name": "stdout",
          "text": [
            "[1, 2, 3, 40, 50]\n",
            "[1, 2, 3, 40, 50]\n"
          ]
        }
      ]
    }
  ]
}