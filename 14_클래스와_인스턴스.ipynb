{
  "nbformat": 4,
  "nbformat_minor": 0,
  "metadata": {
    "colab": {
      "name": "14.클래스와 인스턴스.ipynb",
      "provenance": [],
      "collapsed_sections": [],
      "authorship_tag": "ABX9TyNynb6bD2ga1q1ISrXcELC8",
      "include_colab_link": true
    },
    "kernelspec": {
      "name": "python3",
      "display_name": "Python 3"
    },
    "language_info": {
      "name": "python"
    }
  },
  "cells": [
    {
      "cell_type": "markdown",
      "metadata": {
        "id": "view-in-github",
        "colab_type": "text"
      },
      "source": [
        "<a href=\"https://colab.research.google.com/github/10KimJunGu/pythonadv/blob/main/14_%ED%81%B4%EB%9E%98%EC%8A%A4%EC%99%80_%EC%9D%B8%EC%8A%A4%ED%84%B4%EC%8A%A4.ipynb\" target=\"_parent\"><img src=\"https://colab.research.google.com/assets/colab-badge.svg\" alt=\"Open In Colab\"/></a>"
      ]
    },
    {
      "cell_type": "code",
      "execution_count": 1,
      "metadata": {
        "id": "uBnHYCNd8wiG"
      },
      "outputs": [],
      "source": [
        "# 1. 객체지향 프로그래밍\n",
        "\n",
        "# 문제를 여러개의 객체 단위로 나눠 작업하는 방식\n",
        "# 클래스를 이용해 연관있는 처리부분과 데이터 부분을 하나로 묶어 객체를 생성해 사용함\n"
      ]
    },
    {
      "cell_type": "code",
      "source": [
        "# 1-1. 클래스와 객체\n",
        "\n",
        "# 객체는 클래스로 생성되어 구체화된 인스턴스\n",
        "# 실제로 클래스가 인스턴스화 되어 메모리에 상주하는 상태를 객체라고 부름\n",
        "# 건축 설계도가 클래스라면, 실제로 지어진 집은 객체로 비유\n",
        "# 파이썬의 모든 변수는 객체\n"
      ],
      "metadata": {
        "id": "HxfR3ZCMCoYv"
      },
      "execution_count": 2,
      "outputs": []
    },
    {
      "cell_type": "code",
      "source": [
        "# 1-2. 클래스 만들기\n",
        "\n",
        "# class 클래스명:\n",
        "#   def __init__(self):\n",
        "#     객체가 메모리에 올라갈 때 가장 먼저 실행될 문장\n",
        "#     ...\n",
        "#\n",
        "#   def 메소드명():\n",
        "#     메소드가 호출되면 실행될 문장\n",
        "#     ...\n",
        "\n"
      ],
      "metadata": {
        "id": "ymVZVkdPDFeM"
      },
      "execution_count": 3,
      "outputs": []
    },
    {
      "cell_type": "code",
      "source": [
        "# 기능이 없는 클래스\n",
        "\n",
        "class Dog:\n",
        "  pass     # 내용이 없는 블록을 만들 때 사용"
      ],
      "metadata": {
        "id": "mD9gagQ9Dtzf"
      },
      "execution_count": 4,
      "outputs": []
    },
    {
      "cell_type": "code",
      "source": [
        "# 클래스를 통해 객체를 생성\n",
        "\n",
        "Rucy = Dog()\n",
        "PPomi = Dog()\n",
        "print(type(Rucy), type(PPomi))\n",
        "print(Rucy, PPomi)"
      ],
      "metadata": {
        "colab": {
          "base_uri": "https://localhost:8080/"
        },
        "id": "nm0EeVGbD6oT",
        "outputId": "55a7d73f-a5c7-4c1e-c704-20339a6b8edf"
      },
      "execution_count": 5,
      "outputs": [
        {
          "output_type": "stream",
          "name": "stdout",
          "text": [
            "<class '__main__.Dog'> <class '__main__.Dog'>\n",
            "<__main__.Dog object at 0x7f45c9498b50> <__main__.Dog object at 0x7f45c9498b10>\n"
          ]
        }
      ]
    },
    {
      "cell_type": "code",
      "source": [
        "li1 = list([1,2])\n",
        "li2 = list([1,2])\n",
        "print(type(li1), type(li2))"
      ],
      "metadata": {
        "colab": {
          "base_uri": "https://localhost:8080/"
        },
        "id": "wt-Dk04XEgM0",
        "outputId": "2c46f5f7-a4c8-4cb1-ac8e-03f12cb55dc6"
      },
      "execution_count": 6,
      "outputs": [
        {
          "output_type": "stream",
          "name": "stdout",
          "text": [
            "<class 'list'> <class 'list'>\n"
          ]
        }
      ]
    },
    {
      "cell_type": "code",
      "source": [
        "a = 10\n",
        "print(type(a))"
      ],
      "metadata": {
        "colab": {
          "base_uri": "https://localhost:8080/"
        },
        "id": "AYrKOgbWFBjV",
        "outputId": "beb36553-96dd-4ffd-f0ab-ceb2645ffde5"
      },
      "execution_count": 7,
      "outputs": [
        {
          "output_type": "stream",
          "name": "stdout",
          "text": [
            "<class 'int'>\n"
          ]
        }
      ]
    },
    {
      "cell_type": "code",
      "source": [
        "# 1-3. 생성자\n",
        "\n",
        "# 클래스 인스턴스가 생성될 때 호출함\n",
        "\n",
        "# __init__(self, 변수1, 변수2, ... ):\n",
        "# self 매개변수는 항상 첫번째 오며, 자기 자신을 가리킴\n",
        "# 이름이 꼭  self일 필요는 없지만, 관례적으로 self를 사용\n",
        "# 생성자에서는 해당 클래스가 다루는 데이터를 정의\n"
      ],
      "metadata": {
        "id": "xSxaG07gFIlQ"
      },
      "execution_count": 8,
      "outputs": []
    },
    {
      "cell_type": "code",
      "source": [
        "class Dog:\n",
        "  def __init__(self):\n",
        "    print(self, '만들어짐')\n",
        "    self.name = '이름없음'\n",
        "    self.age = 0"
      ],
      "metadata": {
        "id": "tpCRKoa9F5YO"
      },
      "execution_count": 9,
      "outputs": []
    },
    {
      "cell_type": "code",
      "source": [
        "Rucy = Dog()\n",
        "print(Rucy.name)\n",
        "print(Rucy.age)\n",
        "\n",
        "\n",
        "PPomi = Dog()\n",
        "print(PPomi.name)\n",
        "print(PPomi.age)"
      ],
      "metadata": {
        "colab": {
          "base_uri": "https://localhost:8080/"
        },
        "id": "Vb_eh68wGC_T",
        "outputId": "b0501d6a-5e25-481e-e146-ace64fd4e4ba"
      },
      "execution_count": 10,
      "outputs": [
        {
          "output_type": "stream",
          "name": "stdout",
          "text": [
            "<__main__.Dog object at 0x7f45cced9b50> 만들어짐\n",
            "이름없음\n",
            "0\n",
            "<__main__.Dog object at 0x7f45cced9b10> 만들어짐\n",
            "이름없음\n",
            "0\n"
          ]
        }
      ]
    },
    {
      "cell_type": "code",
      "source": [
        "Rucy.name = '루시'\n",
        "Rucy.age = 12\n",
        "\n",
        "print(Rucy.name)\n",
        "print(Rucy.age)\n",
        "\n",
        "print(PPomi.name)\n",
        "print(PPomi.age)"
      ],
      "metadata": {
        "colab": {
          "base_uri": "https://localhost:8080/"
        },
        "id": "tQDFFjJjGxZg",
        "outputId": "af833767-03f6-46b7-bc34-2f61fee7d13d"
      },
      "execution_count": 11,
      "outputs": [
        {
          "output_type": "stream",
          "name": "stdout",
          "text": [
            "루시\n",
            "12\n",
            "이름없음\n",
            "0\n"
          ]
        }
      ]
    },
    {
      "cell_type": "code",
      "source": [
        "class Dog:\n",
        "  def __init__(self, name, age, family = '포메'):\n",
        "    self.name = name   # 변수들\n",
        "    self.age = age\n",
        "    self.family = family\n"
      ],
      "metadata": {
        "id": "e532zsgpHG4m"
      },
      "execution_count": 14,
      "outputs": []
    },
    {
      "cell_type": "code",
      "source": [
        "Rucy = Dog('루시', 12)\n",
        "print(Rucy.name, Rucy.age, Rucy.family)"
      ],
      "metadata": {
        "colab": {
          "base_uri": "https://localhost:8080/"
        },
        "id": "f7Wgcu49Hn0Z",
        "outputId": "7b0fe798-dede-4e04-aee0-3cfe038e191c"
      },
      "execution_count": 15,
      "outputs": [
        {
          "output_type": "stream",
          "name": "stdout",
          "text": [
            "루시 12 포메\n"
          ]
        }
      ]
    },
    {
      "cell_type": "code",
      "source": [
        "PPomi = Dog('뽀미', 6, '폼피츠')\n",
        "print(PPomi.name, PPomi.age, PPomi.family)"
      ],
      "metadata": {
        "colab": {
          "base_uri": "https://localhost:8080/"
        },
        "id": "NgLIp_E4JBro",
        "outputId": "f3baae9f-cc83-4ae3-9d19-5f63c4149f58"
      },
      "execution_count": 16,
      "outputs": [
        {
          "output_type": "stream",
          "name": "stdout",
          "text": [
            "뽀미 6 폼피츠\n"
          ]
        }
      ]
    },
    {
      "cell_type": "code",
      "source": [
        "# 1-4. 메소드 정의하기\n",
        "\n",
        "# 멤버함수라고도 하며, 해당 클래스의 객체에서만 호출 가능한 함수\n",
        "# 메소드는 객체에서만 호출되며, 해당 객체의 속성에 대한 연산을 행함\n",
        "# 객체이름.메소드명() 형태로 호출됨\n"
      ],
      "metadata": {
        "id": "Dc7twdLPJZ-X"
      },
      "execution_count": null,
      "outputs": []
    },
    {
      "cell_type": "code",
      "source": [
        "class Counter:\n",
        "  def __init__(self):\n",
        "    self.num = 0\n",
        "  def increment(self):\n",
        "    self.num += 1\n",
        "  def current_value(self):\n",
        "    return '대기인원 : ' +str(self.num)\n",
        "  def reset(self):\n",
        "    self.num = 0"
      ],
      "metadata": {
        "id": "7zWmxMtHJ9pC"
      },
      "execution_count": 17,
      "outputs": []
    },
    {
      "cell_type": "code",
      "source": [
        "KBbank = Counter()\n",
        "print(KBbank.num)\n",
        "\n",
        "KBbank.increment()\n",
        "KBbank.increment()\n",
        "KBbank.increment()\n",
        "print(KBbank.num)\n",
        "\n",
        "KBbank.current_value()"
      ],
      "metadata": {
        "colab": {
          "base_uri": "https://localhost:8080/",
          "height": 72
        },
        "id": "MNxM_B1HKWyP",
        "outputId": "5885d9a8-3426-40fd-ba88-94591e413ddf"
      },
      "execution_count": 20,
      "outputs": [
        {
          "output_type": "stream",
          "name": "stdout",
          "text": [
            "0\n",
            "3\n"
          ]
        },
        {
          "output_type": "execute_result",
          "data": {
            "text/plain": [
              "'대기인원 : 3'"
            ],
            "application/vnd.google.colaboratory.intrinsic+json": {
              "type": "string"
            }
          },
          "metadata": {},
          "execution_count": 20
        }
      ]
    },
    {
      "cell_type": "code",
      "source": [
        "HanaBank = Counter()\n",
        "print(HanaBank.num)\n",
        "\n",
        "HanaBank.increment()\n",
        "HanaBank.increment()\n",
        "HanaBank.increment()\n",
        "HanaBank.increment()\n",
        "HanaBank.increment()\n",
        "print(HanaBank.num)\n",
        "HanaBank.current_value()\n",
        "HanaBank.reset()\n",
        "print(HanaBank.num)"
      ],
      "metadata": {
        "colab": {
          "base_uri": "https://localhost:8080/"
        },
        "id": "IgNKbnLtLWmK",
        "outputId": "c618e01b-2981-4769-8d81-92307c20783f"
      },
      "execution_count": 23,
      "outputs": [
        {
          "output_type": "stream",
          "name": "stdout",
          "text": [
            "0\n",
            "5\n",
            "0\n"
          ]
        }
      ]
    },
    {
      "cell_type": "code",
      "source": [
        "# 1-5. 메소드 타입\n",
        "\n",
        "# instance method : 객체형태로 호출되기 때문에 해당 메소드를 호출한 객체에만 영향을 미침\n",
        "# class method : class로 호출(함수선언 위에 @staticmethod 라고 표기)"
      ],
      "metadata": {
        "id": "bm6UtU1jL2ad"
      },
      "execution_count": null,
      "outputs": []
    },
    {
      "cell_type": "code",
      "source": [
        "class Math:\n",
        "  def add(self, x,y):\n",
        "    return x + y\n",
        "  def multiply(self, x, y):\n",
        "    return x * y\n",
        "    "
      ],
      "metadata": {
        "id": "Ub6VcjXyMpOB"
      },
      "execution_count": 25,
      "outputs": []
    },
    {
      "cell_type": "code",
      "source": [
        "math = Math()\n",
        "result1 = math.add(10, 5)\n",
        "result2 = math.multiply(10,5)\n",
        "print(result1, result2)"
      ],
      "metadata": {
        "colab": {
          "base_uri": "https://localhost:8080/"
        },
        "id": "tgZEbadAMqMo",
        "outputId": "0fc28213-94f0-4db3-992d-680d3bffbb66"
      },
      "execution_count": 26,
      "outputs": [
        {
          "output_type": "stream",
          "name": "stdout",
          "text": [
            "15 50\n"
          ]
        }
      ]
    },
    {
      "cell_type": "code",
      "source": [
        "class Math:\n",
        "  @staticmethod\n",
        "  def add(x,y):\n",
        "    return x + y\n",
        "  @staticmethod\n",
        "  def multiply(x, y):\n",
        "    return x * y"
      ],
      "metadata": {
        "id": "7q2meazrNGez"
      },
      "execution_count": 32,
      "outputs": []
    },
    {
      "cell_type": "code",
      "source": [
        "result1 = Math.add(10, 5)\n",
        "result2 = Math.multiply(10, 5)\n",
        "print(result1, result2)"
      ],
      "metadata": {
        "colab": {
          "base_uri": "https://localhost:8080/"
        },
        "id": "_nIK7if9NOYD",
        "outputId": "b5c318d2-6bbd-4665-f556-c5212ea7119a"
      },
      "execution_count": 33,
      "outputs": [
        {
          "output_type": "stream",
          "name": "stdout",
          "text": [
            "15 50\n"
          ]
        }
      ]
    }
  ]
}