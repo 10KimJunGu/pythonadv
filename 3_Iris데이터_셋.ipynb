{
  "nbformat": 4,
  "nbformat_minor": 0,
  "metadata": {
    "colab": {
      "name": "3.Iris데이터 셋.ipynb",
      "provenance": [],
      "collapsed_sections": [],
      "authorship_tag": "ABX9TyPGJh23K3TV7ZlNUbrXmyok",
      "include_colab_link": true
    },
    "kernelspec": {
      "name": "python3",
      "display_name": "Python 3"
    },
    "language_info": {
      "name": "python"
    }
  },
  "cells": [
    {
      "cell_type": "markdown",
      "metadata": {
        "id": "view-in-github",
        "colab_type": "text"
      },
      "source": [
        "<a href=\"https://colab.research.google.com/github/10KimJunGu/pythonadv/blob/main/3_Iris%EB%8D%B0%EC%9D%B4%ED%84%B0_%EC%85%8B.ipynb\" target=\"_parent\"><img src=\"https://colab.research.google.com/assets/colab-badge.svg\" alt=\"Open In Colab\"/></a>"
      ]
    },
    {
      "cell_type": "markdown",
      "source": [
        "# 1. Iris 데이터 셋"
      ],
      "metadata": {
        "id": "n5LtGfsG25Z8"
      }
    },
    {
      "cell_type": "code",
      "source": [
        "from sklearn.datasets import load_iris\n",
        "import pandas as pd"
      ],
      "metadata": {
        "id": "lj0fDVm33_Vi"
      },
      "execution_count": 1,
      "outputs": []
    },
    {
      "cell_type": "code",
      "source": [
        "iris = load_iris()"
      ],
      "metadata": {
        "id": "acB1kZXg4Ebl"
      },
      "execution_count": 2,
      "outputs": []
    },
    {
      "cell_type": "code",
      "source": [
        "iris"
      ],
      "metadata": {
        "colab": {
          "base_uri": "https://localhost:8080/"
        },
        "id": "mzmRMmcw4L-L",
        "outputId": "87d03eef-c9a2-478f-ea80-2082c5ce30c0"
      },
      "execution_count": 3,
      "outputs": [
        {
          "output_type": "execute_result",
          "data": {
            "text/plain": [
              "{'DESCR': '.. _iris_dataset:\\n\\nIris plants dataset\\n--------------------\\n\\n**Data Set Characteristics:**\\n\\n    :Number of Instances: 150 (50 in each of three classes)\\n    :Number of Attributes: 4 numeric, predictive attributes and the class\\n    :Attribute Information:\\n        - sepal length in cm\\n        - sepal width in cm\\n        - petal length in cm\\n        - petal width in cm\\n        - class:\\n                - Iris-Setosa\\n                - Iris-Versicolour\\n                - Iris-Virginica\\n                \\n    :Summary Statistics:\\n\\n    ============== ==== ==== ======= ===== ====================\\n                    Min  Max   Mean    SD   Class Correlation\\n    ============== ==== ==== ======= ===== ====================\\n    sepal length:   4.3  7.9   5.84   0.83    0.7826\\n    sepal width:    2.0  4.4   3.05   0.43   -0.4194\\n    petal length:   1.0  6.9   3.76   1.76    0.9490  (high!)\\n    petal width:    0.1  2.5   1.20   0.76    0.9565  (high!)\\n    ============== ==== ==== ======= ===== ====================\\n\\n    :Missing Attribute Values: None\\n    :Class Distribution: 33.3% for each of 3 classes.\\n    :Creator: R.A. Fisher\\n    :Donor: Michael Marshall (MARSHALL%PLU@io.arc.nasa.gov)\\n    :Date: July, 1988\\n\\nThe famous Iris database, first used by Sir R.A. Fisher. The dataset is taken\\nfrom Fisher\\'s paper. Note that it\\'s the same as in R, but not as in the UCI\\nMachine Learning Repository, which has two wrong data points.\\n\\nThis is perhaps the best known database to be found in the\\npattern recognition literature.  Fisher\\'s paper is a classic in the field and\\nis referenced frequently to this day.  (See Duda & Hart, for example.)  The\\ndata set contains 3 classes of 50 instances each, where each class refers to a\\ntype of iris plant.  One class is linearly separable from the other 2; the\\nlatter are NOT linearly separable from each other.\\n\\n.. topic:: References\\n\\n   - Fisher, R.A. \"The use of multiple measurements in taxonomic problems\"\\n     Annual Eugenics, 7, Part II, 179-188 (1936); also in \"Contributions to\\n     Mathematical Statistics\" (John Wiley, NY, 1950).\\n   - Duda, R.O., & Hart, P.E. (1973) Pattern Classification and Scene Analysis.\\n     (Q327.D83) John Wiley & Sons.  ISBN 0-471-22361-1.  See page 218.\\n   - Dasarathy, B.V. (1980) \"Nosing Around the Neighborhood: A New System\\n     Structure and Classification Rule for Recognition in Partially Exposed\\n     Environments\".  IEEE Transactions on Pattern Analysis and Machine\\n     Intelligence, Vol. PAMI-2, No. 1, 67-71.\\n   - Gates, G.W. (1972) \"The Reduced Nearest Neighbor Rule\".  IEEE Transactions\\n     on Information Theory, May 1972, 431-433.\\n   - See also: 1988 MLC Proceedings, 54-64.  Cheeseman et al\"s AUTOCLASS II\\n     conceptual clustering system finds 3 classes in the data.\\n   - Many, many more ...',\n",
              " 'data': array([[5.1, 3.5, 1.4, 0.2],\n",
              "        [4.9, 3. , 1.4, 0.2],\n",
              "        [4.7, 3.2, 1.3, 0.2],\n",
              "        [4.6, 3.1, 1.5, 0.2],\n",
              "        [5. , 3.6, 1.4, 0.2],\n",
              "        [5.4, 3.9, 1.7, 0.4],\n",
              "        [4.6, 3.4, 1.4, 0.3],\n",
              "        [5. , 3.4, 1.5, 0.2],\n",
              "        [4.4, 2.9, 1.4, 0.2],\n",
              "        [4.9, 3.1, 1.5, 0.1],\n",
              "        [5.4, 3.7, 1.5, 0.2],\n",
              "        [4.8, 3.4, 1.6, 0.2],\n",
              "        [4.8, 3. , 1.4, 0.1],\n",
              "        [4.3, 3. , 1.1, 0.1],\n",
              "        [5.8, 4. , 1.2, 0.2],\n",
              "        [5.7, 4.4, 1.5, 0.4],\n",
              "        [5.4, 3.9, 1.3, 0.4],\n",
              "        [5.1, 3.5, 1.4, 0.3],\n",
              "        [5.7, 3.8, 1.7, 0.3],\n",
              "        [5.1, 3.8, 1.5, 0.3],\n",
              "        [5.4, 3.4, 1.7, 0.2],\n",
              "        [5.1, 3.7, 1.5, 0.4],\n",
              "        [4.6, 3.6, 1. , 0.2],\n",
              "        [5.1, 3.3, 1.7, 0.5],\n",
              "        [4.8, 3.4, 1.9, 0.2],\n",
              "        [5. , 3. , 1.6, 0.2],\n",
              "        [5. , 3.4, 1.6, 0.4],\n",
              "        [5.2, 3.5, 1.5, 0.2],\n",
              "        [5.2, 3.4, 1.4, 0.2],\n",
              "        [4.7, 3.2, 1.6, 0.2],\n",
              "        [4.8, 3.1, 1.6, 0.2],\n",
              "        [5.4, 3.4, 1.5, 0.4],\n",
              "        [5.2, 4.1, 1.5, 0.1],\n",
              "        [5.5, 4.2, 1.4, 0.2],\n",
              "        [4.9, 3.1, 1.5, 0.2],\n",
              "        [5. , 3.2, 1.2, 0.2],\n",
              "        [5.5, 3.5, 1.3, 0.2],\n",
              "        [4.9, 3.6, 1.4, 0.1],\n",
              "        [4.4, 3. , 1.3, 0.2],\n",
              "        [5.1, 3.4, 1.5, 0.2],\n",
              "        [5. , 3.5, 1.3, 0.3],\n",
              "        [4.5, 2.3, 1.3, 0.3],\n",
              "        [4.4, 3.2, 1.3, 0.2],\n",
              "        [5. , 3.5, 1.6, 0.6],\n",
              "        [5.1, 3.8, 1.9, 0.4],\n",
              "        [4.8, 3. , 1.4, 0.3],\n",
              "        [5.1, 3.8, 1.6, 0.2],\n",
              "        [4.6, 3.2, 1.4, 0.2],\n",
              "        [5.3, 3.7, 1.5, 0.2],\n",
              "        [5. , 3.3, 1.4, 0.2],\n",
              "        [7. , 3.2, 4.7, 1.4],\n",
              "        [6.4, 3.2, 4.5, 1.5],\n",
              "        [6.9, 3.1, 4.9, 1.5],\n",
              "        [5.5, 2.3, 4. , 1.3],\n",
              "        [6.5, 2.8, 4.6, 1.5],\n",
              "        [5.7, 2.8, 4.5, 1.3],\n",
              "        [6.3, 3.3, 4.7, 1.6],\n",
              "        [4.9, 2.4, 3.3, 1. ],\n",
              "        [6.6, 2.9, 4.6, 1.3],\n",
              "        [5.2, 2.7, 3.9, 1.4],\n",
              "        [5. , 2. , 3.5, 1. ],\n",
              "        [5.9, 3. , 4.2, 1.5],\n",
              "        [6. , 2.2, 4. , 1. ],\n",
              "        [6.1, 2.9, 4.7, 1.4],\n",
              "        [5.6, 2.9, 3.6, 1.3],\n",
              "        [6.7, 3.1, 4.4, 1.4],\n",
              "        [5.6, 3. , 4.5, 1.5],\n",
              "        [5.8, 2.7, 4.1, 1. ],\n",
              "        [6.2, 2.2, 4.5, 1.5],\n",
              "        [5.6, 2.5, 3.9, 1.1],\n",
              "        [5.9, 3.2, 4.8, 1.8],\n",
              "        [6.1, 2.8, 4. , 1.3],\n",
              "        [6.3, 2.5, 4.9, 1.5],\n",
              "        [6.1, 2.8, 4.7, 1.2],\n",
              "        [6.4, 2.9, 4.3, 1.3],\n",
              "        [6.6, 3. , 4.4, 1.4],\n",
              "        [6.8, 2.8, 4.8, 1.4],\n",
              "        [6.7, 3. , 5. , 1.7],\n",
              "        [6. , 2.9, 4.5, 1.5],\n",
              "        [5.7, 2.6, 3.5, 1. ],\n",
              "        [5.5, 2.4, 3.8, 1.1],\n",
              "        [5.5, 2.4, 3.7, 1. ],\n",
              "        [5.8, 2.7, 3.9, 1.2],\n",
              "        [6. , 2.7, 5.1, 1.6],\n",
              "        [5.4, 3. , 4.5, 1.5],\n",
              "        [6. , 3.4, 4.5, 1.6],\n",
              "        [6.7, 3.1, 4.7, 1.5],\n",
              "        [6.3, 2.3, 4.4, 1.3],\n",
              "        [5.6, 3. , 4.1, 1.3],\n",
              "        [5.5, 2.5, 4. , 1.3],\n",
              "        [5.5, 2.6, 4.4, 1.2],\n",
              "        [6.1, 3. , 4.6, 1.4],\n",
              "        [5.8, 2.6, 4. , 1.2],\n",
              "        [5. , 2.3, 3.3, 1. ],\n",
              "        [5.6, 2.7, 4.2, 1.3],\n",
              "        [5.7, 3. , 4.2, 1.2],\n",
              "        [5.7, 2.9, 4.2, 1.3],\n",
              "        [6.2, 2.9, 4.3, 1.3],\n",
              "        [5.1, 2.5, 3. , 1.1],\n",
              "        [5.7, 2.8, 4.1, 1.3],\n",
              "        [6.3, 3.3, 6. , 2.5],\n",
              "        [5.8, 2.7, 5.1, 1.9],\n",
              "        [7.1, 3. , 5.9, 2.1],\n",
              "        [6.3, 2.9, 5.6, 1.8],\n",
              "        [6.5, 3. , 5.8, 2.2],\n",
              "        [7.6, 3. , 6.6, 2.1],\n",
              "        [4.9, 2.5, 4.5, 1.7],\n",
              "        [7.3, 2.9, 6.3, 1.8],\n",
              "        [6.7, 2.5, 5.8, 1.8],\n",
              "        [7.2, 3.6, 6.1, 2.5],\n",
              "        [6.5, 3.2, 5.1, 2. ],\n",
              "        [6.4, 2.7, 5.3, 1.9],\n",
              "        [6.8, 3. , 5.5, 2.1],\n",
              "        [5.7, 2.5, 5. , 2. ],\n",
              "        [5.8, 2.8, 5.1, 2.4],\n",
              "        [6.4, 3.2, 5.3, 2.3],\n",
              "        [6.5, 3. , 5.5, 1.8],\n",
              "        [7.7, 3.8, 6.7, 2.2],\n",
              "        [7.7, 2.6, 6.9, 2.3],\n",
              "        [6. , 2.2, 5. , 1.5],\n",
              "        [6.9, 3.2, 5.7, 2.3],\n",
              "        [5.6, 2.8, 4.9, 2. ],\n",
              "        [7.7, 2.8, 6.7, 2. ],\n",
              "        [6.3, 2.7, 4.9, 1.8],\n",
              "        [6.7, 3.3, 5.7, 2.1],\n",
              "        [7.2, 3.2, 6. , 1.8],\n",
              "        [6.2, 2.8, 4.8, 1.8],\n",
              "        [6.1, 3. , 4.9, 1.8],\n",
              "        [6.4, 2.8, 5.6, 2.1],\n",
              "        [7.2, 3. , 5.8, 1.6],\n",
              "        [7.4, 2.8, 6.1, 1.9],\n",
              "        [7.9, 3.8, 6.4, 2. ],\n",
              "        [6.4, 2.8, 5.6, 2.2],\n",
              "        [6.3, 2.8, 5.1, 1.5],\n",
              "        [6.1, 2.6, 5.6, 1.4],\n",
              "        [7.7, 3. , 6.1, 2.3],\n",
              "        [6.3, 3.4, 5.6, 2.4],\n",
              "        [6.4, 3.1, 5.5, 1.8],\n",
              "        [6. , 3. , 4.8, 1.8],\n",
              "        [6.9, 3.1, 5.4, 2.1],\n",
              "        [6.7, 3.1, 5.6, 2.4],\n",
              "        [6.9, 3.1, 5.1, 2.3],\n",
              "        [5.8, 2.7, 5.1, 1.9],\n",
              "        [6.8, 3.2, 5.9, 2.3],\n",
              "        [6.7, 3.3, 5.7, 2.5],\n",
              "        [6.7, 3. , 5.2, 2.3],\n",
              "        [6.3, 2.5, 5. , 1.9],\n",
              "        [6.5, 3. , 5.2, 2. ],\n",
              "        [6.2, 3.4, 5.4, 2.3],\n",
              "        [5.9, 3. , 5.1, 1.8]]),\n",
              " 'data_module': 'sklearn.datasets.data',\n",
              " 'feature_names': ['sepal length (cm)',\n",
              "  'sepal width (cm)',\n",
              "  'petal length (cm)',\n",
              "  'petal width (cm)'],\n",
              " 'filename': 'iris.csv',\n",
              " 'frame': None,\n",
              " 'target': array([0, 0, 0, 0, 0, 0, 0, 0, 0, 0, 0, 0, 0, 0, 0, 0, 0, 0, 0, 0, 0, 0,\n",
              "        0, 0, 0, 0, 0, 0, 0, 0, 0, 0, 0, 0, 0, 0, 0, 0, 0, 0, 0, 0, 0, 0,\n",
              "        0, 0, 0, 0, 0, 0, 1, 1, 1, 1, 1, 1, 1, 1, 1, 1, 1, 1, 1, 1, 1, 1,\n",
              "        1, 1, 1, 1, 1, 1, 1, 1, 1, 1, 1, 1, 1, 1, 1, 1, 1, 1, 1, 1, 1, 1,\n",
              "        1, 1, 1, 1, 1, 1, 1, 1, 1, 1, 1, 1, 2, 2, 2, 2, 2, 2, 2, 2, 2, 2,\n",
              "        2, 2, 2, 2, 2, 2, 2, 2, 2, 2, 2, 2, 2, 2, 2, 2, 2, 2, 2, 2, 2, 2,\n",
              "        2, 2, 2, 2, 2, 2, 2, 2, 2, 2, 2, 2, 2, 2, 2, 2, 2, 2]),\n",
              " 'target_names': array(['setosa', 'versicolor', 'virginica'], dtype='<U10')}"
            ]
          },
          "metadata": {},
          "execution_count": 3
        }
      ]
    },
    {
      "cell_type": "code",
      "source": [
        "print(iris['DESCR'])  # 설명을 따로 불러와서 찍어보기"
      ],
      "metadata": {
        "colab": {
          "base_uri": "https://localhost:8080/"
        },
        "id": "QRcb1ox04M-0",
        "outputId": "75d91b4e-a580-4efc-a62f-8ccab3e89a30"
      },
      "execution_count": 4,
      "outputs": [
        {
          "output_type": "stream",
          "name": "stdout",
          "text": [
            ".. _iris_dataset:\n",
            "\n",
            "Iris plants dataset\n",
            "--------------------\n",
            "\n",
            "**Data Set Characteristics:**\n",
            "\n",
            "    :Number of Instances: 150 (50 in each of three classes)\n",
            "    :Number of Attributes: 4 numeric, predictive attributes and the class\n",
            "    :Attribute Information:\n",
            "        - sepal length in cm\n",
            "        - sepal width in cm\n",
            "        - petal length in cm\n",
            "        - petal width in cm\n",
            "        - class:\n",
            "                - Iris-Setosa\n",
            "                - Iris-Versicolour\n",
            "                - Iris-Virginica\n",
            "                \n",
            "    :Summary Statistics:\n",
            "\n",
            "    ============== ==== ==== ======= ===== ====================\n",
            "                    Min  Max   Mean    SD   Class Correlation\n",
            "    ============== ==== ==== ======= ===== ====================\n",
            "    sepal length:   4.3  7.9   5.84   0.83    0.7826\n",
            "    sepal width:    2.0  4.4   3.05   0.43   -0.4194\n",
            "    petal length:   1.0  6.9   3.76   1.76    0.9490  (high!)\n",
            "    petal width:    0.1  2.5   1.20   0.76    0.9565  (high!)\n",
            "    ============== ==== ==== ======= ===== ====================\n",
            "\n",
            "    :Missing Attribute Values: None\n",
            "    :Class Distribution: 33.3% for each of 3 classes.\n",
            "    :Creator: R.A. Fisher\n",
            "    :Donor: Michael Marshall (MARSHALL%PLU@io.arc.nasa.gov)\n",
            "    :Date: July, 1988\n",
            "\n",
            "The famous Iris database, first used by Sir R.A. Fisher. The dataset is taken\n",
            "from Fisher's paper. Note that it's the same as in R, but not as in the UCI\n",
            "Machine Learning Repository, which has two wrong data points.\n",
            "\n",
            "This is perhaps the best known database to be found in the\n",
            "pattern recognition literature.  Fisher's paper is a classic in the field and\n",
            "is referenced frequently to this day.  (See Duda & Hart, for example.)  The\n",
            "data set contains 3 classes of 50 instances each, where each class refers to a\n",
            "type of iris plant.  One class is linearly separable from the other 2; the\n",
            "latter are NOT linearly separable from each other.\n",
            "\n",
            ".. topic:: References\n",
            "\n",
            "   - Fisher, R.A. \"The use of multiple measurements in taxonomic problems\"\n",
            "     Annual Eugenics, 7, Part II, 179-188 (1936); also in \"Contributions to\n",
            "     Mathematical Statistics\" (John Wiley, NY, 1950).\n",
            "   - Duda, R.O., & Hart, P.E. (1973) Pattern Classification and Scene Analysis.\n",
            "     (Q327.D83) John Wiley & Sons.  ISBN 0-471-22361-1.  See page 218.\n",
            "   - Dasarathy, B.V. (1980) \"Nosing Around the Neighborhood: A New System\n",
            "     Structure and Classification Rule for Recognition in Partially Exposed\n",
            "     Environments\".  IEEE Transactions on Pattern Analysis and Machine\n",
            "     Intelligence, Vol. PAMI-2, No. 1, 67-71.\n",
            "   - Gates, G.W. (1972) \"The Reduced Nearest Neighbor Rule\".  IEEE Transactions\n",
            "     on Information Theory, May 1972, 431-433.\n",
            "   - See also: 1988 MLC Proceedings, 54-64.  Cheeseman et al\"s AUTOCLASS II\n",
            "     conceptual clustering system finds 3 classes in the data.\n",
            "   - Many, many more ...\n"
          ]
        }
      ]
    },
    {
      "cell_type": "code",
      "source": [
        "# sepal length in cm : 꽃받침의 길이\n",
        "# sepal width in cm : 꽃받침의 너비\n",
        "# petal length in cm : 꽃잎의 길이\n",
        "# petal width in cm : 꽃잎의 너비\n",
        "data = iris['data']\n",
        "data[:5]"
      ],
      "metadata": {
        "colab": {
          "base_uri": "https://localhost:8080/"
        },
        "id": "T_Q0xdPX4dlJ",
        "outputId": "40e56c29-5006-44a3-e14e-53c991be4d82"
      },
      "execution_count": 5,
      "outputs": [
        {
          "output_type": "execute_result",
          "data": {
            "text/plain": [
              "array([[5.1, 3.5, 1.4, 0.2],\n",
              "       [4.9, 3. , 1.4, 0.2],\n",
              "       [4.7, 3.2, 1.3, 0.2],\n",
              "       [4.6, 3.1, 1.5, 0.2],\n",
              "       [5. , 3.6, 1.4, 0.2]])"
            ]
          },
          "metadata": {},
          "execution_count": 5
        }
      ]
    },
    {
      "cell_type": "code",
      "source": [
        "feature_names = iris['feature_names']\n",
        "feature_names  # 필드네임을 가져오기"
      ],
      "metadata": {
        "colab": {
          "base_uri": "https://localhost:8080/"
        },
        "id": "npyGWdHu5WU0",
        "outputId": "6f6528e0-b902-4679-8cb6-98e31acca2ad"
      },
      "execution_count": 6,
      "outputs": [
        {
          "output_type": "execute_result",
          "data": {
            "text/plain": [
              "['sepal length (cm)',\n",
              " 'sepal width (cm)',\n",
              " 'petal length (cm)',\n",
              " 'petal width (cm)']"
            ]
          },
          "metadata": {},
          "execution_count": 6
        }
      ]
    },
    {
      "cell_type": "code",
      "source": [
        "df_iris = pd.DataFrame(data, columns=feature_names)"
      ],
      "metadata": {
        "id": "jWcFQ54U5m0a"
      },
      "execution_count": 7,
      "outputs": []
    },
    {
      "cell_type": "code",
      "source": [
        "df_iris.head()"
      ],
      "metadata": {
        "colab": {
          "base_uri": "https://localhost:8080/",
          "height": 206
        },
        "id": "8CRKJG9v58DV",
        "outputId": "f6ff833f-dd13-4ff6-df37-6aa479cbecc9"
      },
      "execution_count": 8,
      "outputs": [
        {
          "output_type": "execute_result",
          "data": {
            "text/plain": [
              "   sepal length (cm)  sepal width (cm)  petal length (cm)  petal width (cm)\n",
              "0                5.1               3.5                1.4               0.2\n",
              "1                4.9               3.0                1.4               0.2\n",
              "2                4.7               3.2                1.3               0.2\n",
              "3                4.6               3.1                1.5               0.2\n",
              "4                5.0               3.6                1.4               0.2"
            ],
            "text/html": [
              "\n",
              "  <div id=\"df-c19b66fa-c8de-4e90-81cc-ac4c52ed75b9\">\n",
              "    <div class=\"colab-df-container\">\n",
              "      <div>\n",
              "<style scoped>\n",
              "    .dataframe tbody tr th:only-of-type {\n",
              "        vertical-align: middle;\n",
              "    }\n",
              "\n",
              "    .dataframe tbody tr th {\n",
              "        vertical-align: top;\n",
              "    }\n",
              "\n",
              "    .dataframe thead th {\n",
              "        text-align: right;\n",
              "    }\n",
              "</style>\n",
              "<table border=\"1\" class=\"dataframe\">\n",
              "  <thead>\n",
              "    <tr style=\"text-align: right;\">\n",
              "      <th></th>\n",
              "      <th>sepal length (cm)</th>\n",
              "      <th>sepal width (cm)</th>\n",
              "      <th>petal length (cm)</th>\n",
              "      <th>petal width (cm)</th>\n",
              "    </tr>\n",
              "  </thead>\n",
              "  <tbody>\n",
              "    <tr>\n",
              "      <th>0</th>\n",
              "      <td>5.1</td>\n",
              "      <td>3.5</td>\n",
              "      <td>1.4</td>\n",
              "      <td>0.2</td>\n",
              "    </tr>\n",
              "    <tr>\n",
              "      <th>1</th>\n",
              "      <td>4.9</td>\n",
              "      <td>3.0</td>\n",
              "      <td>1.4</td>\n",
              "      <td>0.2</td>\n",
              "    </tr>\n",
              "    <tr>\n",
              "      <th>2</th>\n",
              "      <td>4.7</td>\n",
              "      <td>3.2</td>\n",
              "      <td>1.3</td>\n",
              "      <td>0.2</td>\n",
              "    </tr>\n",
              "    <tr>\n",
              "      <th>3</th>\n",
              "      <td>4.6</td>\n",
              "      <td>3.1</td>\n",
              "      <td>1.5</td>\n",
              "      <td>0.2</td>\n",
              "    </tr>\n",
              "    <tr>\n",
              "      <th>4</th>\n",
              "      <td>5.0</td>\n",
              "      <td>3.6</td>\n",
              "      <td>1.4</td>\n",
              "      <td>0.2</td>\n",
              "    </tr>\n",
              "  </tbody>\n",
              "</table>\n",
              "</div>\n",
              "      <button class=\"colab-df-convert\" onclick=\"convertToInteractive('df-c19b66fa-c8de-4e90-81cc-ac4c52ed75b9')\"\n",
              "              title=\"Convert this dataframe to an interactive table.\"\n",
              "              style=\"display:none;\">\n",
              "        \n",
              "  <svg xmlns=\"http://www.w3.org/2000/svg\" height=\"24px\"viewBox=\"0 0 24 24\"\n",
              "       width=\"24px\">\n",
              "    <path d=\"M0 0h24v24H0V0z\" fill=\"none\"/>\n",
              "    <path d=\"M18.56 5.44l.94 2.06.94-2.06 2.06-.94-2.06-.94-.94-2.06-.94 2.06-2.06.94zm-11 1L8.5 8.5l.94-2.06 2.06-.94-2.06-.94L8.5 2.5l-.94 2.06-2.06.94zm10 10l.94 2.06.94-2.06 2.06-.94-2.06-.94-.94-2.06-.94 2.06-2.06.94z\"/><path d=\"M17.41 7.96l-1.37-1.37c-.4-.4-.92-.59-1.43-.59-.52 0-1.04.2-1.43.59L10.3 9.45l-7.72 7.72c-.78.78-.78 2.05 0 2.83L4 21.41c.39.39.9.59 1.41.59.51 0 1.02-.2 1.41-.59l7.78-7.78 2.81-2.81c.8-.78.8-2.07 0-2.86zM5.41 20L4 18.59l7.72-7.72 1.47 1.35L5.41 20z\"/>\n",
              "  </svg>\n",
              "      </button>\n",
              "      \n",
              "  <style>\n",
              "    .colab-df-container {\n",
              "      display:flex;\n",
              "      flex-wrap:wrap;\n",
              "      gap: 12px;\n",
              "    }\n",
              "\n",
              "    .colab-df-convert {\n",
              "      background-color: #E8F0FE;\n",
              "      border: none;\n",
              "      border-radius: 50%;\n",
              "      cursor: pointer;\n",
              "      display: none;\n",
              "      fill: #1967D2;\n",
              "      height: 32px;\n",
              "      padding: 0 0 0 0;\n",
              "      width: 32px;\n",
              "    }\n",
              "\n",
              "    .colab-df-convert:hover {\n",
              "      background-color: #E2EBFA;\n",
              "      box-shadow: 0px 1px 2px rgba(60, 64, 67, 0.3), 0px 1px 3px 1px rgba(60, 64, 67, 0.15);\n",
              "      fill: #174EA6;\n",
              "    }\n",
              "\n",
              "    [theme=dark] .colab-df-convert {\n",
              "      background-color: #3B4455;\n",
              "      fill: #D2E3FC;\n",
              "    }\n",
              "\n",
              "    [theme=dark] .colab-df-convert:hover {\n",
              "      background-color: #434B5C;\n",
              "      box-shadow: 0px 1px 3px 1px rgba(0, 0, 0, 0.15);\n",
              "      filter: drop-shadow(0px 1px 2px rgba(0, 0, 0, 0.3));\n",
              "      fill: #FFFFFF;\n",
              "    }\n",
              "  </style>\n",
              "\n",
              "      <script>\n",
              "        const buttonEl =\n",
              "          document.querySelector('#df-c19b66fa-c8de-4e90-81cc-ac4c52ed75b9 button.colab-df-convert');\n",
              "        buttonEl.style.display =\n",
              "          google.colab.kernel.accessAllowed ? 'block' : 'none';\n",
              "\n",
              "        async function convertToInteractive(key) {\n",
              "          const element = document.querySelector('#df-c19b66fa-c8de-4e90-81cc-ac4c52ed75b9');\n",
              "          const dataTable =\n",
              "            await google.colab.kernel.invokeFunction('convertToInteractive',\n",
              "                                                     [key], {});\n",
              "          if (!dataTable) return;\n",
              "\n",
              "          const docLinkHtml = 'Like what you see? Visit the ' +\n",
              "            '<a target=\"_blank\" href=https://colab.research.google.com/notebooks/data_table.ipynb>data table notebook</a>'\n",
              "            + ' to learn more about interactive tables.';\n",
              "          element.innerHTML = '';\n",
              "          dataTable['output_type'] = 'display_data';\n",
              "          await google.colab.output.renderOutput(dataTable, element);\n",
              "          const docLink = document.createElement('div');\n",
              "          docLink.innerHTML = docLinkHtml;\n",
              "          element.appendChild(docLink);\n",
              "        }\n",
              "      </script>\n",
              "    </div>\n",
              "  </div>\n",
              "  "
            ]
          },
          "metadata": {},
          "execution_count": 8
        }
      ]
    },
    {
      "cell_type": "code",
      "source": [
        "target = iris['target']\n",
        "target[:5]"
      ],
      "metadata": {
        "colab": {
          "base_uri": "https://localhost:8080/"
        },
        "id": "LEV9we-9592M",
        "outputId": "c17381cf-652c-40e4-bac8-6f7fae92edb6"
      },
      "execution_count": 10,
      "outputs": [
        {
          "output_type": "execute_result",
          "data": {
            "text/plain": [
              "array([0, 0, 0, 0, 0])"
            ]
          },
          "metadata": {},
          "execution_count": 10
        }
      ]
    },
    {
      "cell_type": "code",
      "source": [
        "df_iris['target'] = target\n",
        "df_iris.head()"
      ],
      "metadata": {
        "colab": {
          "base_uri": "https://localhost:8080/",
          "height": 206
        },
        "id": "WyXum50c6ZwF",
        "outputId": "8f3c8da6-03fa-4c92-a357-aee0408c4637"
      },
      "execution_count": 11,
      "outputs": [
        {
          "output_type": "execute_result",
          "data": {
            "text/plain": [
              "   sepal length (cm)  sepal width (cm)  petal length (cm)  petal width (cm)  \\\n",
              "0                5.1               3.5                1.4               0.2   \n",
              "1                4.9               3.0                1.4               0.2   \n",
              "2                4.7               3.2                1.3               0.2   \n",
              "3                4.6               3.1                1.5               0.2   \n",
              "4                5.0               3.6                1.4               0.2   \n",
              "\n",
              "   target  \n",
              "0       0  \n",
              "1       0  \n",
              "2       0  \n",
              "3       0  \n",
              "4       0  "
            ],
            "text/html": [
              "\n",
              "  <div id=\"df-0da0e40c-aa60-4f32-ab13-0d1bb64b27bd\">\n",
              "    <div class=\"colab-df-container\">\n",
              "      <div>\n",
              "<style scoped>\n",
              "    .dataframe tbody tr th:only-of-type {\n",
              "        vertical-align: middle;\n",
              "    }\n",
              "\n",
              "    .dataframe tbody tr th {\n",
              "        vertical-align: top;\n",
              "    }\n",
              "\n",
              "    .dataframe thead th {\n",
              "        text-align: right;\n",
              "    }\n",
              "</style>\n",
              "<table border=\"1\" class=\"dataframe\">\n",
              "  <thead>\n",
              "    <tr style=\"text-align: right;\">\n",
              "      <th></th>\n",
              "      <th>sepal length (cm)</th>\n",
              "      <th>sepal width (cm)</th>\n",
              "      <th>petal length (cm)</th>\n",
              "      <th>petal width (cm)</th>\n",
              "      <th>target</th>\n",
              "    </tr>\n",
              "  </thead>\n",
              "  <tbody>\n",
              "    <tr>\n",
              "      <th>0</th>\n",
              "      <td>5.1</td>\n",
              "      <td>3.5</td>\n",
              "      <td>1.4</td>\n",
              "      <td>0.2</td>\n",
              "      <td>0</td>\n",
              "    </tr>\n",
              "    <tr>\n",
              "      <th>1</th>\n",
              "      <td>4.9</td>\n",
              "      <td>3.0</td>\n",
              "      <td>1.4</td>\n",
              "      <td>0.2</td>\n",
              "      <td>0</td>\n",
              "    </tr>\n",
              "    <tr>\n",
              "      <th>2</th>\n",
              "      <td>4.7</td>\n",
              "      <td>3.2</td>\n",
              "      <td>1.3</td>\n",
              "      <td>0.2</td>\n",
              "      <td>0</td>\n",
              "    </tr>\n",
              "    <tr>\n",
              "      <th>3</th>\n",
              "      <td>4.6</td>\n",
              "      <td>3.1</td>\n",
              "      <td>1.5</td>\n",
              "      <td>0.2</td>\n",
              "      <td>0</td>\n",
              "    </tr>\n",
              "    <tr>\n",
              "      <th>4</th>\n",
              "      <td>5.0</td>\n",
              "      <td>3.6</td>\n",
              "      <td>1.4</td>\n",
              "      <td>0.2</td>\n",
              "      <td>0</td>\n",
              "    </tr>\n",
              "  </tbody>\n",
              "</table>\n",
              "</div>\n",
              "      <button class=\"colab-df-convert\" onclick=\"convertToInteractive('df-0da0e40c-aa60-4f32-ab13-0d1bb64b27bd')\"\n",
              "              title=\"Convert this dataframe to an interactive table.\"\n",
              "              style=\"display:none;\">\n",
              "        \n",
              "  <svg xmlns=\"http://www.w3.org/2000/svg\" height=\"24px\"viewBox=\"0 0 24 24\"\n",
              "       width=\"24px\">\n",
              "    <path d=\"M0 0h24v24H0V0z\" fill=\"none\"/>\n",
              "    <path d=\"M18.56 5.44l.94 2.06.94-2.06 2.06-.94-2.06-.94-.94-2.06-.94 2.06-2.06.94zm-11 1L8.5 8.5l.94-2.06 2.06-.94-2.06-.94L8.5 2.5l-.94 2.06-2.06.94zm10 10l.94 2.06.94-2.06 2.06-.94-2.06-.94-.94-2.06-.94 2.06-2.06.94z\"/><path d=\"M17.41 7.96l-1.37-1.37c-.4-.4-.92-.59-1.43-.59-.52 0-1.04.2-1.43.59L10.3 9.45l-7.72 7.72c-.78.78-.78 2.05 0 2.83L4 21.41c.39.39.9.59 1.41.59.51 0 1.02-.2 1.41-.59l7.78-7.78 2.81-2.81c.8-.78.8-2.07 0-2.86zM5.41 20L4 18.59l7.72-7.72 1.47 1.35L5.41 20z\"/>\n",
              "  </svg>\n",
              "      </button>\n",
              "      \n",
              "  <style>\n",
              "    .colab-df-container {\n",
              "      display:flex;\n",
              "      flex-wrap:wrap;\n",
              "      gap: 12px;\n",
              "    }\n",
              "\n",
              "    .colab-df-convert {\n",
              "      background-color: #E8F0FE;\n",
              "      border: none;\n",
              "      border-radius: 50%;\n",
              "      cursor: pointer;\n",
              "      display: none;\n",
              "      fill: #1967D2;\n",
              "      height: 32px;\n",
              "      padding: 0 0 0 0;\n",
              "      width: 32px;\n",
              "    }\n",
              "\n",
              "    .colab-df-convert:hover {\n",
              "      background-color: #E2EBFA;\n",
              "      box-shadow: 0px 1px 2px rgba(60, 64, 67, 0.3), 0px 1px 3px 1px rgba(60, 64, 67, 0.15);\n",
              "      fill: #174EA6;\n",
              "    }\n",
              "\n",
              "    [theme=dark] .colab-df-convert {\n",
              "      background-color: #3B4455;\n",
              "      fill: #D2E3FC;\n",
              "    }\n",
              "\n",
              "    [theme=dark] .colab-df-convert:hover {\n",
              "      background-color: #434B5C;\n",
              "      box-shadow: 0px 1px 3px 1px rgba(0, 0, 0, 0.15);\n",
              "      filter: drop-shadow(0px 1px 2px rgba(0, 0, 0, 0.3));\n",
              "      fill: #FFFFFF;\n",
              "    }\n",
              "  </style>\n",
              "\n",
              "      <script>\n",
              "        const buttonEl =\n",
              "          document.querySelector('#df-0da0e40c-aa60-4f32-ab13-0d1bb64b27bd button.colab-df-convert');\n",
              "        buttonEl.style.display =\n",
              "          google.colab.kernel.accessAllowed ? 'block' : 'none';\n",
              "\n",
              "        async function convertToInteractive(key) {\n",
              "          const element = document.querySelector('#df-0da0e40c-aa60-4f32-ab13-0d1bb64b27bd');\n",
              "          const dataTable =\n",
              "            await google.colab.kernel.invokeFunction('convertToInteractive',\n",
              "                                                     [key], {});\n",
              "          if (!dataTable) return;\n",
              "\n",
              "          const docLinkHtml = 'Like what you see? Visit the ' +\n",
              "            '<a target=\"_blank\" href=https://colab.research.google.com/notebooks/data_table.ipynb>data table notebook</a>'\n",
              "            + ' to learn more about interactive tables.';\n",
              "          element.innerHTML = '';\n",
              "          dataTable['output_type'] = 'display_data';\n",
              "          await google.colab.output.renderOutput(dataTable, element);\n",
              "          const docLink = document.createElement('div');\n",
              "          docLink.innerHTML = docLinkHtml;\n",
              "          element.appendChild(docLink);\n",
              "        }\n",
              "      </script>\n",
              "    </div>\n",
              "  </div>\n",
              "  "
            ]
          },
          "metadata": {},
          "execution_count": 11
        }
      ]
    },
    {
      "cell_type": "code",
      "source": [
        "df_iris"
      ],
      "metadata": {
        "colab": {
          "base_uri": "https://localhost:8080/",
          "height": 424
        },
        "id": "fnVdtL0b6sd5",
        "outputId": "9b9b490a-2c3d-4bea-a0e2-f4ec2c30eb43"
      },
      "execution_count": 12,
      "outputs": [
        {
          "output_type": "execute_result",
          "data": {
            "text/plain": [
              "     sepal length (cm)  sepal width (cm)  petal length (cm)  petal width (cm)  \\\n",
              "0                  5.1               3.5                1.4               0.2   \n",
              "1                  4.9               3.0                1.4               0.2   \n",
              "2                  4.7               3.2                1.3               0.2   \n",
              "3                  4.6               3.1                1.5               0.2   \n",
              "4                  5.0               3.6                1.4               0.2   \n",
              "..                 ...               ...                ...               ...   \n",
              "145                6.7               3.0                5.2               2.3   \n",
              "146                6.3               2.5                5.0               1.9   \n",
              "147                6.5               3.0                5.2               2.0   \n",
              "148                6.2               3.4                5.4               2.3   \n",
              "149                5.9               3.0                5.1               1.8   \n",
              "\n",
              "     target  \n",
              "0         0  \n",
              "1         0  \n",
              "2         0  \n",
              "3         0  \n",
              "4         0  \n",
              "..      ...  \n",
              "145       2  \n",
              "146       2  \n",
              "147       2  \n",
              "148       2  \n",
              "149       2  \n",
              "\n",
              "[150 rows x 5 columns]"
            ],
            "text/html": [
              "\n",
              "  <div id=\"df-99f88c80-ad2c-4998-9fbb-c5cf829da32e\">\n",
              "    <div class=\"colab-df-container\">\n",
              "      <div>\n",
              "<style scoped>\n",
              "    .dataframe tbody tr th:only-of-type {\n",
              "        vertical-align: middle;\n",
              "    }\n",
              "\n",
              "    .dataframe tbody tr th {\n",
              "        vertical-align: top;\n",
              "    }\n",
              "\n",
              "    .dataframe thead th {\n",
              "        text-align: right;\n",
              "    }\n",
              "</style>\n",
              "<table border=\"1\" class=\"dataframe\">\n",
              "  <thead>\n",
              "    <tr style=\"text-align: right;\">\n",
              "      <th></th>\n",
              "      <th>sepal length (cm)</th>\n",
              "      <th>sepal width (cm)</th>\n",
              "      <th>petal length (cm)</th>\n",
              "      <th>petal width (cm)</th>\n",
              "      <th>target</th>\n",
              "    </tr>\n",
              "  </thead>\n",
              "  <tbody>\n",
              "    <tr>\n",
              "      <th>0</th>\n",
              "      <td>5.1</td>\n",
              "      <td>3.5</td>\n",
              "      <td>1.4</td>\n",
              "      <td>0.2</td>\n",
              "      <td>0</td>\n",
              "    </tr>\n",
              "    <tr>\n",
              "      <th>1</th>\n",
              "      <td>4.9</td>\n",
              "      <td>3.0</td>\n",
              "      <td>1.4</td>\n",
              "      <td>0.2</td>\n",
              "      <td>0</td>\n",
              "    </tr>\n",
              "    <tr>\n",
              "      <th>2</th>\n",
              "      <td>4.7</td>\n",
              "      <td>3.2</td>\n",
              "      <td>1.3</td>\n",
              "      <td>0.2</td>\n",
              "      <td>0</td>\n",
              "    </tr>\n",
              "    <tr>\n",
              "      <th>3</th>\n",
              "      <td>4.6</td>\n",
              "      <td>3.1</td>\n",
              "      <td>1.5</td>\n",
              "      <td>0.2</td>\n",
              "      <td>0</td>\n",
              "    </tr>\n",
              "    <tr>\n",
              "      <th>4</th>\n",
              "      <td>5.0</td>\n",
              "      <td>3.6</td>\n",
              "      <td>1.4</td>\n",
              "      <td>0.2</td>\n",
              "      <td>0</td>\n",
              "    </tr>\n",
              "    <tr>\n",
              "      <th>...</th>\n",
              "      <td>...</td>\n",
              "      <td>...</td>\n",
              "      <td>...</td>\n",
              "      <td>...</td>\n",
              "      <td>...</td>\n",
              "    </tr>\n",
              "    <tr>\n",
              "      <th>145</th>\n",
              "      <td>6.7</td>\n",
              "      <td>3.0</td>\n",
              "      <td>5.2</td>\n",
              "      <td>2.3</td>\n",
              "      <td>2</td>\n",
              "    </tr>\n",
              "    <tr>\n",
              "      <th>146</th>\n",
              "      <td>6.3</td>\n",
              "      <td>2.5</td>\n",
              "      <td>5.0</td>\n",
              "      <td>1.9</td>\n",
              "      <td>2</td>\n",
              "    </tr>\n",
              "    <tr>\n",
              "      <th>147</th>\n",
              "      <td>6.5</td>\n",
              "      <td>3.0</td>\n",
              "      <td>5.2</td>\n",
              "      <td>2.0</td>\n",
              "      <td>2</td>\n",
              "    </tr>\n",
              "    <tr>\n",
              "      <th>148</th>\n",
              "      <td>6.2</td>\n",
              "      <td>3.4</td>\n",
              "      <td>5.4</td>\n",
              "      <td>2.3</td>\n",
              "      <td>2</td>\n",
              "    </tr>\n",
              "    <tr>\n",
              "      <th>149</th>\n",
              "      <td>5.9</td>\n",
              "      <td>3.0</td>\n",
              "      <td>5.1</td>\n",
              "      <td>1.8</td>\n",
              "      <td>2</td>\n",
              "    </tr>\n",
              "  </tbody>\n",
              "</table>\n",
              "<p>150 rows × 5 columns</p>\n",
              "</div>\n",
              "      <button class=\"colab-df-convert\" onclick=\"convertToInteractive('df-99f88c80-ad2c-4998-9fbb-c5cf829da32e')\"\n",
              "              title=\"Convert this dataframe to an interactive table.\"\n",
              "              style=\"display:none;\">\n",
              "        \n",
              "  <svg xmlns=\"http://www.w3.org/2000/svg\" height=\"24px\"viewBox=\"0 0 24 24\"\n",
              "       width=\"24px\">\n",
              "    <path d=\"M0 0h24v24H0V0z\" fill=\"none\"/>\n",
              "    <path d=\"M18.56 5.44l.94 2.06.94-2.06 2.06-.94-2.06-.94-.94-2.06-.94 2.06-2.06.94zm-11 1L8.5 8.5l.94-2.06 2.06-.94-2.06-.94L8.5 2.5l-.94 2.06-2.06.94zm10 10l.94 2.06.94-2.06 2.06-.94-2.06-.94-.94-2.06-.94 2.06-2.06.94z\"/><path d=\"M17.41 7.96l-1.37-1.37c-.4-.4-.92-.59-1.43-.59-.52 0-1.04.2-1.43.59L10.3 9.45l-7.72 7.72c-.78.78-.78 2.05 0 2.83L4 21.41c.39.39.9.59 1.41.59.51 0 1.02-.2 1.41-.59l7.78-7.78 2.81-2.81c.8-.78.8-2.07 0-2.86zM5.41 20L4 18.59l7.72-7.72 1.47 1.35L5.41 20z\"/>\n",
              "  </svg>\n",
              "      </button>\n",
              "      \n",
              "  <style>\n",
              "    .colab-df-container {\n",
              "      display:flex;\n",
              "      flex-wrap:wrap;\n",
              "      gap: 12px;\n",
              "    }\n",
              "\n",
              "    .colab-df-convert {\n",
              "      background-color: #E8F0FE;\n",
              "      border: none;\n",
              "      border-radius: 50%;\n",
              "      cursor: pointer;\n",
              "      display: none;\n",
              "      fill: #1967D2;\n",
              "      height: 32px;\n",
              "      padding: 0 0 0 0;\n",
              "      width: 32px;\n",
              "    }\n",
              "\n",
              "    .colab-df-convert:hover {\n",
              "      background-color: #E2EBFA;\n",
              "      box-shadow: 0px 1px 2px rgba(60, 64, 67, 0.3), 0px 1px 3px 1px rgba(60, 64, 67, 0.15);\n",
              "      fill: #174EA6;\n",
              "    }\n",
              "\n",
              "    [theme=dark] .colab-df-convert {\n",
              "      background-color: #3B4455;\n",
              "      fill: #D2E3FC;\n",
              "    }\n",
              "\n",
              "    [theme=dark] .colab-df-convert:hover {\n",
              "      background-color: #434B5C;\n",
              "      box-shadow: 0px 1px 3px 1px rgba(0, 0, 0, 0.15);\n",
              "      filter: drop-shadow(0px 1px 2px rgba(0, 0, 0, 0.3));\n",
              "      fill: #FFFFFF;\n",
              "    }\n",
              "  </style>\n",
              "\n",
              "      <script>\n",
              "        const buttonEl =\n",
              "          document.querySelector('#df-99f88c80-ad2c-4998-9fbb-c5cf829da32e button.colab-df-convert');\n",
              "        buttonEl.style.display =\n",
              "          google.colab.kernel.accessAllowed ? 'block' : 'none';\n",
              "\n",
              "        async function convertToInteractive(key) {\n",
              "          const element = document.querySelector('#df-99f88c80-ad2c-4998-9fbb-c5cf829da32e');\n",
              "          const dataTable =\n",
              "            await google.colab.kernel.invokeFunction('convertToInteractive',\n",
              "                                                     [key], {});\n",
              "          if (!dataTable) return;\n",
              "\n",
              "          const docLinkHtml = 'Like what you see? Visit the ' +\n",
              "            '<a target=\"_blank\" href=https://colab.research.google.com/notebooks/data_table.ipynb>data table notebook</a>'\n",
              "            + ' to learn more about interactive tables.';\n",
              "          element.innerHTML = '';\n",
              "          dataTable['output_type'] = 'display_data';\n",
              "          await google.colab.output.renderOutput(dataTable, element);\n",
              "          const docLink = document.createElement('div');\n",
              "          docLink.innerHTML = docLinkHtml;\n",
              "          element.appendChild(docLink);\n",
              "        }\n",
              "      </script>\n",
              "    </div>\n",
              "  </div>\n",
              "  "
            ]
          },
          "metadata": {},
          "execution_count": 12
        }
      ]
    },
    {
      "cell_type": "code",
      "source": [
        "from sklearn.model_selection import train_test_split  # train_test_split : 학습데이터와 테스트데이터를 분류해주는 역할"
      ],
      "metadata": {
        "id": "4v5feH_C61vD"
      },
      "execution_count": 13,
      "outputs": []
    },
    {
      "cell_type": "code",
      "source": [
        "x_train, x_valid, y_train, y_valid = train_test_split(  # x_train, x_valid, y_train, y_valid : 학습을 시킬 데이터, 학습에 필요한 정답, 테스트를 해볼 데이터, 테스트에 맞춰질 정답\n",
        "    df_iris.drop('target', 1), df_iris['target']   # 타겟을 제외하고 데이터를 넣는 것, 타겟만 넣어서 데이터를 확인\n",
        ")"
      ],
      "metadata": {
        "colab": {
          "base_uri": "https://localhost:8080/"
        },
        "id": "IkOhHOEH7Xn0",
        "outputId": "6caafc5e-35c0-4991-d398-792fd7ecf2fb"
      },
      "execution_count": 14,
      "outputs": [
        {
          "output_type": "stream",
          "name": "stderr",
          "text": [
            "/usr/local/lib/python3.7/dist-packages/ipykernel_launcher.py:2: FutureWarning: In a future version of pandas all arguments of DataFrame.drop except for the argument 'labels' will be keyword-only\n",
            "  \n"
          ]
        }
      ]
    },
    {
      "cell_type": "code",
      "source": [
        "x_train.shape, y_train.shape # 112개, 4개의 필드, 112개, 1개의 필드\n",
        "\n",
        "# x_train.shape : 학습시키기 위한 데이터가 몰려있음 (데이터만 들어가 있음)\n",
        "# y_train.shape : 정답이 들어가 있음"
      ],
      "metadata": {
        "colab": {
          "base_uri": "https://localhost:8080/"
        },
        "id": "7jqxAueN8r7r",
        "outputId": "f08ac27f-a68e-49ca-8d59-24ca999cd314"
      },
      "execution_count": 20,
      "outputs": [
        {
          "output_type": "execute_result",
          "data": {
            "text/plain": [
              "((112, 4), (112,))"
            ]
          },
          "metadata": {},
          "execution_count": 20
        }
      ]
    },
    {
      "cell_type": "code",
      "source": [
        "x_valid.shape, y_valid.shape # 38개, 4개의 필드, 38개, 1개의 필드\n",
        "\n",
        "# x_valid.shape : 검증용 데이터\n",
        "# y_valid.shape : 정답이 들어가 있음"
      ],
      "metadata": {
        "colab": {
          "base_uri": "https://localhost:8080/"
        },
        "id": "6osfg5Wf81Ub",
        "outputId": "079f2c24-06b5-485e-b457-519ab9bb7270"
      },
      "execution_count": 21,
      "outputs": [
        {
          "output_type": "execute_result",
          "data": {
            "text/plain": [
              "((38, 4), (38,))"
            ]
          },
          "metadata": {},
          "execution_count": 21
        }
      ]
    },
    {
      "cell_type": "markdown",
      "source": [
        "![1.png](data:image/png;base64,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)"
      ],
      "metadata": {
        "id": "xrR4b6na_MjH"
      }
    },
    {
      "cell_type": "code",
      "source": [
        "import seaborn as sns"
      ],
      "metadata": {
        "id": "Ivty5c9a8_GS"
      },
      "execution_count": 22,
      "outputs": []
    },
    {
      "cell_type": "code",
      "source": [
        "sns.countplot(y_train)"
      ],
      "metadata": {
        "colab": {
          "base_uri": "https://localhost:8080/",
          "height": 354
        },
        "id": "kHKMA_IDACwu",
        "outputId": "7a9af7cd-01b5-492b-b77d-9d3f44a904d4"
      },
      "execution_count": 23,
      "outputs": [
        {
          "output_type": "stream",
          "name": "stderr",
          "text": [
            "/usr/local/lib/python3.7/dist-packages/seaborn/_decorators.py:43: FutureWarning: Pass the following variable as a keyword arg: x. From version 0.12, the only valid positional argument will be `data`, and passing other arguments without an explicit keyword will result in an error or misinterpretation.\n",
            "  FutureWarning\n"
          ]
        },
        {
          "output_type": "execute_result",
          "data": {
            "text/plain": [
              "<matplotlib.axes._subplots.AxesSubplot at 0x7efbdf309990>"
            ]
          },
          "metadata": {},
          "execution_count": 23
        },
        {
          "output_type": "display_data",
          "data": {
            "text/plain": [
              "<Figure size 432x288 with 1 Axes>"
            ],
            "image/png": "[encoded data removed]"
          },
          "metadata": {
            "needs_background": "light"
          }
        }
      ]
    },
    {
      "cell_type": "code",
      "source": [
        "x_train, x_valid, y_train, y_valid = train_test_split( \n",
        "    df_iris.drop('target', 1), df_iris['target'], stratify=df_iris['target']  # stratify : 균등하게 배분하고싶으면\n",
        ")"
      ],
      "metadata": {
        "colab": {
          "base_uri": "https://localhost:8080/"
        },
        "id": "iCYx-wGYAFvN",
        "outputId": "a21b923b-d6f5-4217-fa39-354374c1d0ff"
      },
      "execution_count": 25,
      "outputs": [
        {
          "output_type": "stream",
          "name": "stderr",
          "text": [
            "/usr/local/lib/python3.7/dist-packages/ipykernel_launcher.py:2: FutureWarning: In a future version of pandas all arguments of DataFrame.drop except for the argument 'labels' will be keyword-only\n",
            "  \n"
          ]
        }
      ]
    },
    {
      "cell_type": "code",
      "source": [
        "sns.countplot(y_train)"
      ],
      "metadata": {
        "colab": {
          "base_uri": "https://localhost:8080/",
          "height": 354
        },
        "id": "HkW6y8bTBGFr",
        "outputId": "3f662301-49cf-440f-dd55-cfd3bf39597d"
      },
      "execution_count": 26,
      "outputs": [
        {
          "output_type": "stream",
          "name": "stderr",
          "text": [
            "/usr/local/lib/python3.7/dist-packages/seaborn/_decorators.py:43: FutureWarning: Pass the following variable as a keyword arg: x. From version 0.12, the only valid positional argument will be `data`, and passing other arguments without an explicit keyword will result in an error or misinterpretation.\n",
            "  FutureWarning\n"
          ]
        },
        {
          "output_type": "execute_result",
          "data": {
            "text/plain": [
              "<matplotlib.axes._subplots.AxesSubplot at 0x7efbdee42d50>"
            ]
          },
          "metadata": {},
          "execution_count": 26
        },
        {
          "output_type": "display_data",
          "data": {
            "text/plain": [
              "<Figure size 432x288 with 1 Axes>"
            ],
            "image/png": "[encoded data removed]"
          },
          "metadata": {
            "needs_background": "light"
          }
        }
      ]
    },
    {
      "cell_type": "code",
      "source": [
        "x_train.shape, y_train.shape"
      ],
      "metadata": {
        "colab": {
          "base_uri": "https://localhost:8080/"
        },
        "id": "qeLQ1DqRJtjQ",
        "outputId": "f4bcde70-2d15-4e72-d4c0-ae1200a80c81"
      },
      "execution_count": 28,
      "outputs": [
        {
          "output_type": "execute_result",
          "data": {
            "text/plain": [
              "((112, 4), (112,))"
            ]
          },
          "metadata": {},
          "execution_count": 28
        }
      ]
    },
    {
      "cell_type": "code",
      "source": [
        "x_valid.shape, y_valid.shape"
      ],
      "metadata": {
        "colab": {
          "base_uri": "https://localhost:8080/"
        },
        "id": "3GQfTv2UJzPa",
        "outputId": "4db0f80c-bff3-468a-b809-f5ee4a032644"
      },
      "execution_count": 29,
      "outputs": [
        {
          "output_type": "execute_result",
          "data": {
            "text/plain": [
              "((38, 4), (38,))"
            ]
          },
          "metadata": {},
          "execution_count": 29
        }
      ]
    },
    {
      "cell_type": "code",
      "source": [
        "from sklearn.svm import SVC\n",
        "from sklearn.metrics import accuracy_score"
      ],
      "metadata": {
        "id": "I5wiDXFmBNH2"
      },
      "execution_count": 30,
      "outputs": []
    },
    {
      "cell_type": "code",
      "source": [
        "svc = SVC()\n",
        "svc.fit(x_train, y_train)"
      ],
      "metadata": {
        "colab": {
          "base_uri": "https://localhost:8080/"
        },
        "id": "ce59HhVNEXeU",
        "outputId": "56c4b72a-c120-4141-b7b5-d4a47f0f0bb3"
      },
      "execution_count": 31,
      "outputs": [
        {
          "output_type": "execute_result",
          "data": {
            "text/plain": [
              "SVC()"
            ]
          },
          "metadata": {},
          "execution_count": 31
        }
      ]
    },
    {
      "cell_type": "code",
      "source": [
        "y_pred = svc.predict(x_valid)\n",
        "print('정답률 : ', accuracy_score(y_valid, y_pred))"
      ],
      "metadata": {
        "colab": {
          "base_uri": "https://localhost:8080/"
        },
        "id": "I2xgdm00KNP4",
        "outputId": "3fbf5b98-e77d-4ac9-8d5c-20cef67d647d"
      },
      "execution_count": 33,
      "outputs": [
        {
          "output_type": "stream",
          "name": "stdout",
          "text": [
            "정답률 :  0.9736842105263158\n"
          ]
        }
      ]
    },
    {
      "cell_type": "code",
      "source": [
        ""
      ],
      "metadata": {
        "id": "klPn5HF4KZNb"
      },
      "execution_count": null,
      "outputs": []
    }
  ]
}