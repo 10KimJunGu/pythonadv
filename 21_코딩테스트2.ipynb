{
  "nbformat": 4,
  "nbformat_minor": 0,
  "metadata": {
    "colab": {
      "name": "21.코딩테스트2.ipynb",
      "provenance": [],
      "collapsed_sections": [],
      "authorship_tag": "ABX9TyN6G0IQp+pkhA7Z4r+pcK0e",
      "include_colab_link": true
    },
    "kernelspec": {
      "name": "python3",
      "display_name": "Python 3"
    },
    "language_info": {
      "name": "python"
    }
  },
  "cells": [
    {
      "cell_type": "markdown",
      "metadata": {
        "id": "view-in-github",
        "colab_type": "text"
      },
      "source": [
        "<a href=\"https://colab.research.google.com/github/10KimJunGu/pythonadv/blob/main/21_%EC%BD%94%EB%94%A9%ED%85%8C%EC%8A%A4%ED%8A%B82.ipynb\" target=\"_parent\"><img src=\"https://colab.research.google.com/assets/colab-badge.svg\" alt=\"Open In Colab\"/></a>"
      ]
    },
    {
      "cell_type": "code",
      "execution_count": 3,
      "metadata": {
        "colab": {
          "base_uri": "https://localhost:8080/"
        },
        "id": "9LgyLylq4OrE",
        "outputId": "ff658e6b-0970-4955-ac83-83f6e9287935"
      },
      "outputs": [
        {
          "output_type": "stream",
          "name": "stdout",
          "text": [
            "5\n",
            "3 4\n",
            "1 1\n",
            "1 -1\n",
            "2 2\n",
            "3 3\n",
            "1 -1\n",
            "1 1\n",
            "2 2\n",
            "3 3\n",
            "3 4\n"
          ]
        }
      ],
      "source": [
        "# 1. 좌표 정렬하기\n",
        "\n",
        "# http://www.acmicpc.net/problem/11650\n",
        "\n",
        "n = int(input())\n",
        "\n",
        "array = []\n",
        "\n",
        "for _ in range(n):\n",
        "  x, y = map(int, input().split(' '))\n",
        "  array.append((x,y)) # array = [(3,4), (1,1), (1,-1), (2,2), (3,3)]\n",
        "\n",
        "array = sorted(array)\n",
        "\n",
        "for i in array:\n",
        "  print(i[0], i[1])"
      ]
    },
    {
      "cell_type": "code",
      "source": [
        "# 2. 소트인사이드\n",
        "\n",
        "# http://www.acmicpc.net/problem/1427\n",
        "\n",
        "array = input() # 2143\n",
        "\n",
        "for i in range(9, -1, -1):\n",
        "  for j in array:\n",
        "    if int(j) == i:\n",
        "      print(i, end='')"
      ],
      "metadata": {
        "colab": {
          "base_uri": "https://localhost:8080/"
        },
        "id": "pjaUJQA_5Dv0",
        "outputId": "4e7bd9bf-6124-4b96-93fe-d2c1550eb0db"
      },
      "execution_count": 4,
      "outputs": [
        {
          "output_type": "stream",
          "name": "stdout",
          "text": [
            "2143\n",
            "4321"
          ]
        }
      ]
    }
  ]
}