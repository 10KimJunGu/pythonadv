{
  "nbformat": 4,
  "nbformat_minor": 0,
  "metadata": {
    "colab": {
      "name": "py.study.ipynb",
      "provenance": [],
      "authorship_tag": "ABX9TyOBmMYGXw+TR33RlzO3+zGc",
      "include_colab_link": true
    },
    "kernelspec": {
      "name": "python3",
      "display_name": "Python 3"
    },
    "language_info": {
      "name": "python"
    }
  },
  "cells": [
    {
      "cell_type": "markdown",
      "metadata": {
        "id": "view-in-github",
        "colab_type": "text"
      },
      "source": [
        "<a href=\"https://colab.research.google.com/github/10KimJunGu/pythonadv/blob/main/py_study.ipynb\" target=\"_parent\"><img src=\"https://colab.research.google.com/assets/colab-badge.svg\" alt=\"Open In Colab\"/></a>"
      ]
    },
    {
      "cell_type": "code",
      "execution_count": null,
      "metadata": {
        "colab": {
          "base_uri": "https://localhost:8080/"
        },
        "id": "UGDKdmt4Ka16",
        "outputId": "7162f78e-9fe7-4ab0-dd57-6098b6f2dd59"
      },
      "outputs": [
        {
          "output_type": "stream",
          "name": "stdout",
          "text": [
            "0 김준구\n",
            "1 김준구\n",
            "2 김준구\n",
            "3 김준구\n",
            "4 김준구\n",
            "5 김준구\n",
            "6 김준구\n",
            "7 김준구\n",
            "8 김준구\n",
            "9 김준구\n"
          ]
        }
      ],
      "source": [
        "for i in range(0 , 10 ,1):\n",
        "  print(f'{i} 김준구')"
      ]
    },
    {
      "cell_type": "code",
      "source": [
        "for i in range(0, 10, 1):\n",
        "  print(f'{10-i} 김준구')"
      ],
      "metadata": {
        "colab": {
          "base_uri": "https://localhost:8080/"
        },
        "id": "6RPuMEKqKrmv",
        "outputId": "116363a8-a2c8-466b-e2a3-0c28a49c05e3"
      },
      "execution_count": null,
      "outputs": [
        {
          "output_type": "stream",
          "name": "stdout",
          "text": [
            "10 김준구\n",
            "9 김준구\n",
            "8 김준구\n",
            "7 김준구\n",
            "6 김준구\n",
            "5 김준구\n",
            "4 김준구\n",
            "3 김준구\n",
            "2 김준구\n",
            "1 김준구\n"
          ]
        }
      ]
    },
    {
      "cell_type": "code",
      "source": [
        "for i in range(100):\n",
        "  print(100-i)\n",
        "  if i == 70 :\n",
        "    break\n",
        "\n"
      ],
      "metadata": {
        "id": "-y9yo8VYRXo8"
      },
      "execution_count": null,
      "outputs": []
    },
    {
      "cell_type": "code",
      "source": [
        "(i+1) % 3 == 0\n",
        "(i+1) % 5 == 0\n",
        "\n",
        "for i in range(100):\n",
        "  if (i+1) % 3 == 0 and (i+1) % 5 ==0:\n",
        "    print(i+1)"
      ],
      "metadata": {
        "colab": {
          "base_uri": "https://localhost:8080/"
        },
        "id": "RcTIoA8vRwbD",
        "outputId": "440c50e5-fa43-427a-e8b7-71390c40fbfc"
      },
      "execution_count": null,
      "outputs": [
        {
          "output_type": "stream",
          "name": "stdout",
          "text": [
            "15\n",
            "30\n",
            "45\n",
            "60\n",
            "75\n",
            "90\n"
          ]
        }
      ]
    },
    {
      "cell_type": "code",
      "source": [
        "for i in range(100):\n",
        "  if (i+1) % 3 == 0 and (i+1) % 5 ==0:\n",
        "      continue\n",
        "  print(i+1)"
      ],
      "metadata": {
        "colab": {
          "base_uri": "https://localhost:8080/"
        },
        "id": "ym--BVoZS1Bl",
        "outputId": "55785e33-5a52-4719-dad3-cd6cd29297ad"
      },
      "execution_count": null,
      "outputs": [
        {
          "output_type": "stream",
          "name": "stdout",
          "text": [
            "15\n",
            "30\n",
            "45\n",
            "60\n",
            "75\n",
            "90\n"
          ]
        }
      ]
    },
    {
      "cell_type": "code",
      "source": [
        "dataList = [2,4,5,6]\n",
        "print(len(dataList))\n",
        "print(dataList[2])\n",
        "print(dataList)\n",
        "\n",
        "print(\"------------\")\n",
        "\n",
        "dataList.append(7)\n",
        "print(dataList)\n",
        "\n",
        "dataList.insert(1,3)\n",
        "print(dataList)\n",
        "\n",
        "print(dataList.index(7))\n",
        "\n",
        "print(\"------------\")\n",
        "\n",
        "\n",
        "dataList.remove(4)\n",
        "print(dataList)\n",
        "\n",
        "del "
      ],
      "metadata": {
        "colab": {
          "base_uri": "https://localhost:8080/"
        },
        "id": "vQiOydDS44Qv",
        "outputId": "0cd6fdc5-4172-42d4-cff1-9946cf8ace80"
      },
      "execution_count": null,
      "outputs": [
        {
          "output_type": "stream",
          "name": "stdout",
          "text": [
            "4\n",
            "5\n",
            "[2, 4, 5, 6]\n",
            "------------\n",
            "[2, 4, 5, 6, 7]\n",
            "[2, 3, 4, 5, 6, 7]\n",
            "5\n",
            "------------\n",
            "[2, 3, 5, 6, 7]\n"
          ]
        }
      ]
    },
    {
      "cell_type": "code",
      "source": [
        "# 1~100까지 출력\n",
        "\n",
        "\n",
        "# for i in range(100):\n",
        "#   print(i+1)\n",
        "\n",
        "\n",
        "########################################\n",
        "dataList = []\n",
        "\n",
        "for i in range(100):\n",
        "  dataList.append(i+1)\n",
        "\n",
        "print(dataList)\n",
        "\n",
        "\n",
        "#######################################\n",
        "\n",
        "dataList = [0] * 100\n",
        "\n",
        "for i in range(100):\n",
        "  dataList[i] = i + 1\n",
        "\n",
        "print(dataList)"
      ],
      "metadata": {
        "colab": {
          "base_uri": "https://localhost:8080/"
        },
        "id": "vDjYpQlp6Paw",
        "outputId": "62f0ef1f-201b-4623-c417-5dc686042f08"
      },
      "execution_count": null,
      "outputs": [
        {
          "output_type": "stream",
          "name": "stdout",
          "text": [
            "[1, 2, 3, 4, 5, 6, 7, 8, 9, 10, 11, 12, 13, 14, 15, 16, 17, 18, 19, 20, 21, 22, 23, 24, 25, 26, 27, 28, 29, 30, 31, 32, 33, 34, 35, 36, 37, 38, 39, 40, 41, 42, 43, 44, 45, 46, 47, 48, 49, 50, 51, 52, 53, 54, 55, 56, 57, 58, 59, 60, 61, 62, 63, 64, 65, 66, 67, 68, 69, 70, 71, 72, 73, 74, 75, 76, 77, 78, 79, 80, 81, 82, 83, 84, 85, 86, 87, 88, 89, 90, 91, 92, 93, 94, 95, 96, 97, 98, 99, 100]\n",
            "[1, 2, 3, 4, 5, 6, 7, 8, 9, 10, 11, 12, 13, 14, 15, 16, 17, 18, 19, 20, 21, 22, 23, 24, 25, 26, 27, 28, 29, 30, 31, 32, 33, 34, 35, 36, 37, 38, 39, 40, 41, 42, 43, 44, 45, 46, 47, 48, 49, 50, 51, 52, 53, 54, 55, 56, 57, 58, 59, 60, 61, 62, 63, 64, 65, 66, 67, 68, 69, 70, 71, 72, 73, 74, 75, 76, 77, 78, 79, 80, 81, 82, 83, 84, 85, 86, 87, 88, 89, 90, 91, 92, 93, 94, 95, 96, 97, 98, 99, 100]\n"
          ]
        }
      ]
    },
    {
      "cell_type": "code",
      "source": [
        "# 1~100까지 중 짝수만 넣고 출력\n",
        "\n",
        "dataList = [0] * 50\n",
        "\n",
        "for i in range(len(dataList)):\n",
        "  dataList[i] = (i + 1) * 2\n",
        "\n",
        "print(dataList)"
      ],
      "metadata": {
        "colab": {
          "base_uri": "https://localhost:8080/"
        },
        "id": "c7YDjuAj9cAU",
        "outputId": "60dad5c3-37a1-4cf9-ffcc-1bcdcbba1f53"
      },
      "execution_count": null,
      "outputs": [
        {
          "output_type": "stream",
          "name": "stdout",
          "text": [
            "[2, 4, 6, 8, 10, 12, 14, 16, 18, 20, 22, 24, 26, 28, 30, 32, 34, 36, 38, 40, 42, 44, 46, 48, 50, 52, 54, 56, 58, 60, 62, 64, 66, 68, 70, 72, 74, 76, 78, 80, 82, 84, 86, 88, 90, 92, 94, 96, 98, 100]\n"
          ]
        }
      ]
    },
    {
      "cell_type": "code",
      "source": [
        "# A~F까지 출력\n",
        "\n",
        "dataList = []\n",
        "\n",
        "for i in range(6):\n",
        "  dataList.append(chr(65 + i))\n",
        "\n",
        "print(dataList)"
      ],
      "metadata": {
        "colab": {
          "base_uri": "https://localhost:8080/"
        },
        "id": "PgxdIr-W-7uQ",
        "outputId": "5ed21d1b-c5aa-4e90-abf3-22a6a1e6845c"
      },
      "execution_count": null,
      "outputs": [
        {
          "output_type": "stream",
          "name": "stdout",
          "text": [
            "['A', 'B', 'C', 'D', 'E', 'F']\n"
          ]
        }
      ]
    },
    {
      "cell_type": "code",
      "source": [
        "# A~F까지 중 C를 제외하고 출력\n",
        "\n",
        "dataList = [\"\"] * 5\n",
        "\n",
        "# 0 A, 1 B , 2 D \n",
        "\n",
        "temp = 0\n",
        "\n",
        "for i in range(len(dataList)):\n",
        "  temp = i\n",
        "  if temp > 1:\n",
        "    temp += 1\n",
        "  dataList[i] = chr(65 + temp)\n",
        "\n",
        "print(dataList)\n",
        "\n",
        "\n",
        "# for i in range(len(dataList)):\n",
        "#   if i > 1:\n",
        "#     i+=1\n",
        "#   print(i)\n",
        "#   dataList[i] = chr(65 + i)\n",
        "\n",
        "# print(dataList)"
      ],
      "metadata": {
        "colab": {
          "base_uri": "https://localhost:8080/"
        },
        "id": "RltsGMZK_VfZ",
        "outputId": "20a8cc5d-301d-496b-e84e-b768368d9689"
      },
      "execution_count": null,
      "outputs": [
        {
          "output_type": "stream",
          "name": "stdout",
          "text": [
            "['A', 'B', 'D', 'E', 'F']\n"
          ]
        }
      ]
    },
    {
      "cell_type": "code",
      "source": [
        "# aBcDeFgHiJkM.....Z 넣고 출력\n",
        "\n",
        "dataList = [0] * 26\n",
        "\n",
        "for i in range(len(dataList)):\n",
        "  dataList[i] = chr(97 + i if i % 2 == 0 else 65 + i)\n",
        "\n",
        "print(dataList)\n",
        "\n",
        "for i in dataList:\n",
        "  print(i, end=\"\")"
      ],
      "metadata": {
        "colab": {
          "base_uri": "https://localhost:8080/"
        },
        "id": "zGFtp24VAaVy",
        "outputId": "d5c03b77-14e6-4300-b980-3371584f1c42"
      },
      "execution_count": null,
      "outputs": [
        {
          "output_type": "stream",
          "name": "stdout",
          "text": [
            "['a', 'B', 'c', 'D', 'e', 'F', 'g', 'H', 'i', 'J', 'k', 'L', 'm', 'N', 'o', 'P', 'q', 'R', 's', 'T', 'u', 'V', 'w', 'X', 'y', 'Z']\n",
            "aBcDeFgHiJkLmNoPqRsTuVwXyZ"
          ]
        }
      ]
    },
    {
      "cell_type": "code",
      "source": [
        "# \"ABC\"에서 B를 Z로 변경하기\n",
        "\n",
        "strList = \"ABC\"\n",
        "# strList[1] = \"Z\"\n",
        "# print(strList)\n",
        "\n",
        "print(strList.replace(\"B\",\"Z\"))\n",
        "\n",
        "strList = strList.replace(\"B\",\"Z\")\n",
        "print(strList)\n"
      ],
      "metadata": {
        "colab": {
          "base_uri": "https://localhost:8080/"
        },
        "id": "kmFj5X1eBDZe",
        "outputId": "2409e77f-4b1a-4721-cc18-8101cf6df8cb"
      },
      "execution_count": null,
      "outputs": [
        {
          "output_type": "stream",
          "name": "stdout",
          "text": [
            "AZC\n",
            "AZC\n"
          ]
        }
      ]
    },
    {
      "cell_type": "code",
      "source": [
        "# 자연수를 한글로 변경\n",
        "# 입력 예)1024\n",
        "# 출력 예)일공이사\n",
        "\n",
        "# 1) 1024 % 10 == 4\n",
        "# 2) 1024 // 10 == 102\n",
        "# 3) 102 % 10 == 2\n",
        "# .\n",
        "# .\n",
        "# .\n",
        "\n",
        "\n",
        "num = int(input(\"자연수 입력 : \"))\n",
        "hangle = \"공일이삼사오육칠팔구\"\n",
        "result = \"\"\n",
        "\n",
        "\n",
        "while num != 0:\n",
        "  result = hangle[num % 10]  + result\n",
        "  num = num // 10\n",
        "\n",
        "print(result)"
      ],
      "metadata": {
        "colab": {
          "base_uri": "https://localhost:8080/"
        },
        "id": "TMvlKN2SEpyK",
        "outputId": "64ec0443-a355-4eda-d01a-082b1f9a7cef"
      },
      "execution_count": null,
      "outputs": [
        {
          "output_type": "stream",
          "name": "stdout",
          "text": [
            "자연수 입력 : 1233\n",
            "일이삼삼\n"
          ]
        }
      ]
    },
    {
      "cell_type": "code",
      "source": [
        "#############################################################################"
      ],
      "metadata": {
        "id": "e3h08zntjUm5"
      },
      "execution_count": null,
      "outputs": []
    },
    {
      "cell_type": "code",
      "source": [
        "dataList1 = [1,2,3]\n",
        "dataList2 = dataList1\n",
        "\n",
        "dataList2.append(4)\n",
        "print(dataList1)"
      ],
      "metadata": {
        "colab": {
          "base_uri": "https://localhost:8080/"
        },
        "id": "9mIYrjyJjXVo",
        "outputId": "7bd446aa-dead-46af-e6d7-f74a9c0fecaf"
      },
      "execution_count": null,
      "outputs": [
        {
          "output_type": "stream",
          "name": "stdout",
          "text": [
            "[1, 2, 3, 4]\n"
          ]
        }
      ]
    },
    {
      "cell_type": "code",
      "source": [
        "dataTuple1 = (1,2,3)\n",
        "\n"
      ],
      "metadata": {
        "id": "AcirJaHBj7_d"
      },
      "execution_count": null,
      "outputs": []
    },
    {
      "cell_type": "code",
      "source": [
        "###################################################################"
      ],
      "metadata": {
        "id": "7Dim9Awymw8t"
      },
      "execution_count": null,
      "outputs": []
    },
    {
      "cell_type": "code",
      "source": [
        "중국집 = {\n",
        "    \"자장면\" : 1500,\n",
        "    \"짬뽕\" : 2500\n",
        "       }\n",
        "\n",
        "print(len(중국집))\n",
        "print(중국집[\"자장면\"])\n",
        "\n",
        "if \"자장면\" in  중국집:\n",
        "  중국집[\"자장면\"] = 4000\n",
        "\n",
        "print(중국집)\n",
        "\n",
        "if \"탕수육\" not in 중국집:\n",
        "  중국집[\"탕수육\"] = 9000\n",
        "\n",
        "print(중국집)\n",
        "\n",
        "\n",
        "\n",
        "for i in 중국집.keys():\n",
        "  print(i)\n",
        "\n",
        "for i in range(len(중국집)):\n",
        "  print(str(i+1) + \". \" + list(중국집.keys())[i])\n",
        "\n",
        "\n",
        "\n",
        "total = 0\n",
        "for i in 중국집.values():\n",
        "  total += i\n",
        "\n",
        "avg = total / len(중국집)\n",
        "print(\"평균가격 : %.2f원\" %avg)"
      ],
      "metadata": {
        "colab": {
          "base_uri": "https://localhost:8080/"
        },
        "id": "8yd8EJRimyOx",
        "outputId": "53085acb-4859-4425-bd2e-ec5cc66bbeb5"
      },
      "execution_count": null,
      "outputs": [
        {
          "output_type": "stream",
          "name": "stdout",
          "text": [
            "2\n",
            "1500\n",
            "{'자장면': 4000, '짬뽕': 2500}\n",
            "{'자장면': 4000, '짬뽕': 2500, '탕수육': 9000}\n",
            "자장면\n",
            "짬뽕\n",
            "탕수육\n",
            "1. 자장면\n",
            "2. 짬뽕\n",
            "3. 탕수육\n",
            "평균가격 : 5166.67원\n"
          ]
        }
      ]
    },
    {
      "cell_type": "code",
      "source": [
        "# 등급을 입력받아서 학점을 출력해주는 프로그램\n",
        "# 2 입력시 B학점 입니다. 출력\n",
        "# 1~5등급 , A~F학점(E학점)\n",
        "\n",
        "num = int(input(\"점수를 입력하세요 : \"))\n",
        "\n",
        "if num == 1:\n",
        "  print(\"A\")\n",
        "elif num == 2:\n",
        "  print(\"B\")\n",
        "elif num == 3:\n",
        "  print(\"C\")\n",
        "elif num == 4:\n",
        "  print(\"D\")\n",
        "else :\n",
        "  print(\"F\")\n"
      ],
      "metadata": {
        "colab": {
          "base_uri": "https://localhost:8080/"
        },
        "id": "F3VEXS1no2kc",
        "outputId": "9aef6d99-ecdd-4f47-a513-608a6bd2b307"
      },
      "execution_count": null,
      "outputs": [
        {
          "output_type": "stream",
          "name": "stdout",
          "text": [
            "점수를 입력하세요 : 4\n",
            "D\n"
          ]
        }
      ]
    },
    {
      "cell_type": "code",
      "source": [
        "scoreDict = {}\n",
        "\n",
        "for i in range(5):\n",
        "  scoreDict[i+1] = chr(i+66) if i == 4 else chr(i + 65)\n",
        "\n",
        "rating = int(input(\"등급 : \"))\n",
        "\n",
        "for i in range(5):\n",
        "  if rating == i+1:\n",
        "    print(scoreDict[rating] + \"학점입니다.\")\n",
        "    break"
      ],
      "metadata": {
        "colab": {
          "base_uri": "https://localhost:8080/"
        },
        "id": "zU9mqzXnphxq",
        "outputId": "7eb4b111-ae29-480d-f87f-c0719952f4ba"
      },
      "execution_count": null,
      "outputs": [
        {
          "output_type": "stream",
          "name": "stdout",
          "text": [
            "등급 : 3\n",
            "C학점입니다.\n"
          ]
        }
      ]
    },
    {
      "cell_type": "code",
      "source": [
        "#########################################################################################"
      ],
      "metadata": {
        "id": "aDAA42nlrgiZ"
      },
      "execution_count": null,
      "outputs": []
    },
    {
      "cell_type": "code",
      "source": [
        "numDict = {\"even\" : [2,4,6], \"odd\" : [1,3,5]}\n",
        "\n",
        "for i in numDict[\"even\"]:\n",
        "  print(i)\n",
        "\n",
        "\n",
        "numListDict = {\"1학년\" : [[30,40,50], [80,90,100]]}\n",
        "\n",
        "for i in numListDict[\"1학년\"]:\n",
        "  for j in i:\n",
        "    print(j)\n",
        "  \n",
        "  print(\"=========\")"
      ],
      "metadata": {
        "colab": {
          "base_uri": "https://localhost:8080/"
        },
        "id": "3ZNj9ZoGrn4p",
        "outputId": "7f220e50-742c-4c82-ca89-ca0623ee51d0"
      },
      "execution_count": null,
      "outputs": [
        {
          "output_type": "stream",
          "name": "stdout",
          "text": [
            "2\n",
            "4\n",
            "6\n",
            "30\n",
            "40\n",
            "50\n",
            "=========\n",
            "80\n",
            "90\n",
            "100\n",
            "=========\n"
          ]
        }
      ]
    },
    {
      "cell_type": "code",
      "source": [
        "# 학생 이름과 학생 점수를 입력받고\n",
        "# 추가, 수정, 삭제, 목록\n",
        "\n",
        "title = \"학생 성적 관리 프로그램\\n\"\n",
        "\n",
        "msg = \"1.추가\\n 2.수정\\n 3.삭제\\n 4.목록\\n 5.나가기\\n\"\n",
        "\n",
        "errMsg = \"다시 시도해 주세요\"\n",
        "\n",
        "studentDict = {}\n",
        "subjectList = [\"국어\", \"영어\", \"수학\"]\n",
        "\n",
        "while True:\n",
        "  choice = int(input(title + msg))\n",
        "  #추가\n",
        "  if choice == 1:\n",
        "    name = input(\"학생이름 : \")\n",
        "    if name not in studentDict:\n",
        "      studentDict[name] = input(\"다음과 같이 각 점수를 입력하세요. : \\n예)국어,영어,수학 \").split(\",\")\n",
        "    else:\n",
        "      print(\"이미 등록된 학생입니다.\")\n",
        "    print(studentDict)\n",
        "  \n",
        "  #수정\n",
        "  elif choice == 2:\n",
        "    choice = int(input(\"1.학생명\\n2.점수\\n\"))\n",
        "    name = input(\"수정할 학생명 : \")\n",
        "    if choice ==1:\n",
        "      if name in studentDict:\n",
        "        new = input(\"새로운 학생명 : \")\n",
        "        # 기존학생을 삭제하기 전\n",
        "        # 점수를 임시로 담아 놓는다.\n",
        "        scoreList = studentDict[name]\n",
        "\n",
        "        # 기존 학생 삭제 후\n",
        "        # 새롭게 추가될 학생 추가(점수는 그대로)\n",
        "        del studentDict[name]\n",
        "        studentDict[new] = scoreList\n",
        "      else:\n",
        "        print(\"존재하지 않은 학생입니다.\")\n",
        "    elif choice == 2:\n",
        "      choice = int(input(\"1.국어점수\\n2.영어점수\\n3.수학점수\\n\"))\n",
        "      studentDict[name][choice-1] = int(input(\"새로운 점수 : \"))\n",
        "  \n",
        "  #삭제\n",
        "  elif choice == 3:\n",
        "    name = input(\"삭제할 학생명 : \")\n",
        "    if name in studentDict:\n",
        "      del studentDict[name]\n",
        "    else:\n",
        "      print(\"존재하지 않은 학생입니다.\")\n",
        "\n",
        "  # 목록\n",
        "  elif choice == 4:\n",
        "    for i in studentDict.keys():\n",
        "      print(\"[\" + i + \"]\")\n",
        "      cnt = 0\n",
        "      for j in studentDict[i]:\n",
        "        print(subjectList[cnt] + \":\" + str(j) + \"점\")\n",
        "        cnt += 1\n",
        "\n",
        "  #나가기\n",
        "  elif choice == 5:\n",
        "    break\n",
        "\n",
        "  # 그 외\n",
        "  else:\n",
        "    print(errMsg)"
      ],
      "metadata": {
        "colab": {
          "base_uri": "https://localhost:8080/"
        },
        "id": "0hlQ25gxsSAg",
        "outputId": "071c6838-8c11-46c4-b59a-ef37e0466348"
      },
      "execution_count": null,
      "outputs": [
        {
          "name": "stdout",
          "output_type": "stream",
          "text": [
            "학생 성적 관리 프로그램\n",
            "1.추가\n",
            " 2.수정\n",
            " 3.삭제\n",
            " 4.목록\n",
            " 5.나가기\n",
            "1\n",
            "학생이름 : 김준구\n",
            "다음과 같이 각 점수를 입력하세요. : \n",
            "예)국어,영어,수학 100,70,80\n",
            "{'김준구': ['100', '70', '80']}\n",
            "학생 성적 관리 프로그램\n",
            "1.추가\n",
            " 2.수정\n",
            " 3.삭제\n",
            " 4.목록\n",
            " 5.나가기\n",
            "5\n"
          ]
        }
      ]
    },
    {
      "cell_type": "code",
      "source": [
        "#################################################################################################"
      ],
      "metadata": {
        "id": "cCPLhDdNSY6S"
      },
      "execution_count": null,
      "outputs": []
    },
    {
      "cell_type": "code",
      "source": [
        "# f(x) = 2x + 1\n",
        "\n",
        "def f(x):\n",
        "  return 2*x+1\n",
        "\n",
        "print(f(3))"
      ],
      "metadata": {
        "colab": {
          "base_uri": "https://localhost:8080/"
        },
        "id": "6nLq-F15SaX7",
        "outputId": "6a99f3c9-fff3-4f8f-b109-b24a2c13c35f"
      },
      "execution_count": null,
      "outputs": [
        {
          "output_type": "stream",
          "name": "stdout",
          "text": [
            "7\n"
          ]
        }
      ]
    },
    {
      "cell_type": "code",
      "source": [
        "# 두 정수의 덧셈\n",
        "def add(num1,num2):\n",
        "  result = num1 + num2\n",
        "  print(result)\n",
        "\n",
        "add(1,3)"
      ],
      "metadata": {
        "colab": {
          "base_uri": "https://localhost:8080/"
        },
        "id": "RJd1_K2BSo-B",
        "outputId": "a00727fc-2bf2-4ff1-bc45-dbc2ca561eef"
      },
      "execution_count": null,
      "outputs": [
        {
          "output_type": "stream",
          "name": "stdout",
          "text": [
            "4\n"
          ]
        }
      ]
    },
    {
      "cell_type": "code",
      "source": [
        "# 1~100까지 print()로 출력하는 메소드\n",
        "\n",
        "def printFrom1To100():\n",
        "  for i in range(100):\n",
        "    print(i+1)\n",
        "\n",
        "printFrom1To100()"
      ],
      "metadata": {
        "id": "fAh8xbYOS0l6"
      },
      "execution_count": null,
      "outputs": []
    },
    {
      "cell_type": "code",
      "source": [
        "# 1~10까지 합을 구하는 메소드\n",
        "# def add1To10():\n",
        "#   result = 0\n",
        "#   for i in range(10):\n",
        "#     result = result + i\n",
        "\n",
        "# add1To10()\n",
        "\n",
        "\n",
        "\n",
        "def sumFrom1To10():\n",
        "  result = 0\n",
        "  for i in range(10):\n",
        "    result += i + 1\n",
        "\n",
        "  return result\n",
        "\n",
        "print(\"1~10까지의 합 : %d\" %sumFrom1To10())"
      ],
      "metadata": {
        "colab": {
          "base_uri": "https://localhost:8080/"
        },
        "id": "gSIpJUiMTJsB",
        "outputId": "7b5f6e92-a88e-4746-9e41-088005a54a9b"
      },
      "execution_count": null,
      "outputs": [
        {
          "output_type": "stream",
          "name": "stdout",
          "text": [
            "1~10까지의 합 : 55\n"
          ]
        }
      ]
    },
    {
      "cell_type": "code",
      "source": [
        "# 자연수를 음수로 바꿔주는 메소드\n",
        "\n",
        "def changeToNegative(num):\n",
        "\n",
        "  result = 0\n",
        "\n",
        "  if num > 0:\n",
        "    result = num * -1 \n",
        "  else:\n",
        "    result = False\n",
        "\n",
        "  return result\n",
        "\n",
        "result = changeToNegative(int(input(\"자연수 : \")))\n",
        "\n",
        "if not result:\n",
        "  print(\"자연수만 가능합니다.\")\n",
        "else:\n",
        "  print()"
      ],
      "metadata": {
        "colab": {
          "base_uri": "https://localhost:8080/"
        },
        "id": "4uPCYT4SUkkX",
        "outputId": "2f24da0a-f5e7-42cc-ea12-81bd7cee56fa"
      },
      "execution_count": null,
      "outputs": [
        {
          "output_type": "stream",
          "name": "stdout",
          "text": [
            "자연수 : 3\n",
            "\n"
          ]
        }
      ]
    },
    {
      "cell_type": "code",
      "source": [
        "# 1~n까지의 합을 print()로 출력하는 메소드\n",
        "\n",
        "# def sumFrom1toN():\n",
        "#   result = 0\n",
        "\n",
        "#   num = int(input(\"N을 넣으세요 : \"))\n",
        "#   for i in range(num):\n",
        "#     result = result + num\n",
        "#     return result\n",
        "\n",
        "#   print(result)\n",
        "\n",
        "\n",
        "\n",
        "def printSumFrom1(end):\n",
        "  result = 0\n",
        "  for i in range(end):\n",
        "    result += i + 1\n",
        "  print(result)\n",
        "\n",
        "printSumFrom1(10)"
      ],
      "metadata": {
        "colab": {
          "base_uri": "https://localhost:8080/"
        },
        "id": "aHkWXSMaVcf6",
        "outputId": "df82e972-d7f2-439b-c52d-5d474ae6cf6e"
      },
      "execution_count": null,
      "outputs": [
        {
          "output_type": "stream",
          "name": "stdout",
          "text": [
            "55\n"
          ]
        }
      ]
    },
    {
      "cell_type": "code",
      "source": [
        "# 홀수를 짝수로 짝수를 홀수로 바꿔주는 메소드\n",
        "\n",
        "def change(num):\n",
        "  if num > -1:\n",
        "    num += 1\n",
        "  else:\n",
        "    num = False\n",
        "  return num\n",
        "\n",
        "num = int(input(\"정수 : \"))\n",
        "result = change(num)\n",
        "\n",
        "if not result:\n",
        "  print(\"음수는 불가능합니다.\")\n",
        "else:\n",
        "  # print(result)\n",
        "  if result % 2 == 0:\n",
        "    print(\"홀수에서 짝수로 변경되었습니다.\")\n",
        "  else:\n",
        "    print(\"짝수에서 홀수로 변경되었습니다.\")"
      ],
      "metadata": {
        "colab": {
          "base_uri": "https://localhost:8080/"
        },
        "id": "XPcnfNubWrgE",
        "outputId": "4343922f-0062-4c84-be08-01a8f2eb0216"
      },
      "execution_count": null,
      "outputs": [
        {
          "output_type": "stream",
          "name": "stdout",
          "text": [
            "정수 : 2\n",
            "짝수에서 홀수로 변경되었습니다.\n"
          ]
        }
      ]
    },
    {
      "cell_type": "code",
      "source": [
        "#################################################################################"
      ],
      "metadata": {
        "id": "G_lBbxdhXZc7"
      },
      "execution_count": null,
      "outputs": []
    },
    {
      "cell_type": "code",
      "source": [
        ""
      ],
      "metadata": {
        "id": "O0gA-uCJX0x2"
      },
      "execution_count": null,
      "outputs": []
    }
  ]
}