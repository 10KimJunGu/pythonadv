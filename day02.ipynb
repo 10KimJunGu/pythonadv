{
 "cells": [
  {
   "cell_type": "code",
   "execution_count": 1,
   "metadata": {},
   "outputs": [],
   "source": [
    "import sys                     # 하드웨어 접근 모듈\n",
    "from PyQt5.QtWidgets import *  # 파이큐티 관련 모듈\n",
    "from PyQt5 import uic          # ui관련모듈"
   ]
  },
  {
   "cell_type": "code",
   "execution_count": 8,
   "metadata": {},
   "outputs": [
    {
     "ename": "NameError",
     "evalue": "name 'uic' is not defined",
     "output_type": "error",
     "traceback": [
      "\u001b[1;31m---------------------------------------------------------------------------\u001b[0m",
      "\u001b[1;31mNameError\u001b[0m                                 Traceback (most recent call last)",
      "\u001b[1;32m~\\AppData\\Local\\Temp/ipykernel_20492/2805117972.py\u001b[0m in \u001b[0;36m<module>\u001b[1;34m\u001b[0m\n\u001b[1;32m----> 1\u001b[1;33m \u001b[0mform_class\u001b[0m \u001b[1;33m=\u001b[0m \u001b[0muic\u001b[0m\u001b[1;33m.\u001b[0m\u001b[0mloadUiType\u001b[0m\u001b[1;33m(\u001b[0m\u001b[1;34m\"day02.ui\"\u001b[0m\u001b[1;33m)\u001b[0m\u001b[1;33m[\u001b[0m\u001b[1;36m0\u001b[0m\u001b[1;33m]\u001b[0m\u001b[1;33m\u001b[0m\u001b[1;33m\u001b[0m\u001b[0m\n\u001b[0m\u001b[0;32m      2\u001b[0m \u001b[1;33m\u001b[0m\u001b[0m\n\u001b[0;32m      3\u001b[0m \u001b[1;32mclass\u001b[0m \u001b[0mMyWindow\u001b[0m\u001b[1;33m(\u001b[0m\u001b[0mQMainWindow\u001b[0m\u001b[1;33m,\u001b[0m \u001b[0mform_class\u001b[0m\u001b[1;33m)\u001b[0m\u001b[1;33m:\u001b[0m      \u001b[1;31m#MyWindow 클래스를 상속받아서 작성\u001b[0m\u001b[1;33m\u001b[0m\u001b[1;33m\u001b[0m\u001b[0m\n\u001b[0;32m      4\u001b[0m     \u001b[1;32mdef\u001b[0m \u001b[0m__init__\u001b[0m\u001b[1;33m(\u001b[0m\u001b[0mself\u001b[0m\u001b[1;33m)\u001b[0m\u001b[1;33m:\u001b[0m                       \u001b[1;31m# 생성자로 창 생성\u001b[0m\u001b[1;33m\u001b[0m\u001b[1;33m\u001b[0m\u001b[0m\n\u001b[0;32m      5\u001b[0m         \u001b[0msuper\u001b[0m\u001b[1;33m(\u001b[0m\u001b[1;33m)\u001b[0m\u001b[1;33m.\u001b[0m\u001b[0m__init__\u001b[0m\u001b[1;33m(\u001b[0m\u001b[1;33m)\u001b[0m                    \u001b[1;31m# 부모의 생성자를 이용\u001b[0m\u001b[1;33m\u001b[0m\u001b[1;33m\u001b[0m\u001b[0m\n",
      "\u001b[1;31mNameError\u001b[0m: name 'uic' is not defined"
     ]
    }
   ],
   "source": [
    "form_class = uic.loadUiType(\"day02.ui\")[0]   \n",
    "\n",
    "class MyWindow(QMainWindow, form_class):      #MyWindow 클래스를 상속받아서 작성\n",
    "    def __init__(self):                       # 생성자로 창 생성\n",
    "        super().__init__()                    # 부모의 생성자를 이용\n",
    "        self.setupUi(self)                    # ui창 생성\n",
    "        \n",
    "app = QApplication(sys.argv)                  #파이썬은 원래 인터프리터 -> 한줄씩 실행 후 창이 꺼져야 정상\n",
    "window = MyWindow()                            # 윈도우 클래스로 객체 ㅡ생성\n",
    "window.show()                                  #생성한 객체를 통해 창을 보여주는\n",
    "app.exec_()                                    #윈도우 창이 열린상태로 계속 대기 유지\n"
   ]
  },
  {
   "cell_type": "code",
   "execution_count": 18,
   "metadata": {},
   "outputs": [
    {
     "data": {
      "text/plain": [
       "0"
      ]
     },
     "execution_count": 18,
     "metadata": {},
     "output_type": "execute_result"
    }
   ],
   "source": [
    "# 버튼이 동작하는 창\n",
    "import sys                     # 하드웨어 접근 모듈\n",
    "from PyQt5.QtWidgets import *  # 파이큐티 관련 모듈\n",
    "from PyQt5 import uic          # ui관련모듈 \n",
    "\n",
    "form_class = uic.loadUiType(\"day02.ui\")[0]   \n",
    "\n",
    "class MyWindow(QMainWindow, form_class):      #MyWindow 클래스를 상속받아서 작성\n",
    "    def __init__(self):                       # 생성자로 창 생성\n",
    "        super().__init__()                    # 부모의 생성자를 이용\n",
    "        self.setupUi(self)                    # ui창 생성\n",
    "        self.pushButton.clicked.connect(self.btn_clicked)  #단추 클릭시 연결되는 메서드 정의\n",
    "\n",
    "    def btn_clicked(self):\n",
    "        print(\"clicked\")\n",
    "        \n",
    "app = QApplication(sys.argv)                  #파이썬은 원래 인터프리터 -> 한줄씩 실행 후 창이 꺼져야 정상\n",
    "window = MyWindow()                            # 윈도우 클래스로 객체 ㅡ생성\n",
    "window.show()                                  #생성한 객체를 통해 창을 보여주는\n",
    "app.exec_()                                    #윈도우 창이 열린상태로 계속 대기 유지"
   ]
  }
 ],
 "metadata": {
  "interpreter": {
   "hash": "09fe7539e3808a05abd4a39376d99edb2da1a03a4c942372cde43e3f4b83c04e"
  },
  "kernelspec": {
   "display_name": "Python 3.9.7 ('base')",
   "language": "python",
   "name": "python3"
  },
  "language_info": {
   "codemirror_mode": {
    "name": "ipython",
    "version": 3
   },
   "file_extension": ".py",
   "mimetype": "text/x-python",
   "name": "python",
   "nbconvert_exporter": "python",
   "pygments_lexer": "ipython3",
   "version": "3.9.7"
  },
  "orig_nbformat": 4
 },
 "nbformat": 4,
 "nbformat_minor": 2
}
