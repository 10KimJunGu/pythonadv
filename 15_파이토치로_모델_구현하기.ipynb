{
  "nbformat": 4,
  "nbformat_minor": 0,
  "metadata": {
    "colab": {
      "provenance": [],
      "collapsed_sections": [],
      "authorship_tag": "ABX9TyMTC6/aMR5y67uW2tAGYC/g",
      "include_colab_link": true
    },
    "kernelspec": {
      "name": "python3",
      "display_name": "Python 3"
    },
    "language_info": {
      "name": "python"
    },
    "widgets": {
      "application/vnd.jupyter.widget-state+json": {
        "846ce9eb39f44450a2d57a2db17318fd": {
          "model_module": "@jupyter-widgets/controls",
          "model_name": "HBoxModel",
          "model_module_version": "1.5.0",
          "state": {
            "_dom_classes": [],
            "_model_module": "@jupyter-widgets/controls",
            "_model_module_version": "1.5.0",
            "_model_name": "HBoxModel",
            "_view_count": null,
            "_view_module": "@jupyter-widgets/controls",
            "_view_module_version": "1.5.0",
            "_view_name": "HBoxView",
            "box_style": "",
            "children": [
              "IPY_MODEL_e798980275e949b48b47f488099c270c",
              "IPY_MODEL_a0ffc8eea22f46738d5cd6db136f635b",
              "IPY_MODEL_0229ea76585f4d0b98ce05cdc1a12c91"
            ],
            "layout": "IPY_MODEL_bc7b0b7686fd4e63972aa4c6eb268d8a"
          }
        },
        "e798980275e949b48b47f488099c270c": {
          "model_module": "@jupyter-widgets/controls",
          "model_name": "HTMLModel",
          "model_module_version": "1.5.0",
          "state": {
            "_dom_classes": [],
            "_model_module": "@jupyter-widgets/controls",
            "_model_module_version": "1.5.0",
            "_model_name": "HTMLModel",
            "_view_count": null,
            "_view_module": "@jupyter-widgets/controls",
            "_view_module_version": "1.5.0",
            "_view_name": "HTMLView",
            "description": "",
            "description_tooltip": null,
            "layout": "IPY_MODEL_d0b33934ebd748578c934b404527daf6",
            "placeholder": "​",
            "style": "IPY_MODEL_e7a39dca6a5544f3b0e19421cef5e0bd",
            "value": "100%"
          }
        },
        "a0ffc8eea22f46738d5cd6db136f635b": {
          "model_module": "@jupyter-widgets/controls",
          "model_name": "FloatProgressModel",
          "model_module_version": "1.5.0",
          "state": {
            "_dom_classes": [],
            "_model_module": "@jupyter-widgets/controls",
            "_model_module_version": "1.5.0",
            "_model_name": "FloatProgressModel",
            "_view_count": null,
            "_view_module": "@jupyter-widgets/controls",
            "_view_module_version": "1.5.0",
            "_view_name": "ProgressView",
            "bar_style": "success",
            "description": "",
            "description_tooltip": null,
            "layout": "IPY_MODEL_3162376a27304a2eb5a34ea8e6da7c0b",
            "max": 9912422,
            "min": 0,
            "orientation": "horizontal",
            "style": "IPY_MODEL_4289a720f4dc470cbe8773fcc6fb3815",
            "value": 9912422
          }
        },
        "0229ea76585f4d0b98ce05cdc1a12c91": {
          "model_module": "@jupyter-widgets/controls",
          "model_name": "HTMLModel",
          "model_module_version": "1.5.0",
          "state": {
            "_dom_classes": [],
            "_model_module": "@jupyter-widgets/controls",
            "_model_module_version": "1.5.0",
            "_model_name": "HTMLModel",
            "_view_count": null,
            "_view_module": "@jupyter-widgets/controls",
            "_view_module_version": "1.5.0",
            "_view_name": "HTMLView",
            "description": "",
            "description_tooltip": null,
            "layout": "IPY_MODEL_11714dcd9be84140bd944bbe674c9174",
            "placeholder": "​",
            "style": "IPY_MODEL_9c9f4d49792e4ee9ad968c73cce09282",
            "value": " 9912422/9912422 [00:00&lt;00:00, 42843656.04it/s]"
          }
        },
        "bc7b0b7686fd4e63972aa4c6eb268d8a": {
          "model_module": "@jupyter-widgets/base",
          "model_name": "LayoutModel",
          "model_module_version": "1.2.0",
          "state": {
            "_model_module": "@jupyter-widgets/base",
            "_model_module_version": "1.2.0",
            "_model_name": "LayoutModel",
            "_view_count": null,
            "_view_module": "@jupyter-widgets/base",
            "_view_module_version": "1.2.0",
            "_view_name": "LayoutView",
            "align_content": null,
            "align_items": null,
            "align_self": null,
            "border": null,
            "bottom": null,
            "display": null,
            "flex": null,
            "flex_flow": null,
            "grid_area": null,
            "grid_auto_columns": null,
            "grid_auto_flow": null,
            "grid_auto_rows": null,
            "grid_column": null,
            "grid_gap": null,
            "grid_row": null,
            "grid_template_areas": null,
            "grid_template_columns": null,
            "grid_template_rows": null,
            "height": null,
            "justify_content": null,
            "justify_items": null,
            "left": null,
            "margin": null,
            "max_height": null,
            "max_width": null,
            "min_height": null,
            "min_width": null,
            "object_fit": null,
            "object_position": null,
            "order": null,
            "overflow": null,
            "overflow_x": null,
            "overflow_y": null,
            "padding": null,
            "right": null,
            "top": null,
            "visibility": null,
            "width": null
          }
        },
        "d0b33934ebd748578c934b404527daf6": {
          "model_module": "@jupyter-widgets/base",
          "model_name": "LayoutModel",
          "model_module_version": "1.2.0",
          "state": {
            "_model_module": "@jupyter-widgets/base",
            "_model_module_version": "1.2.0",
            "_model_name": "LayoutModel",
            "_view_count": null,
            "_view_module": "@jupyter-widgets/base",
            "_view_module_version": "1.2.0",
            "_view_name": "LayoutView",
            "align_content": null,
            "align_items": null,
            "align_self": null,
            "border": null,
            "bottom": null,
            "display": null,
            "flex": null,
            "flex_flow": null,
            "grid_area": null,
            "grid_auto_columns": null,
            "grid_auto_flow": null,
            "grid_auto_rows": null,
            "grid_column": null,
            "grid_gap": null,
            "grid_row": null,
            "grid_template_areas": null,
            "grid_template_columns": null,
            "grid_template_rows": null,
            "height": null,
            "justify_content": null,
            "justify_items": null,
            "left": null,
            "margin": null,
            "max_height": null,
            "max_width": null,
            "min_height": null,
            "min_width": null,
            "object_fit": null,
            "object_position": null,
            "order": null,
            "overflow": null,
            "overflow_x": null,
            "overflow_y": null,
            "padding": null,
            "right": null,
            "top": null,
            "visibility": null,
            "width": null
          }
        },
        "e7a39dca6a5544f3b0e19421cef5e0bd": {
          "model_module": "@jupyter-widgets/controls",
          "model_name": "DescriptionStyleModel",
          "model_module_version": "1.5.0",
          "state": {
            "_model_module": "@jupyter-widgets/controls",
            "_model_module_version": "1.5.0",
            "_model_name": "DescriptionStyleModel",
            "_view_count": null,
            "_view_module": "@jupyter-widgets/base",
            "_view_module_version": "1.2.0",
            "_view_name": "StyleView",
            "description_width": ""
          }
        },
        "3162376a27304a2eb5a34ea8e6da7c0b": {
          "model_module": "@jupyter-widgets/base",
          "model_name": "LayoutModel",
          "model_module_version": "1.2.0",
          "state": {
            "_model_module": "@jupyter-widgets/base",
            "_model_module_version": "1.2.0",
            "_model_name": "LayoutModel",
            "_view_count": null,
            "_view_module": "@jupyter-widgets/base",
            "_view_module_version": "1.2.0",
            "_view_name": "LayoutView",
            "align_content": null,
            "align_items": null,
            "align_self": null,
            "border": null,
            "bottom": null,
            "display": null,
            "flex": null,
            "flex_flow": null,
            "grid_area": null,
            "grid_auto_columns": null,
            "grid_auto_flow": null,
            "grid_auto_rows": null,
            "grid_column": null,
            "grid_gap": null,
            "grid_row": null,
            "grid_template_areas": null,
            "grid_template_columns": null,
            "grid_template_rows": null,
            "height": null,
            "justify_content": null,
            "justify_items": null,
            "left": null,
            "margin": null,
            "max_height": null,
            "max_width": null,
            "min_height": null,
            "min_width": null,
            "object_fit": null,
            "object_position": null,
            "order": null,
            "overflow": null,
            "overflow_x": null,
            "overflow_y": null,
            "padding": null,
            "right": null,
            "top": null,
            "visibility": null,
            "width": null
          }
        },
        "4289a720f4dc470cbe8773fcc6fb3815": {
          "model_module": "@jupyter-widgets/controls",
          "model_name": "ProgressStyleModel",
          "model_module_version": "1.5.0",
          "state": {
            "_model_module": "@jupyter-widgets/controls",
            "_model_module_version": "1.5.0",
            "_model_name": "ProgressStyleModel",
            "_view_count": null,
            "_view_module": "@jupyter-widgets/base",
            "_view_module_version": "1.2.0",
            "_view_name": "StyleView",
            "bar_color": null,
            "description_width": ""
          }
        },
        "11714dcd9be84140bd944bbe674c9174": {
          "model_module": "@jupyter-widgets/base",
          "model_name": "LayoutModel",
          "model_module_version": "1.2.0",
          "state": {
            "_model_module": "@jupyter-widgets/base",
            "_model_module_version": "1.2.0",
            "_model_name": "LayoutModel",
            "_view_count": null,
            "_view_module": "@jupyter-widgets/base",
            "_view_module_version": "1.2.0",
            "_view_name": "LayoutView",
            "align_content": null,
            "align_items": null,
            "align_self": null,
            "border": null,
            "bottom": null,
            "display": null,
            "flex": null,
            "flex_flow": null,
            "grid_area": null,
            "grid_auto_columns": null,
            "grid_auto_flow": null,
            "grid_auto_rows": null,
            "grid_column": null,
            "grid_gap": null,
            "grid_row": null,
            "grid_template_areas": null,
            "grid_template_columns": null,
            "grid_template_rows": null,
            "height": null,
            "justify_content": null,
            "justify_items": null,
            "left": null,
            "margin": null,
            "max_height": null,
            "max_width": null,
            "min_height": null,
            "min_width": null,
            "object_fit": null,
            "object_position": null,
            "order": null,
            "overflow": null,
            "overflow_x": null,
            "overflow_y": null,
            "padding": null,
            "right": null,
            "top": null,
            "visibility": null,
            "width": null
          }
        },
        "9c9f4d49792e4ee9ad968c73cce09282": {
          "model_module": "@jupyter-widgets/controls",
          "model_name": "DescriptionStyleModel",
          "model_module_version": "1.5.0",
          "state": {
            "_model_module": "@jupyter-widgets/controls",
            "_model_module_version": "1.5.0",
            "_model_name": "DescriptionStyleModel",
            "_view_count": null,
            "_view_module": "@jupyter-widgets/base",
            "_view_module_version": "1.2.0",
            "_view_name": "StyleView",
            "description_width": ""
          }
        },
        "850d24553b7b4bc09ead96ba9c8cca19": {
          "model_module": "@jupyter-widgets/controls",
          "model_name": "HBoxModel",
          "model_module_version": "1.5.0",
          "state": {
            "_dom_classes": [],
            "_model_module": "@jupyter-widgets/controls",
            "_model_module_version": "1.5.0",
            "_model_name": "HBoxModel",
            "_view_count": null,
            "_view_module": "@jupyter-widgets/controls",
            "_view_module_version": "1.5.0",
            "_view_name": "HBoxView",
            "box_style": "",
            "children": [
              "IPY_MODEL_a5b79b8e15b34278ad0234c0c98b5819",
              "IPY_MODEL_3ff6dd1955f542d4b72a86a6238ffefa",
              "IPY_MODEL_880f0ed162d94f2b9e17956779b78582"
            ],
            "layout": "IPY_MODEL_24006b9c73964321ba52d1b73853f08a"
          }
        },
        "a5b79b8e15b34278ad0234c0c98b5819": {
          "model_module": "@jupyter-widgets/controls",
          "model_name": "HTMLModel",
          "model_module_version": "1.5.0",
          "state": {
            "_dom_classes": [],
            "_model_module": "@jupyter-widgets/controls",
            "_model_module_version": "1.5.0",
            "_model_name": "HTMLModel",
            "_view_count": null,
            "_view_module": "@jupyter-widgets/controls",
            "_view_module_version": "1.5.0",
            "_view_name": "HTMLView",
            "description": "",
            "description_tooltip": null,
            "layout": "IPY_MODEL_b1de723e646646e88ff5577b908b2298",
            "placeholder": "​",
            "style": "IPY_MODEL_b8e26049cc464b8ea400cd1ed71ff8b5",
            "value": "100%"
          }
        },
        "3ff6dd1955f542d4b72a86a6238ffefa": {
          "model_module": "@jupyter-widgets/controls",
          "model_name": "FloatProgressModel",
          "model_module_version": "1.5.0",
          "state": {
            "_dom_classes": [],
            "_model_module": "@jupyter-widgets/controls",
            "_model_module_version": "1.5.0",
            "_model_name": "FloatProgressModel",
            "_view_count": null,
            "_view_module": "@jupyter-widgets/controls",
            "_view_module_version": "1.5.0",
            "_view_name": "ProgressView",
            "bar_style": "success",
            "description": "",
            "description_tooltip": null,
            "layout": "IPY_MODEL_095201ea612e4f8eac8b3dabc83dc7b2",
            "max": 28881,
            "min": 0,
            "orientation": "horizontal",
            "style": "IPY_MODEL_c43c57cb108b435b83c32cee545ed62a",
            "value": 28881
          }
        },
        "880f0ed162d94f2b9e17956779b78582": {
          "model_module": "@jupyter-widgets/controls",
          "model_name": "HTMLModel",
          "model_module_version": "1.5.0",
          "state": {
            "_dom_classes": [],
            "_model_module": "@jupyter-widgets/controls",
            "_model_module_version": "1.5.0",
            "_model_name": "HTMLModel",
            "_view_count": null,
            "_view_module": "@jupyter-widgets/controls",
            "_view_module_version": "1.5.0",
            "_view_name": "HTMLView",
            "description": "",
            "description_tooltip": null,
            "layout": "IPY_MODEL_78f4887a5d824ea9ba6b4ee32f845ce3",
            "placeholder": "​",
            "style": "IPY_MODEL_6a2148b850a647a7b88a68a183ae09f4",
            "value": " 28881/28881 [00:00&lt;00:00, 490128.28it/s]"
          }
        },
        "24006b9c73964321ba52d1b73853f08a": {
          "model_module": "@jupyter-widgets/base",
          "model_name": "LayoutModel",
          "model_module_version": "1.2.0",
          "state": {
            "_model_module": "@jupyter-widgets/base",
            "_model_module_version": "1.2.0",
            "_model_name": "LayoutModel",
            "_view_count": null,
            "_view_module": "@jupyter-widgets/base",
            "_view_module_version": "1.2.0",
            "_view_name": "LayoutView",
            "align_content": null,
            "align_items": null,
            "align_self": null,
            "border": null,
            "bottom": null,
            "display": null,
            "flex": null,
            "flex_flow": null,
            "grid_area": null,
            "grid_auto_columns": null,
            "grid_auto_flow": null,
            "grid_auto_rows": null,
            "grid_column": null,
            "grid_gap": null,
            "grid_row": null,
            "grid_template_areas": null,
            "grid_template_columns": null,
            "grid_template_rows": null,
            "height": null,
            "justify_content": null,
            "justify_items": null,
            "left": null,
            "margin": null,
            "max_height": null,
            "max_width": null,
            "min_height": null,
            "min_width": null,
            "object_fit": null,
            "object_position": null,
            "order": null,
            "overflow": null,
            "overflow_x": null,
            "overflow_y": null,
            "padding": null,
            "right": null,
            "top": null,
            "visibility": null,
            "width": null
          }
        },
        "b1de723e646646e88ff5577b908b2298": {
          "model_module": "@jupyter-widgets/base",
          "model_name": "LayoutModel",
          "model_module_version": "1.2.0",
          "state": {
            "_model_module": "@jupyter-widgets/base",
            "_model_module_version": "1.2.0",
            "_model_name": "LayoutModel",
            "_view_count": null,
            "_view_module": "@jupyter-widgets/base",
            "_view_module_version": "1.2.0",
            "_view_name": "LayoutView",
            "align_content": null,
            "align_items": null,
            "align_self": null,
            "border": null,
            "bottom": null,
            "display": null,
            "flex": null,
            "flex_flow": null,
            "grid_area": null,
            "grid_auto_columns": null,
            "grid_auto_flow": null,
            "grid_auto_rows": null,
            "grid_column": null,
            "grid_gap": null,
            "grid_row": null,
            "grid_template_areas": null,
            "grid_template_columns": null,
            "grid_template_rows": null,
            "height": null,
            "justify_content": null,
            "justify_items": null,
            "left": null,
            "margin": null,
            "max_height": null,
            "max_width": null,
            "min_height": null,
            "min_width": null,
            "object_fit": null,
            "object_position": null,
            "order": null,
            "overflow": null,
            "overflow_x": null,
            "overflow_y": null,
            "padding": null,
            "right": null,
            "top": null,
            "visibility": null,
            "width": null
          }
        },
        "b8e26049cc464b8ea400cd1ed71ff8b5": {
          "model_module": "@jupyter-widgets/controls",
          "model_name": "DescriptionStyleModel",
          "model_module_version": "1.5.0",
          "state": {
            "_model_module": "@jupyter-widgets/controls",
            "_model_module_version": "1.5.0",
            "_model_name": "DescriptionStyleModel",
            "_view_count": null,
            "_view_module": "@jupyter-widgets/base",
            "_view_module_version": "1.2.0",
            "_view_name": "StyleView",
            "description_width": ""
          }
        },
        "095201ea612e4f8eac8b3dabc83dc7b2": {
          "model_module": "@jupyter-widgets/base",
          "model_name": "LayoutModel",
          "model_module_version": "1.2.0",
          "state": {
            "_model_module": "@jupyter-widgets/base",
            "_model_module_version": "1.2.0",
            "_model_name": "LayoutModel",
            "_view_count": null,
            "_view_module": "@jupyter-widgets/base",
            "_view_module_version": "1.2.0",
            "_view_name": "LayoutView",
            "align_content": null,
            "align_items": null,
            "align_self": null,
            "border": null,
            "bottom": null,
            "display": null,
            "flex": null,
            "flex_flow": null,
            "grid_area": null,
            "grid_auto_columns": null,
            "grid_auto_flow": null,
            "grid_auto_rows": null,
            "grid_column": null,
            "grid_gap": null,
            "grid_row": null,
            "grid_template_areas": null,
            "grid_template_columns": null,
            "grid_template_rows": null,
            "height": null,
            "justify_content": null,
            "justify_items": null,
            "left": null,
            "margin": null,
            "max_height": null,
            "max_width": null,
            "min_height": null,
            "min_width": null,
            "object_fit": null,
            "object_position": null,
            "order": null,
            "overflow": null,
            "overflow_x": null,
            "overflow_y": null,
            "padding": null,
            "right": null,
            "top": null,
            "visibility": null,
            "width": null
          }
        },
        "c43c57cb108b435b83c32cee545ed62a": {
          "model_module": "@jupyter-widgets/controls",
          "model_name": "ProgressStyleModel",
          "model_module_version": "1.5.0",
          "state": {
            "_model_module": "@jupyter-widgets/controls",
            "_model_module_version": "1.5.0",
            "_model_name": "ProgressStyleModel",
            "_view_count": null,
            "_view_module": "@jupyter-widgets/base",
            "_view_module_version": "1.2.0",
            "_view_name": "StyleView",
            "bar_color": null,
            "description_width": ""
          }
        },
        "78f4887a5d824ea9ba6b4ee32f845ce3": {
          "model_module": "@jupyter-widgets/base",
          "model_name": "LayoutModel",
          "model_module_version": "1.2.0",
          "state": {
            "_model_module": "@jupyter-widgets/base",
            "_model_module_version": "1.2.0",
            "_model_name": "LayoutModel",
            "_view_count": null,
            "_view_module": "@jupyter-widgets/base",
            "_view_module_version": "1.2.0",
            "_view_name": "LayoutView",
            "align_content": null,
            "align_items": null,
            "align_self": null,
            "border": null,
            "bottom": null,
            "display": null,
            "flex": null,
            "flex_flow": null,
            "grid_area": null,
            "grid_auto_columns": null,
            "grid_auto_flow": null,
            "grid_auto_rows": null,
            "grid_column": null,
            "grid_gap": null,
            "grid_row": null,
            "grid_template_areas": null,
            "grid_template_columns": null,
            "grid_template_rows": null,
            "height": null,
            "justify_content": null,
            "justify_items": null,
            "left": null,
            "margin": null,
            "max_height": null,
            "max_width": null,
            "min_height": null,
            "min_width": null,
            "object_fit": null,
            "object_position": null,
            "order": null,
            "overflow": null,
            "overflow_x": null,
            "overflow_y": null,
            "padding": null,
            "right": null,
            "top": null,
            "visibility": null,
            "width": null
          }
        },
        "6a2148b850a647a7b88a68a183ae09f4": {
          "model_module": "@jupyter-widgets/controls",
          "model_name": "DescriptionStyleModel",
          "model_module_version": "1.5.0",
          "state": {
            "_model_module": "@jupyter-widgets/controls",
            "_model_module_version": "1.5.0",
            "_model_name": "DescriptionStyleModel",
            "_view_count": null,
            "_view_module": "@jupyter-widgets/base",
            "_view_module_version": "1.2.0",
            "_view_name": "StyleView",
            "description_width": ""
          }
        },
        "172f04f70f324e8d9c3576410af4751e": {
          "model_module": "@jupyter-widgets/controls",
          "model_name": "HBoxModel",
          "model_module_version": "1.5.0",
          "state": {
            "_dom_classes": [],
            "_model_module": "@jupyter-widgets/controls",
            "_model_module_version": "1.5.0",
            "_model_name": "HBoxModel",
            "_view_count": null,
            "_view_module": "@jupyter-widgets/controls",
            "_view_module_version": "1.5.0",
            "_view_name": "HBoxView",
            "box_style": "",
            "children": [
              "IPY_MODEL_6548264bcd2e451db826956dd92a2fcc",
              "IPY_MODEL_61a6dcb78e294ccb93b536f9aec5379b",
              "IPY_MODEL_1193037f50c24e4e9454323ae958ed79"
            ],
            "layout": "IPY_MODEL_06583f747b044f09a199b9395ec2d1c6"
          }
        },
        "6548264bcd2e451db826956dd92a2fcc": {
          "model_module": "@jupyter-widgets/controls",
          "model_name": "HTMLModel",
          "model_module_version": "1.5.0",
          "state": {
            "_dom_classes": [],
            "_model_module": "@jupyter-widgets/controls",
            "_model_module_version": "1.5.0",
            "_model_name": "HTMLModel",
            "_view_count": null,
            "_view_module": "@jupyter-widgets/controls",
            "_view_module_version": "1.5.0",
            "_view_name": "HTMLView",
            "description": "",
            "description_tooltip": null,
            "layout": "IPY_MODEL_adf577cad8344fe285a799ec8e42668f",
            "placeholder": "​",
            "style": "IPY_MODEL_dd826ae0c82846b994ff80bedbeabfc2",
            "value": "100%"
          }
        },
        "61a6dcb78e294ccb93b536f9aec5379b": {
          "model_module": "@jupyter-widgets/controls",
          "model_name": "FloatProgressModel",
          "model_module_version": "1.5.0",
          "state": {
            "_dom_classes": [],
            "_model_module": "@jupyter-widgets/controls",
            "_model_module_version": "1.5.0",
            "_model_name": "FloatProgressModel",
            "_view_count": null,
            "_view_module": "@jupyter-widgets/controls",
            "_view_module_version": "1.5.0",
            "_view_name": "ProgressView",
            "bar_style": "success",
            "description": "",
            "description_tooltip": null,
            "layout": "IPY_MODEL_d031191cd0f94cbd91a38eb2f19b8f45",
            "max": 1648877,
            "min": 0,
            "orientation": "horizontal",
            "style": "IPY_MODEL_ed1fb72a25f54ce595daef4059d598de",
            "value": 1648877
          }
        },
        "1193037f50c24e4e9454323ae958ed79": {
          "model_module": "@jupyter-widgets/controls",
          "model_name": "HTMLModel",
          "model_module_version": "1.5.0",
          "state": {
            "_dom_classes": [],
            "_model_module": "@jupyter-widgets/controls",
            "_model_module_version": "1.5.0",
            "_model_name": "HTMLModel",
            "_view_count": null,
            "_view_module": "@jupyter-widgets/controls",
            "_view_module_version": "1.5.0",
            "_view_name": "HTMLView",
            "description": "",
            "description_tooltip": null,
            "layout": "IPY_MODEL_6ca4a780f8784a7389114877fca859fd",
            "placeholder": "​",
            "style": "IPY_MODEL_42ad3bfac4a646668ed47a6e286888e2",
            "value": " 1648877/1648877 [00:00&lt;00:00, 19292104.22it/s]"
          }
        },
        "06583f747b044f09a199b9395ec2d1c6": {
          "model_module": "@jupyter-widgets/base",
          "model_name": "LayoutModel",
          "model_module_version": "1.2.0",
          "state": {
            "_model_module": "@jupyter-widgets/base",
            "_model_module_version": "1.2.0",
            "_model_name": "LayoutModel",
            "_view_count": null,
            "_view_module": "@jupyter-widgets/base",
            "_view_module_version": "1.2.0",
            "_view_name": "LayoutView",
            "align_content": null,
            "align_items": null,
            "align_self": null,
            "border": null,
            "bottom": null,
            "display": null,
            "flex": null,
            "flex_flow": null,
            "grid_area": null,
            "grid_auto_columns": null,
            "grid_auto_flow": null,
            "grid_auto_rows": null,
            "grid_column": null,
            "grid_gap": null,
            "grid_row": null,
            "grid_template_areas": null,
            "grid_template_columns": null,
            "grid_template_rows": null,
            "height": null,
            "justify_content": null,
            "justify_items": null,
            "left": null,
            "margin": null,
            "max_height": null,
            "max_width": null,
            "min_height": null,
            "min_width": null,
            "object_fit": null,
            "object_position": null,
            "order": null,
            "overflow": null,
            "overflow_x": null,
            "overflow_y": null,
            "padding": null,
            "right": null,
            "top": null,
            "visibility": null,
            "width": null
          }
        },
        "adf577cad8344fe285a799ec8e42668f": {
          "model_module": "@jupyter-widgets/base",
          "model_name": "LayoutModel",
          "model_module_version": "1.2.0",
          "state": {
            "_model_module": "@jupyter-widgets/base",
            "_model_module_version": "1.2.0",
            "_model_name": "LayoutModel",
            "_view_count": null,
            "_view_module": "@jupyter-widgets/base",
            "_view_module_version": "1.2.0",
            "_view_name": "LayoutView",
            "align_content": null,
            "align_items": null,
            "align_self": null,
            "border": null,
            "bottom": null,
            "display": null,
            "flex": null,
            "flex_flow": null,
            "grid_area": null,
            "grid_auto_columns": null,
            "grid_auto_flow": null,
            "grid_auto_rows": null,
            "grid_column": null,
            "grid_gap": null,
            "grid_row": null,
            "grid_template_areas": null,
            "grid_template_columns": null,
            "grid_template_rows": null,
            "height": null,
            "justify_content": null,
            "justify_items": null,
            "left": null,
            "margin": null,
            "max_height": null,
            "max_width": null,
            "min_height": null,
            "min_width": null,
            "object_fit": null,
            "object_position": null,
            "order": null,
            "overflow": null,
            "overflow_x": null,
            "overflow_y": null,
            "padding": null,
            "right": null,
            "top": null,
            "visibility": null,
            "width": null
          }
        },
        "dd826ae0c82846b994ff80bedbeabfc2": {
          "model_module": "@jupyter-widgets/controls",
          "model_name": "DescriptionStyleModel",
          "model_module_version": "1.5.0",
          "state": {
            "_model_module": "@jupyter-widgets/controls",
            "_model_module_version": "1.5.0",
            "_model_name": "DescriptionStyleModel",
            "_view_count": null,
            "_view_module": "@jupyter-widgets/base",
            "_view_module_version": "1.2.0",
            "_view_name": "StyleView",
            "description_width": ""
          }
        },
        "d031191cd0f94cbd91a38eb2f19b8f45": {
          "model_module": "@jupyter-widgets/base",
          "model_name": "LayoutModel",
          "model_module_version": "1.2.0",
          "state": {
            "_model_module": "@jupyter-widgets/base",
            "_model_module_version": "1.2.0",
            "_model_name": "LayoutModel",
            "_view_count": null,
            "_view_module": "@jupyter-widgets/base",
            "_view_module_version": "1.2.0",
            "_view_name": "LayoutView",
            "align_content": null,
            "align_items": null,
            "align_self": null,
            "border": null,
            "bottom": null,
            "display": null,
            "flex": null,
            "flex_flow": null,
            "grid_area": null,
            "grid_auto_columns": null,
            "grid_auto_flow": null,
            "grid_auto_rows": null,
            "grid_column": null,
            "grid_gap": null,
            "grid_row": null,
            "grid_template_areas": null,
            "grid_template_columns": null,
            "grid_template_rows": null,
            "height": null,
            "justify_content": null,
            "justify_items": null,
            "left": null,
            "margin": null,
            "max_height": null,
            "max_width": null,
            "min_height": null,
            "min_width": null,
            "object_fit": null,
            "object_position": null,
            "order": null,
            "overflow": null,
            "overflow_x": null,
            "overflow_y": null,
            "padding": null,
            "right": null,
            "top": null,
            "visibility": null,
            "width": null
          }
        },
        "ed1fb72a25f54ce595daef4059d598de": {
          "model_module": "@jupyter-widgets/controls",
          "model_name": "ProgressStyleModel",
          "model_module_version": "1.5.0",
          "state": {
            "_model_module": "@jupyter-widgets/controls",
            "_model_module_version": "1.5.0",
            "_model_name": "ProgressStyleModel",
            "_view_count": null,
            "_view_module": "@jupyter-widgets/base",
            "_view_module_version": "1.2.0",
            "_view_name": "StyleView",
            "bar_color": null,
            "description_width": ""
          }
        },
        "6ca4a780f8784a7389114877fca859fd": {
          "model_module": "@jupyter-widgets/base",
          "model_name": "LayoutModel",
          "model_module_version": "1.2.0",
          "state": {
            "_model_module": "@jupyter-widgets/base",
            "_model_module_version": "1.2.0",
            "_model_name": "LayoutModel",
            "_view_count": null,
            "_view_module": "@jupyter-widgets/base",
            "_view_module_version": "1.2.0",
            "_view_name": "LayoutView",
            "align_content": null,
            "align_items": null,
            "align_self": null,
            "border": null,
            "bottom": null,
            "display": null,
            "flex": null,
            "flex_flow": null,
            "grid_area": null,
            "grid_auto_columns": null,
            "grid_auto_flow": null,
            "grid_auto_rows": null,
            "grid_column": null,
            "grid_gap": null,
            "grid_row": null,
            "grid_template_areas": null,
            "grid_template_columns": null,
            "grid_template_rows": null,
            "height": null,
            "justify_content": null,
            "justify_items": null,
            "left": null,
            "margin": null,
            "max_height": null,
            "max_width": null,
            "min_height": null,
            "min_width": null,
            "object_fit": null,
            "object_position": null,
            "order": null,
            "overflow": null,
            "overflow_x": null,
            "overflow_y": null,
            "padding": null,
            "right": null,
            "top": null,
            "visibility": null,
            "width": null
          }
        },
        "42ad3bfac4a646668ed47a6e286888e2": {
          "model_module": "@jupyter-widgets/controls",
          "model_name": "DescriptionStyleModel",
          "model_module_version": "1.5.0",
          "state": {
            "_model_module": "@jupyter-widgets/controls",
            "_model_module_version": "1.5.0",
            "_model_name": "DescriptionStyleModel",
            "_view_count": null,
            "_view_module": "@jupyter-widgets/base",
            "_view_module_version": "1.2.0",
            "_view_name": "StyleView",
            "description_width": ""
          }
        },
        "5f39eaf8aaeb4cd098d8ef8fc6bf5b46": {
          "model_module": "@jupyter-widgets/controls",
          "model_name": "HBoxModel",
          "model_module_version": "1.5.0",
          "state": {
            "_dom_classes": [],
            "_model_module": "@jupyter-widgets/controls",
            "_model_module_version": "1.5.0",
            "_model_name": "HBoxModel",
            "_view_count": null,
            "_view_module": "@jupyter-widgets/controls",
            "_view_module_version": "1.5.0",
            "_view_name": "HBoxView",
            "box_style": "",
            "children": [
              "IPY_MODEL_b10a2a26cba84dfcb4285e7c5d92232f",
              "IPY_MODEL_d6496f252f8d43b9b553058e4653c194",
              "IPY_MODEL_309562d9506246e98629651cf68534dc"
            ],
            "layout": "IPY_MODEL_063a530f731248f7ac91d842f892fdb1"
          }
        },
        "b10a2a26cba84dfcb4285e7c5d92232f": {
          "model_module": "@jupyter-widgets/controls",
          "model_name": "HTMLModel",
          "model_module_version": "1.5.0",
          "state": {
            "_dom_classes": [],
            "_model_module": "@jupyter-widgets/controls",
            "_model_module_version": "1.5.0",
            "_model_name": "HTMLModel",
            "_view_count": null,
            "_view_module": "@jupyter-widgets/controls",
            "_view_module_version": "1.5.0",
            "_view_name": "HTMLView",
            "description": "",
            "description_tooltip": null,
            "layout": "IPY_MODEL_2e721880d30a4ef1866a1570e3e011b8",
            "placeholder": "​",
            "style": "IPY_MODEL_7b6cc7164de441198cebedad6b0c5416",
            "value": "100%"
          }
        },
        "d6496f252f8d43b9b553058e4653c194": {
          "model_module": "@jupyter-widgets/controls",
          "model_name": "FloatProgressModel",
          "model_module_version": "1.5.0",
          "state": {
            "_dom_classes": [],
            "_model_module": "@jupyter-widgets/controls",
            "_model_module_version": "1.5.0",
            "_model_name": "FloatProgressModel",
            "_view_count": null,
            "_view_module": "@jupyter-widgets/controls",
            "_view_module_version": "1.5.0",
            "_view_name": "ProgressView",
            "bar_style": "success",
            "description": "",
            "description_tooltip": null,
            "layout": "IPY_MODEL_0cd66c2988af4a0a90ff7bed39414e97",
            "max": 4542,
            "min": 0,
            "orientation": "horizontal",
            "style": "IPY_MODEL_94ac93405af3489abd9e9063ae3d246c",
            "value": 4542
          }
        },
        "309562d9506246e98629651cf68534dc": {
          "model_module": "@jupyter-widgets/controls",
          "model_name": "HTMLModel",
          "model_module_version": "1.5.0",
          "state": {
            "_dom_classes": [],
            "_model_module": "@jupyter-widgets/controls",
            "_model_module_version": "1.5.0",
            "_model_name": "HTMLModel",
            "_view_count": null,
            "_view_module": "@jupyter-widgets/controls",
            "_view_module_version": "1.5.0",
            "_view_name": "HTMLView",
            "description": "",
            "description_tooltip": null,
            "layout": "IPY_MODEL_c17006b2e1e7484b941f2458cdcdfff6",
            "placeholder": "​",
            "style": "IPY_MODEL_86d0a8d5d51347a1bb053c1af4786d3c",
            "value": " 4542/4542 [00:00&lt;00:00, 74806.23it/s]"
          }
        },
        "063a530f731248f7ac91d842f892fdb1": {
          "model_module": "@jupyter-widgets/base",
          "model_name": "LayoutModel",
          "model_module_version": "1.2.0",
          "state": {
            "_model_module": "@jupyter-widgets/base",
            "_model_module_version": "1.2.0",
            "_model_name": "LayoutModel",
            "_view_count": null,
            "_view_module": "@jupyter-widgets/base",
            "_view_module_version": "1.2.0",
            "_view_name": "LayoutView",
            "align_content": null,
            "align_items": null,
            "align_self": null,
            "border": null,
            "bottom": null,
            "display": null,
            "flex": null,
            "flex_flow": null,
            "grid_area": null,
            "grid_auto_columns": null,
            "grid_auto_flow": null,
            "grid_auto_rows": null,
            "grid_column": null,
            "grid_gap": null,
            "grid_row": null,
            "grid_template_areas": null,
            "grid_template_columns": null,
            "grid_template_rows": null,
            "height": null,
            "justify_content": null,
            "justify_items": null,
            "left": null,
            "margin": null,
            "max_height": null,
            "max_width": null,
            "min_height": null,
            "min_width": null,
            "object_fit": null,
            "object_position": null,
            "order": null,
            "overflow": null,
            "overflow_x": null,
            "overflow_y": null,
            "padding": null,
            "right": null,
            "top": null,
            "visibility": null,
            "width": null
          }
        },
        "2e721880d30a4ef1866a1570e3e011b8": {
          "model_module": "@jupyter-widgets/base",
          "model_name": "LayoutModel",
          "model_module_version": "1.2.0",
          "state": {
            "_model_module": "@jupyter-widgets/base",
            "_model_module_version": "1.2.0",
            "_model_name": "LayoutModel",
            "_view_count": null,
            "_view_module": "@jupyter-widgets/base",
            "_view_module_version": "1.2.0",
            "_view_name": "LayoutView",
            "align_content": null,
            "align_items": null,
            "align_self": null,
            "border": null,
            "bottom": null,
            "display": null,
            "flex": null,
            "flex_flow": null,
            "grid_area": null,
            "grid_auto_columns": null,
            "grid_auto_flow": null,
            "grid_auto_rows": null,
            "grid_column": null,
            "grid_gap": null,
            "grid_row": null,
            "grid_template_areas": null,
            "grid_template_columns": null,
            "grid_template_rows": null,
            "height": null,
            "justify_content": null,
            "justify_items": null,
            "left": null,
            "margin": null,
            "max_height": null,
            "max_width": null,
            "min_height": null,
            "min_width": null,
            "object_fit": null,
            "object_position": null,
            "order": null,
            "overflow": null,
            "overflow_x": null,
            "overflow_y": null,
            "padding": null,
            "right": null,
            "top": null,
            "visibility": null,
            "width": null
          }
        },
        "7b6cc7164de441198cebedad6b0c5416": {
          "model_module": "@jupyter-widgets/controls",
          "model_name": "DescriptionStyleModel",
          "model_module_version": "1.5.0",
          "state": {
            "_model_module": "@jupyter-widgets/controls",
            "_model_module_version": "1.5.0",
            "_model_name": "DescriptionStyleModel",
            "_view_count": null,
            "_view_module": "@jupyter-widgets/base",
            "_view_module_version": "1.2.0",
            "_view_name": "StyleView",
            "description_width": ""
          }
        },
        "0cd66c2988af4a0a90ff7bed39414e97": {
          "model_module": "@jupyter-widgets/base",
          "model_name": "LayoutModel",
          "model_module_version": "1.2.0",
          "state": {
            "_model_module": "@jupyter-widgets/base",
            "_model_module_version": "1.2.0",
            "_model_name": "LayoutModel",
            "_view_count": null,
            "_view_module": "@jupyter-widgets/base",
            "_view_module_version": "1.2.0",
            "_view_name": "LayoutView",
            "align_content": null,
            "align_items": null,
            "align_self": null,
            "border": null,
            "bottom": null,
            "display": null,
            "flex": null,
            "flex_flow": null,
            "grid_area": null,
            "grid_auto_columns": null,
            "grid_auto_flow": null,
            "grid_auto_rows": null,
            "grid_column": null,
            "grid_gap": null,
            "grid_row": null,
            "grid_template_areas": null,
            "grid_template_columns": null,
            "grid_template_rows": null,
            "height": null,
            "justify_content": null,
            "justify_items": null,
            "left": null,
            "margin": null,
            "max_height": null,
            "max_width": null,
            "min_height": null,
            "min_width": null,
            "object_fit": null,
            "object_position": null,
            "order": null,
            "overflow": null,
            "overflow_x": null,
            "overflow_y": null,
            "padding": null,
            "right": null,
            "top": null,
            "visibility": null,
            "width": null
          }
        },
        "94ac93405af3489abd9e9063ae3d246c": {
          "model_module": "@jupyter-widgets/controls",
          "model_name": "ProgressStyleModel",
          "model_module_version": "1.5.0",
          "state": {
            "_model_module": "@jupyter-widgets/controls",
            "_model_module_version": "1.5.0",
            "_model_name": "ProgressStyleModel",
            "_view_count": null,
            "_view_module": "@jupyter-widgets/base",
            "_view_module_version": "1.2.0",
            "_view_name": "StyleView",
            "bar_color": null,
            "description_width": ""
          }
        },
        "c17006b2e1e7484b941f2458cdcdfff6": {
          "model_module": "@jupyter-widgets/base",
          "model_name": "LayoutModel",
          "model_module_version": "1.2.0",
          "state": {
            "_model_module": "@jupyter-widgets/base",
            "_model_module_version": "1.2.0",
            "_model_name": "LayoutModel",
            "_view_count": null,
            "_view_module": "@jupyter-widgets/base",
            "_view_module_version": "1.2.0",
            "_view_name": "LayoutView",
            "align_content": null,
            "align_items": null,
            "align_self": null,
            "border": null,
            "bottom": null,
            "display": null,
            "flex": null,
            "flex_flow": null,
            "grid_area": null,
            "grid_auto_columns": null,
            "grid_auto_flow": null,
            "grid_auto_rows": null,
            "grid_column": null,
            "grid_gap": null,
            "grid_row": null,
            "grid_template_areas": null,
            "grid_template_columns": null,
            "grid_template_rows": null,
            "height": null,
            "justify_content": null,
            "justify_items": null,
            "left": null,
            "margin": null,
            "max_height": null,
            "max_width": null,
            "min_height": null,
            "min_width": null,
            "object_fit": null,
            "object_position": null,
            "order": null,
            "overflow": null,
            "overflow_x": null,
            "overflow_y": null,
            "padding": null,
            "right": null,
            "top": null,
            "visibility": null,
            "width": null
          }
        },
        "86d0a8d5d51347a1bb053c1af4786d3c": {
          "model_module": "@jupyter-widgets/controls",
          "model_name": "DescriptionStyleModel",
          "model_module_version": "1.5.0",
          "state": {
            "_model_module": "@jupyter-widgets/controls",
            "_model_module_version": "1.5.0",
            "_model_name": "DescriptionStyleModel",
            "_view_count": null,
            "_view_module": "@jupyter-widgets/base",
            "_view_module_version": "1.2.0",
            "_view_name": "StyleView",
            "description_width": ""
          }
        }
      }
    }
  },
  "cells": [
    {
      "cell_type": "markdown",
      "metadata": {
        "id": "view-in-github",
        "colab_type": "text"
      },
      "source": [
        "<a href=\"https://colab.research.google.com/github/10KimJunGu/pythonadv/blob/main/15_%ED%8C%8C%EC%9D%B4%ED%86%A0%EC%B9%98%EB%A1%9C_%EB%AA%A8%EB%8D%B8_%EA%B5%AC%ED%98%84%ED%95%98%EA%B8%B0.ipynb\" target=\"_parent\"><img src=\"https://colab.research.google.com/assets/colab-badge.svg\" alt=\"Open In Colab\"/></a>"
      ]
    },
    {
      "cell_type": "code",
      "execution_count": 1,
      "metadata": {
        "id": "-vOxP98Sj7px"
      },
      "outputs": [],
      "source": [
        "import torch\n",
        "from torch import nn\n",
        "from torch.utils.data import DataLoader\n",
        "from torchvision import datasets\n",
        "from torchvision.transforms import ToTensor, Lambda, Compose\n",
        "import matplotlib.pyplot as plt\n",
        "import numpy as np"
      ]
    },
    {
      "cell_type": "code",
      "source": [
        "# 손글씨 데이터셋을 내려받음\n",
        "training_data = datasets.MNIST(\n",
        "    root=\"data\",\n",
        "    train=True,\n",
        "    download=True,\n",
        "    transform=ToTensor()\n",
        ")\n",
        "\n",
        "test_data = datasets.MNIST(\n",
        "    root=\"data\",\n",
        "    train=False,\n",
        "    download=True,\n",
        "    transform=ToTensor()\n",
        ")"
      ],
      "metadata": {
        "colab": {
          "base_uri": "https://localhost:8080/",
          "height": 439,
          "referenced_widgets": [
            "846ce9eb39f44450a2d57a2db17318fd",
            "e798980275e949b48b47f488099c270c",
            "a0ffc8eea22f46738d5cd6db136f635b",
            "0229ea76585f4d0b98ce05cdc1a12c91",
            "bc7b0b7686fd4e63972aa4c6eb268d8a",
            "d0b33934ebd748578c934b404527daf6",
            "e7a39dca6a5544f3b0e19421cef5e0bd",
            "3162376a27304a2eb5a34ea8e6da7c0b",
            "4289a720f4dc470cbe8773fcc6fb3815",
            "11714dcd9be84140bd944bbe674c9174",
            "9c9f4d49792e4ee9ad968c73cce09282",
            "850d24553b7b4bc09ead96ba9c8cca19",
            "a5b79b8e15b34278ad0234c0c98b5819",
            "3ff6dd1955f542d4b72a86a6238ffefa",
            "880f0ed162d94f2b9e17956779b78582",
            "24006b9c73964321ba52d1b73853f08a",
            "b1de723e646646e88ff5577b908b2298",
            "b8e26049cc464b8ea400cd1ed71ff8b5",
            "095201ea612e4f8eac8b3dabc83dc7b2",
            "c43c57cb108b435b83c32cee545ed62a",
            "78f4887a5d824ea9ba6b4ee32f845ce3",
            "6a2148b850a647a7b88a68a183ae09f4",
            "172f04f70f324e8d9c3576410af4751e",
            "6548264bcd2e451db826956dd92a2fcc",
            "61a6dcb78e294ccb93b536f9aec5379b",
            "1193037f50c24e4e9454323ae958ed79",
            "06583f747b044f09a199b9395ec2d1c6",
            "adf577cad8344fe285a799ec8e42668f",
            "dd826ae0c82846b994ff80bedbeabfc2",
            "d031191cd0f94cbd91a38eb2f19b8f45",
            "ed1fb72a25f54ce595daef4059d598de",
            "6ca4a780f8784a7389114877fca859fd",
            "42ad3bfac4a646668ed47a6e286888e2",
            "5f39eaf8aaeb4cd098d8ef8fc6bf5b46",
            "b10a2a26cba84dfcb4285e7c5d92232f",
            "d6496f252f8d43b9b553058e4653c194",
            "309562d9506246e98629651cf68534dc",
            "063a530f731248f7ac91d842f892fdb1",
            "2e721880d30a4ef1866a1570e3e011b8",
            "7b6cc7164de441198cebedad6b0c5416",
            "0cd66c2988af4a0a90ff7bed39414e97",
            "94ac93405af3489abd9e9063ae3d246c",
            "c17006b2e1e7484b941f2458cdcdfff6",
            "86d0a8d5d51347a1bb053c1af4786d3c"
          ]
        },
        "id": "Elgj2Vyej-q2",
        "outputId": "0398ab5c-a523-4cf8-f3d1-59716ccadbd6"
      },
      "execution_count": 2,
      "outputs": [
        {
          "output_type": "stream",
          "name": "stdout",
          "text": [
            "Downloading http://yann.lecun.com/exdb/mnist/train-images-idx3-ubyte.gz\n",
            "Downloading http://yann.lecun.com/exdb/mnist/train-images-idx3-ubyte.gz to data/MNIST/raw/train-images-idx3-ubyte.gz\n"
          ]
        },
        {
          "output_type": "display_data",
          "data": {
            "text/plain": [
              "  0%|          | 0/9912422 [00:00<?, ?it/s]"
            ],
            "application/vnd.jupyter.widget-view+json": {
              "version_major": 2,
              "version_minor": 0,
              "model_id": "846ce9eb39f44450a2d57a2db17318fd"
            }
          },
          "metadata": {}
        },
        {
          "output_type": "stream",
          "name": "stdout",
          "text": [
            "Extracting data/MNIST/raw/train-images-idx3-ubyte.gz to data/MNIST/raw\n",
            "\n",
            "Downloading http://yann.lecun.com/exdb/mnist/train-labels-idx1-ubyte.gz\n",
            "Downloading http://yann.lecun.com/exdb/mnist/train-labels-idx1-ubyte.gz to data/MNIST/raw/train-labels-idx1-ubyte.gz\n"
          ]
        },
        {
          "output_type": "display_data",
          "data": {
            "text/plain": [
              "  0%|          | 0/28881 [00:00<?, ?it/s]"
            ],
            "application/vnd.jupyter.widget-view+json": {
              "version_major": 2,
              "version_minor": 0,
              "model_id": "850d24553b7b4bc09ead96ba9c8cca19"
            }
          },
          "metadata": {}
        },
        {
          "output_type": "stream",
          "name": "stdout",
          "text": [
            "Extracting data/MNIST/raw/train-labels-idx1-ubyte.gz to data/MNIST/raw\n",
            "\n",
            "Downloading http://yann.lecun.com/exdb/mnist/t10k-images-idx3-ubyte.gz\n",
            "Downloading http://yann.lecun.com/exdb/mnist/t10k-images-idx3-ubyte.gz to data/MNIST/raw/t10k-images-idx3-ubyte.gz\n"
          ]
        },
        {
          "output_type": "display_data",
          "data": {
            "text/plain": [
              "  0%|          | 0/1648877 [00:00<?, ?it/s]"
            ],
            "application/vnd.jupyter.widget-view+json": {
              "version_major": 2,
              "version_minor": 0,
              "model_id": "172f04f70f324e8d9c3576410af4751e"
            }
          },
          "metadata": {}
        },
        {
          "output_type": "stream",
          "name": "stdout",
          "text": [
            "Extracting data/MNIST/raw/t10k-images-idx3-ubyte.gz to data/MNIST/raw\n",
            "\n",
            "Downloading http://yann.lecun.com/exdb/mnist/t10k-labels-idx1-ubyte.gz\n",
            "Downloading http://yann.lecun.com/exdb/mnist/t10k-labels-idx1-ubyte.gz to data/MNIST/raw/t10k-labels-idx1-ubyte.gz\n"
          ]
        },
        {
          "output_type": "display_data",
          "data": {
            "text/plain": [
              "  0%|          | 0/4542 [00:00<?, ?it/s]"
            ],
            "application/vnd.jupyter.widget-view+json": {
              "version_major": 2,
              "version_minor": 0,
              "model_id": "5f39eaf8aaeb4cd098d8ef8fc6bf5b46"
            }
          },
          "metadata": {}
        },
        {
          "output_type": "stream",
          "name": "stdout",
          "text": [
            "Extracting data/MNIST/raw/t10k-labels-idx1-ubyte.gz to data/MNIST/raw\n",
            "\n"
          ]
        }
      ]
    },
    {
      "cell_type": "code",
      "source": [
        "# 데이터로더 생성\n",
        "batch_size = 64\n",
        "\n",
        "train_dataloader = DataLoader(training_data, batch_size=batch_size)\n",
        "test_dataloader = DataLoader(test_data, batch_size=batch_size)\n",
        "\n",
        "for X, y in test_dataloader:\n",
        "    print('Shape of X [N, C, H, W]: ', X.shape)\n",
        "    print('Shape of y: ', y.shape, y.dtype)\n",
        "    print(y)\n",
        "    break\n",
        "\n",
        "print(len(test_dataloader))"
      ],
      "metadata": {
        "colab": {
          "base_uri": "https://localhost:8080/"
        },
        "id": "qKfrA8y1kBM7",
        "outputId": "ab2f2640-6e53-4ef8-f5db-659f7d602ec5"
      },
      "execution_count": 3,
      "outputs": [
        {
          "output_type": "stream",
          "name": "stdout",
          "text": [
            "Shape of X [N, C, H, W]:  torch.Size([64, 1, 28, 28])\n",
            "Shape of y:  torch.Size([64]) torch.int64\n",
            "tensor([7, 2, 1, 0, 4, 1, 4, 9, 5, 9, 0, 6, 9, 0, 1, 5, 9, 7, 3, 4, 9, 6, 6, 5,\n",
            "        4, 0, 7, 4, 0, 1, 3, 1, 3, 4, 7, 2, 7, 1, 2, 1, 1, 7, 4, 2, 3, 5, 1, 2,\n",
            "        4, 4, 6, 3, 5, 5, 6, 0, 4, 1, 9, 5, 7, 8, 9, 3])\n",
            "157\n"
          ]
        }
      ]
    },
    {
      "cell_type": "code",
      "source": [
        "# 학습에 사용할 CPU장치나 GPU장치를 얻음\n",
        "device = 'cuda' if torch.cuda.is_available() else 'cpu'\n",
        "print('사용중인 디바이스: {}'.format(device))"
      ],
      "metadata": {
        "colab": {
          "base_uri": "https://localhost:8080/"
        },
        "id": "OnRltIf3kCcP",
        "outputId": "cba8685c-732a-4231-b3f5-052d6fb8cbc1"
      },
      "execution_count": 4,
      "outputs": [
        {
          "output_type": "stream",
          "name": "stdout",
          "text": [
            "사용중인 디바이스: cpu\n"
          ]
        }
      ]
    },
    {
      "cell_type": "code",
      "source": [
        "# 모델을 정의\n",
        "class NeuralNetwork(nn.Module):\n",
        "    def __init__(self):\n",
        "        super(NeuralNetwork, self).__init__()\n",
        "        self.flatten = nn.Flatten() # 784\n",
        "        self.linear_relu_stack = nn.Sequential(\n",
        "            nn.Linear(28*28, 128),\n",
        "            nn.ReLU(),\n",
        "            nn.Dropout(0.2),\n",
        "            nn.Linear(128, 10)\n",
        "        )\n",
        "\n",
        "    def forward(self, x):\n",
        "        x = self.flatten(x)\n",
        "        logits = self.linear_relu_stack(x)\n",
        "        return logits"
      ],
      "metadata": {
        "id": "1CcfFIIukDqU"
      },
      "execution_count": 5,
      "outputs": []
    },
    {
      "cell_type": "code",
      "source": [
        "# Linear(in_features=784(28*28), out_features=128(157-128=?), bias=True)\n",
        "# bias=True: 해당 in_features, out_features에 의해 layer는 bias추가하여 자동으로 학습함\n",
        "model = NeuralNetwork().to(device)\n",
        "print(model)"
      ],
      "metadata": {
        "colab": {
          "base_uri": "https://localhost:8080/"
        },
        "id": "daXhfjZakFGY",
        "outputId": "cc69944a-6cbf-4bdd-bc09-7b4946368b96"
      },
      "execution_count": 6,
      "outputs": [
        {
          "output_type": "stream",
          "name": "stdout",
          "text": [
            "NeuralNetwork(\n",
            "  (flatten): Flatten(start_dim=1, end_dim=-1)\n",
            "  (linear_relu_stack): Sequential(\n",
            "    (0): Linear(in_features=784, out_features=128, bias=True)\n",
            "    (1): ReLU()\n",
            "    (2): Dropout(p=0.2, inplace=False)\n",
            "    (3): Linear(in_features=128, out_features=10, bias=True)\n",
            "  )\n",
            ")\n"
          ]
        }
      ]
    },
    {
      "cell_type": "code",
      "source": [
        "loss_fn = nn.CrossEntropyLoss()\n",
        "optimizer = torch.optim.Adam(model.parameters(), lr=1e-3)"
      ],
      "metadata": {
        "id": "mjRsXswkkGLt"
      },
      "execution_count": 7,
      "outputs": []
    },
    {
      "cell_type": "code",
      "source": [
        "# Training을 위한 함수\n",
        "def train(dataloader, model, loss_fn, optimzer):\n",
        "    size = len(dataloader.dataset)\n",
        "    for batch, (X, y) in enumerate(dataloader):\n",
        "        X, y = X.to(device), y.to(device)\n",
        "\n",
        "        # 예측 오류 계산\n",
        "        pred = model(X)\n",
        "        loss = loss_fn(pred, y)\n",
        "\n",
        "        optimizer.zero_grad()\n",
        "        loss.backward()\n",
        "        optimizer.step()\n",
        "\n",
        "        if batch % 100 == 0:\n",
        "            loss, current = loss.item(), batch * len(X)\n",
        "            print(f'loss: {loss:>7f} [{current:>5d}/{size:>5d}]')"
      ],
      "metadata": {
        "id": "3ZqkLuE-kHeK"
      },
      "execution_count": 8,
      "outputs": []
    },
    {
      "cell_type": "code",
      "source": [
        "epochs = 10\n",
        "for t in range(epochs):\n",
        "    print(f'Epoch {t+1}\\--------------------')\n",
        "    train(train_dataloader, model, loss_fn, optimizer)\n",
        "print('끝!')"
      ],
      "metadata": {
        "colab": {
          "base_uri": "https://localhost:8080/"
        },
        "id": "P0EyBggJkItg",
        "outputId": "d12aead3-45e0-42e3-9fc4-2bb41e744209"
      },
      "execution_count": 9,
      "outputs": [
        {
          "output_type": "stream",
          "name": "stdout",
          "text": [
            "Epoch 1\\--------------------\n",
            "loss: 2.307340 [    0/60000]\n",
            "loss: 0.456653 [ 6400/60000]\n",
            "loss: 0.328775 [12800/60000]\n",
            "loss: 0.381958 [19200/60000]\n",
            "loss: 0.264252 [25600/60000]\n",
            "loss: 0.322594 [32000/60000]\n",
            "loss: 0.162851 [38400/60000]\n",
            "loss: 0.413547 [44800/60000]\n",
            "loss: 0.247483 [51200/60000]\n",
            "loss: 0.325302 [57600/60000]\n",
            "Epoch 2\\--------------------\n",
            "loss: 0.157041 [    0/60000]\n",
            "loss: 0.233891 [ 6400/60000]\n",
            "loss: 0.117488 [12800/60000]\n",
            "loss: 0.263366 [19200/60000]\n",
            "loss: 0.206533 [25600/60000]\n",
            "loss: 0.203263 [32000/60000]\n",
            "loss: 0.078983 [38400/60000]\n",
            "loss: 0.243965 [44800/60000]\n",
            "loss: 0.167537 [51200/60000]\n",
            "loss: 0.310786 [57600/60000]\n",
            "Epoch 3\\--------------------\n",
            "loss: 0.092073 [    0/60000]\n",
            "loss: 0.122171 [ 6400/60000]\n",
            "loss: 0.085207 [12800/60000]\n",
            "loss: 0.103818 [19200/60000]\n",
            "loss: 0.200002 [25600/60000]\n",
            "loss: 0.203289 [32000/60000]\n",
            "loss: 0.056380 [38400/60000]\n",
            "loss: 0.177596 [44800/60000]\n",
            "loss: 0.167889 [51200/60000]\n",
            "loss: 0.206150 [57600/60000]\n",
            "Epoch 4\\--------------------\n",
            "loss: 0.066528 [    0/60000]\n",
            "loss: 0.086095 [ 6400/60000]\n",
            "loss: 0.074806 [12800/60000]\n",
            "loss: 0.063171 [19200/60000]\n",
            "loss: 0.123581 [25600/60000]\n",
            "loss: 0.192261 [32000/60000]\n",
            "loss: 0.073587 [38400/60000]\n",
            "loss: 0.233212 [44800/60000]\n",
            "loss: 0.100991 [51200/60000]\n",
            "loss: 0.172647 [57600/60000]\n",
            "Epoch 5\\--------------------\n",
            "loss: 0.043664 [    0/60000]\n",
            "loss: 0.091662 [ 6400/60000]\n",
            "loss: 0.050011 [12800/60000]\n",
            "loss: 0.081424 [19200/60000]\n",
            "loss: 0.089374 [25600/60000]\n",
            "loss: 0.082510 [32000/60000]\n",
            "loss: 0.043885 [38400/60000]\n",
            "loss: 0.253526 [44800/60000]\n",
            "loss: 0.134283 [51200/60000]\n",
            "loss: 0.131670 [57600/60000]\n",
            "Epoch 6\\--------------------\n",
            "loss: 0.042300 [    0/60000]\n",
            "loss: 0.108094 [ 6400/60000]\n",
            "loss: 0.066765 [12800/60000]\n",
            "loss: 0.046124 [19200/60000]\n",
            "loss: 0.090606 [25600/60000]\n",
            "loss: 0.072152 [32000/60000]\n",
            "loss: 0.061096 [38400/60000]\n",
            "loss: 0.175026 [44800/60000]\n",
            "loss: 0.143439 [51200/60000]\n",
            "loss: 0.087533 [57600/60000]\n",
            "Epoch 7\\--------------------\n",
            "loss: 0.035812 [    0/60000]\n",
            "loss: 0.061201 [ 6400/60000]\n",
            "loss: 0.044427 [12800/60000]\n",
            "loss: 0.070283 [19200/60000]\n",
            "loss: 0.064059 [25600/60000]\n",
            "loss: 0.072716 [32000/60000]\n",
            "loss: 0.038579 [38400/60000]\n",
            "loss: 0.157950 [44800/60000]\n",
            "loss: 0.123705 [51200/60000]\n",
            "loss: 0.074644 [57600/60000]\n",
            "Epoch 8\\--------------------\n",
            "loss: 0.036279 [    0/60000]\n",
            "loss: 0.084298 [ 6400/60000]\n",
            "loss: 0.051776 [12800/60000]\n",
            "loss: 0.031040 [19200/60000]\n",
            "loss: 0.022462 [25600/60000]\n",
            "loss: 0.202685 [32000/60000]\n",
            "loss: 0.057471 [38400/60000]\n",
            "loss: 0.157929 [44800/60000]\n",
            "loss: 0.059480 [51200/60000]\n",
            "loss: 0.106817 [57600/60000]\n",
            "Epoch 9\\--------------------\n",
            "loss: 0.040973 [    0/60000]\n",
            "loss: 0.097530 [ 6400/60000]\n",
            "loss: 0.084011 [12800/60000]\n",
            "loss: 0.050058 [19200/60000]\n",
            "loss: 0.071467 [25600/60000]\n",
            "loss: 0.127328 [32000/60000]\n",
            "loss: 0.028377 [38400/60000]\n",
            "loss: 0.126696 [44800/60000]\n",
            "loss: 0.098126 [51200/60000]\n",
            "loss: 0.077297 [57600/60000]\n",
            "Epoch 10\\--------------------\n",
            "loss: 0.042473 [    0/60000]\n",
            "loss: 0.077770 [ 6400/60000]\n",
            "loss: 0.076288 [12800/60000]\n",
            "loss: 0.031105 [19200/60000]\n",
            "loss: 0.038452 [25600/60000]\n",
            "loss: 0.081535 [32000/60000]\n",
            "loss: 0.041069 [38400/60000]\n",
            "loss: 0.077577 [44800/60000]\n",
            "loss: 0.064551 [51200/60000]\n",
            "loss: 0.047914 [57600/60000]\n",
            "끝!\n"
          ]
        }
      ]
    },
    {
      "cell_type": "code",
      "source": [
        "# Test을 위한 함수\n",
        "def test(dataloader, model, loss_fn):\n",
        "    size = len(dataloader.dataset)\n",
        "    num_batches = len(dataloader)\n",
        "    model.eval()\n",
        "    test_loss, current = 0, 0\n",
        "\n",
        "    # autograd를 사용하지 않음으로 메모리 사용량을 줄이고 연산 속도를 높임\n",
        "    with torch.no_grad():\n",
        "        for X, y in dataloader:\n",
        "            X, y = X.to(device), y.to(device)\n",
        "            pred = model(X)\n",
        "            test_loss += loss_fn(pred, y).item()\n",
        "            current += (pred.argmax(1) == y).type(torch.float).sum().item()\n",
        "        test_loss /= num_batches\n",
        "        current /= size\n",
        "        print(f'Test Error: \\n Accuracy: {(100*current):>0.1f}%, Avg loss: {test_loss:>8f} \\n')"
      ],
      "metadata": {
        "id": "9XuOTOIvkJwj"
      },
      "execution_count": 10,
      "outputs": []
    },
    {
      "cell_type": "code",
      "source": [
        "epochs = 10\n",
        "for t in range(epochs):\n",
        "    print(f'Epoch {t+1}\\--------------------')\n",
        "    train(train_dataloader, model, loss_fn, optimizer)\n",
        "    test(train_dataloader, model, loss_fn)\n",
        "print('끝!')"
      ],
      "metadata": {
        "colab": {
          "base_uri": "https://localhost:8080/"
        },
        "id": "Fup1mUb6kcmz",
        "outputId": "47c2e981-9c69-412d-cb67-d68ea316f68d"
      },
      "execution_count": 11,
      "outputs": [
        {
          "output_type": "stream",
          "name": "stdout",
          "text": [
            "Epoch 1\\--------------------\n",
            "loss: 0.041700 [    0/60000]\n",
            "loss: 0.070097 [ 6400/60000]\n",
            "loss: 0.049786 [12800/60000]\n",
            "loss: 0.018882 [19200/60000]\n",
            "loss: 0.080904 [25600/60000]\n",
            "loss: 0.099132 [32000/60000]\n",
            "loss: 0.042321 [38400/60000]\n",
            "loss: 0.042692 [44800/60000]\n",
            "loss: 0.086293 [51200/60000]\n",
            "loss: 0.063580 [57600/60000]\n",
            "Test Error: \n",
            " Accuracy: 99.3%, Avg loss: 0.025004 \n",
            "\n",
            "Epoch 2\\--------------------\n",
            "loss: 0.007920 [    0/60000]\n",
            "loss: 0.030075 [ 6400/60000]\n",
            "loss: 0.030017 [12800/60000]\n",
            "loss: 0.012084 [19200/60000]\n",
            "loss: 0.005585 [25600/60000]\n",
            "loss: 0.016259 [32000/60000]\n",
            "loss: 0.015235 [38400/60000]\n",
            "loss: 0.039674 [44800/60000]\n",
            "loss: 0.059369 [51200/60000]\n",
            "loss: 0.006251 [57600/60000]\n",
            "Test Error: \n",
            " Accuracy: 99.5%, Avg loss: 0.017317 \n",
            "\n",
            "Epoch 3\\--------------------\n",
            "loss: 0.005599 [    0/60000]\n",
            "loss: 0.015189 [ 6400/60000]\n",
            "loss: 0.026862 [12800/60000]\n",
            "loss: 0.009112 [19200/60000]\n",
            "loss: 0.004600 [25600/60000]\n",
            "loss: 0.011558 [32000/60000]\n",
            "loss: 0.005655 [38400/60000]\n",
            "loss: 0.027173 [44800/60000]\n",
            "loss: 0.039302 [51200/60000]\n",
            "loss: 0.004293 [57600/60000]\n",
            "Test Error: \n",
            " Accuracy: 99.6%, Avg loss: 0.014299 \n",
            "\n",
            "Epoch 4\\--------------------\n",
            "loss: 0.005397 [    0/60000]\n",
            "loss: 0.009865 [ 6400/60000]\n",
            "loss: 0.026469 [12800/60000]\n",
            "loss: 0.011213 [19200/60000]\n",
            "loss: 0.004297 [25600/60000]\n",
            "loss: 0.008873 [32000/60000]\n",
            "loss: 0.006765 [38400/60000]\n",
            "loss: 0.015301 [44800/60000]\n",
            "loss: 0.035305 [51200/60000]\n",
            "loss: 0.003762 [57600/60000]\n",
            "Test Error: \n",
            " Accuracy: 99.7%, Avg loss: 0.011873 \n",
            "\n",
            "Epoch 5\\--------------------\n",
            "loss: 0.003847 [    0/60000]\n",
            "loss: 0.004708 [ 6400/60000]\n",
            "loss: 0.019447 [12800/60000]\n",
            "loss: 0.009255 [19200/60000]\n",
            "loss: 0.003253 [25600/60000]\n",
            "loss: 0.005877 [32000/60000]\n",
            "loss: 0.005214 [38400/60000]\n",
            "loss: 0.009262 [44800/60000]\n",
            "loss: 0.032888 [51200/60000]\n",
            "loss: 0.013412 [57600/60000]\n",
            "Test Error: \n",
            " Accuracy: 99.7%, Avg loss: 0.010622 \n",
            "\n",
            "Epoch 6\\--------------------\n",
            "loss: 0.003318 [    0/60000]\n",
            "loss: 0.003031 [ 6400/60000]\n",
            "loss: 0.018193 [12800/60000]\n",
            "loss: 0.006567 [19200/60000]\n",
            "loss: 0.003727 [25600/60000]\n",
            "loss: 0.007116 [32000/60000]\n",
            "loss: 0.003127 [38400/60000]\n",
            "loss: 0.007421 [44800/60000]\n",
            "loss: 0.017913 [51200/60000]\n",
            "loss: 0.002113 [57600/60000]\n",
            "Test Error: \n",
            " Accuracy: 99.7%, Avg loss: 0.009317 \n",
            "\n",
            "Epoch 7\\--------------------\n",
            "loss: 0.007324 [    0/60000]\n",
            "loss: 0.007351 [ 6400/60000]\n",
            "loss: 0.012762 [12800/60000]\n",
            "loss: 0.003138 [19200/60000]\n",
            "loss: 0.001303 [25600/60000]\n",
            "loss: 0.002276 [32000/60000]\n",
            "loss: 0.003211 [38400/60000]\n",
            "loss: 0.006716 [44800/60000]\n",
            "loss: 0.024774 [51200/60000]\n",
            "loss: 0.001765 [57600/60000]\n",
            "Test Error: \n",
            " Accuracy: 99.8%, Avg loss: 0.007345 \n",
            "\n",
            "Epoch 8\\--------------------\n",
            "loss: 0.002081 [    0/60000]\n",
            "loss: 0.002519 [ 6400/60000]\n",
            "loss: 0.009148 [12800/60000]\n",
            "loss: 0.004874 [19200/60000]\n",
            "loss: 0.001348 [25600/60000]\n",
            "loss: 0.002207 [32000/60000]\n",
            "loss: 0.000795 [38400/60000]\n",
            "loss: 0.005708 [44800/60000]\n",
            "loss: 0.005667 [51200/60000]\n",
            "loss: 0.001237 [57600/60000]\n",
            "Test Error: \n",
            " Accuracy: 99.8%, Avg loss: 0.006060 \n",
            "\n",
            "Epoch 9\\--------------------\n",
            "loss: 0.001733 [    0/60000]\n",
            "loss: 0.006006 [ 6400/60000]\n",
            "loss: 0.004204 [12800/60000]\n",
            "loss: 0.000791 [19200/60000]\n",
            "loss: 0.006753 [25600/60000]\n",
            "loss: 0.002388 [32000/60000]\n",
            "loss: 0.004255 [38400/60000]\n",
            "loss: 0.011072 [44800/60000]\n",
            "loss: 0.011937 [51200/60000]\n",
            "loss: 0.002461 [57600/60000]\n",
            "Test Error: \n",
            " Accuracy: 99.7%, Avg loss: 0.009044 \n",
            "\n",
            "Epoch 10\\--------------------\n",
            "loss: 0.002693 [    0/60000]\n",
            "loss: 0.000818 [ 6400/60000]\n",
            "loss: 0.011262 [12800/60000]\n",
            "loss: 0.004115 [19200/60000]\n",
            "loss: 0.003963 [25600/60000]\n",
            "loss: 0.002891 [32000/60000]\n",
            "loss: 0.000444 [38400/60000]\n",
            "loss: 0.036235 [44800/60000]\n",
            "loss: 0.016679 [51200/60000]\n",
            "loss: 0.006563 [57600/60000]\n",
            "Test Error: \n",
            " Accuracy: 99.8%, Avg loss: 0.005530 \n",
            "\n",
            "끝!\n"
          ]
        }
      ]
    },
    {
      "cell_type": "code",
      "source": [
        "import os\n",
        "from PIL import Image\n",
        "from google.colab import files\n",
        "\n",
        "uploaded = files.upload()\n",
        "\n",
        "for fn in uploaded.keys():\n",
        "    print('file:{name}, length:{length}bytes'.format(name=fn, length=len(uploaded[fn])))"
      ],
      "metadata": {
        "colab": {
          "base_uri": "https://localhost:8080/",
          "height": 41
        },
        "id": "0sVTVqLzkdm8",
        "outputId": "2c0bb66a-0548-48eb-e6cc-0e54912c2871"
      },
      "execution_count": 12,
      "outputs": [
        {
          "output_type": "display_data",
          "data": {
            "text/plain": [
              "<IPython.core.display.HTML object>"
            ],
            "text/html": [
              "\n",
              "     <input type=\"file\" id=\"files-b4a35fa5-82e4-478d-b63c-1c70489a66db\" name=\"files[]\" multiple disabled\n",
              "        style=\"border:none\" />\n",
              "     <output id=\"result-b4a35fa5-82e4-478d-b63c-1c70489a66db\">\n",
              "      Upload widget is only available when the cell has been executed in the\n",
              "      current browser session. Please rerun this cell to enable.\n",
              "      </output>\n",
              "      <script>// Copyright 2017 Google LLC\n",
              "//\n",
              "// Licensed under the Apache License, Version 2.0 (the \"License\");\n",
              "// you may not use this file except in compliance with the License.\n",
              "// You may obtain a copy of the License at\n",
              "//\n",
              "//      http://www.apache.org/licenses/LICENSE-2.0\n",
              "//\n",
              "// Unless required by applicable law or agreed to in writing, software\n",
              "// distributed under the License is distributed on an \"AS IS\" BASIS,\n",
              "// WITHOUT WARRANTIES OR CONDITIONS OF ANY KIND, either express or implied.\n",
              "// See the License for the specific language governing permissions and\n",
              "// limitations under the License.\n",
              "\n",
              "/**\n",
              " * @fileoverview Helpers for google.colab Python module.\n",
              " */\n",
              "(function(scope) {\n",
              "function span(text, styleAttributes = {}) {\n",
              "  const element = document.createElement('span');\n",
              "  element.textContent = text;\n",
              "  for (const key of Object.keys(styleAttributes)) {\n",
              "    element.style[key] = styleAttributes[key];\n",
              "  }\n",
              "  return element;\n",
              "}\n",
              "\n",
              "// Max number of bytes which will be uploaded at a time.\n",
              "const MAX_PAYLOAD_SIZE = 100 * 1024;\n",
              "\n",
              "function _uploadFiles(inputId, outputId) {\n",
              "  const steps = uploadFilesStep(inputId, outputId);\n",
              "  const outputElement = document.getElementById(outputId);\n",
              "  // Cache steps on the outputElement to make it available for the next call\n",
              "  // to uploadFilesContinue from Python.\n",
              "  outputElement.steps = steps;\n",
              "\n",
              "  return _uploadFilesContinue(outputId);\n",
              "}\n",
              "\n",
              "// This is roughly an async generator (not supported in the browser yet),\n",
              "// where there are multiple asynchronous steps and the Python side is going\n",
              "// to poll for completion of each step.\n",
              "// This uses a Promise to block the python side on completion of each step,\n",
              "// then passes the result of the previous step as the input to the next step.\n",
              "function _uploadFilesContinue(outputId) {\n",
              "  const outputElement = document.getElementById(outputId);\n",
              "  const steps = outputElement.steps;\n",
              "\n",
              "  const next = steps.next(outputElement.lastPromiseValue);\n",
              "  return Promise.resolve(next.value.promise).then((value) => {\n",
              "    // Cache the last promise value to make it available to the next\n",
              "    // step of the generator.\n",
              "    outputElement.lastPromiseValue = value;\n",
              "    return next.value.response;\n",
              "  });\n",
              "}\n",
              "\n",
              "/**\n",
              " * Generator function which is called between each async step of the upload\n",
              " * process.\n",
              " * @param {string} inputId Element ID of the input file picker element.\n",
              " * @param {string} outputId Element ID of the output display.\n",
              " * @return {!Iterable<!Object>} Iterable of next steps.\n",
              " */\n",
              "function* uploadFilesStep(inputId, outputId) {\n",
              "  const inputElement = document.getElementById(inputId);\n",
              "  inputElement.disabled = false;\n",
              "\n",
              "  const outputElement = document.getElementById(outputId);\n",
              "  outputElement.innerHTML = '';\n",
              "\n",
              "  const pickedPromise = new Promise((resolve) => {\n",
              "    inputElement.addEventListener('change', (e) => {\n",
              "      resolve(e.target.files);\n",
              "    });\n",
              "  });\n",
              "\n",
              "  const cancel = document.createElement('button');\n",
              "  inputElement.parentElement.appendChild(cancel);\n",
              "  cancel.textContent = 'Cancel upload';\n",
              "  const cancelPromise = new Promise((resolve) => {\n",
              "    cancel.onclick = () => {\n",
              "      resolve(null);\n",
              "    };\n",
              "  });\n",
              "\n",
              "  // Wait for the user to pick the files.\n",
              "  const files = yield {\n",
              "    promise: Promise.race([pickedPromise, cancelPromise]),\n",
              "    response: {\n",
              "      action: 'starting',\n",
              "    }\n",
              "  };\n",
              "\n",
              "  cancel.remove();\n",
              "\n",
              "  // Disable the input element since further picks are not allowed.\n",
              "  inputElement.disabled = true;\n",
              "\n",
              "  if (!files) {\n",
              "    return {\n",
              "      response: {\n",
              "        action: 'complete',\n",
              "      }\n",
              "    };\n",
              "  }\n",
              "\n",
              "  for (const file of files) {\n",
              "    const li = document.createElement('li');\n",
              "    li.append(span(file.name, {fontWeight: 'bold'}));\n",
              "    li.append(span(\n",
              "        `(${file.type || 'n/a'}) - ${file.size} bytes, ` +\n",
              "        `last modified: ${\n",
              "            file.lastModifiedDate ? file.lastModifiedDate.toLocaleDateString() :\n",
              "                                    'n/a'} - `));\n",
              "    const percent = span('0% done');\n",
              "    li.appendChild(percent);\n",
              "\n",
              "    outputElement.appendChild(li);\n",
              "\n",
              "    const fileDataPromise = new Promise((resolve) => {\n",
              "      const reader = new FileReader();\n",
              "      reader.onload = (e) => {\n",
              "        resolve(e.target.result);\n",
              "      };\n",
              "      reader.readAsArrayBuffer(file);\n",
              "    });\n",
              "    // Wait for the data to be ready.\n",
              "    let fileData = yield {\n",
              "      promise: fileDataPromise,\n",
              "      response: {\n",
              "        action: 'continue',\n",
              "      }\n",
              "    };\n",
              "\n",
              "    // Use a chunked sending to avoid message size limits. See b/62115660.\n",
              "    let position = 0;\n",
              "    do {\n",
              "      const length = Math.min(fileData.byteLength - position, MAX_PAYLOAD_SIZE);\n",
              "      const chunk = new Uint8Array(fileData, position, length);\n",
              "      position += length;\n",
              "\n",
              "      const base64 = btoa(String.fromCharCode.apply(null, chunk));\n",
              "      yield {\n",
              "        response: {\n",
              "          action: 'append',\n",
              "          file: file.name,\n",
              "          data: base64,\n",
              "        },\n",
              "      };\n",
              "\n",
              "      let percentDone = fileData.byteLength === 0 ?\n",
              "          100 :\n",
              "          Math.round((position / fileData.byteLength) * 100);\n",
              "      percent.textContent = `${percentDone}% done`;\n",
              "\n",
              "    } while (position < fileData.byteLength);\n",
              "  }\n",
              "\n",
              "  // All done.\n",
              "  yield {\n",
              "    response: {\n",
              "      action: 'complete',\n",
              "    }\n",
              "  };\n",
              "}\n",
              "\n",
              "scope.google = scope.google || {};\n",
              "scope.google.colab = scope.google.colab || {};\n",
              "scope.google.colab._files = {\n",
              "  _uploadFiles,\n",
              "  _uploadFilesContinue,\n",
              "};\n",
              "})(self);\n",
              "</script> "
            ]
          },
          "metadata": {}
        }
      ]
    },
    {
      "cell_type": "code",
      "source": [
        "cur_dir = os.getcwd()\n",
        "img_path = os.path.join(cur_dir, '8.png')\n",
        "\n",
        "cur_img = Image.open(img_path)\n",
        "cur_img = cur_img.resize((28, 28))\n",
        "image = np.asarray(cur_img)\n",
        "\n",
        "try:\n",
        "    image = np.mean(image, axis=2)\n",
        "except:\n",
        "    pass\n",
        "\n",
        "image = np.abs(255-image)\n",
        "image = image.astype(np.float32) / 255. # 0 ~ 1사이의 소수\n",
        "plt.imshow(image, cmap='gray')\n",
        "plt.show()"
      ],
      "metadata": {
        "colab": {
          "base_uri": "https://localhost:8080/",
          "height": 376
        },
        "id": "HqA6OoFGkgge",
        "outputId": "f9c62bc9-feeb-486d-e94f-29bb331c811d"
      },
      "execution_count": 13,
      "outputs": [
        {
          "output_type": "error",
          "ename": "FileNotFoundError",
          "evalue": "ignored",
          "traceback": [
            "\u001b[0;31m---------------------------------------------------------------------------\u001b[0m",
            "\u001b[0;31mFileNotFoundError\u001b[0m                         Traceback (most recent call last)",
            "\u001b[0;32m<ipython-input-13-0d8445bc706f>\u001b[0m in \u001b[0;36m<module>\u001b[0;34m\u001b[0m\n\u001b[1;32m      2\u001b[0m \u001b[0mimg_path\u001b[0m \u001b[0;34m=\u001b[0m \u001b[0mos\u001b[0m\u001b[0;34m.\u001b[0m\u001b[0mpath\u001b[0m\u001b[0;34m.\u001b[0m\u001b[0mjoin\u001b[0m\u001b[0;34m(\u001b[0m\u001b[0mcur_dir\u001b[0m\u001b[0;34m,\u001b[0m \u001b[0;34m'8.png'\u001b[0m\u001b[0;34m)\u001b[0m\u001b[0;34m\u001b[0m\u001b[0;34m\u001b[0m\u001b[0m\n\u001b[1;32m      3\u001b[0m \u001b[0;34m\u001b[0m\u001b[0m\n\u001b[0;32m----> 4\u001b[0;31m \u001b[0mcur_img\u001b[0m \u001b[0;34m=\u001b[0m \u001b[0mImage\u001b[0m\u001b[0;34m.\u001b[0m\u001b[0mopen\u001b[0m\u001b[0;34m(\u001b[0m\u001b[0mimg_path\u001b[0m\u001b[0;34m)\u001b[0m\u001b[0;34m\u001b[0m\u001b[0;34m\u001b[0m\u001b[0m\n\u001b[0m\u001b[1;32m      5\u001b[0m \u001b[0mcur_img\u001b[0m \u001b[0;34m=\u001b[0m \u001b[0mcur_img\u001b[0m\u001b[0;34m.\u001b[0m\u001b[0mresize\u001b[0m\u001b[0;34m(\u001b[0m\u001b[0;34m(\u001b[0m\u001b[0;36m28\u001b[0m\u001b[0;34m,\u001b[0m \u001b[0;36m28\u001b[0m\u001b[0;34m)\u001b[0m\u001b[0;34m)\u001b[0m\u001b[0;34m\u001b[0m\u001b[0;34m\u001b[0m\u001b[0m\n\u001b[1;32m      6\u001b[0m \u001b[0mimage\u001b[0m \u001b[0;34m=\u001b[0m \u001b[0mnp\u001b[0m\u001b[0;34m.\u001b[0m\u001b[0masarray\u001b[0m\u001b[0;34m(\u001b[0m\u001b[0mcur_img\u001b[0m\u001b[0;34m)\u001b[0m\u001b[0;34m\u001b[0m\u001b[0;34m\u001b[0m\u001b[0m\n",
            "\u001b[0;32m/usr/local/lib/python3.7/dist-packages/PIL/Image.py\u001b[0m in \u001b[0;36mopen\u001b[0;34m(fp, mode)\u001b[0m\n\u001b[1;32m   2841\u001b[0m \u001b[0;34m\u001b[0m\u001b[0m\n\u001b[1;32m   2842\u001b[0m     \u001b[0;32mif\u001b[0m \u001b[0mfilename\u001b[0m\u001b[0;34m:\u001b[0m\u001b[0;34m\u001b[0m\u001b[0;34m\u001b[0m\u001b[0m\n\u001b[0;32m-> 2843\u001b[0;31m         \u001b[0mfp\u001b[0m \u001b[0;34m=\u001b[0m \u001b[0mbuiltins\u001b[0m\u001b[0;34m.\u001b[0m\u001b[0mopen\u001b[0m\u001b[0;34m(\u001b[0m\u001b[0mfilename\u001b[0m\u001b[0;34m,\u001b[0m \u001b[0;34m\"rb\"\u001b[0m\u001b[0;34m)\u001b[0m\u001b[0;34m\u001b[0m\u001b[0;34m\u001b[0m\u001b[0m\n\u001b[0m\u001b[1;32m   2844\u001b[0m         \u001b[0mexclusive_fp\u001b[0m \u001b[0;34m=\u001b[0m \u001b[0;32mTrue\u001b[0m\u001b[0;34m\u001b[0m\u001b[0;34m\u001b[0m\u001b[0m\n\u001b[1;32m   2845\u001b[0m \u001b[0;34m\u001b[0m\u001b[0m\n",
            "\u001b[0;31mFileNotFoundError\u001b[0m: [Errno 2] No such file or directory: '/content/8.png'"
          ]
        }
      ]
    },
    {
      "cell_type": "code",
      "source": [
        "image = torch.as_tensor(image).to(device).reshape(1, 1, 28, 28)\n",
        "# 모든 레이어가 evaluation mode로 변경: 학습할 때만 필요한 Dropout, Batchnorm등의 기능을 비활성화\n",
        "model.eval()\n",
        "predict = model(image)\n",
        "print('model이 예측한 값: {}'.format(predict.argmax(1).item()))"
      ],
      "metadata": {
        "colab": {
          "base_uri": "https://localhost:8080/",
          "height": 248
        },
        "id": "wSUHfFsYkih2",
        "outputId": "72ce82e0-0773-4a13-cf77-03b4ef5d687f"
      },
      "execution_count": 14,
      "outputs": [
        {
          "output_type": "error",
          "ename": "NameError",
          "evalue": "ignored",
          "traceback": [
            "\u001b[0;31m---------------------------------------------------------------------------\u001b[0m",
            "\u001b[0;31mNameError\u001b[0m                                 Traceback (most recent call last)",
            "\u001b[0;32m<ipython-input-14-93328da344a5>\u001b[0m in \u001b[0;36m<module>\u001b[0;34m\u001b[0m\n\u001b[0;32m----> 1\u001b[0;31m \u001b[0mimage\u001b[0m \u001b[0;34m=\u001b[0m \u001b[0mtorch\u001b[0m\u001b[0;34m.\u001b[0m\u001b[0mas_tensor\u001b[0m\u001b[0;34m(\u001b[0m\u001b[0mimage\u001b[0m\u001b[0;34m)\u001b[0m\u001b[0;34m.\u001b[0m\u001b[0mto\u001b[0m\u001b[0;34m(\u001b[0m\u001b[0mdevice\u001b[0m\u001b[0;34m)\u001b[0m\u001b[0;34m.\u001b[0m\u001b[0mreshape\u001b[0m\u001b[0;34m(\u001b[0m\u001b[0;36m1\u001b[0m\u001b[0;34m,\u001b[0m \u001b[0;36m1\u001b[0m\u001b[0;34m,\u001b[0m \u001b[0;36m28\u001b[0m\u001b[0;34m,\u001b[0m \u001b[0;36m28\u001b[0m\u001b[0;34m)\u001b[0m\u001b[0;34m\u001b[0m\u001b[0;34m\u001b[0m\u001b[0m\n\u001b[0m\u001b[1;32m      2\u001b[0m \u001b[0;31m# 모든 레이어가 evaluation mode로 변경: 학습할 때만 필요한 Dropout, Batchnorm등의 기능을 비활성화\u001b[0m\u001b[0;34m\u001b[0m\u001b[0;34m\u001b[0m\u001b[0;34m\u001b[0m\u001b[0m\n\u001b[1;32m      3\u001b[0m \u001b[0mmodel\u001b[0m\u001b[0;34m.\u001b[0m\u001b[0meval\u001b[0m\u001b[0;34m(\u001b[0m\u001b[0;34m)\u001b[0m\u001b[0;34m\u001b[0m\u001b[0;34m\u001b[0m\u001b[0m\n\u001b[1;32m      4\u001b[0m \u001b[0mpredict\u001b[0m \u001b[0;34m=\u001b[0m \u001b[0mmodel\u001b[0m\u001b[0;34m(\u001b[0m\u001b[0mimage\u001b[0m\u001b[0;34m)\u001b[0m\u001b[0;34m\u001b[0m\u001b[0;34m\u001b[0m\u001b[0m\n\u001b[1;32m      5\u001b[0m \u001b[0mprint\u001b[0m\u001b[0;34m(\u001b[0m\u001b[0;34m'model이 예측한 값: {}'\u001b[0m\u001b[0;34m.\u001b[0m\u001b[0mformat\u001b[0m\u001b[0;34m(\u001b[0m\u001b[0mpredict\u001b[0m\u001b[0;34m.\u001b[0m\u001b[0margmax\u001b[0m\u001b[0;34m(\u001b[0m\u001b[0;36m1\u001b[0m\u001b[0;34m)\u001b[0m\u001b[0;34m.\u001b[0m\u001b[0mitem\u001b[0m\u001b[0;34m(\u001b[0m\u001b[0;34m)\u001b[0m\u001b[0;34m)\u001b[0m\u001b[0;34m)\u001b[0m\u001b[0;34m\u001b[0m\u001b[0;34m\u001b[0m\u001b[0m\n",
            "\u001b[0;31mNameError\u001b[0m: name 'image' is not defined"
          ]
        }
      ]
    },
    {
      "cell_type": "markdown",
      "source": [
        "# 1. 순전파(forward propagation)"
      ],
      "metadata": {
        "id": "Q8_AHPeVkjv_"
      }
    },
    {
      "cell_type": "markdown",
      "source": [
        "* 순전파는 입력받은 데이터를 각 가중치와 곱하여 출력을 뽑아내는 과정\n",
        "* 입력층부터 차례로 계산해가며 출력층까지 나아감"
      ],
      "metadata": {
        "id": "YJExskcKklL-"
      }
    },
    {
      "cell_type": "markdown",
      "source": [
        "# 2. 역전파(backpropagation)"
      ],
      "metadata": {
        "id": "BR8FOCo9klmI"
      }
    },
    {
      "cell_type": "markdown",
      "source": [
        "* 순전파의 반대방향으로 전파시키는 방법\n",
        "* 출력층으로부터 입력층까지 역으로 나감\n",
        "* 역전파의 순서\n",
        "    1. 주어진 입력값에 상관없이 임의 초기 가중치를 준 뒤 은닉층을 거쳐 결과를 계산(순전파)\n",
        "    2. 계산 결과와 실제 예측하고자 하는 값 사이의 오차를 구함(loss function)\n",
        "    3. 계산식의 반대로 돌아가며(미분) 가중치를 업데이트(역전파)\n",
        "    4. 1~3의 과정을 오차가 더이상 줄지 않을 때까지 반복(에폭)"
      ],
      "metadata": {
        "id": "Tzeso9_-km-T"
      }
    },
    {
      "cell_type": "markdown",
      "source": [
        "### 2-1. 경사하강법\n",
        "* 딥러닝 알고리즘 학습시 사용되는 최적화 방법(Optimizer)\n",
        "* 경사하강법의 종류\n",
        "    1. 배치 경사 하강법(Batch Gradient Descent)\n",
        "        - 가장 기본적인 경사 하강법으로 Vanilla Gradient Descent라고 부름\n",
        "        - 데이터셋 전체를 고려하여 손실함수를 계산\n",
        "        - 한번의 Epoch에 모든 파라미터 업데이트를 단 한번만 수행\n",
        "        - 모델 학습시 많은 시간과 메모리가 필요하다는 단점\n",
        "    2. 확률적 경사 하강법(Stochastic Gradient Descent)\n",
        "        - 배치 경사 하강법의 단점을 개선하기 위해 제안\n",
        "        - Batch size를 1로 설정하여 파라미터를 업데이트하기 때문에 훨씬 빠르고 적은 메모리로 학습이 진행\n",
        "        - 파라미터 값의 업데이트 폭이 불안정하기 때문에 정확도가 낮은 경우가 생기기도 함\n",
        "    3. 미니 배치 경사 하강법(Mini-Batch Gradient Descent)\n",
        "        -  일반적으로 배치사이즈를 32, 64, 128과 같이 2의 n제곱에 해당하는 값으로 설정하고 적용하는 방법\n",
        "        - 모델 학습 속도가 빠르고, 확률적 경사 하강법보다 안정적인 장점\n",
        "    4. Momentum\n",
        "        - 운동량을 의미하며 매개변수의 이동에 속도를 부여하는 것을 의미\n",
        "        - 매개변수를 갱신할 때마다 기존속도에 매개변수의 기울기값을 추가하고 이 속도값을 다시 매개변수에 추가하여 매개변수를 이동\n",
        "        - SGD 가 가지고 있는 문제인 local Minima를 해결할 수 있는 방법\n",
        "    5. Nesterov Momentum\n",
        "        - 현재의 속도 벡터와 현재 속도로 한 걸음 미리 가 본 위치의 그레디언트 벡터를 더해 다음 위치를 정함\n",
        "        - 속도 Vt+1는 현재 속도에 마찰 계수(p)를 곱한 뒤 한걸음 미리 가 본 위치의 그레디언트를 빼서 계산\n",
        "        - 오버슈팅을 막기 위해 현재 속도로 한 걸음 미리 가 보고 오버 슈팅이 된 만큼 다시 내리막길로 내려가는 방식\n",
        "    6. AdaGrad\n",
        "        - Adaptive Gradient의 줄임말\n",
        "        - 손실 함수 곡면의 변화에 따라 적응적으로 학습률을 정하는 알고리즘\n",
        "        - 손실 함수 경사가 가파를 때 큰 폭으로 이동하면 최적화 경로를 벗어나서 최소 지점을 지나갈 수 있음\n",
        "        - 많이 변화한 변수는 최적해에 근접했을거란 가정하에 작은 크기로 이동하면서 세밀하게 값을 조정하고 반대로 적게 변화한 변수들은 학습률을 크게하여 빠르게 오차 값을 줄이고자 하는 방법\n",
        "    7. RMSProp\n",
        "        - AdaGrad에서 학습이 안되는 문제를 해결하기 위해 hyper parameter인 β가 추가\n",
        "        - 변화량이 더 클수록 학습률이 작아져서 조기 종료되는 문제를 해결하기 위해 학습률 크기를 비율로 조절할 수 있도록 제안된 방법\n",
        "    8. Adam\n",
        "        - Adam은 Mementum과 RMSProp이 합쳐진 형태\n",
        "        - 진행하던 속도에 관성도 주고, 최근 경로의 곡면의 변화량에 따른 적응적 학습률을 갖는 알고리즘\n",
        "        - 매우 넓은 범위의 아키텍처를 가진 서로 다른 신경망에서 잘 작동한다는 것이 증명됨"
      ],
      "metadata": {
        "id": "SZhcdd55kpTq"
      }
    },
    {
      "cell_type": "markdown",
      "source": [
        "### 2-2. 활성화 함수\n",
        "* Activation function이라고 부르며 신경망의 출력을 결정하는 식\n",
        "* 신경망에서는 뉴런(노드)에 연산 값을 계속 전달해주는 방식으로 가중치를 훈련하고 예측 -> 각각의 함수는 네트워크의 각 뉴런에 연결되어 있으며 각 뉴런의 입력이 모델의 예측과 관련이 있는지 여부에 따라 활성화 -> 활성화를 통해 신경망은 입력값에서 필요한 정보를 학습\n",
        "* 훈련 과정에서 계산량이 많고 역전파에서 사용해야 하므로 연산의 대한 효율성이 매우 중요"
      ],
      "metadata": {
        "id": "Ao9jdUF1krSp"
      }
    },
    {
      "cell_type": "markdown",
      "source": [
        "* 활성화 함수의 종류\n",
        "    1. Binary step function\n",
        "        - 퍼셉트론 알고리즘에서 활성화 함수로 사용\n",
        "        - 다중 분류 문제에서 다중 출력을 할 수 없다는 단점\n",
        "    2. Linear activation function\n",
        "        - 선형 활성화 함수\n",
        "        - 입력값에 특정 상수값을 곱한 값을 출력으로 가짐\n",
        "        - 다중 출력이 가능\n",
        "        - 역전파에 사용이 불가능\n",
        "        - 선형함수를 여러번 사용하는 것은 마지막에 선형함수를 한번 쓰는 것과 같음\n",
        "    3. Non-linear activation function\n",
        "        - 최근 신경망 모델에서 대부분 사용\n",
        "        - 입력과 출력간의 복잡한 관계를 만들어 입력에서 필요한 정보를 얻음\n",
        "        - 입력과 관련있는 미분값을 얻으며 역전파를 가능\n",
        "* Non-linear activation function의 종류\n",
        "    1. Sigmoid\n",
        "        - 로지스틱으로도 불리는 s자 형태의 함수\n",
        "        - 입력값이 커질수록 1로 수렴하고, 입력값이 작을수록 0에 수렴\n",
        "        - 역전파시 Vanishing Gradient 문제가 발생\n",
        "        - 출력의 중심이 0이 아님. 비용/효율면에서 좋지 못함\n",
        "        - 퍼셉트론, 초기 신경망에서 많이 사용지만 여러 단점들 때문에 현재는 많이 사용하지 않음\n",
        "    2. ReLU\n",
        "        - Rectified Linear Unit 함수의 준말로 개선 선형 함수라고 부름\n",
        "        - CNN에서 좋은 성능을 보였고, 현재 딥러닝에서 가장 많이 사용하는 활성화 함수\n",
        "        - 비선형. 도함수를 가지며, 역전파를 허용\n",
        "        - 입력값이 0 또는 음수일 때 gradient값은 0이되며 이 경우 학습을 하지 못함.\n",
        "    3. softmax\n",
        "        - 다중 분류 문제를 해결하기 위해 많이 사용되는 함수\n",
        "        - 입력받은 값을 0에서 1사이의 값으로 모두 정규화하며 출력값이 여러개임\n",
        "        - 출력값의 총합은 항상 1이 되는 특징을 가짐\n",
        "        - 지수함수를 사용하여 오버플로 발생이 가능"
      ],
      "metadata": {
        "id": "M9jJCCJekt9k"
      }
    },
    {
      "cell_type": "markdown",
      "source": [
        "# 3. FashionMNIST DataSet"
      ],
      "metadata": {
        "id": "5drg13ickz3-"
      }
    },
    {
      "cell_type": "code",
      "source": [
        "training_data = datasets.FashionMNIST(\n",
        "    root=\"data\",\n",
        "    train=True,\n",
        "    download=True,\n",
        "    transform=ToTensor()\n",
        ")\n",
        "\n",
        "test_data = datasets.FashionMNIST(\n",
        "    root=\"data\",\n",
        "    train=False,\n",
        "    download=True,\n",
        "    transform=ToTensor()\n",
        ")"
      ],
      "metadata": {
        "id": "SNMBZQpDk0nW"
      },
      "execution_count": null,
      "outputs": []
    },
    {
      "cell_type": "code",
      "source": [
        "labels_map = {\n",
        "    0: \"T-Shirt\",\n",
        "    1: \"Trouser\",\n",
        "    2: \"Pullover\",\n",
        "    3: \"Dress\",\n",
        "    4: \"Coat\",\n",
        "    5: \"Sandal\",\n",
        "    6: \"Shirt\",\n",
        "    7: \"Sneaker\",\n",
        "    8: \"Bag\",\n",
        "    9: \"Ankle Boot\",\n",
        "}\n",
        "\n",
        "figure = plt.figure(figsize=(8, 8))\n",
        "cols, rows = 3, 3\n",
        "for i in range(1, cols * rows + 1):\n",
        "    sample_idx = torch.randint(len(training_data), size=(1,)).item()\n",
        "    img, label = training_data[sample_idx]\n",
        "    figure.add_subplot(rows, cols, i)\n",
        "    plt.title(labels_map[label])\n",
        "    plt.axis('off')\n",
        "    plt.imshow(img.squeeze(), cmap='gray')\n",
        "plt.show()"
      ],
      "metadata": {
        "id": "gKrilXxWkqo7"
      },
      "execution_count": null,
      "outputs": []
    },
    {
      "cell_type": "code",
      "source": [
        "# DataLoader 만들기\n",
        "train_dataloader = DataLoader(training_data, batch_size=64, shuffle=True)\n",
        "test_dataloader = DataLoader(test_data, batch_size=64, shuffle=True)"
      ],
      "metadata": {
        "id": "OWIgflROlP1z"
      },
      "execution_count": null,
      "outputs": []
    },
    {
      "cell_type": "code",
      "source": [
        "train_features, train_labels = next(iter(train_dataloader))\n",
        "print(f'Feature batch shape: {train_features.size()}')\n",
        "print(f'labels batch shape: {train_labels.size()}')\n",
        "\n",
        "img = train_features[0].squeeze()\n",
        "label = train_labels[0]\n",
        "plt.imshow(img, cmap='gray')\n",
        "plt.show()\n",
        "print(f'Label: {label}')"
      ],
      "metadata": {
        "id": "QULvW9nLlRFQ"
      },
      "execution_count": null,
      "outputs": []
    },
    {
      "cell_type": "code",
      "source": [
        "device = 'cuda' if torch.cuda.is_available() else 'cpu'\n",
        "print('사용하는 디바이스: {}'.format(device))"
      ],
      "metadata": {
        "id": "G0ZgVzxelR8b"
      },
      "execution_count": null,
      "outputs": []
    },
    {
      "cell_type": "code",
      "source": [
        "# Model class 만들기\n",
        "class NeuralNetwork(nn.Module):\n",
        "    def __init__(self):\n",
        "        super(NeuralNetwork, self).__init__()\n",
        "        self.flatten = nn.Flatten()\n",
        "        self.linear_relu_stack = nn.Sequential(\n",
        "            nn.Linear(28 * 28, 128),\n",
        "            nn.ReLU(),\n",
        "            nn.Dropout(0.2),\n",
        "            nn.Linear(128, 10)\n",
        "        )\n",
        "    \n",
        "    def forward(self, x):\n",
        "        x = self.flatten(x)\n",
        "        logits = self.linear_relu_stack(x)\n",
        "        return logits"
      ],
      "metadata": {
        "id": "RweEqqeulSy-"
      },
      "execution_count": null,
      "outputs": []
    },
    {
      "cell_type": "code",
      "source": [
        "model = NeuralNetwork().to(device)\n",
        "print(model)"
      ],
      "metadata": {
        "id": "4yJseI21lTvd"
      },
      "execution_count": null,
      "outputs": []
    },
    {
      "cell_type": "code",
      "source": [
        "# 가상의 데이터를 만들어서 예측\n",
        "X = torch.rand(1, 28, 28, device=device)\n",
        "logits = model(X)\n",
        "pred_probab = nn.Softmax(dim=1)(logits)\n",
        "y_pred = pred_probab.argmax(1)\n",
        "print(f'예측된 클래스: {y_pred}')"
      ],
      "metadata": {
        "id": "Ws47688KlUnV"
      },
      "execution_count": null,
      "outputs": []
    },
    {
      "cell_type": "code",
      "source": [
        "loss_fn = nn.CrossEntropyLoss()"
      ],
      "metadata": {
        "id": "50NXmOKnlVh7"
      },
      "execution_count": null,
      "outputs": []
    },
    {
      "cell_type": "code",
      "source": [
        "learning_rate = 1e-3\n",
        "optimizer = torch.optim.Adam(model.parameters(), lr=learning_rate)"
      ],
      "metadata": {
        "id": "tcJ25KNklWYx"
      },
      "execution_count": null,
      "outputs": []
    },
    {
      "cell_type": "code",
      "source": [
        "def train_loop(dataloader, model, loss_fn, optimizer):\n",
        "    size = len(dataloader.dataset)\n",
        "    for batch, (X, y) in enumerate(dataloader):\n",
        "        X, y = X.to(device), y.to(device)\n",
        "        pred = model(X)\n",
        "        loss = loss_fn(pred, y)\n",
        "        optimizer.zero_grad()\n",
        "        loss.backward()\n",
        "        optimizer.step()\n",
        "\n",
        "        if batch % 100 == 0:\n",
        "            loss, current = loss.item(), batch * len(X)\n",
        "            print(f'loss:{loss:>7f} [{current:>5d}/{size:>5d}]')"
      ],
      "metadata": {
        "id": "4S62FwwhlXIi"
      },
      "execution_count": null,
      "outputs": []
    },
    {
      "cell_type": "code",
      "source": [
        "def test_loop(dataloader, model, loss_fn):\n",
        "    size = len(dataloader.dataset)\n",
        "    num_batches = len(dataloader)\n",
        "    test_loss, current = 0, 0\n",
        "\n",
        "    model.eval()\n",
        "\n",
        "    with torch.no_grad():\n",
        "        for X, y in dataloader:\n",
        "            X, y = X.to(device), y.to(device)\n",
        "            pred = model(X)\n",
        "            test_loss += loss_fn(pred, y).item()\n",
        "            current += (pred.argmax(1) == y).type(torch.float).sum().item()\n",
        "        \n",
        "        test_loss /= num_batches\n",
        "        current /= size\n",
        "        print(f'Test Error: \\n Accuracy:{(100*current):>0.1f}%, Avg loss: {test_loss:8f} \\n')"
      ],
      "metadata": {
        "id": "Xz1F3FFhlYJq"
      },
      "execution_count": null,
      "outputs": []
    },
    {
      "cell_type": "code",
      "source": [
        "# 학습\n",
        "epochs = 10\n",
        "\n",
        "for t in range(epochs):\n",
        "    print(f'Epoch {t+1}\\---------------------')\n",
        "    train_loop(train_dataloader, model, loss_fn, optimizer)\n",
        "    test_loop(test_dataloader, model, loss_fn)\n",
        "print('끝!')"
      ],
      "metadata": {
        "id": "A7TixDV3lZGc"
      },
      "execution_count": null,
      "outputs": []
    },
    {
      "cell_type": "code",
      "source": [
        "# 학습된 model parameter 저장\n",
        "torch.save(model.state_dict(), 'model_weights.pth')"
      ],
      "metadata": {
        "id": "8NOqCCN3lZ4h"
      },
      "execution_count": null,
      "outputs": []
    },
    {
      "cell_type": "code",
      "source": [
        "# 새로운 model을 생성\n",
        "model2 = NeuralNetwork().to(device)\n",
        "print(model2)"
      ],
      "metadata": {
        "id": "5wlwc94PlbTl"
      },
      "execution_count": null,
      "outputs": []
    },
    {
      "cell_type": "code",
      "source": [
        "# 테스트\n",
        "model2.eval()\n",
        "test_loop(test_dataloader, model2, loss_fn)"
      ],
      "metadata": {
        "id": "zG6Dndj-lcEs"
      },
      "execution_count": null,
      "outputs": []
    },
    {
      "cell_type": "code",
      "source": [
        "# 저장된 parameter 불러오기\n",
        "model2.load_state_dict(torch.load('model_weights.pth'))\n",
        "model2.eval()\n",
        "test_loop(test_dataloader, model2, loss_fn)"
      ],
      "metadata": {
        "id": "yJ22NXBClc3i"
      },
      "execution_count": null,
      "outputs": []
    },
    {
      "cell_type": "code",
      "source": [
        "# model 전체를 저장하고 불러오기\n",
        "torch.save(model, 'model.pth')"
      ],
      "metadata": {
        "id": "PjBeXD9vldoH"
      },
      "execution_count": null,
      "outputs": []
    },
    {
      "cell_type": "code",
      "source": [
        "# 불러오기\n",
        "model3 = torch.load('model.pth')"
      ],
      "metadata": {
        "id": "OFFeHlV6leau"
      },
      "execution_count": null,
      "outputs": []
    },
    {
      "cell_type": "code",
      "source": [
        "# 테스트\n",
        "model3.eval()\n",
        "test_loop(test_dataloader, model3, loss_fn)"
      ],
      "metadata": {
        "id": "u6xCqirElfJ1"
      },
      "execution_count": null,
      "outputs": []
    },
    {
      "cell_type": "code",
      "source": [],
      "metadata": {
        "id": "wdDkpGV4lgkU"
      },
      "execution_count": null,
      "outputs": []
    }
  ]
}